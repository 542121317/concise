{
 "cells": [
  {
   "cell_type": "markdown",
   "metadata": {},
   "source": [
    "# Getting started with concise"
   ]
  },
  {
   "cell_type": "markdown",
   "metadata": {},
   "source": [
    "## Become familiar with Keras\n",
    "\n",
    "In order to successfully use Concise, please make sure you are familiar with Keras. I strongly advise everyone to read the excellent [Keras documentation](http://keras.io) first. As a Keras extension, Concise closely follows the Keras API."
   ]
  },
  {
   "cell_type": "markdown",
   "metadata": {},
   "source": [
    "## Modules overview"
   ]
  },
  {
   "cell_type": "markdown",
   "metadata": {},
   "source": [
    "Pre-processing functions encoding different objects into modeling-ready numpy arrays\n",
    "\n",
    "- `concise.preprocessing`\n",
    "\n",
    "Custom Keras components\n",
    "\n",
    "- `concise.layers`\n",
    "- `concise.initializers`\n",
    "- `concise.regularizers`\n",
    "- `concise.losses`\n",
    "- `concise.metrics`\n",
    "\n",
    "Hyper-parameter tuning functionality\n",
    "\n",
    "- `concise.hyopt`\n",
    "- `concise.eval_metrics`\n",
    "\n",
    "SNP-effect prediction\n",
    "\n",
    "- `concise.effects`\n",
    "\n",
    "Other utilities\n",
    "\n",
    "- `concise.utils`"
   ]
  },
  {
   "cell_type": "markdown",
   "metadata": {
    "heading_collapsed": true
   },
   "source": [
    "## Functionality overview\n",
    "\n",
    "- Pre-processing and convenince layers (Explained in this notebook)\n",
    "- Position-weight matrix initialization of conv filters **LINK**\n",
    "- Spline transformation **LINK**\n",
    "- Hyper-parameter tuning **LINK**\n",
    "- SNP-effect prediction **LINK**"
   ]
  },
  {
   "cell_type": "markdown",
   "metadata": {},
   "source": [
    "## Example: RBP binding model in concise\n",
    "\n",
    "Here we will show a simple use-case with Concise. We will predict the eCLIP binding peaks of the RNA-binding protein (RBP) PUM2.\n",
    "\n",
    "- eCLIP raw data **CITE**\n",
    "- eCLIP paper **CITE**\n",
    "- paper also using this data: avsec et al... **CITE**\n"
   ]
  },
  {
   "cell_type": "code",
   "execution_count": 14,
   "metadata": {
    "collapsed": true
   },
   "outputs": [],
   "source": [
    "%matplotlib inline\n",
    "import matplotlib.pyplot as plt\n",
    "\n",
    "import concise.layers as cl\n",
    "import keras.layers as kl\n",
    "import concise.initializers as ci\n",
    "import concise.regularizers as cr\n",
    "from keras.callbacks import EarlyStopping\n",
    "from concise.preprocessing import encodeDNA\n",
    "from keras.models import Model, load_model"
   ]
  },
  {
   "cell_type": "code",
   "execution_count": 25,
   "metadata": {
    "collapsed": false
   },
   "outputs": [],
   "source": [
    "# get the data\n",
    "def load(split=\"train\", st=None):\n",
    "    dt = pd.read_csv(\"../data/RBP/PUM2_{0}.csv\".format(split))\n",
    "    # DNA/RNA sequence\n",
    "    xseq = encodeDNA(dt.seq) # list of sequences -> np.ndarray\n",
    "    # response variable\n",
    "    y = dt.binding_site.as_matrix().reshape((-1, 1)).astype(\"float\")\n",
    "    return {\"seq\": xseq}, y\n",
    "\n",
    "train, valid, test = load(\"train\"), load(\"valid\"), load(\"test\")\n",
    "\n",
    "# extract sequence length\n",
    "seq_length = train[0][\"seq\"].shape[1]\n",
    "\n",
    "# get the PWM list for initialization\n",
    "from concise.data import attract\n",
    "dfa = attract.get_metadata() # table with PWM meta-info\n",
    "dfa_pum2 = dfa[dfa.Gene_name.str.match(\"PUM2\") & \\\n",
    "               dfa.Organism.str.match(\"Homo_sapiens\") & \\\n",
    "               (dfa.Experiment_description == \"genome-wide in vivo immunoprecipitation\")]\n",
    "pwm_list = attract.get_pwm_list(dfa_pum2.PWM_id.unique()) # retrieve the PWM by id"
   ]
  },
  {
   "cell_type": "code",
   "execution_count": 49,
   "metadata": {
    "collapsed": false
   },
   "outputs": [
    {
     "name": "stdout",
     "output_type": "stream",
     "text": [
      "[PWM(name: 129, consensus: TGTAAATA)]\n"
     ]
    }
   ],
   "source": [
    "print(pwm_list)\n",
    "#pwm_list[0].plotPWM(figsize=(6,1.2))"
   ]
  },
  {
   "cell_type": "code",
   "execution_count": 40,
   "metadata": {
    "collapsed": false
   },
   "outputs": [
    {
     "name": "stdout",
     "output_type": "stream",
     "text": [
      "Epoch 1/5\n",
      "17713/17713 [==============================] - 0s - loss: 0.8151 - acc: 0.8053     \n",
      "Epoch 2/5\n",
      "17713/17713 [==============================] - 0s - loss: 0.4963 - acc: 0.8151     \n",
      "Epoch 3/5\n",
      "17713/17713 [==============================] - 0s - loss: 0.4489 - acc: 0.8220     \n",
      "Epoch 4/5\n",
      "17713/17713 [==============================] - 0s - loss: 0.4265 - acc: 0.8245     \n",
      "Epoch 5/5\n",
      "17713/17713 [==============================] - 0s - loss: 0.4161 - acc: 0.8301     \n"
     ]
    }
   ],
   "source": [
    "# specify the model\n",
    "in_dna = cl.InputDNA(seq_length=seq_length, name=\"seq\") # Convenience wrapper around keras.layers.Input()\n",
    "x = cl.ConvDNA(filters=4, # Convenience wrapper around keras.layers.Conv1D()\n",
    "               kernel_size=8, \n",
    "               kernel_initializer=ci.PSSMKernelInitializer(pwm_list), # intialize the filters on the PWM values\n",
    "               activation=\"relu\",\n",
    "               name=\"conv1\")(in_dna)\n",
    "\n",
    "x = kl.AveragePooling1D(pool_size=4)(x)\n",
    "x = kl.Flatten()(x)\n",
    "\n",
    "x = kl.Dense(units=1)(x)\n",
    "m = Model(in_dna, x)\n",
    "m.compile(\"adam\", loss=\"binary_crossentropy\", metrics=[\"acc\"])\n",
    "\n",
    "# train the model\n",
    "m.fit(train[0], train[1], epochs=5);"
   ]
  },
  {
   "cell_type": "markdown",
   "metadata": {},
   "source": [
    "Concise is fully compatible with Keras; we can save and load the Keras models (note: `concise` package needs to be imported before loading: `import concise...`)."
   ]
  },
  {
   "cell_type": "code",
   "execution_count": 41,
   "metadata": {
    "collapsed": false
   },
   "outputs": [],
   "source": [
    "# save the model\n",
    "m.save(\"/tmp/model.h5\")\n",
    "\n",
    "# load the model\n",
    "m2 = load_model(\"/tmp/model.h5\")"
   ]
  },
  {
   "cell_type": "code",
   "execution_count": 52,
   "metadata": {
    "collapsed": false
   },
   "outputs": [
    {
     "name": "stdout",
     "output_type": "stream",
     "text": [
      "filter index: 0\n"
     ]
    },
    {
     "data": {
      "image/png": "[encoded data removed]",
      "text/plain": [
       "<matplotlib.figure.Figure at 0x7fb6a8184f60>"
      ]
     },
     "metadata": {},
     "output_type": "display_data"
    },
    {
     "name": "stdout",
     "output_type": "stream",
     "text": [
      "filter index: 1\n"
     ]
    },
    {
     "data": {
      "image/png": "[encoded data removed]",
      "text/plain": [
       "<matplotlib.figure.Figure at 0x7fb6a834c8d0>"
      ]
     },
     "metadata": {},
     "output_type": "display_data"
    },
    {
     "name": "stdout",
     "output_type": "stream",
     "text": [
      "filter index: 2\n"
     ]
    },
    {
     "data": {
      "image/png": "[encoded data removed]",
      "text/plain": [
       "<matplotlib.figure.Figure at 0x7fb6a80d3e48>"
      ]
     },
     "metadata": {},
     "output_type": "display_data"
    },
    {
     "name": "stdout",
     "output_type": "stream",
     "text": [
      "filter index: 3\n"
     ]
    },
    {
     "data": {
      "image/png": "[encoded data removed]",
      "text/plain": [
       "<matplotlib.figure.Figure at 0x7fb6bb0c5550>"
      ]
     },
     "metadata": {},
     "output_type": "display_data"
    }
   ],
   "source": [
    "# Convenience layers extend the base class (here keras.layers.Conv1D) with .plot_weights for filter visualization\n",
    "m.get_layer(\"conv1\").plot_weights(plot_type=\"motif_pwm_info\", figsize=(4, 1.5))"
   ]
  },
  {
   "cell_type": "markdown",
   "metadata": {},
   "source": [
    "## Used features"
   ]
  },
  {
   "cell_type": "markdown",
   "metadata": {},
   "source": [
    "### Pre-processing and convenience wrappers"
   ]
  },
  {
   "cell_type": "markdown",
   "metadata": {},
   "source": [
    "We used `concise.preprocessing.encodeDNA` to convert a list of sequences into a one-hot-encoded array. For each pre-processing function, Concise provides a corresponding Input and Conv1D convenience wrappers. We used the following two in our code:\n",
    "\n",
    "- `InputDNA` wraps concise.layers.Input and sets the number of channels to 4. \n",
    "- `ConvDNA` is a convenience wrapper around Conv1D with the following two modifications:\n",
    "  - `ConvDNA` checks that the number of input chanels is 4\n",
    "  - `ConvDNA` has a method for plotting weights: `plot_weights`\n",
    "\n",
    "Here is a complete list of pre-processors and convenience layers:\n",
    "\n",
    "|preprocessing| preprocessing type |input layer | convolutional layer| Vocabulary |\n",
    "|--------------|-------------|-------------|--------------------|------------|\n",
    "| `encodeDNA` | one-hot| `InputDNA` | `ConvDNA` | `[\"A\", \"C\", \"G\", \"T\"]` |\n",
    "| `encodeRNA` | one-hot | `InputRNA` | `ConvRNA` | `[\"A\", \"C\", \"G\", \"U\"]` | \n",
    "| `encodeCodon` | one-hot, token | `InputCodon` | `ConvCodon` | `[\"AAA\", \"AAC\", ...]` | \n",
    "| `encodeAA`  | one-hot, token| `InputAA` | `ConvAA` | `[\"A\", \"R\", \"N\", ...]` |\n",
    "| `encodeRNAStructure` | probabilities | `InputRNAStructure` | `ConvRNAStructure` | /|\n",
    "| `encodeSplines` | B-spline basis functions | `InputSplines` | `ConvSplines` | Numerical values|"
   ]
  },
  {
   "cell_type": "markdown",
   "metadata": {},
   "source": [
    "### PWM initialization"
   ]
  },
  {
   "cell_type": "markdown",
   "metadata": {},
   "source": [
    "See the PWM initialization notebook in getting-started section of the [concise documentation](https://i12g-gagneurweb.in.tum.de/public/docs/concise/)"
   ]
  },
  {
   "cell_type": "markdown",
   "metadata": {},
   "source": [
    "### Other features"
   ]
  },
  {
   "cell_type": "markdown",
   "metadata": {},
   "source": [
    "Check out other notebooks in getting-started section of the [concise documentation](https://i12g-gagneurweb.in.tum.de/public/docs/concise/)"
   ]
  },
  {
   "cell_type": "markdown",
   "metadata": {},
   "source": [
    "## Plan"
   ]
  },
  {
   "cell_type": "markdown",
   "metadata": {},
   "source": [
    "Provide additional explaination on each of the presented components"
   ]
  },
  {
   "cell_type": "markdown",
   "metadata": {},
   "source": [
    "TODO - find a good example dataset for doing this "
   ]
  },
  {
   "cell_type": "markdown",
   "metadata": {},
   "source": [
    "Docs plan:\n",
    "- Getting started\n",
    "  - brief intro about the features\n",
    "  - simple case-study\n",
    "  - explain where to find additional information about the features\n",
    "  - explain convenience layers and pre-processing\n",
    "- Features\n",
    "  - PWM initialization\n",
    "  - Spline transformation\n",
    "  - hyper-param optimization\n",
    "  - SNP effect prediction"
   ]
  },
  {
   "cell_type": "markdown",
   "metadata": {},
   "source": [
    "## General"
   ]
  },
  {
   "cell_type": "markdown",
   "metadata": {},
   "source": [
    "CONCISE is a Keras extension providing \n",
    "\n",
    "- pre-processing functions standardizing the deep learning workflow, \n",
    "- custom Keras components specific for regulatory genomics\n",
    "  - Layers\n",
    "  - Initializers\n",
    "  - Regularizers\n",
    "- hyper-parameter tuning functionality simplifying the process of selecting the right model architecture and the corresponding parameters."
   ]
  }
 ],
 "metadata": {
  "anaconda-cloud": {},
  "kernelspec": {
   "display_name": "Python [default]",
   "language": "python",
   "name": "python3"
  },
  "language_info": {
   "codemirror_mode": {
    "name": "ipython",
    "version": 3
   },
   "file_extension": ".py",
   "mimetype": "text/x-python",
   "name": "python",
   "nbconvert_exporter": "python",
   "pygments_lexer": "ipython3",
   "version": "3.5.2"
  }
 },
 "nbformat": 4,
 "nbformat_minor": 0
}
