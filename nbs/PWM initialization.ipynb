{
 "cells": [
  {
   "cell_type": "markdown",
   "metadata": {},
   "source": [
    "## Initializing filters on known motifs\n",
    "\n",
    "In the scenario where data is scarse, it is often useful to initialize the filters to some known position weights matrices (PWM's). That way, the model already starts with a parameter configuration much closes to the 'right' solution.\n",
    "\n",
    "Concise provides access to (TODO how many) PWM databases for\n",
    "- transcription factors from ENCODE\n",
    "- rna-binding proteins from ATtrACT (1000 - TODO - show numbers).\n",
    "\n",
    "### Find the motif of interest"
   ]
  },
  {
   "cell_type": "markdown",
   "metadata": {
    "heading_collapsed": true
   },
   "source": [
    "#### Metadata"
   ]
  },
  {
   "cell_type": "code",
   "execution_count": 17,
   "metadata": {
    "collapsed": true,
    "hidden": true
   },
   "outputs": [],
   "source": [
    "import concise.layers as cl\n",
    "import keras.layers as kl\n",
    "from keras.models import Model"
   ]
  },
  {
   "cell_type": "code",
   "execution_count": 2,
   "metadata": {
    "collapsed": false,
    "hidden": true
   },
   "outputs": [
    {
     "data": {
      "text/html": [
       "<div>\n",
       "<style>\n",
       "    .dataframe thead tr:only-child th {\n",
       "        text-align: right;\n",
       "    }\n",
       "\n",
       "    .dataframe thead th {\n",
       "        text-align: left;\n",
       "    }\n",
       "\n",
       "    .dataframe tbody tr th {\n",
       "        vertical-align: top;\n",
       "    }\n",
       "</style>\n",
       "<table border=\"1\" class=\"dataframe\">\n",
       "  <thead>\n",
       "    <tr style=\"text-align: right;\">\n",
       "      <th></th>\n",
       "      <th>PWM_id</th>\n",
       "      <th>Gene_name</th>\n",
       "      <th>Gene_id</th>\n",
       "      <th>Mutated</th>\n",
       "      <th>Organism</th>\n",
       "      <th>Motif</th>\n",
       "      <th>Len</th>\n",
       "      <th>Experiment_description</th>\n",
       "      <th>Database</th>\n",
       "      <th>Pubmed</th>\n",
       "      <th>Experiment_description.1</th>\n",
       "      <th>Family</th>\n",
       "      <th>Score</th>\n",
       "    </tr>\n",
       "  </thead>\n",
       "  <tbody>\n",
       "    <tr>\n",
       "      <th>0</th>\n",
       "      <td>519</td>\n",
       "      <td>3IVK</td>\n",
       "      <td>3IVK</td>\n",
       "      <td>no</td>\n",
       "      <td>Mus_musculus</td>\n",
       "      <td>GAAACA</td>\n",
       "      <td>6</td>\n",
       "      <td>X-RAY DIFFRACTION</td>\n",
       "      <td>PDB</td>\n",
       "      <td>19965478</td>\n",
       "      <td>X-RAY DIFFRACTION</td>\n",
       "      <td>NaN</td>\n",
       "      <td>1.000000**</td>\n",
       "    </tr>\n",
       "    <tr>\n",
       "      <th>1</th>\n",
       "      <td>574</td>\n",
       "      <td>3IVK</td>\n",
       "      <td>3IVK</td>\n",
       "      <td>no</td>\n",
       "      <td>Mus_musculus</td>\n",
       "      <td>UGGG</td>\n",
       "      <td>4</td>\n",
       "      <td>X-RAY DIFFRACTION</td>\n",
       "      <td>PDB</td>\n",
       "      <td>19965478</td>\n",
       "      <td>X-RAY DIFFRACTION</td>\n",
       "      <td>NaN</td>\n",
       "      <td>1.000000**</td>\n",
       "    </tr>\n",
       "    <tr>\n",
       "      <th>2</th>\n",
       "      <td>464</td>\n",
       "      <td>4KZD</td>\n",
       "      <td>4KZD</td>\n",
       "      <td>no</td>\n",
       "      <td>Mus_musculus</td>\n",
       "      <td>GAAAC</td>\n",
       "      <td>5</td>\n",
       "      <td>X-RAY DIFFRACTION</td>\n",
       "      <td>PDB</td>\n",
       "      <td>24952597</td>\n",
       "      <td>X-RAY DIFFRACTION</td>\n",
       "      <td>NaN</td>\n",
       "      <td>1.000000**</td>\n",
       "    </tr>\n",
       "    <tr>\n",
       "      <th>...</th>\n",
       "      <td>...</td>\n",
       "      <td>...</td>\n",
       "      <td>...</td>\n",
       "      <td>...</td>\n",
       "      <td>...</td>\n",
       "      <td>...</td>\n",
       "      <td>...</td>\n",
       "      <td>...</td>\n",
       "      <td>...</td>\n",
       "      <td>...</td>\n",
       "      <td>...</td>\n",
       "      <td>...</td>\n",
       "      <td>...</td>\n",
       "    </tr>\n",
       "    <tr>\n",
       "      <th>4879</th>\n",
       "      <td>1396</td>\n",
       "      <td>HNRNPAB</td>\n",
       "      <td>ENSG00000197451</td>\n",
       "      <td>no</td>\n",
       "      <td>Homo_sapiens</td>\n",
       "      <td>AUAGCA</td>\n",
       "      <td>6</td>\n",
       "      <td>In vitro splicing assays</td>\n",
       "      <td>AEDB</td>\n",
       "      <td>12426391</td>\n",
       "      <td>other</td>\n",
       "      <td>RRM</td>\n",
       "      <td>1.000000**</td>\n",
       "    </tr>\n",
       "    <tr>\n",
       "      <th>4880</th>\n",
       "      <td>1397</td>\n",
       "      <td>HNRNPA1</td>\n",
       "      <td>ENSG00000135486</td>\n",
       "      <td>no</td>\n",
       "      <td>Homo_sapiens</td>\n",
       "      <td>UAGG</td>\n",
       "      <td>4</td>\n",
       "      <td>Immunoprecipitation;U...</td>\n",
       "      <td>AEDB</td>\n",
       "      <td>15506926</td>\n",
       "      <td>UV cross-linking</td>\n",
       "      <td>RRM</td>\n",
       "      <td>1.000000**</td>\n",
       "    </tr>\n",
       "    <tr>\n",
       "      <th>4881</th>\n",
       "      <td>1398</td>\n",
       "      <td>PTBP1</td>\n",
       "      <td>ENSG00000011304</td>\n",
       "      <td>no</td>\n",
       "      <td>Homo_sapiens</td>\n",
       "      <td>UUCUUC</td>\n",
       "      <td>6</td>\n",
       "      <td>In vivo splicing assa...</td>\n",
       "      <td>AEDB</td>\n",
       "      <td>14966131</td>\n",
       "      <td>UV cross-linking</td>\n",
       "      <td>RRM</td>\n",
       "      <td>1.000000**</td>\n",
       "    </tr>\n",
       "  </tbody>\n",
       "</table>\n",
       "<p>4882 rows × 13 columns</p>\n",
       "</div>"
      ],
      "text/plain": [
       "     PWM_id Gene_name          Gene_id Mutated      Organism   Motif  Len  \\\n",
       "0       519      3IVK             3IVK      no  Mus_musculus  GAAACA    6   \n",
       "1       574      3IVK             3IVK      no  Mus_musculus    UGGG    4   \n",
       "2       464      4KZD             4KZD      no  Mus_musculus   GAAAC    5   \n",
       "...     ...       ...              ...     ...           ...     ...  ...   \n",
       "4879   1396   HNRNPAB  ENSG00000197451      no  Homo_sapiens  AUAGCA    6   \n",
       "4880   1397   HNRNPA1  ENSG00000135486      no  Homo_sapiens    UAGG    4   \n",
       "4881   1398     PTBP1  ENSG00000011304      no  Homo_sapiens  UUCUUC    6   \n",
       "\n",
       "        Experiment_description Database    Pubmed Experiment_description.1 Family       Score  \n",
       "0            X-RAY DIFFRACTION      PDB  19965478        X-RAY DIFFRACTION    NaN  1.000000**  \n",
       "1            X-RAY DIFFRACTION      PDB  19965478        X-RAY DIFFRACTION    NaN  1.000000**  \n",
       "2            X-RAY DIFFRACTION      PDB  24952597        X-RAY DIFFRACTION    NaN  1.000000**  \n",
       "...                        ...      ...       ...                      ...    ...         ...  \n",
       "4879  In vitro splicing assays     AEDB  12426391                    other    RRM  1.000000**  \n",
       "4880  Immunoprecipitation;U...     AEDB  15506926         UV cross-linking    RRM  1.000000**  \n",
       "4881  In vivo splicing assa...     AEDB  14966131         UV cross-linking    RRM  1.000000**  \n",
       "\n",
       "[4882 rows x 13 columns]"
      ]
     },
     "execution_count": 2,
     "metadata": {},
     "output_type": "execute_result"
    }
   ],
   "source": [
    "# RBP PWM's\n",
    "from concise.data import attract\n",
    "\n",
    "dfa = attract.get_metadata()\n",
    "dfa"
   ]
  },
  {
   "cell_type": "code",
   "execution_count": 4,
   "metadata": {
    "collapsed": false,
    "hidden": true
   },
   "outputs": [
    {
     "data": {
      "text/html": [
       "<div>\n",
       "<style>\n",
       "    .dataframe thead tr:only-child th {\n",
       "        text-align: right;\n",
       "    }\n",
       "\n",
       "    .dataframe thead th {\n",
       "        text-align: left;\n",
       "    }\n",
       "\n",
       "    .dataframe tbody tr th {\n",
       "        vertical-align: top;\n",
       "    }\n",
       "</style>\n",
       "<table border=\"1\" class=\"dataframe\">\n",
       "  <thead>\n",
       "    <tr style=\"text-align: right;\">\n",
       "      <th></th>\n",
       "      <th>motif_name</th>\n",
       "      <th>consensus</th>\n",
       "    </tr>\n",
       "  </thead>\n",
       "  <tbody>\n",
       "    <tr>\n",
       "      <th>0</th>\n",
       "      <td>AFP_1</td>\n",
       "      <td>ATTAACTACAC</td>\n",
       "    </tr>\n",
       "    <tr>\n",
       "      <th>1</th>\n",
       "      <td>AHR::ARNT::HIF1A_1</td>\n",
       "      <td>TGCGTGCGG</td>\n",
       "    </tr>\n",
       "    <tr>\n",
       "      <th>2</th>\n",
       "      <td>AHR::ARNT_1</td>\n",
       "      <td>TAAGGGTTGCGTGCCC</td>\n",
       "    </tr>\n",
       "    <tr>\n",
       "      <th>...</th>\n",
       "      <td>...</td>\n",
       "      <td>...</td>\n",
       "    </tr>\n",
       "    <tr>\n",
       "      <th>2064</th>\n",
       "      <td>ZSCAN4_3</td>\n",
       "      <td>TGCACACACTGAAAA</td>\n",
       "    </tr>\n",
       "    <tr>\n",
       "      <th>2065</th>\n",
       "      <td>fake_AACGSSAA</td>\n",
       "      <td>AACGCCAA</td>\n",
       "    </tr>\n",
       "    <tr>\n",
       "      <th>2066</th>\n",
       "      <td>fake_AAGCSSAA</td>\n",
       "      <td>AAGCCCAA</td>\n",
       "    </tr>\n",
       "  </tbody>\n",
       "</table>\n",
       "<p>2067 rows × 2 columns</p>\n",
       "</div>"
      ],
      "text/plain": [
       "              motif_name         consensus\n",
       "0                  AFP_1       ATTAACTACAC\n",
       "1     AHR::ARNT::HIF1A_1         TGCGTGCGG\n",
       "2            AHR::ARNT_1  TAAGGGTTGCGTGCCC\n",
       "...                  ...               ...\n",
       "2064            ZSCAN4_3   TGCACACACTGAAAA\n",
       "2065       fake_AACGSSAA          AACGCCAA\n",
       "2066       fake_AAGCSSAA          AAGCCCAA\n",
       "\n",
       "[2067 rows x 2 columns]"
      ]
     },
     "execution_count": 4,
     "metadata": {},
     "output_type": "execute_result"
    }
   ],
   "source": [
    "# TF PWM's\n",
    "from concise.data import encode\n",
    "\n",
    "dfe = encode.get_metadata()\n",
    "dfe"
   ]
  },
  {
   "cell_type": "markdown",
   "metadata": {
    "hidden": true
   },
   "source": [
    "Let's choose a PWMs of the PUM2 RBP in Human:"
   ]
  },
  {
   "cell_type": "code",
   "execution_count": 21,
   "metadata": {
    "collapsed": false,
    "hidden": true
   },
   "outputs": [
    {
     "data": {
      "text/html": [
       "<div>\n",
       "<style>\n",
       "    .dataframe thead tr:only-child th {\n",
       "        text-align: right;\n",
       "    }\n",
       "\n",
       "    .dataframe thead th {\n",
       "        text-align: left;\n",
       "    }\n",
       "\n",
       "    .dataframe tbody tr th {\n",
       "        vertical-align: top;\n",
       "    }\n",
       "</style>\n",
       "<table border=\"1\" class=\"dataframe\">\n",
       "  <thead>\n",
       "    <tr style=\"text-align: right;\">\n",
       "      <th></th>\n",
       "      <th>PWM_id</th>\n",
       "      <th>Gene_name</th>\n",
       "      <th>Gene_id</th>\n",
       "      <th>Mutated</th>\n",
       "      <th>Organism</th>\n",
       "      <th>Motif</th>\n",
       "      <th>Len</th>\n",
       "      <th>Experiment_description</th>\n",
       "      <th>Database</th>\n",
       "      <th>Pubmed</th>\n",
       "      <th>Experiment_description.1</th>\n",
       "      <th>Family</th>\n",
       "      <th>Score</th>\n",
       "    </tr>\n",
       "  </thead>\n",
       "  <tbody>\n",
       "    <tr>\n",
       "      <th>2603</th>\n",
       "      <td>503</td>\n",
       "      <td>PUM2</td>\n",
       "      <td>ENSG00000055917</td>\n",
       "      <td>no</td>\n",
       "      <td>Homo_sapiens</td>\n",
       "      <td>UGUAAAUA</td>\n",
       "      <td>8</td>\n",
       "      <td>X-RAY DIFFRACTION</td>\n",
       "      <td>PDB</td>\n",
       "      <td>21397187</td>\n",
       "      <td>X-RAY DIFFRACTION</td>\n",
       "      <td>PUF</td>\n",
       "      <td>1.000000**</td>\n",
       "    </tr>\n",
       "    <tr>\n",
       "      <th>2604</th>\n",
       "      <td>361</td>\n",
       "      <td>PUM2</td>\n",
       "      <td>ENSG00000055917</td>\n",
       "      <td>no</td>\n",
       "      <td>Homo_sapiens</td>\n",
       "      <td>UGUACAUC</td>\n",
       "      <td>8</td>\n",
       "      <td>X-RAY DIFFRACTION</td>\n",
       "      <td>PDB</td>\n",
       "      <td>21397187</td>\n",
       "      <td>X-RAY DIFFRACTION</td>\n",
       "      <td>PUF</td>\n",
       "      <td>1.000000**</td>\n",
       "    </tr>\n",
       "    <tr>\n",
       "      <th>2605</th>\n",
       "      <td>514</td>\n",
       "      <td>PUM2</td>\n",
       "      <td>ENSG00000055917</td>\n",
       "      <td>no</td>\n",
       "      <td>Homo_sapiens</td>\n",
       "      <td>UGUAGAUA</td>\n",
       "      <td>8</td>\n",
       "      <td>X-RAY DIFFRACTION</td>\n",
       "      <td>PDB</td>\n",
       "      <td>21397187</td>\n",
       "      <td>X-RAY DIFFRACTION</td>\n",
       "      <td>PUF</td>\n",
       "      <td>1.000000**</td>\n",
       "    </tr>\n",
       "    <tr>\n",
       "      <th>...</th>\n",
       "      <td>...</td>\n",
       "      <td>...</td>\n",
       "      <td>...</td>\n",
       "      <td>...</td>\n",
       "      <td>...</td>\n",
       "      <td>...</td>\n",
       "      <td>...</td>\n",
       "      <td>...</td>\n",
       "      <td>...</td>\n",
       "      <td>...</td>\n",
       "      <td>...</td>\n",
       "      <td>...</td>\n",
       "      <td>...</td>\n",
       "    </tr>\n",
       "    <tr>\n",
       "      <th>2613</th>\n",
       "      <td>107</td>\n",
       "      <td>PUM2</td>\n",
       "      <td>ENSG00000055917</td>\n",
       "      <td>no</td>\n",
       "      <td>Homo_sapiens</td>\n",
       "      <td>UGUAUAUA</td>\n",
       "      <td>8</td>\n",
       "      <td>PAR-clip</td>\n",
       "      <td>C</td>\n",
       "      <td>20371350</td>\n",
       "      <td>genome-wide in vivo i...</td>\n",
       "      <td>PUF</td>\n",
       "      <td>0.250000**</td>\n",
       "    </tr>\n",
       "    <tr>\n",
       "      <th>2614</th>\n",
       "      <td>107</td>\n",
       "      <td>PUM2</td>\n",
       "      <td>ENSG00000055917</td>\n",
       "      <td>no</td>\n",
       "      <td>Homo_sapiens</td>\n",
       "      <td>UGUACAUA</td>\n",
       "      <td>8</td>\n",
       "      <td>PAR-clip</td>\n",
       "      <td>C</td>\n",
       "      <td>20371350</td>\n",
       "      <td>genome-wide in vivo i...</td>\n",
       "      <td>PUF</td>\n",
       "      <td>0.250000**</td>\n",
       "    </tr>\n",
       "    <tr>\n",
       "      <th>2615</th>\n",
       "      <td>107</td>\n",
       "      <td>PUM2</td>\n",
       "      <td>ENSG00000055917</td>\n",
       "      <td>no</td>\n",
       "      <td>Homo_sapiens</td>\n",
       "      <td>UGUAGAUA</td>\n",
       "      <td>8</td>\n",
       "      <td>PAR-clip</td>\n",
       "      <td>C</td>\n",
       "      <td>20371350</td>\n",
       "      <td>genome-wide in vivo i...</td>\n",
       "      <td>PUF</td>\n",
       "      <td>0.250000**</td>\n",
       "    </tr>\n",
       "  </tbody>\n",
       "</table>\n",
       "<p>13 rows × 13 columns</p>\n",
       "</div>"
      ],
      "text/plain": [
       "     PWM_id Gene_name          Gene_id Mutated      Organism     Motif  Len  \\\n",
       "2603    503      PUM2  ENSG00000055917      no  Homo_sapiens  UGUAAAUA    8   \n",
       "2604    361      PUM2  ENSG00000055917      no  Homo_sapiens  UGUACAUC    8   \n",
       "2605    514      PUM2  ENSG00000055917      no  Homo_sapiens  UGUAGAUA    8   \n",
       "...     ...       ...              ...     ...           ...       ...  ...   \n",
       "2613    107      PUM2  ENSG00000055917      no  Homo_sapiens  UGUAUAUA    8   \n",
       "2614    107      PUM2  ENSG00000055917      no  Homo_sapiens  UGUACAUA    8   \n",
       "2615    107      PUM2  ENSG00000055917      no  Homo_sapiens  UGUAGAUA    8   \n",
       "\n",
       "     Experiment_description Database    Pubmed  Experiment_description.1 Family       Score  \n",
       "2603      X-RAY DIFFRACTION      PDB  21397187         X-RAY DIFFRACTION    PUF  1.000000**  \n",
       "2604      X-RAY DIFFRACTION      PDB  21397187         X-RAY DIFFRACTION    PUF  1.000000**  \n",
       "2605      X-RAY DIFFRACTION      PDB  21397187         X-RAY DIFFRACTION    PUF  1.000000**  \n",
       "...                     ...      ...       ...                       ...    ...         ...  \n",
       "2613               PAR-clip        C  20371350  genome-wide in vivo i...    PUF  0.250000**  \n",
       "2614               PAR-clip        C  20371350  genome-wide in vivo i...    PUF  0.250000**  \n",
       "2615               PAR-clip        C  20371350  genome-wide in vivo i...    PUF  0.250000**  \n",
       "\n",
       "[13 rows x 13 columns]"
      ]
     },
     "execution_count": 21,
     "metadata": {},
     "output_type": "execute_result"
    }
   ],
   "source": [
    "dfa_pum2 = dfa[dfa.Gene_name.str.match(\"PUM2\") & \\\n",
    "               dfa.Organism.str.match(\"Homo_sapiens\")]\n",
    "dfa_pum2"
   ]
  },
  {
   "cell_type": "markdown",
   "metadata": {
    "heading_collapsed": true
   },
   "source": [
    "#### Visualization"
   ]
  },
  {
   "cell_type": "code",
   "execution_count": 56,
   "metadata": {
    "collapsed": true,
    "hidden": true
   },
   "outputs": [],
   "source": [
    "# Visualize the PUM2 Motifs from different experiments\n",
    "from concise.utils.pwm import PWM\n",
    "dfa_pum2_uniq = dfa_pum2[[\"Experiment_description\", \"PWM_id\"]].drop_duplicates()\n",
    "pwm_list = attract.get_pwm_list(dfa_pum2_uniq.PWM_id)"
   ]
  },
  {
   "cell_type": "code",
   "execution_count": 58,
   "metadata": {
    "collapsed": false,
    "hidden": true
   },
   "outputs": [
    {
     "name": "stdout",
     "output_type": "stream",
     "text": [
      "PWM_id: 503 ; Experiment_description: X-RAY DIFFRACTION\n"
     ]
    },
    {
     "data": {
      "image/png": "[encoded data removed]",
      "text/plain": [
       "<matplotlib.figure.Figure at 0x7f89105b5fd0>"
      ]
     },
     "metadata": {},
     "output_type": "display_data"
    },
    {
     "name": "stdout",
     "output_type": "stream",
     "text": [
      "PWM_id: 361 ; Experiment_description: X-RAY DIFFRACTION\n"
     ]
    },
    {
     "data": {
      "image/png": "[encoded data removed]",
      "text/plain": [
       "<matplotlib.figure.Figure at 0x7f89086afeb8>"
      ]
     },
     "metadata": {},
     "output_type": "display_data"
    },
    {
     "name": "stdout",
     "output_type": "stream",
     "text": [
      "PWM_id: 514 ; Experiment_description: X-RAY DIFFRACTION\n"
     ]
    },
    {
     "data": {
      "image/png": "[encoded data removed]",
      "text/plain": [
       "<matplotlib.figure.Figure at 0x7f89086426d8>"
      ]
     },
     "metadata": {},
     "output_type": "display_data"
    },
    {
     "name": "stdout",
     "output_type": "stream",
     "text": [
      "PWM_id: 116 ; Experiment_description: RIP-chip\n"
     ]
    },
    {
     "data": {
      "image/png": "[encoded data removed]",
      "text/plain": [
       "<matplotlib.figure.Figure at 0x7f88e67d6ef0>"
      ]
     },
     "metadata": {},
     "output_type": "display_data"
    },
    {
     "name": "stdout",
     "output_type": "stream",
     "text": [
      "PWM_id: 129 ; Experiment_description: genome-wide in vivo immunoprecipitation\n"
     ]
    },
    {
     "data": {
      "image/png": "[encoded data removed]",
      "text/plain": [
       "<matplotlib.figure.Figure at 0x7f890864e8d0>"
      ]
     },
     "metadata": {},
     "output_type": "display_data"
    },
    {
     "name": "stdout",
     "output_type": "stream",
     "text": [
      "PWM_id: 107 ; Experiment_description: PAR-clip\n"
     ]
    },
    {
     "data": {
      "image/png": "[encoded data removed]",
      "text/plain": [
       "<matplotlib.figure.Figure at 0x7f891b09e4e0>"
      ]
     },
     "metadata": {},
     "output_type": "display_data"
    }
   ],
   "source": [
    "for i, pwm in enumerate(pwm_list):\n",
    "    print(\"PWM_id:\", pwm.name, \"; Experiment_description:\", dfa_pum2_uniq.Experiment_description.iloc[i])\n",
    "    pwm.plotPWM(figsize=(3,1))"
   ]
  },
  {
   "cell_type": "markdown",
   "metadata": {
    "hidden": true
   },
   "source": [
    "I'll select the PWM with id 129."
   ]
  },
  {
   "cell_type": "code",
   "execution_count": 59,
   "metadata": {
    "collapsed": true,
    "hidden": true
   },
   "outputs": [],
   "source": [
    "pwm_list = [pwm for pwm in pwm_list if pwm.name == \"129\"]"
   ]
  },
  {
   "cell_type": "code",
   "execution_count": 60,
   "metadata": {
    "collapsed": false,
    "hidden": true
   },
   "outputs": [
    {
     "data": {
      "text/plain": [
       "[PWM(name: 129, consensus: TGTAAATA)]"
      ]
     },
     "execution_count": 60,
     "metadata": {},
     "output_type": "execute_result"
    }
   ],
   "source": [
    "pwm_list"
   ]
  },
  {
   "cell_type": "markdown",
   "metadata": {},
   "source": [
    "### Initialize the model with the motif"
   ]
  },
  {
   "cell_type": "code",
   "execution_count": 15,
   "metadata": {
    "collapsed": false
   },
   "outputs": [],
   "source": [
    "import concise.initializers as ci\n",
    "in_dna = cl.InputDNA(seq_length=100, name=\"seq\")\n",
    "x = cl.ConvDNA(filters=15, \n",
    "               kernel_size=12, \n",
    "               kernel_initializer=ci.PSSMKernelInitializer(pwm_list),\n",
    "               bias_initializer=ci.PSSMBiasInitializer(pwm_list),\n",
    "               activation=\"relu\")(in_dna)\n",
    "x = kl.MaxPool1D(pool_size=4)(x)\n",
    "x = kl.Flatten()(x)\n",
    "x = kl.Dense(100, activation=\"relu\")(x)\n",
    "out = kl.Dense(1, activation=\"sigmoid\")(x)\n",
    "m = Model(in_dna, out)\n",
    "m.compile(\"adam\", loss=\"binary_crossentropy\", metrics=[\"acc\"])"
   ]
  },
  {
   "cell_type": "markdown",
   "metadata": {},
   "source": [
    "This will set the filters of the first convolutional layer to the values of the position-specific scoring matrix (PSSM):\n",
    "\n",
    "$$ pssm_{ij} = log \\frac{pwm_{ij}}{b_j} \\;,$$\n",
    "\n",
    "where $b_j$ is the background probability of observing base $j$.\n",
    "\n",
    "We add gaussian noise to each individual filter. Let's visualize the filters:"
   ]
  },
  {
   "cell_type": "code",
   "execution_count": 73,
   "metadata": {
    "collapsed": true
   },
   "outputs": [],
   "source": [
    "%matplotlib inline\n",
    "import matplotlib.pyplot as plt\n",
    "\n",
    "import concise.layers as cl\n",
    "import keras.layers as kl\n",
    "import concise.initializers as ci\n",
    "import concise.regularizers as cr\n",
    "from keras.callbacks import EarlyStopping\n",
    "from concise.preprocessing import encodeDNA\n",
    "from keras.models import Model, load_model\n",
    "from keras.optimizers import Adam"
   ]
  },
  {
   "cell_type": "code",
   "execution_count": 119,
   "metadata": {
    "collapsed": false
   },
   "outputs": [],
   "source": [
    "# get the data\n",
    "def load(split=\"train\", st=None):\n",
    "    dt = pd.read_csv(\"../data/RBP/PUM2_{0}.csv\".format(split))\n",
    "    # DNA/RNA sequence\n",
    "    xseq = encodeDNA(dt.seq) # list of sequences -> np.ndarray\n",
    "    # response variable\n",
    "    y = dt.binding_site.as_matrix().reshape((-1, 1)).astype(\"float\")\n",
    "    return {\"seq\": xseq}, y\n",
    "\n",
    "train, valid, test = load(\"train\"), load(\"valid\"), load(\"test\")\n",
    "\n",
    "# deduce sequence length\n",
    "seq_length = train[0][\"seq\"].shape[1]"
   ]
  },
  {
   "cell_type": "code",
   "execution_count": 120,
   "metadata": {
    "collapsed": false
   },
   "outputs": [],
   "source": [
    "# define the model\n",
    "def model(train, filters=1, kernel_size=9, pwm_list=None, lr=0.001):\n",
    "    seq_length = train[0][\"seq\"].shape[1]\n",
    "    if pwm_list is None:\n",
    "        kinit = \"glorot_uniform\"\n",
    "        binit = \"zeros\"\n",
    "    else:\n",
    "        kinit = ci.PSSMKernelInitializer(pwm_list, add_noise_before_Pwm2Pssm=True)\n",
    "        binit = \"zeros\"\n",
    "        \n",
    "    # sequence\n",
    "    in_dna = cl.InputDNA(seq_length=seq_length, name=\"seq\")\n",
    "    x = cl.ConvDNA(filters=filters, \n",
    "                   kernel_size=kernel_size, \n",
    "                   activation=\"relu\",\n",
    "                   kernel_initializer=kinit,\n",
    "                   bias_initializer=binit,\n",
    "                   name=\"conv1\")(in_dna)\n",
    "    x = kl.AveragePooling1D(pool_size=4)(x)\n",
    "    x = kl.Flatten()(x)\n",
    "    \n",
    "    x = kl.Dense(units=1)(x)\n",
    "    m = Model(in_dna, x)\n",
    "    m.compile(Adam(lr=lr), loss=\"binary_crossentropy\", metrics=[\"acc\"])\n",
    "    return m"
   ]
  },
  {
   "cell_type": "code",
   "execution_count": 121,
   "metadata": {
    "collapsed": false
   },
   "outputs": [],
   "source": [
    "m_rand_init = model(train, filters=3, pwm_list=None) # random initialization\n",
    "m_pwm_init = model(train, filters=3, pwm_list=pwm_list) # motif initialization"
   ]
  },
  {
   "cell_type": "code",
   "execution_count": 122,
   "metadata": {
    "collapsed": false
   },
   "outputs": [
    {
     "name": "stdout",
     "output_type": "stream",
     "text": [
      "Random initialization:\n",
      "filter index: 0\n"
     ]
    },
    {
     "data": {
      "image/png": "[encoded data removed]",
      "text/plain": [
       "<matplotlib.figure.Figure at 0x7f8910456cc0>"
      ]
     },
     "metadata": {},
     "output_type": "display_data"
    },
    {
     "name": "stdout",
     "output_type": "stream",
     "text": [
      "filter index: 1\n"
     ]
    },
    {
     "data": {
      "image/png": "[encoded data removed]",
      "text/plain": [
       "<matplotlib.figure.Figure at 0x7f88e5d72080>"
      ]
     },
     "metadata": {},
     "output_type": "display_data"
    },
    {
     "name": "stdout",
     "output_type": "stream",
     "text": [
      "filter index: 2\n"
     ]
    },
    {
     "data": {
      "image/png": "[encoded data removed]",
      "text/plain": [
       "<matplotlib.figure.Figure at 0x7f88e67cfd68>"
      ]
     },
     "metadata": {},
     "output_type": "display_data"
    }
   ],
   "source": [
    "print(\"Random initialization:\")\n",
    "m_rand_init.get_layer(\"conv1\").plot_weights(figsize=(3, 1.2))"
   ]
  },
  {
   "cell_type": "code",
   "execution_count": 123,
   "metadata": {
    "collapsed": false
   },
   "outputs": [
    {
     "name": "stdout",
     "output_type": "stream",
     "text": [
      "Known PWM initialization:\n",
      "filter index: 0\n"
     ]
    },
    {
     "data": {
      "image/png": "[encoded data removed]",
      "text/plain": [
       "<matplotlib.figure.Figure at 0x7f891051e0b8>"
      ]
     },
     "metadata": {},
     "output_type": "display_data"
    },
    {
     "name": "stdout",
     "output_type": "stream",
     "text": [
      "filter index: 1\n"
     ]
    },
    {
     "data": {
      "image/png": "[encoded data removed]",
      "text/plain": [
       "<matplotlib.figure.Figure at 0x7f88e5263dd8>"
      ]
     },
     "metadata": {},
     "output_type": "display_data"
    },
    {
     "name": "stdout",
     "output_type": "stream",
     "text": [
      "filter index: 2\n"
     ]
    },
    {
     "data": {
      "image/png": "[encoded data removed]",
      "text/plain": [
       "<matplotlib.figure.Figure at 0x7f88e51be358>"
      ]
     },
     "metadata": {},
     "output_type": "display_data"
    }
   ],
   "source": [
    "print(\"Known PWM initialization:\")\n",
    "m_pwm_init.get_layer(\"conv1\").plot_weights(figsize=(3, 1.2))"
   ]
  },
  {
   "cell_type": "code",
   "execution_count": 124,
   "metadata": {
    "collapsed": false,
    "scrolled": true
   },
   "outputs": [
    {
     "name": "stdout",
     "output_type": "stream",
     "text": [
      "Train on 17713 samples, validate on 4881 samples\n",
      "Epoch 1/50\n",
      "1s - loss: 0.5377 - acc: 0.7935 - val_loss: 0.5075 - val_acc: 0.7986\n",
      "Epoch 2/50\n",
      "1s - loss: 0.4948 - acc: 0.7954 - val_loss: 0.4951 - val_acc: 0.7988\n",
      "Epoch 3/50\n",
      "0s - loss: 0.4859 - acc: 0.7953 - val_loss: 0.4934 - val_acc: 0.7976\n",
      "Epoch 4/50\n",
      "0s - loss: 0.4752 - acc: 0.7948 - val_loss: 0.4815 - val_acc: 0.7978\n",
      "Epoch 5/50\n",
      "0s - loss: 0.4682 - acc: 0.7941 - val_loss: 0.4897 - val_acc: 0.7994\n",
      "Epoch 6/50\n",
      "0s - loss: 0.4609 - acc: 0.7956 - val_loss: 0.4534 - val_acc: 0.8002\n",
      "Epoch 7/50\n",
      "0s - loss: 0.4581 - acc: 0.7955 - val_loss: 0.4549 - val_acc: 0.7998\n",
      "Epoch 8/50\n",
      "1s - loss: 0.4494 - acc: 0.7967 - val_loss: 0.4425 - val_acc: 0.8002\n",
      "Epoch 9/50\n",
      "0s - loss: 0.4445 - acc: 0.7985 - val_loss: 0.4382 - val_acc: 0.8039\n",
      "Epoch 10/50\n",
      "0s - loss: 0.4442 - acc: 0.7992 - val_loss: 0.4340 - val_acc: 0.8025\n",
      "Epoch 11/50\n",
      "0s - loss: 0.4802 - acc: 0.8022 - val_loss: 0.4506 - val_acc: 0.7992\n",
      "Epoch 12/50\n",
      "0s - loss: 0.4422 - acc: 0.7991 - val_loss: 0.4325 - val_acc: 0.8031\n",
      "Epoch 13/50\n",
      "0s - loss: 0.4348 - acc: 0.8015 - val_loss: 0.4313 - val_acc: 0.8033\n",
      "Epoch 14/50\n",
      "0s - loss: 0.4301 - acc: 0.8036 - val_loss: 0.4307 - val_acc: 0.8041\n",
      "Epoch 15/50\n",
      "0s - loss: 0.4293 - acc: 0.8051 - val_loss: 0.4352 - val_acc: 0.8076\n",
      "Epoch 16/50\n",
      "0s - loss: 0.4266 - acc: 0.8073 - val_loss: 0.4283 - val_acc: 0.8091\n",
      "Epoch 17/50\n",
      "0s - loss: 0.4232 - acc: 0.8084 - val_loss: 0.4286 - val_acc: 0.8066\n",
      "Epoch 18/50\n",
      "0s - loss: 0.4224 - acc: 0.8095 - val_loss: 0.4405 - val_acc: 0.8054\n",
      "Epoch 19/50\n",
      "0s - loss: 0.4195 - acc: 0.8098 - val_loss: 0.4359 - val_acc: 0.8093\n",
      "Epoch 20/50\n",
      "0s - loss: 0.4164 - acc: 0.8131 - val_loss: 0.4350 - val_acc: 0.8125\n",
      "Epoch 21/50\n",
      "0s - loss: 0.4139 - acc: 0.8161 - val_loss: 0.4313 - val_acc: 0.8162\n",
      "Epoch 22/50\n",
      "0s - loss: 0.4134 - acc: 0.8169 - val_loss: 0.4323 - val_acc: 0.8129\n"
     ]
    },
    {
     "data": {
      "text/plain": [
       "<keras.callbacks.History at 0x7f88e51f4ef0>"
      ]
     },
     "execution_count": 124,
     "metadata": {},
     "output_type": "execute_result"
    }
   ],
   "source": [
    "m_rand_init.fit(train[0], train[1], epochs=50, validation_data=valid, \n",
    "                verbose=2,\n",
    "                callbacks=[EarlyStopping(patience=5)])"
   ]
  },
  {
   "cell_type": "code",
   "execution_count": 125,
   "metadata": {
    "collapsed": false,
    "scrolled": true
   },
   "outputs": [
    {
     "name": "stdout",
     "output_type": "stream",
     "text": [
      "Train on 17713 samples, validate on 4881 samples\n",
      "Epoch 1/50\n",
      "1s - loss: 0.9121 - acc: 0.7811 - val_loss: 0.7350 - val_acc: 0.8089\n",
      "Epoch 2/50\n",
      "0s - loss: 0.6309 - acc: 0.8009 - val_loss: 0.4981 - val_acc: 0.8168\n",
      "Epoch 3/50\n",
      "0s - loss: 0.4828 - acc: 0.8149 - val_loss: 0.4632 - val_acc: 0.8181\n",
      "Epoch 4/50\n",
      "0s - loss: 0.4521 - acc: 0.8206 - val_loss: 0.4496 - val_acc: 0.8218\n",
      "Epoch 5/50\n",
      "0s - loss: 0.4309 - acc: 0.8246 - val_loss: 0.4399 - val_acc: 0.8254\n",
      "Epoch 6/50\n",
      "0s - loss: 0.4285 - acc: 0.8306 - val_loss: 0.4316 - val_acc: 0.8285\n",
      "Epoch 7/50\n",
      "0s - loss: 0.4077 - acc: 0.8333 - val_loss: 0.4228 - val_acc: 0.8330\n",
      "Epoch 8/50\n",
      "0s - loss: 0.3989 - acc: 0.8405 - val_loss: 0.4168 - val_acc: 0.8404\n",
      "Epoch 9/50\n",
      "0s - loss: 0.3923 - acc: 0.8432 - val_loss: 0.4183 - val_acc: 0.8396\n",
      "Epoch 10/50\n",
      "0s - loss: 0.3869 - acc: 0.8477 - val_loss: 0.4221 - val_acc: 0.8468\n",
      "Epoch 11/50\n",
      "0s - loss: 0.3825 - acc: 0.8543 - val_loss: 0.4059 - val_acc: 0.8545\n",
      "Epoch 12/50\n",
      "0s - loss: 0.3866 - acc: 0.8558 - val_loss: 0.4047 - val_acc: 0.8527\n",
      "Epoch 13/50\n",
      "0s - loss: 0.3723 - acc: 0.8579 - val_loss: 0.4145 - val_acc: 0.8517\n",
      "Epoch 14/50\n",
      "0s - loss: 0.3722 - acc: 0.8612 - val_loss: 0.4026 - val_acc: 0.8582\n",
      "Epoch 15/50\n",
      "0s - loss: 0.3679 - acc: 0.8613 - val_loss: 0.3946 - val_acc: 0.8574\n",
      "Epoch 16/50\n",
      "0s - loss: 0.3683 - acc: 0.8635 - val_loss: 0.3970 - val_acc: 0.8625\n",
      "Epoch 17/50\n",
      "0s - loss: 0.3680 - acc: 0.8651 - val_loss: 0.3909 - val_acc: 0.8613\n",
      "Epoch 18/50\n",
      "0s - loss: 0.3678 - acc: 0.8652 - val_loss: 0.3893 - val_acc: 0.8646\n",
      "Epoch 19/50\n",
      "0s - loss: 0.3663 - acc: 0.8668 - val_loss: 0.3968 - val_acc: 0.8617\n",
      "Epoch 20/50\n",
      "0s - loss: 0.3614 - acc: 0.8668 - val_loss: 0.3885 - val_acc: 0.8615\n",
      "Epoch 21/50\n",
      "0s - loss: 0.3567 - acc: 0.8672 - val_loss: 0.3903 - val_acc: 0.8636\n",
      "Epoch 22/50\n",
      "0s - loss: 0.3567 - acc: 0.8694 - val_loss: 0.3988 - val_acc: 0.8593\n",
      "Epoch 23/50\n",
      "0s - loss: 0.3562 - acc: 0.8680 - val_loss: 0.3962 - val_acc: 0.8607\n",
      "Epoch 24/50\n",
      "0s - loss: 0.3532 - acc: 0.8693 - val_loss: 0.3894 - val_acc: 0.8658\n",
      "Epoch 25/50\n",
      "0s - loss: 0.3670 - acc: 0.8660 - val_loss: 0.3701 - val_acc: 0.8597\n",
      "Epoch 26/50\n",
      "0s - loss: 0.3511 - acc: 0.8693 - val_loss: 0.3764 - val_acc: 0.8654\n",
      "Epoch 27/50\n",
      "0s - loss: 0.3596 - acc: 0.8692 - val_loss: 0.3906 - val_acc: 0.8619\n",
      "Epoch 28/50\n",
      "0s - loss: 0.3565 - acc: 0.8682 - val_loss: 0.3905 - val_acc: 0.8627\n",
      "Epoch 29/50\n",
      "0s - loss: 0.3499 - acc: 0.8685 - val_loss: 0.3862 - val_acc: 0.8640\n",
      "Epoch 30/50\n",
      "0s - loss: 0.3459 - acc: 0.8694 - val_loss: 0.3850 - val_acc: 0.8644\n",
      "Epoch 31/50\n",
      "0s - loss: 0.3464 - acc: 0.8705 - val_loss: 0.3829 - val_acc: 0.8683\n"
     ]
    },
    {
     "data": {
      "text/plain": [
       "<keras.callbacks.History at 0x7f88e536a198>"
      ]
     },
     "execution_count": 125,
     "metadata": {},
     "output_type": "execute_result"
    }
   ],
   "source": [
    "m_pwm_init.fit(train[0], train[1], epochs=50, validation_data=valid, \n",
    "                verbose=2,\n",
    "                callbacks=[EarlyStopping(patience=5)])"
   ]
  },
  {
   "cell_type": "markdown",
   "metadata": {},
   "source": [
    "### Test-set performance"
   ]
  },
  {
   "cell_type": "code",
   "execution_count": 126,
   "metadata": {
    "collapsed": true
   },
   "outputs": [],
   "source": [
    "import concise.eval_metrics as cem"
   ]
  },
  {
   "cell_type": "code",
   "execution_count": 131,
   "metadata": {
    "collapsed": false
   },
   "outputs": [
    {
     "name": "stdout",
     "output_type": "stream",
     "text": [
      "Random intiailzation auPR: 0.545485934968\n",
      "Known PWM initialization auPR: 0.713402165756\n"
     ]
    }
   ],
   "source": [
    "# performance on the test-set\n",
    "# Random initialization\n",
    "print(\"Random intiailzation auPR:\", cem.auprc(test[1], m_rand_init.predict(test[0])))\n",
    "# PWM initialization\n",
    "print(\"Known PWM initialization auPR:\", cem.auprc(test[1], m_pwm_init.predict(test[0])))"
   ]
  },
  {
   "cell_type": "markdown",
   "metadata": {},
   "source": [
    "### Filter visualization"
   ]
  },
  {
   "cell_type": "code",
   "execution_count": 128,
   "metadata": {
    "collapsed": false
   },
   "outputs": [
    {
     "name": "stdout",
     "output_type": "stream",
     "text": [
      "filter index: 0\n"
     ]
    },
    {
     "data": {
      "image/png": "[encoded data removed]",
      "text/plain": [
       "<matplotlib.figure.Figure at 0x7f88e5776828>"
      ]
     },
     "metadata": {},
     "output_type": "display_data"
    },
    {
     "name": "stdout",
     "output_type": "stream",
     "text": [
      "filter index: 1\n"
     ]
    },
    {
     "data": {
      "image/png": "[encoded data removed]",
      "text/plain": [
       "<matplotlib.figure.Figure at 0x7f88e5bef278>"
      ]
     },
     "metadata": {},
     "output_type": "display_data"
    },
    {
     "name": "stdout",
     "output_type": "stream",
     "text": [
      "filter index: 2\n"
     ]
    },
    {
     "data": {
      "image/png": "[encoded data removed]",
      "text/plain": [
       "<matplotlib.figure.Figure at 0x7f891058de10>"
      ]
     },
     "metadata": {},
     "output_type": "display_data"
    }
   ],
   "source": [
    "m_rand_init.get_layer(\"conv1\").plot_weights(plot_type=\"motif_pwm_info\", figsize=(3, 1.2))"
   ]
  },
  {
   "cell_type": "code",
   "execution_count": 129,
   "metadata": {
    "collapsed": false
   },
   "outputs": [
    {
     "name": "stdout",
     "output_type": "stream",
     "text": [
      "filter index: 0\n"
     ]
    },
    {
     "data": {
      "image/png": "[encoded data removed]",
      "text/plain": [
       "<matplotlib.figure.Figure at 0x7f88e5299ba8>"
      ]
     },
     "metadata": {},
     "output_type": "display_data"
    },
    {
     "name": "stdout",
     "output_type": "stream",
     "text": [
      "filter index: 1\n"
     ]
    },
    {
     "data": {
      "image/png": "[encoded data removed]",
      "text/plain": [
       "<matplotlib.figure.Figure at 0x7f891923e7b8>"
      ]
     },
     "metadata": {},
     "output_type": "display_data"
    },
    {
     "name": "stdout",
     "output_type": "stream",
     "text": [
      "filter index: 2\n"
     ]
    },
    {
     "data": {
      "image/png": "[encoded data removed]",
      "text/plain": [
       "<matplotlib.figure.Figure at 0x7f88e4bb0a20>"
      ]
     },
     "metadata": {},
     "output_type": "display_data"
    }
   ],
   "source": [
    "m_pwm_init.get_layer(\"conv1\").plot_weights(plot_type=\"motif_pwm_info\", figsize=(3, 1.2))"
   ]
  },
  {
   "cell_type": "markdown",
   "metadata": {},
   "source": [
    "## Benefits of motif initialization\n",
    "\n",
    "- Interpretatbility\n",
    "  - we can use fewer filters and know that the major effect will be captured by the first filters\n",
    "    - important when the effect of filters in some context (or interaction with other motifs)\n",
    "- Better predictive performance & more stable training"
   ]
  },
  {
   "cell_type": "code",
   "execution_count": null,
   "metadata": {
    "collapsed": true
   },
   "outputs": [],
   "source": []
  }
 ],
 "metadata": {
  "anaconda-cloud": {},
  "kernelspec": {
   "display_name": "Python [default]",
   "language": "python",
   "name": "python3"
  },
  "language_info": {
   "codemirror_mode": {
    "name": "ipython",
    "version": 3
   },
   "file_extension": ".py",
   "mimetype": "text/x-python",
   "name": "python",
   "nbconvert_exporter": "python",
   "pygments_lexer": "ipython3",
   "version": "3.5.2"
  }
 },
 "nbformat": 4,
 "nbformat_minor": 2
}
