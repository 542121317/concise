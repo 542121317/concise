{
 "cells": [
  {
   "cell_type": "markdown",
   "metadata": {},
   "source": [
    "# Getting started with concise\n",
    "\n",
    "## Become familiar with Keras\n",
    "\n",
    "In order to successfully use concise, please make sure you are familiar with keras. I strongly advise everyone to read the excellent [keras documentation](http://keras.io) first.\n",
    "\n",
    "Being a keras extension, concise namely tightly follows the keras API.\n",
    "\n",
    "## DeepBind model in concise\n",
    "\n",
    "DeepBind model is extremely straightforward.\n",
    "\n",
    "It's main architecture:\n",
    "\n",
    "- conv\n",
    "- maxpool\n",
    "- dense\n",
    "- dense\n",
    "\n",
    "can be expressed in concise in the following way. Note that I prefer to use the functional API of keras.\n"
   ]
  },
  {
   "cell_type": "code",
   "execution_count": 1,
   "metadata": {
    "collapsed": true
   },
   "outputs": [],
   "source": [
    "%matplotlib inline\n",
    "import matplotlib.pyplot as plt"
   ]
  },
  {
   "cell_type": "code",
   "execution_count": 2,
   "metadata": {
    "collapsed": false
   },
   "outputs": [
    {
     "name": "stderr",
     "output_type": "stream",
     "text": [
      "Using TensorFlow backend.\n"
     ]
    }
   ],
   "source": [
    "import concise.layers as cl\n",
    "import keras.layers as kl\n",
    "from concise.preprocessing import encodeDNA\n",
    "from keras.models import Model, load_model"
   ]
  },
  {
   "cell_type": "code",
   "execution_count": null,
   "metadata": {
    "collapsed": true
   },
   "outputs": [],
   "source": [
    "# get the data\n",
    "seq_list = read_fasta - TODO\n",
    "seq_list[:5]\n",
    "y = ...as_matrix()\n",
    "\n",
    "# encode sequences as one-hot encoded arrays\n",
    "x_seq = encodeDNA(seq_list)"
   ]
  },
  {
   "cell_type": "code",
   "execution_count": 27,
   "metadata": {
    "collapsed": false
   },
   "outputs": [
    {
     "ename": "NameError",
     "evalue": "name 'x_seq' is not defined",
     "output_type": "error",
     "traceback": [
      "\u001b[0;31m---------------------------------------------------------------------------\u001b[0m",
      "\u001b[0;31mNameError\u001b[0m                                 Traceback (most recent call last)",
      "\u001b[0;32m<ipython-input-27-adce30cc64e7>\u001b[0m in \u001b[0;36m<module>\u001b[0;34m()\u001b[0m\n\u001b[1;32m     10\u001b[0m \u001b[0;34m\u001b[0m\u001b[0m\n\u001b[1;32m     11\u001b[0m \u001b[0;31m# train the model\u001b[0m\u001b[0;34m\u001b[0m\u001b[0;34m\u001b[0m\u001b[0m\n\u001b[0;32m---> 12\u001b[0;31m \u001b[0mm\u001b[0m\u001b[0;34m.\u001b[0m\u001b[0mfit\u001b[0m\u001b[0;34m(\u001b[0m\u001b[0mx_seq\u001b[0m\u001b[0;34m,\u001b[0m \u001b[0my\u001b[0m\u001b[0;34m,\u001b[0m \u001b[0mepochs\u001b[0m\u001b[0;34m=\u001b[0m\u001b[0;36m3\u001b[0m\u001b[0;34m)\u001b[0m\u001b[0;34m\u001b[0m\u001b[0m\n\u001b[0m\u001b[1;32m     13\u001b[0m \u001b[0;34m\u001b[0m\u001b[0m\n\u001b[1;32m     14\u001b[0m \u001b[0;31m# save the model\u001b[0m\u001b[0;34m\u001b[0m\u001b[0;34m\u001b[0m\u001b[0m\n",
      "\u001b[0;31mNameError\u001b[0m: name 'x_seq' is not defined"
     ]
    }
   ],
   "source": [
    "# specify the model\n",
    "in_dna = cl.InputDNA(seq_length=100, name=\"seq\")\n",
    "x = cl.ConvDNA(filters=15, kernel_size=12, activation=\"relu\")(in_dna)\n",
    "x = kl.MaxPool1D(pool_size=4)(x) # TODO - check\n",
    "x = kl.Flatten()(x)\n",
    "x = kl.Dense(100, activation=\"relu\")(x)\n",
    "out = kl.Dense(1, activation=\"sigmoid\")(x)\n",
    "m = Model(in_dna, out)\n",
    "m.compile(\"adam\", loss=\"binary_crossentropy\", metrics=[\"acc\"])\n",
    "\n",
    "# train the model\n",
    "m.fit(x_seq, y, epochs=3)\n",
    "\n",
    "# save the model\n",
    "m.save(\"/tmp/model.h5\")\n",
    "\n",
    "# load the model\n",
    "m2 = load_model(m)\n",
    "\n",
    "# visualize the filters\n",
    "m2.layers[1].plot_weights()\n",
    "\n",
    "m2.layers[1].plot_weights(\"pwm_info\")"
   ]
  },
  {
   "cell_type": "markdown",
   "metadata": {},
   "source": [
    "## Initializing filters on known motifs\n",
    "\n",
    "In the scenario where data is scarse, it is often useful to initialize the filters to some known position weights matrices (PWM's). That way, the model already starts with a parameter configuration much closes to the 'right' solution.\n",
    "\n",
    "Concise provides access to (TODO how many) transcription factor PWM's from ENCODE and rna-binding proteins PWM's from ATtrACT (1000 - TODO - show numbers).\n",
    "\n",
    "### Find the motif of interest"
   ]
  },
  {
   "cell_type": "code",
   "execution_count": 3,
   "metadata": {
    "collapsed": false
   },
   "outputs": [
    {
     "data": {
      "text/html": [
       "<div>\n",
       "<table border=\"1\" class=\"dataframe\">\n",
       "  <thead>\n",
       "    <tr style=\"text-align: right;\">\n",
       "      <th></th>\n",
       "      <th>PWM_id</th>\n",
       "      <th>Gene_name</th>\n",
       "      <th>Gene_id</th>\n",
       "      <th>Mutated</th>\n",
       "      <th>Organism</th>\n",
       "      <th>Motif</th>\n",
       "      <th>Len</th>\n",
       "      <th>Experiment_description</th>\n",
       "      <th>Database</th>\n",
       "      <th>Pubmed</th>\n",
       "      <th>Experiment_description.1</th>\n",
       "      <th>Family</th>\n",
       "      <th>Score</th>\n",
       "    </tr>\n",
       "  </thead>\n",
       "  <tbody>\n",
       "    <tr>\n",
       "      <th>0</th>\n",
       "      <td>519</td>\n",
       "      <td>3IVK</td>\n",
       "      <td>3IVK</td>\n",
       "      <td>no</td>\n",
       "      <td>Mus_musculus</td>\n",
       "      <td>GAAACA</td>\n",
       "      <td>6</td>\n",
       "      <td>X-RAY DIFFRACTION</td>\n",
       "      <td>PDB</td>\n",
       "      <td>19965478</td>\n",
       "      <td>X-RAY DIFFRACTION</td>\n",
       "      <td>NaN</td>\n",
       "      <td>1.000000**</td>\n",
       "    </tr>\n",
       "    <tr>\n",
       "      <th>1</th>\n",
       "      <td>574</td>\n",
       "      <td>3IVK</td>\n",
       "      <td>3IVK</td>\n",
       "      <td>no</td>\n",
       "      <td>Mus_musculus</td>\n",
       "      <td>UGGG</td>\n",
       "      <td>4</td>\n",
       "      <td>X-RAY DIFFRACTION</td>\n",
       "      <td>PDB</td>\n",
       "      <td>19965478</td>\n",
       "      <td>X-RAY DIFFRACTION</td>\n",
       "      <td>NaN</td>\n",
       "      <td>1.000000**</td>\n",
       "    </tr>\n",
       "    <tr>\n",
       "      <th>2</th>\n",
       "      <td>464</td>\n",
       "      <td>4KZD</td>\n",
       "      <td>4KZD</td>\n",
       "      <td>no</td>\n",
       "      <td>Mus_musculus</td>\n",
       "      <td>GAAAC</td>\n",
       "      <td>5</td>\n",
       "      <td>X-RAY DIFFRACTION</td>\n",
       "      <td>PDB</td>\n",
       "      <td>24952597</td>\n",
       "      <td>X-RAY DIFFRACTION</td>\n",
       "      <td>NaN</td>\n",
       "      <td>1.000000**</td>\n",
       "    </tr>\n",
       "    <tr>\n",
       "      <th>...</th>\n",
       "      <td>...</td>\n",
       "      <td>...</td>\n",
       "      <td>...</td>\n",
       "      <td>...</td>\n",
       "      <td>...</td>\n",
       "      <td>...</td>\n",
       "      <td>...</td>\n",
       "      <td>...</td>\n",
       "      <td>...</td>\n",
       "      <td>...</td>\n",
       "      <td>...</td>\n",
       "      <td>...</td>\n",
       "      <td>...</td>\n",
       "    </tr>\n",
       "    <tr>\n",
       "      <th>4879</th>\n",
       "      <td>1396</td>\n",
       "      <td>HNRNPAB</td>\n",
       "      <td>ENSG00000197451</td>\n",
       "      <td>no</td>\n",
       "      <td>Homo_sapiens</td>\n",
       "      <td>AUAGCA</td>\n",
       "      <td>6</td>\n",
       "      <td>In vitro splicing assays</td>\n",
       "      <td>AEDB</td>\n",
       "      <td>12426391</td>\n",
       "      <td>other</td>\n",
       "      <td>RRM</td>\n",
       "      <td>1.000000**</td>\n",
       "    </tr>\n",
       "    <tr>\n",
       "      <th>4880</th>\n",
       "      <td>1397</td>\n",
       "      <td>HNRNPA1</td>\n",
       "      <td>ENSG00000135486</td>\n",
       "      <td>no</td>\n",
       "      <td>Homo_sapiens</td>\n",
       "      <td>UAGG</td>\n",
       "      <td>4</td>\n",
       "      <td>Immunoprecipitation;U...</td>\n",
       "      <td>AEDB</td>\n",
       "      <td>15506926</td>\n",
       "      <td>UV cross-linking</td>\n",
       "      <td>RRM</td>\n",
       "      <td>1.000000**</td>\n",
       "    </tr>\n",
       "    <tr>\n",
       "      <th>4881</th>\n",
       "      <td>1398</td>\n",
       "      <td>PTBP1</td>\n",
       "      <td>ENSG00000011304</td>\n",
       "      <td>no</td>\n",
       "      <td>Homo_sapiens</td>\n",
       "      <td>UUCUUC</td>\n",
       "      <td>6</td>\n",
       "      <td>In vivo splicing assa...</td>\n",
       "      <td>AEDB</td>\n",
       "      <td>14966131</td>\n",
       "      <td>UV cross-linking</td>\n",
       "      <td>RRM</td>\n",
       "      <td>1.000000**</td>\n",
       "    </tr>\n",
       "  </tbody>\n",
       "</table>\n",
       "<p>4882 rows × 13 columns</p>\n",
       "</div>"
      ],
      "text/plain": [
       "     PWM_id Gene_name          Gene_id Mutated      Organism   Motif  Len  \\\n",
       "0       519      3IVK             3IVK      no  Mus_musculus  GAAACA    6   \n",
       "1       574      3IVK             3IVK      no  Mus_musculus    UGGG    4   \n",
       "2       464      4KZD             4KZD      no  Mus_musculus   GAAAC    5   \n",
       "...     ...       ...              ...     ...           ...     ...  ...   \n",
       "4879   1396   HNRNPAB  ENSG00000197451      no  Homo_sapiens  AUAGCA    6   \n",
       "4880   1397   HNRNPA1  ENSG00000135486      no  Homo_sapiens    UAGG    4   \n",
       "4881   1398     PTBP1  ENSG00000011304      no  Homo_sapiens  UUCUUC    6   \n",
       "\n",
       "        Experiment_description Database    Pubmed Experiment_description.1 Family       Score  \n",
       "0            X-RAY DIFFRACTION      PDB  19965478        X-RAY DIFFRACTION    NaN  1.000000**  \n",
       "1            X-RAY DIFFRACTION      PDB  19965478        X-RAY DIFFRACTION    NaN  1.000000**  \n",
       "2            X-RAY DIFFRACTION      PDB  24952597        X-RAY DIFFRACTION    NaN  1.000000**  \n",
       "...                        ...      ...       ...                      ...    ...         ...  \n",
       "4879  In vitro splicing assays     AEDB  12426391                    other    RRM  1.000000**  \n",
       "4880  Immunoprecipitation;U...     AEDB  15506926         UV cross-linking    RRM  1.000000**  \n",
       "4881  In vivo splicing assa...     AEDB  14966131         UV cross-linking    RRM  1.000000**  \n",
       "\n",
       "[4882 rows x 13 columns]"
      ]
     },
     "execution_count": 3,
     "metadata": {},
     "output_type": "execute_result"
    }
   ],
   "source": [
    "from concise.data import attract\n",
    "\n",
    "dfa = attract.get_metadata()\n",
    "dfa"
   ]
  },
  {
   "cell_type": "markdown",
   "metadata": {},
   "source": [
    "Let's choose a PWMs of the following transcription factors:"
   ]
  },
  {
   "cell_type": "code",
   "execution_count": 4,
   "metadata": {
    "collapsed": false
   },
   "outputs": [
    {
     "data": {
      "text/html": [
       "<div>\n",
       "<table border=\"1\" class=\"dataframe\">\n",
       "  <thead>\n",
       "    <tr style=\"text-align: right;\">\n",
       "      <th></th>\n",
       "      <th>motif_name</th>\n",
       "      <th>consensus</th>\n",
       "    </tr>\n",
       "  </thead>\n",
       "  <tbody>\n",
       "    <tr>\n",
       "      <th>0</th>\n",
       "      <td>AFP_1</td>\n",
       "      <td>ATTAACTACAC</td>\n",
       "    </tr>\n",
       "    <tr>\n",
       "      <th>1</th>\n",
       "      <td>AHR::ARNT::HIF1A_1</td>\n",
       "      <td>TGCGTGCGG</td>\n",
       "    </tr>\n",
       "    <tr>\n",
       "      <th>2</th>\n",
       "      <td>AHR::ARNT_1</td>\n",
       "      <td>TAAGGGTTGCGTGCCC</td>\n",
       "    </tr>\n",
       "    <tr>\n",
       "      <th>...</th>\n",
       "      <td>...</td>\n",
       "      <td>...</td>\n",
       "    </tr>\n",
       "    <tr>\n",
       "      <th>2064</th>\n",
       "      <td>ZSCAN4_3</td>\n",
       "      <td>TGCACACACTGAAAA</td>\n",
       "    </tr>\n",
       "    <tr>\n",
       "      <th>2065</th>\n",
       "      <td>fake_AACGSSAA</td>\n",
       "      <td>AACGCCAA</td>\n",
       "    </tr>\n",
       "    <tr>\n",
       "      <th>2066</th>\n",
       "      <td>fake_AAGCSSAA</td>\n",
       "      <td>AAGCCCAA</td>\n",
       "    </tr>\n",
       "  </tbody>\n",
       "</table>\n",
       "<p>2067 rows × 2 columns</p>\n",
       "</div>"
      ],
      "text/plain": [
       "              motif_name         consensus\n",
       "0                  AFP_1       ATTAACTACAC\n",
       "1     AHR::ARNT::HIF1A_1         TGCGTGCGG\n",
       "2            AHR::ARNT_1  TAAGGGTTGCGTGCCC\n",
       "...                  ...               ...\n",
       "2064            ZSCAN4_3   TGCACACACTGAAAA\n",
       "2065       fake_AACGSSAA          AACGCCAA\n",
       "2066       fake_AAGCSSAA          AAGCCCAA\n",
       "\n",
       "[2067 rows x 2 columns]"
      ]
     },
     "execution_count": 4,
     "metadata": {},
     "output_type": "execute_result"
    }
   ],
   "source": [
    "from concise.data import encode\n",
    "\n",
    "dfe = encode.get_metadata()\n",
    "dfe"
   ]
  },
  {
   "cell_type": "code",
   "execution_count": 5,
   "metadata": {
    "collapsed": false
   },
   "outputs": [
    {
     "data": {
      "text/html": [
       "<div>\n",
       "<table border=\"1\" class=\"dataframe\">\n",
       "  <thead>\n",
       "    <tr style=\"text-align: right;\">\n",
       "      <th></th>\n",
       "      <th>motif_name</th>\n",
       "      <th>consensus</th>\n",
       "    </tr>\n",
       "  </thead>\n",
       "  <tbody>\n",
       "    <tr>\n",
       "      <th>558</th>\n",
       "      <td>GATA_disc1</td>\n",
       "      <td>GCAGATAAGG</td>\n",
       "    </tr>\n",
       "    <tr>\n",
       "      <th>559</th>\n",
       "      <td>GATA_disc2</td>\n",
       "      <td>TGACTCACAC</td>\n",
       "    </tr>\n",
       "    <tr>\n",
       "      <th>560</th>\n",
       "      <td>GATA_disc3</td>\n",
       "      <td>TCATTTCCTGC</td>\n",
       "    </tr>\n",
       "    <tr>\n",
       "      <th>...</th>\n",
       "      <td>...</td>\n",
       "      <td>...</td>\n",
       "    </tr>\n",
       "    <tr>\n",
       "      <th>583</th>\n",
       "      <td>GATA_known7</td>\n",
       "      <td>AGATAAGGCCT</td>\n",
       "    </tr>\n",
       "    <tr>\n",
       "      <th>584</th>\n",
       "      <td>GATA_known8</td>\n",
       "      <td>GCAGATAACA</td>\n",
       "    </tr>\n",
       "    <tr>\n",
       "      <th>585</th>\n",
       "      <td>GATA_known9</td>\n",
       "      <td>AAAGATAAGC</td>\n",
       "    </tr>\n",
       "  </tbody>\n",
       "</table>\n",
       "<p>28 rows × 2 columns</p>\n",
       "</div>"
      ],
      "text/plain": [
       "      motif_name    consensus\n",
       "558   GATA_disc1   GCAGATAAGG\n",
       "559   GATA_disc2   TGACTCACAC\n",
       "560   GATA_disc3  TCATTTCCTGC\n",
       "..           ...          ...\n",
       "583  GATA_known7  AGATAAGGCCT\n",
       "584  GATA_known8   GCAGATAACA\n",
       "585  GATA_known9   AAAGATAAGC\n",
       "\n",
       "[28 rows x 2 columns]"
      ]
     },
     "execution_count": 5,
     "metadata": {},
     "output_type": "execute_result"
    }
   ],
   "source": [
    "dfe[dfe.motif_name.str.match(\"GATA\")]"
   ]
  },
  {
   "cell_type": "code",
   "execution_count": 6,
   "metadata": {
    "collapsed": false
   },
   "outputs": [
    {
     "data": {
      "text/html": [
       "<div>\n",
       "<table border=\"1\" class=\"dataframe\">\n",
       "  <thead>\n",
       "    <tr style=\"text-align: right;\">\n",
       "      <th></th>\n",
       "      <th>motif_name</th>\n",
       "      <th>consensus</th>\n",
       "    </tr>\n",
       "  </thead>\n",
       "  <tbody>\n",
       "    <tr>\n",
       "      <th>195</th>\n",
       "      <td>CTCFL_disc1</td>\n",
       "      <td>GCGCCCCCTG</td>\n",
       "    </tr>\n",
       "    <tr>\n",
       "      <th>196</th>\n",
       "      <td>CTCF_disc1</td>\n",
       "      <td>TGCAATAGTGCCATCTAGTGGT</td>\n",
       "    </tr>\n",
       "    <tr>\n",
       "      <th>197</th>\n",
       "      <td>CTCF_disc10</td>\n",
       "      <td>ACCTGCAGG</td>\n",
       "    </tr>\n",
       "    <tr>\n",
       "      <th>...</th>\n",
       "      <td>...</td>\n",
       "      <td>...</td>\n",
       "    </tr>\n",
       "    <tr>\n",
       "      <th>205</th>\n",
       "      <td>CTCF_disc9</td>\n",
       "      <td>GCCCACTAGAGGGCAC</td>\n",
       "    </tr>\n",
       "    <tr>\n",
       "      <th>206</th>\n",
       "      <td>CTCF_known1</td>\n",
       "      <td>TGGCCACCAGGGGGCGCTA</td>\n",
       "    </tr>\n",
       "    <tr>\n",
       "      <th>207</th>\n",
       "      <td>CTCF_known2</td>\n",
       "      <td>AGCGCCACCTAGTGGTA</td>\n",
       "    </tr>\n",
       "  </tbody>\n",
       "</table>\n",
       "<p>13 rows × 2 columns</p>\n",
       "</div>"
      ],
      "text/plain": [
       "      motif_name               consensus\n",
       "195  CTCFL_disc1              GCGCCCCCTG\n",
       "196   CTCF_disc1  TGCAATAGTGCCATCTAGTGGT\n",
       "197  CTCF_disc10               ACCTGCAGG\n",
       "..           ...                     ...\n",
       "205   CTCF_disc9        GCCCACTAGAGGGCAC\n",
       "206  CTCF_known1     TGGCCACCAGGGGGCGCTA\n",
       "207  CTCF_known2       AGCGCCACCTAGTGGTA\n",
       "\n",
       "[13 rows x 2 columns]"
      ]
     },
     "execution_count": 6,
     "metadata": {},
     "output_type": "execute_result"
    }
   ],
   "source": [
    "dfe[dfe.motif_name.str.match(\"CTCF\")]"
   ]
  },
  {
   "cell_type": "code",
   "execution_count": 7,
   "metadata": {
    "collapsed": false
   },
   "outputs": [
    {
     "data": {
      "image/png": "[encoded data removed]",
      "text/plain": [
       "<matplotlib.figure.Figure at 0x7f1a4e905438>"
      ]
     },
     "metadata": {},
     "output_type": "display_data"
    },
    {
     "data": {
      "image/png": "[encoded data removed]",
      "text/plain": [
       "<matplotlib.figure.Figure at 0x7f1a4ceb12e8>"
      ]
     },
     "metadata": {},
     "output_type": "display_data"
    }
   ],
   "source": [
    "from concise.utils.pwm import PWM\n",
    "pwm_list = encode.get_pwm_list([\"GATA_disc1\", \"CTCF_disc10\"])\n",
    "for pwm in pwm_list:\n",
    "    pwm.plotPWM(figsize=(5,1))"
   ]
  },
  {
   "cell_type": "markdown",
   "metadata": {},
   "source": [
    "### Initialize the model with the motif"
   ]
  },
  {
   "cell_type": "code",
   "execution_count": 8,
   "metadata": {
    "collapsed": false
   },
   "outputs": [],
   "source": [
    "import concise.initializers as ci\n",
    "in_dna = cl.InputDNA(seq_length=100, name=\"seq\")\n",
    "x = cl.ConvDNA(filters=15, \n",
    "               kernel_size=12, \n",
    "               kernel_initializer=ci.PSSMKernelInitializer(pwm_list),\n",
    "               bias_initializer=ci.PSSMBiasInitializer(pwm_list),\n",
    "               activation=\"relu\")(in_dna)\n",
    "x = kl.MaxPool1D(pool_size=4)(x)\n",
    "x = kl.Flatten()(x)\n",
    "x = kl.Dense(100, activation=\"relu\")(x)\n",
    "out = kl.Dense(1, activation=\"sigmoid\")(x)\n",
    "m = Model(in_dna, out)\n",
    "m.compile(\"adam\", loss=\"binary_crossentropy\", metrics=[\"acc\"])"
   ]
  },
  {
   "cell_type": "markdown",
   "metadata": {},
   "source": [
    "This will set the filters of the first convolutional layer to the values of the position-specific scoring matrix (PSSM):\n",
    "\n",
    "$$ pssm_{ij} = log \\frac{pwm_{ij}}{b_j} \\;,$$\n",
    "\n",
    "where $b_j$ is the background probability of observing base $j$.\n",
    "\n",
    "We add gaussian noise to each individual filter. Let's visualize the filters:"
   ]
  },
  {
   "cell_type": "code",
   "execution_count": 13,
   "metadata": {
    "collapsed": false
   },
   "outputs": [
    {
     "name": "stdout",
     "output_type": "stream",
     "text": [
      "filter index: 1\n"
     ]
    },
    {
     "data": {
      "image/png": "[encoded data removed]",
      "text/plain": [
       "<matplotlib.figure.Figure at 0x7f1a44d33240>"
      ]
     },
     "metadata": {},
     "output_type": "display_data"
    },
    {
     "name": "stdout",
     "output_type": "stream",
     "text": [
      "filter index: 2\n"
     ]
    },
    {
     "data": {
      "image/png": "[encoded data removed]",
      "text/plain": [
       "<matplotlib.figure.Figure at 0x7f1a44fbc4e0>"
      ]
     },
     "metadata": {},
     "output_type": "display_data"
    },
    {
     "name": "stdout",
     "output_type": "stream",
     "text": [
      "filter index: 3\n"
     ]
    },
    {
     "data": {
      "image/png": "[encoded data removed]",
      "text/plain": [
       "<matplotlib.figure.Figure at 0x7f1a4d2f25c0>"
      ]
     },
     "metadata": {},
     "output_type": "display_data"
    },
    {
     "name": "stdout",
     "output_type": "stream",
     "text": [
      "filter index: 4\n"
     ]
    },
    {
     "data": {
      "image/png": "[encoded data removed]",
      "text/plain": [
       "<matplotlib.figure.Figure at 0x7f1a454649e8>"
      ]
     },
     "metadata": {},
     "output_type": "display_data"
    }
   ],
   "source": [
    "m.layers[1].plot_weights([1,2,3,4],figsize=(3,0.8))"
   ]
  },
  {
   "cell_type": "code",
   "execution_count": null,
   "metadata": {
    "collapsed": true
   },
   "outputs": [],
   "source": []
  }
 ],
 "metadata": {
  "kernelspec": {
   "display_name": "Python 3",
   "language": "python",
   "name": "python3"
  },
  "language_info": {
   "codemirror_mode": {
    "name": "ipython",
    "version": 3
   },
   "file_extension": ".py",
   "mimetype": "text/x-python",
   "name": "python",
   "nbconvert_exporter": "python",
   "pygments_lexer": "ipython3",
   "version": "3.5.2"
  }
 },
 "nbformat": 4,
 "nbformat_minor": 0
}
