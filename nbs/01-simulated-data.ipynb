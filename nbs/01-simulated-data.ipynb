{
 "cells": [
  {
   "cell_type": "markdown",
   "metadata": {},
   "source": [
    "## Concise"
   ]
  },
  {
   "cell_type": "markdown",
   "metadata": {},
   "source": [
    "Concise extends keras (https://keras.io) by providing additional layers, intializers, regularizers, metrics and preprocessors, suited for modelling genomic cis-regulatory elements."
   ]
  },
  {
   "cell_type": "code",
   "execution_count": 35,
   "metadata": {
    "collapsed": false
   },
   "outputs": [
    {
     "data": {
      "text/plain": [
       "<function concise.preprocessing.smooth.encodeSplines>"
      ]
     },
     "execution_count": 35,
     "metadata": {},
     "output_type": "execute_result"
    }
   ],
   "source": [
    "## Concise extensions of keras:\n",
    "\n",
    "import concise\n",
    "import concise.layers as cl\n",
    "import concise.initializers as ci\n",
    "import concise.regularizers as cr\n",
    "import concise.metrics as cm\n",
    "from concise.preprocessing import encodeDNA, encodeSplines\n",
    "\n",
    "## layers:\n",
    "cl.ConvDNA\n",
    "cl.ConvDNAQuantitySplines\n",
    "cr.GAMRegularizer\n",
    "cl.GAMSmooth\n",
    "cl.GlobalSumPooling1D\n",
    "cl.InputDNA\n",
    "cl.InputDNAQuantity\n",
    "cl.InputDNAQuantitySplines\n",
    "\n",
    "## initializers:\n",
    "ci.PWMKernelInitializer\n",
    "ci.PWMBiasInitializer\n",
    "\n",
    "## regularizers\n",
    "cr.GAMRegularizer\n",
    "\n",
    "## metrics\n",
    "cm.var_explained\n",
    "\n",
    "## Preprocessing\n",
    "encodeDNA\n",
    "encodeSplines"
   ]
  },
  {
   "cell_type": "markdown",
   "metadata": {},
   "source": [
    "It also implements a PWM class, used by PWM*Initializers"
   ]
  },
  {
   "cell_type": "code",
   "execution_count": 36,
   "metadata": {
    "collapsed": false
   },
   "outputs": [
    {
     "data": {
      "text/plain": [
       "concise.utils.PWM"
      ]
     },
     "execution_count": 36,
     "metadata": {},
     "output_type": "execute_result"
    }
   ],
   "source": [
    "from concise.utils import PWM\n",
    "\n",
    "PWM"
   ]
  },
  {
   "cell_type": "markdown",
   "metadata": {},
   "source": [
    "## Simulated data case study"
   ]
  },
  {
   "cell_type": "code",
   "execution_count": 37,
   "metadata": {
    "collapsed": false
   },
   "outputs": [],
   "source": [
    "## See dataset: \n",
    "#%matplotlib notebook\n",
    "%matplotlib inline\n",
    "\n",
    "import matplotlib.pyplot as plt\n",
    "\n",
    "import pandas as pd\n",
    "import numpy as np\n",
    "\n",
    "## required keras modules\n",
    "from keras.models import Model, load_model\n",
    "import keras.layers as kl\n",
    "import keras.optimizers as ko"
   ]
  },
  {
   "cell_type": "markdown",
   "metadata": {},
   "source": [
    "In this notebook, we will replicate the results from [Plositional_effect/Simulation/01_fixed_seq_len.html](https://i12g-gagneurweb.in.tum.de/project/deepcis/#Scripts_Positional_effect_Simulation_01_fixed_seq_len.html) using concise models. Please have a look at that notebook first.\n",
    "\n",
    "\n"
   ]
  },
  {
   "cell_type": "markdown",
   "metadata": {},
   "source": [
    "## Single motif case\n",
    "\n",
    "### Prepare the data"
   ]
  },
  {
   "cell_type": "code",
   "execution_count": 5,
   "metadata": {
    "collapsed": false
   },
   "outputs": [],
   "source": [
    "# Load the data\n",
    "data_dir = \"../data/\"\n",
    "dt = pd.read_csv(data_dir + \"/01-fixed_seq_len-1.csv\")\n",
    "motifs = [\"TTAATGA\"]"
   ]
  },
  {
   "cell_type": "code",
   "execution_count": 6,
   "metadata": {
    "collapsed": false
   },
   "outputs": [
    {
     "data": {
      "text/plain": [
       "<bound method NDFrame.head of             y                       seq\n",
       "0      5.4763  TTCTGGGAGGCGTCCTTACGT...\n",
       "1      0.2309  AAGTATGATCATACGCACCGT...\n",
       "2      6.0881  TATGCAGGATCGAAATACTCT...\n",
       "...       ...                       ...\n",
       "2997   0.2773  GAGGGGTCAGCATGCGTATGA...\n",
       "2998  15.6793  CTACCAAATCCAAACTTCAGC...\n",
       "2999  13.0256  CTGACCATACGTTTCACACCG...\n",
       "\n",
       "[3000 rows x 2 columns]>"
      ]
     },
     "execution_count": 6,
     "metadata": {},
     "output_type": "execute_result"
    }
   ],
   "source": [
    "dt.head"
   ]
  },
  {
   "cell_type": "code",
   "execution_count": 7,
   "metadata": {
    "collapsed": false
   },
   "outputs": [],
   "source": [
    "seq_tensor = encodeDNA(dt[\"seq\"])\n",
    "y = dt.y.as_matrix()\n",
    "## TODO - update back\n",
    "seq_tensor = np.squeeze(seq_tensor, 1)"
   ]
  },
  {
   "cell_type": "code",
   "execution_count": 8,
   "metadata": {
    "collapsed": false
   },
   "outputs": [
    {
     "data": {
      "text/plain": [
       "(3000, 500, 4)"
      ]
     },
     "execution_count": 8,
     "metadata": {},
     "output_type": "execute_result"
    }
   ],
   "source": [
    "seq_tensor.shape # (n_samples, seq_length, n_bases)"
   ]
  },
  {
   "cell_type": "markdown",
   "metadata": {},
   "source": [
    "### Build the model\n",
    "\n",
    "Concise is a thin wrapper around keras. To know more about keras, read the documentation: https://keras.io/.\n",
    "\n",
    "In this tutorial, I'll be using the functional API of keras: https://keras.io/getting-started/functional-api-guide/. Feel free to use Concise with the sequential models."
   ]
  },
  {
   "cell_type": "code",
   "execution_count": 9,
   "metadata": {
    "collapsed": false
   },
   "outputs": [
    {
     "data": {
      "text/plain": [
       "[PWM(name: None, consensus: TTAATGA)]"
      ]
     },
     "execution_count": 9,
     "metadata": {},
     "output_type": "execute_result"
    }
   ],
   "source": [
    "## Parameters\n",
    "seq_length = seq_tensor.shape[1]\n",
    "## Motifs used to initialize the model\n",
    "pwm_list = [PWM.from_consensus(motif) for motif in motifs]\n",
    "motif_width = 7\n",
    "pwm_list"
   ]
  },
  {
   "cell_type": "code",
   "execution_count": 10,
   "metadata": {
    "collapsed": false
   },
   "outputs": [],
   "source": [
    "np.random.seed(42)\n",
    "\n",
    "# specify the input shape\n",
    "input_dna = cl.InputDNA(seq_length)\n",
    "\n",
    "# convolutional layer with filters initialized on a PWM\n",
    "x = cl.ConvDNA(filters=1, \n",
    "               kernel_size=motif_width, ## motif width\n",
    "               activation=\"relu\", \n",
    "               kernel_initializer=ci.PWMKernelInitializer(pwm_list),\n",
    "               bias_initializer=ci.PWMBiasInitializer(pwm_list,kernel_size=motif_width, mean_max_scale=1)\n",
    "               ## mean_max_scale of 1 means that only consensus sequence gets score larger than 0\n",
    "              )(input_dna)\n",
    "\n",
    "## Smoothing layer - positional-dependent effect\n",
    "x = cl.GAMSmooth(n_bases=10, l2_smooth=1e-3, l2=0)(x)\n",
    "x = cl.GlobalSumPooling1D()(x)\n",
    "x = kl.Dense(units=1,activation=\"linear\")(x)\n",
    "model = Model(inputs=input_dna, outputs=x)\n",
    "\n",
    "# compile the model\n",
    "model.compile(optimizer=\"adam\", loss=\"mse\", metrics=[cm.var_explained])"
   ]
  },
  {
   "cell_type": "markdown",
   "metadata": {},
   "source": [
    "### Train the model"
   ]
  },
  {
   "cell_type": "code",
   "execution_count": 11,
   "metadata": {
    "collapsed": false
   },
   "outputs": [
    {
     "name": "stdout",
     "output_type": "stream",
     "text": [
      "Train on 2400 samples, validate on 600 samples\n",
      "Epoch 1/30\n",
      "0s - loss: 13.4338 - var_explained: 0.0810 - val_loss: 12.7532 - val_var_explained: 0.1765\n",
      "Epoch 2/30\n",
      "0s - loss: 9.4247 - var_explained: 0.3185 - val_loss: 7.6765 - val_var_explained: 0.4527\n",
      "Epoch 3/30\n",
      "0s - loss: 4.9749 - var_explained: 0.5713 - val_loss: 4.4231 - val_var_explained: 0.6337\n",
      "Epoch 4/30\n",
      "0s - loss: 3.6143 - var_explained: 0.6624 - val_loss: 3.8643 - val_var_explained: 0.6773\n",
      "Epoch 5/30\n",
      "0s - loss: 3.3813 - var_explained: 0.6763 - val_loss: 3.6636 - val_var_explained: 0.6943\n",
      "Epoch 6/30\n",
      "0s - loss: 3.2000 - var_explained: 0.6990 - val_loss: 3.4836 - val_var_explained: 0.7090\n",
      "Epoch 7/30\n",
      "0s - loss: 3.0308 - var_explained: 0.7137 - val_loss: 3.3011 - val_var_explained: 0.7242\n",
      "Epoch 8/30\n",
      "0s - loss: 2.8638 - var_explained: 0.7348 - val_loss: 3.1217 - val_var_explained: 0.7391\n",
      "Epoch 9/30\n",
      "0s - loss: 2.7092 - var_explained: 0.7468 - val_loss: 2.9468 - val_var_explained: 0.7537\n",
      "Epoch 10/30\n",
      "0s - loss: 2.5648 - var_explained: 0.7622 - val_loss: 2.8063 - val_var_explained: 0.7651\n",
      "Epoch 11/30\n",
      "0s - loss: 2.4357 - var_explained: 0.7716 - val_loss: 2.6619 - val_var_explained: 0.7770\n",
      "Epoch 12/30\n",
      "0s - loss: 2.3145 - var_explained: 0.7776 - val_loss: 2.5313 - val_var_explained: 0.7878\n",
      "Epoch 13/30\n",
      "0s - loss: 2.2092 - var_explained: 0.7880 - val_loss: 2.4278 - val_var_explained: 0.7963\n",
      "Epoch 14/30\n",
      "0s - loss: 2.1197 - var_explained: 0.7973 - val_loss: 2.3570 - val_var_explained: 0.8026\n",
      "Epoch 15/30\n",
      "0s - loss: 2.0447 - var_explained: 0.8013 - val_loss: 2.2698 - val_var_explained: 0.8096\n",
      "Epoch 16/30\n",
      "0s - loss: 1.9810 - var_explained: 0.8114 - val_loss: 2.1862 - val_var_explained: 0.8162\n",
      "Epoch 17/30\n",
      "0s - loss: 1.9242 - var_explained: 0.8147 - val_loss: 2.1019 - val_var_explained: 0.8225\n",
      "Epoch 18/30\n",
      "0s - loss: 1.8834 - var_explained: 0.8169 - val_loss: 2.0590 - val_var_explained: 0.8261\n",
      "Epoch 19/30\n",
      "0s - loss: 1.8465 - var_explained: 0.8180 - val_loss: 1.9896 - val_var_explained: 0.8311\n",
      "Epoch 20/30\n",
      "0s - loss: 1.8135 - var_explained: 0.8229 - val_loss: 1.9646 - val_var_explained: 0.8332\n",
      "Epoch 21/30\n",
      "0s - loss: 1.7890 - var_explained: 0.8180 - val_loss: 1.9254 - val_var_explained: 0.8361\n",
      "Epoch 22/30\n",
      "0s - loss: 1.7674 - var_explained: 0.8309 - val_loss: 1.9047 - val_var_explained: 0.8378\n",
      "Epoch 23/30\n",
      "0s - loss: 1.7507 - var_explained: 0.8291 - val_loss: 1.8854 - val_var_explained: 0.8394\n",
      "Epoch 24/30\n",
      "0s - loss: 1.7292 - var_explained: 0.8313 - val_loss: 1.8431 - val_var_explained: 0.8423\n",
      "Epoch 25/30\n",
      "0s - loss: 1.7141 - var_explained: 0.8316 - val_loss: 1.8138 - val_var_explained: 0.8443\n",
      "Epoch 26/30\n",
      "0s - loss: 1.6998 - var_explained: 0.8309 - val_loss: 1.7964 - val_var_explained: 0.8456\n",
      "Epoch 27/30\n",
      "0s - loss: 1.6910 - var_explained: 0.8356 - val_loss: 1.7840 - val_var_explained: 0.8465\n",
      "Epoch 28/30\n",
      "0s - loss: 1.6792 - var_explained: 0.8330 - val_loss: 1.7745 - val_var_explained: 0.8473\n",
      "Epoch 29/30\n",
      "0s - loss: 1.6654 - var_explained: 0.8345 - val_loss: 1.7489 - val_var_explained: 0.8490\n",
      "Epoch 30/30\n",
      "0s - loss: 1.6615 - var_explained: 0.8278 - val_loss: 1.7580 - val_var_explained: 0.8487\n"
     ]
    },
    {
     "data": {
      "text/plain": [
       "<keras.callbacks.History at 0x7f894dab6b00>"
      ]
     },
     "execution_count": 11,
     "metadata": {},
     "output_type": "execute_result"
    }
   ],
   "source": [
    "## TODO - create a callback\n",
    "from keras.callbacks import EarlyStopping\n",
    "\n",
    "model.fit(x=seq_tensor, y=y, epochs=30, verbose=2,\n",
    "          callbacks=[EarlyStopping(patience=5)],\n",
    "          validation_split=.2\n",
    "         )"
   ]
  },
  {
   "cell_type": "markdown",
   "metadata": {},
   "source": [
    "### Save and load the model\n",
    "\n",
    "With keras, we can save and load the entire model to the hdf5 file."
   ]
  },
  {
   "cell_type": "code",
   "execution_count": 12,
   "metadata": {
    "collapsed": false
   },
   "outputs": [],
   "source": [
    "model.save(\"/tmp/model.h5\") ## requires h5py pacakge, pip install h5py"
   ]
  },
  {
   "cell_type": "code",
   "execution_count": 13,
   "metadata": {
    "collapsed": false
   },
   "outputs": [
    {
     "name": "stdout",
     "output_type": "stream",
     "text": [
      "-rw-rw-r--. 1 avsec ag_gagneur 23968 Mar 24 19:46 /tmp/model.h5\r\n"
     ]
    }
   ],
   "source": [
    "%ls -la  /tmp/model*"
   ]
  },
  {
   "cell_type": "code",
   "execution_count": 14,
   "metadata": {
    "collapsed": false
   },
   "outputs": [
    {
     "data": {
      "text/plain": [
       "<keras.engine.training.Model at 0x7f89480eed68>"
      ]
     },
     "execution_count": 14,
     "metadata": {},
     "output_type": "execute_result"
    }
   ],
   "source": [
    "model2 = load_model(\"/tmp/model.h5\")\n",
    "model2"
   ]
  },
  {
   "cell_type": "markdown",
   "metadata": {},
   "source": [
    "### Interpret the model\n",
    "\n",
    "#### Predictions"
   ]
  },
  {
   "cell_type": "code",
   "execution_count": 15,
   "metadata": {
    "collapsed": false
   },
   "outputs": [
    {
     "data": {
      "text/plain": [
       "<matplotlib.text.Text at 0x7f8924256c50>"
      ]
     },
     "execution_count": 15,
     "metadata": {},
     "output_type": "execute_result"
    },
    {
     "data": {
      "image/png": "[encoded data removed]",
      "text/plain": [
       "<matplotlib.figure.Figure at 0x7f894da7d4a8>"
      ]
     },
     "metadata": {},
     "output_type": "display_data"
    }
   ],
   "source": [
    "var_expl_history = model.history.history['val_var_explained']\n",
    "plt.plot(var_expl_history)\n",
    "plt.ylabel('Variance explained')\n",
    "plt.xlabel('Epoch')\n",
    "plt.title(\"Loss history\")"
   ]
  },
  {
   "cell_type": "code",
   "execution_count": 16,
   "metadata": {
    "collapsed": false
   },
   "outputs": [
    {
     "data": {
      "text/plain": [
       "<matplotlib.text.Text at 0x7f892428f1d0>"
      ]
     },
     "execution_count": 16,
     "metadata": {},
     "output_type": "execute_result"
    },
    {
     "data": {
      "image/png": "[encoded data removed]",
      "text/plain": [
       "<matplotlib.figure.Figure at 0x7f8924243940>"
      ]
     },
     "metadata": {},
     "output_type": "display_data"
    }
   ],
   "source": [
    "y_pred = model.predict(seq_tensor)\n",
    "plt.scatter(y_pred, y)\n",
    "plt.xlabel(\"Predicted\")\n",
    "plt.ylabel(\"True\")\n",
    "plt.title(\"True vs predicted\")"
   ]
  },
  {
   "cell_type": "markdown",
   "metadata": {},
   "source": [
    "Plot is the same as in the [original motifp report](https://i12g-gagneurweb.in.tum.de/project/deepcis/#Scripts_Positional_effect_Simulation_01_fixed_seq_len.html)."
   ]
  },
  {
   "cell_type": "markdown",
   "metadata": {},
   "source": [
    "#### Weights"
   ]
  },
  {
   "cell_type": "code",
   "execution_count": 17,
   "metadata": {
    "collapsed": false
   },
   "outputs": [
    {
     "data": {
      "text/plain": [
       "[<keras.engine.topology.InputLayer at 0x7f894f7c1710>,\n",
       " <concise.layers.ConvDNA at 0x7f894f7c16d8>,\n",
       " <concise.layers.GAMSmooth at 0x7f89667b9da0>,\n",
       " <concise.layers.GlobalSumPooling1D at 0x7f894f7d6518>,\n",
       " <keras.layers.core.Dense at 0x7f894f7d6b70>]"
      ]
     },
     "execution_count": 17,
     "metadata": {},
     "output_type": "execute_result"
    }
   ],
   "source": [
    "# layers in the model\n",
    "model.layers"
   ]
  },
  {
   "cell_type": "code",
   "execution_count": 18,
   "metadata": {
    "collapsed": false
   },
   "outputs": [
    {
     "data": {
      "text/plain": [
       "<matplotlib.text.Text at 0x7f8924149940>"
      ]
     },
     "execution_count": 18,
     "metadata": {},
     "output_type": "execute_result"
    },
    {
     "data": {
      "image/png": "[encoded data removed]",
      "text/plain": [
       "<matplotlib.figure.Figure at 0x7f892423f6d8>"
      ]
     },
     "metadata": {},
     "output_type": "display_data"
    }
   ],
   "source": [
    "## Convenience functions in layers\n",
    "gam_layer = model.layers[2]\n",
    "gam_layer.plot()\n",
    "plt.title(\"Positional effect\")"
   ]
  },
  {
   "cell_type": "code",
   "execution_count": 19,
   "metadata": {
    "collapsed": false
   },
   "outputs": [
    {
     "data": {
      "text/plain": [
       "<matplotlib.legend.Legend at 0x7f89240df128>"
      ]
     },
     "execution_count": 19,
     "metadata": {},
     "output_type": "execute_result"
    },
    {
     "data": {
      "image/png": "[encoded data removed]",
      "text/plain": [
       "<matplotlib.figure.Figure at 0x7f8924135860>"
      ]
     },
     "metadata": {},
     "output_type": "display_data"
    }
   ],
   "source": [
    "# Compare the curve to the theoretical\n",
    "positions = gam_layer.positional_effect()[\"positions\"]\n",
    "pos_effect = gam_layer.positional_effect()[\"positional_effect\"]\n",
    "\n",
    "from scipy.stats import norm\n",
    "pef = lambda x: 0.3*norm.pdf(x, 0.2, 0.1) + 0.05*np.sin(15*x) + 0.8\n",
    "pos_effect_theoretical = pef(positions / positions.max())\n",
    "\n",
    "# plot\n",
    "plt.plot(positions, pos_effect, label=\"infered\")\n",
    "plt.plot(positions, pos_effect_theoretical, label=\"theoretical\")\n",
    "plt.ylabel('Positional effect')\n",
    "plt.xlabel('Position')\n",
    "plt.title(\"Positional effect\")\n",
    "plt.legend()"
   ]
  },
  {
   "cell_type": "markdown",
   "metadata": {},
   "source": [
    "Qualitatively, the curves are the same, quantitatively, they differ as the scale is modulated by other parameters in the model. Plot is similar to the [original motifp report](https://i12g-gagneurweb.in.tum.de/project/deepcis/#Scripts_Positional_effect_Simulation_01_fixed_seq_len.html)."
   ]
  },
  {
   "cell_type": "markdown",
   "metadata": {},
   "source": [
    "## Model with two motifs"
   ]
  },
  {
   "cell_type": "code",
   "execution_count": 20,
   "metadata": {
    "collapsed": false
   },
   "outputs": [],
   "source": [
    "dt = pd.read_csv(data_dir + \"/01-fixed_seq_len-2.csv\")\n",
    "motifs = [\"TTAATGA\", \"TATTTAT\"]"
   ]
  },
  {
   "cell_type": "code",
   "execution_count": 21,
   "metadata": {
    "collapsed": false
   },
   "outputs": [
    {
     "data": {
      "text/plain": [
       "[PWM(name: None, consensus: TTAATGA), PWM(name: None, consensus: TATTTAT)]"
      ]
     },
     "execution_count": 21,
     "metadata": {},
     "output_type": "execute_result"
    }
   ],
   "source": [
    "## Parameters\n",
    "seq_length = seq_tensor.shape[1]\n",
    "## Motifs used to initialize the model\n",
    "pwm_list = [PWM.from_consensus(motif) for motif in motifs]\n",
    "motif_width = 7\n",
    "pwm_list"
   ]
  },
  {
   "cell_type": "code",
   "execution_count": 22,
   "metadata": {
    "collapsed": false
   },
   "outputs": [],
   "source": [
    "np.random.seed(1)\n",
    "input_dna = cl.InputDNA(seq_length)\n",
    "# convolutional layer with filters initialized on a PWM\n",
    "x = cl.ConvDNA(filters=2, \n",
    "               kernel_size=motif_width, ## motif width\n",
    "               activation=\"relu\", \n",
    "               kernel_initializer=ci.PWMKernelInitializer(pwm_list, stddev=0.0),\n",
    "               bias_initializer=ci.PWMBiasInitializer(pwm_list,kernel_size=motif_width, mean_max_scale=0.999),\n",
    "               ## mean_max_scale of 1 means that only consensus sequence gets score larger than 0\n",
    "               trainable=False,\n",
    "              )(input_dna)\n",
    "## Smoothing layer - positional-dependent effect\n",
    "x = cl.GAMSmooth(n_bases=10, l2_smooth=1e-6, l2=0)(x)\n",
    "x = cl.GlobalSumPooling1D()(x)\n",
    "x = kl.Dense(units=1,activation=\"linear\")(x)\n",
    "model = Model(inputs=input_dna, outputs=x)\n",
    "\n",
    "# compile the model\n",
    "model.compile(optimizer=ko.Adam(lr=0.01), loss=\"mse\", metrics=[cm.var_explained])"
   ]
  },
  {
   "cell_type": "code",
   "execution_count": 23,
   "metadata": {
    "collapsed": true
   },
   "outputs": [],
   "source": [
    "seq_tensor = encodeDNA(dt[\"seq\"])\n",
    "y = dt.y.as_matrix()\n",
    "## TODO - update back\n",
    "seq_tensor = np.squeeze(seq_tensor, 1)"
   ]
  },
  {
   "cell_type": "code",
   "execution_count": 24,
   "metadata": {
    "collapsed": false
   },
   "outputs": [
    {
     "name": "stdout",
     "output_type": "stream",
     "text": [
      "Train on 2400 samples, validate on 600 samples\n",
      "Epoch 1/100\n",
      "0s - loss: 10.5280 - var_explained: 0.0046 - val_loss: 8.8872 - val_var_explained: 0.0083\n",
      "Epoch 2/100\n",
      "0s - loss: 8.7351 - var_explained: 0.0136 - val_loss: 7.6761 - val_var_explained: 0.0197\n",
      "Epoch 3/100\n",
      "0s - loss: 7.8710 - var_explained: 0.0272 - val_loss: 7.1232 - val_var_explained: 0.0358\n",
      "Epoch 4/100\n",
      "0s - loss: 7.4637 - var_explained: 0.0454 - val_loss: 6.8615 - val_var_explained: 0.0558\n",
      "Epoch 5/100\n",
      "0s - loss: 7.2226 - var_explained: 0.0669 - val_loss: 6.6635 - val_var_explained: 0.0795\n",
      "Epoch 6/100\n",
      "0s - loss: 7.0131 - var_explained: 0.0926 - val_loss: 6.4575 - val_var_explained: 0.1074\n",
      "Epoch 7/100\n",
      "0s - loss: 6.7888 - var_explained: 0.1207 - val_loss: 6.2361 - val_var_explained: 0.1376\n",
      "Epoch 8/100\n",
      "0s - loss: 6.5453 - var_explained: 0.1549 - val_loss: 5.9893 - val_var_explained: 0.1707\n",
      "Epoch 9/100\n",
      "0s - loss: 6.2794 - var_explained: 0.1873 - val_loss: 5.7242 - val_var_explained: 0.2061\n",
      "Epoch 10/100\n",
      "0s - loss: 5.9950 - var_explained: 0.2252 - val_loss: 5.4456 - val_var_explained: 0.2435\n",
      "Epoch 11/100\n",
      "0s - loss: 5.6991 - var_explained: 0.2635 - val_loss: 5.1676 - val_var_explained: 0.2804\n",
      "Epoch 12/100\n",
      "0s - loss: 5.4017 - var_explained: 0.2999 - val_loss: 4.8786 - val_var_explained: 0.3185\n",
      "Epoch 13/100\n",
      "0s - loss: 5.1048 - var_explained: 0.3379 - val_loss: 4.6073 - val_var_explained: 0.3539\n",
      "Epoch 14/100\n",
      "0s - loss: 4.8158 - var_explained: 0.3753 - val_loss: 4.3455 - val_var_explained: 0.3891\n",
      "Epoch 15/100\n",
      "0s - loss: 4.5405 - var_explained: 0.4134 - val_loss: 4.0901 - val_var_explained: 0.4219\n",
      "Epoch 16/100\n",
      "0s - loss: 4.2774 - var_explained: 0.4428 - val_loss: 3.8595 - val_var_explained: 0.4524\n",
      "Epoch 17/100\n",
      "0s - loss: 4.0334 - var_explained: 0.4738 - val_loss: 3.6457 - val_var_explained: 0.4798\n",
      "Epoch 18/100\n",
      "0s - loss: 3.8090 - var_explained: 0.5026 - val_loss: 3.4552 - val_var_explained: 0.5039\n",
      "Epoch 19/100\n",
      "0s - loss: 3.6062 - var_explained: 0.5299 - val_loss: 3.2840 - val_var_explained: 0.5257\n",
      "Epoch 20/100\n",
      "0s - loss: 3.4228 - var_explained: 0.5458 - val_loss: 3.1369 - val_var_explained: 0.5444\n",
      "Epoch 21/100\n",
      "0s - loss: 3.2616 - var_explained: 0.5691 - val_loss: 3.0100 - val_var_explained: 0.5610\n",
      "Epoch 22/100\n",
      "0s - loss: 3.1199 - var_explained: 0.5957 - val_loss: 2.9026 - val_var_explained: 0.5737\n",
      "Epoch 23/100\n",
      "0s - loss: 2.9999 - var_explained: 0.6032 - val_loss: 2.8110 - val_var_explained: 0.5848\n",
      "Epoch 24/100\n",
      "0s - loss: 2.8962 - var_explained: 0.6190 - val_loss: 2.7351 - val_var_explained: 0.5930\n",
      "Epoch 25/100\n",
      "0s - loss: 2.8106 - var_explained: 0.6242 - val_loss: 2.6780 - val_var_explained: 0.6002\n",
      "Epoch 26/100\n",
      "0s - loss: 2.7371 - var_explained: 0.6247 - val_loss: 2.6307 - val_var_explained: 0.6058\n",
      "Epoch 27/100\n",
      "0s - loss: 2.6767 - var_explained: 0.6365 - val_loss: 2.5920 - val_var_explained: 0.6099\n",
      "Epoch 28/100\n",
      "0s - loss: 2.6252 - var_explained: 0.6507 - val_loss: 2.5635 - val_var_explained: 0.6131\n",
      "Epoch 29/100\n",
      "0s - loss: 2.5818 - var_explained: 0.6517 - val_loss: 2.5369 - val_var_explained: 0.6155\n",
      "Epoch 30/100\n",
      "0s - loss: 2.5488 - var_explained: 0.6592 - val_loss: 2.5199 - val_var_explained: 0.6174\n",
      "Epoch 31/100\n",
      "0s - loss: 2.5178 - var_explained: 0.6587 - val_loss: 2.5043 - val_var_explained: 0.6189\n",
      "Epoch 32/100\n",
      "0s - loss: 2.4933 - var_explained: 0.6655 - val_loss: 2.4891 - val_var_explained: 0.6202\n",
      "Epoch 33/100\n",
      "0s - loss: 2.4723 - var_explained: 0.6624 - val_loss: 2.4850 - val_var_explained: 0.6211\n",
      "Epoch 34/100\n",
      "0s - loss: 2.4539 - var_explained: 0.6659 - val_loss: 2.4727 - val_var_explained: 0.6221\n",
      "Epoch 35/100\n",
      "0s - loss: 2.4379 - var_explained: 0.6706 - val_loss: 2.4644 - val_var_explained: 0.6227\n",
      "Epoch 36/100\n",
      "0s - loss: 2.4243 - var_explained: 0.6679 - val_loss: 2.4536 - val_var_explained: 0.6236\n",
      "Epoch 37/100\n",
      "0s - loss: 2.4118 - var_explained: 0.6770 - val_loss: 2.4534 - val_var_explained: 0.6241\n",
      "Epoch 38/100\n",
      "0s - loss: 2.4006 - var_explained: 0.6700 - val_loss: 2.4435 - val_var_explained: 0.6248\n",
      "Epoch 39/100\n",
      "0s - loss: 2.3918 - var_explained: 0.6745 - val_loss: 2.4351 - val_var_explained: 0.6255\n",
      "Epoch 40/100\n",
      "0s - loss: 2.3822 - var_explained: 0.6750 - val_loss: 2.4297 - val_var_explained: 0.6261\n",
      "Epoch 41/100\n",
      "0s - loss: 2.3728 - var_explained: 0.6729 - val_loss: 2.4330 - val_var_explained: 0.6266\n",
      "Epoch 42/100\n",
      "0s - loss: 2.3664 - var_explained: 0.6672 - val_loss: 2.4243 - val_var_explained: 0.6271\n",
      "Epoch 43/100\n",
      "0s - loss: 2.3594 - var_explained: 0.6771 - val_loss: 2.4177 - val_var_explained: 0.6277\n",
      "Epoch 44/100\n",
      "0s - loss: 2.3539 - var_explained: 0.6735 - val_loss: 2.4104 - val_var_explained: 0.6282\n",
      "Epoch 45/100\n",
      "0s - loss: 2.3466 - var_explained: 0.6759 - val_loss: 2.4114 - val_var_explained: 0.6285\n",
      "Epoch 46/100\n",
      "0s - loss: 2.3413 - var_explained: 0.6841 - val_loss: 2.4052 - val_var_explained: 0.6289\n",
      "Epoch 47/100\n",
      "0s - loss: 2.3369 - var_explained: 0.6898 - val_loss: 2.4090 - val_var_explained: 0.6292\n",
      "Epoch 48/100\n",
      "0s - loss: 2.3332 - var_explained: 0.6821 - val_loss: 2.3999 - val_var_explained: 0.6297\n",
      "Epoch 49/100\n",
      "0s - loss: 2.3292 - var_explained: 0.6783 - val_loss: 2.4008 - val_var_explained: 0.6297\n",
      "Epoch 50/100\n",
      "0s - loss: 2.3248 - var_explained: 0.6730 - val_loss: 2.3953 - val_var_explained: 0.6306\n",
      "Epoch 51/100\n",
      "0s - loss: 2.3218 - var_explained: 0.6856 - val_loss: 2.3882 - val_var_explained: 0.6309\n",
      "Epoch 52/100\n",
      "0s - loss: 2.3192 - var_explained: 0.6821 - val_loss: 2.3883 - val_var_explained: 0.6308\n",
      "Epoch 53/100\n",
      "0s - loss: 2.3149 - var_explained: 0.6800 - val_loss: 2.3904 - val_var_explained: 0.6313\n",
      "Epoch 54/100\n",
      "0s - loss: 2.3128 - var_explained: 0.6853 - val_loss: 2.3836 - val_var_explained: 0.6315\n",
      "Epoch 55/100\n",
      "0s - loss: 2.3095 - var_explained: 0.6813 - val_loss: 2.3861 - val_var_explained: 0.6318\n",
      "Epoch 56/100\n",
      "0s - loss: 2.3090 - var_explained: 0.6841 - val_loss: 2.3809 - val_var_explained: 0.6319\n",
      "Epoch 57/100\n",
      "0s - loss: 2.3070 - var_explained: 0.6791 - val_loss: 2.3779 - val_var_explained: 0.6323\n",
      "Epoch 58/100\n",
      "0s - loss: 2.3041 - var_explained: 0.6852 - val_loss: 2.3785 - val_var_explained: 0.6325\n",
      "Epoch 59/100\n",
      "0s - loss: 2.3023 - var_explained: 0.6899 - val_loss: 2.3808 - val_var_explained: 0.6327\n",
      "Epoch 60/100\n",
      "0s - loss: 2.3014 - var_explained: 0.6756 - val_loss: 2.3818 - val_var_explained: 0.6326\n",
      "Epoch 61/100\n",
      "0s - loss: 2.2995 - var_explained: 0.6897 - val_loss: 2.3745 - val_var_explained: 0.6329\n",
      "Epoch 62/100\n",
      "0s - loss: 2.2974 - var_explained: 0.6888 - val_loss: 2.3740 - val_var_explained: 0.6330\n",
      "Epoch 63/100\n",
      "0s - loss: 2.2969 - var_explained: 0.6791 - val_loss: 2.3723 - val_var_explained: 0.6331\n",
      "Epoch 64/100\n",
      "0s - loss: 2.2969 - var_explained: 0.6893 - val_loss: 2.3809 - val_var_explained: 0.6331\n",
      "Epoch 65/100\n",
      "0s - loss: 2.2953 - var_explained: 0.6856 - val_loss: 2.3734 - val_var_explained: 0.6333\n",
      "Epoch 66/100\n",
      "0s - loss: 2.2933 - var_explained: 0.6864 - val_loss: 2.3760 - val_var_explained: 0.6334\n",
      "Epoch 67/100\n",
      "0s - loss: 2.2932 - var_explained: 0.6862 - val_loss: 2.3745 - val_var_explained: 0.6334\n",
      "Epoch 68/100\n",
      "0s - loss: 2.2920 - var_explained: 0.6777 - val_loss: 2.3689 - val_var_explained: 0.6337\n",
      "Epoch 69/100\n",
      "0s - loss: 2.2918 - var_explained: 0.6925 - val_loss: 2.3754 - val_var_explained: 0.6338\n",
      "Epoch 70/100\n",
      "0s - loss: 2.2930 - var_explained: 0.6914 - val_loss: 2.3659 - val_var_explained: 0.6338\n",
      "Epoch 71/100\n",
      "0s - loss: 2.2899 - var_explained: 0.6922 - val_loss: 2.3678 - val_var_explained: 0.6338\n",
      "Epoch 72/100\n",
      "0s - loss: 2.2885 - var_explained: 0.6878 - val_loss: 2.3662 - val_var_explained: 0.6340\n",
      "Epoch 73/100\n",
      "0s - loss: 2.2881 - var_explained: 0.6834 - val_loss: 2.3619 - val_var_explained: 0.6342\n",
      "Epoch 74/100\n",
      "0s - loss: 2.2899 - var_explained: 0.6850 - val_loss: 2.3633 - val_var_explained: 0.6340\n",
      "Epoch 75/100\n",
      "0s - loss: 2.2872 - var_explained: 0.6914 - val_loss: 2.3707 - val_var_explained: 0.6342\n",
      "Epoch 76/100\n",
      "0s - loss: 2.2878 - var_explained: 0.6873 - val_loss: 2.3646 - val_var_explained: 0.6341\n",
      "Epoch 77/100\n",
      "0s - loss: 2.2867 - var_explained: 0.6899 - val_loss: 2.3630 - val_var_explained: 0.6342\n",
      "Epoch 78/100\n",
      "0s - loss: 2.2860 - var_explained: 0.6832 - val_loss: 2.3650 - val_var_explained: 0.6339\n",
      "Epoch 79/100\n",
      "0s - loss: 2.2853 - var_explained: 0.6812 - val_loss: 2.3669 - val_var_explained: 0.6340\n"
     ]
    },
    {
     "data": {
      "text/plain": [
       "<keras.callbacks.History at 0x7f88f2658978>"
      ]
     },
     "execution_count": 24,
     "metadata": {},
     "output_type": "execute_result"
    }
   ],
   "source": [
    "model.fit(x=seq_tensor, y=y, epochs=100, verbose = 2,\n",
    "          callbacks=[EarlyStopping(patience=5)],\n",
    "          validation_split=.2\n",
    "         )"
   ]
  },
  {
   "cell_type": "code",
   "execution_count": 25,
   "metadata": {
    "collapsed": false
   },
   "outputs": [
    {
     "data": {
      "text/plain": [
       "<matplotlib.text.Text at 0x7f88f24aa630>"
      ]
     },
     "execution_count": 25,
     "metadata": {},
     "output_type": "execute_result"
    },
    {
     "data": {
      "image/png": "[encoded data removed]",
      "text/plain": [
       "<matplotlib.figure.Figure at 0x7f8924380860>"
      ]
     },
     "metadata": {},
     "output_type": "display_data"
    }
   ],
   "source": [
    "y_pred = model.predict(seq_tensor)\n",
    "plt.scatter(y_pred, y)\n",
    "plt.xlabel(\"Predicted\")\n",
    "plt.ylabel(\"True\")\n",
    "plt.title(\"True vs predicted\")"
   ]
  },
  {
   "cell_type": "code",
   "execution_count": 26,
   "metadata": {
    "collapsed": false
   },
   "outputs": [
    {
     "data": {
      "text/plain": [
       "<matplotlib.legend.Legend at 0x7f88f2593438>"
      ]
     },
     "execution_count": 26,
     "metadata": {},
     "output_type": "execute_result"
    },
    {
     "data": {
      "image/png": "[encoded data removed]",
      "text/plain": [
       "<matplotlib.figure.Figure at 0x7f8924144710>"
      ]
     },
     "metadata": {},
     "output_type": "display_data"
    }
   ],
   "source": [
    "## TODO - update to the new synthax\n",
    "gam_layer = model.layers[2]\n",
    "\n",
    "positions = gam_layer.positional_effect()[\"positions\"]\n",
    "pos_effect = gam_layer.positional_effect()[\"positional_effect\"]\n",
    "\n",
    "## Theoretical plot - from the original simulation data\n",
    "from scipy.stats import norm\n",
    "# https://docs.scipy.org/doc/scipy-0.16.1/reference/generated/scipy.stats.norm.html#scipy.stats.norm\n",
    "pef1 = lambda x: 0.3*norm.pdf(x, 0.2, 0.1) + 0.05*np.sin(15*x) + 0.8\n",
    "pos_effect_theoretical1 = pef1(positions / positions.max())\n",
    "pef2 = lambda x: 0.3*norm.pdf(x, 0.35, 0.1) + 0.05*np.sin(15*x) + 0.8\n",
    "pos_effect_theoretical2 = pef2(positions / positions.max())\n",
    "\n",
    "\n",
    "w_motifs = model.get_weights()[-2]\n",
    "b = model.get_weights()[-1]\n",
    "\n",
    "## Create a new plot\n",
    "pos_effect_calibrated = (pos_effect / np.transpose(w_motifs))/ 0.8\n",
    "plt.plot(positions, pos_effect_calibrated[:,0], label=\"infered \" + motifs[0])\n",
    "plt.plot(positions, pos_effect_calibrated[:,1], label=\"infered \" + motifs[1])\n",
    "plt.plot(positions, pos_effect_theoretical1, label=\"theoretical \" + motifs[0])\n",
    "plt.plot(positions, pos_effect_theoretical2, label=\"theoretical \" + motifs[1])\n",
    "plt.ylabel('Positional effect')\n",
    "plt.xlabel('Position')\n",
    "plt.title(\"Positional effect\")\n",
    "plt.legend()"
   ]
  }
 ],
 "metadata": {
  "anaconda-cloud": {},
  "kernelspec": {
   "display_name": "Environment (conda_dev_concise)",
   "language": "python",
   "name": "conda_dev_concise"
  },
  "language_info": {
   "codemirror_mode": {
    "name": "ipython",
    "version": 3
   },
   "file_extension": ".py",
   "mimetype": "text/x-python",
   "name": "python",
   "nbconvert_exporter": "python",
   "pygments_lexer": "ipython3",
   "version": "3.5.2"
  }
 },
 "nbformat": 4,
 "nbformat_minor": 0
}
