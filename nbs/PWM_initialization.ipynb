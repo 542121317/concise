{
 "cells": [
  {
   "cell_type": "markdown",
   "metadata": {},
   "source": [
    "## Initializing filters on known motifs\n",
    "\n",
    "In the scenario where data is scarse, it is often useful to initialize the filters of the first convolutional layer to some known position weights matrices (PWM's). That way, the model already starts with a parameter configuration much closer to the 'right' one.\n",
    "\n",
    "Concise provides access to 2 PWM databases:\n",
    "\n",
    "- transcription factors from ENCODE (2067 PWMs)\n",
    "- transcription factors from HOCOMOCO v10 (640 PWMs)\n",
    "- rna-binding proteins from ATtrACT (1583 PWMs)\n",
    "\n",
    "### Find the motif of interest"
   ]
  },
  {
   "cell_type": "markdown",
   "metadata": {},
   "source": [
    "Each PWM database is provided as a module under `concise.data`. It provides two functions:\n",
    "\n",
    "- `concise.data.<db>.get_metadata()` - returns a pandas.DataFrame with metadata information about each PWM \n",
    "- `concise.data.<db>.get_pwm_list()` - given a list of PWM ids, return a list with `concise.utils.pwm.PWM` instances"
   ]
  },
  {
   "cell_type": "markdown",
   "metadata": {},
   "source": [
    "#### Metadata tables"
   ]
  },
  {
   "cell_type": "code",
   "execution_count": 2,
   "metadata": {
    "collapsed": false
   },
   "outputs": [],
   "source": [
    "%matplotlib inline\n",
    "import matplotlib.pyplot as plt"
   ]
  },
  {
   "cell_type": "code",
   "execution_count": 4,
   "metadata": {
    "collapsed": false
   },
   "outputs": [
    {
     "data": {
      "text/html": [
       "<div>\n",
       "<style>\n",
       "    .dataframe thead tr:only-child th {\n",
       "        text-align: right;\n",
       "    }\n",
       "\n",
       "    .dataframe thead th {\n",
       "        text-align: left;\n",
       "    }\n",
       "\n",
       "    .dataframe tbody tr th {\n",
       "        vertical-align: top;\n",
       "    }\n",
       "</style>\n",
       "<table border=\"1\" class=\"dataframe\">\n",
       "  <thead>\n",
       "    <tr style=\"text-align: right;\">\n",
       "      <th></th>\n",
       "      <th>PWM_id</th>\n",
       "      <th>Gene_name</th>\n",
       "      <th>Gene_id</th>\n",
       "      <th>Mutated</th>\n",
       "      <th>Organism</th>\n",
       "      <th>Motif</th>\n",
       "      <th>Len</th>\n",
       "      <th>Experiment_description</th>\n",
       "      <th>Database</th>\n",
       "      <th>Pubmed</th>\n",
       "      <th>Experiment_description.1</th>\n",
       "      <th>Family</th>\n",
       "      <th>Score</th>\n",
       "    </tr>\n",
       "  </thead>\n",
       "  <tbody>\n",
       "    <tr>\n",
       "      <th>0</th>\n",
       "      <td>519</td>\n",
       "      <td>3IVK</td>\n",
       "      <td>3IVK</td>\n",
       "      <td>no</td>\n",
       "      <td>Mus_musculus</td>\n",
       "      <td>GAAACA</td>\n",
       "      <td>6</td>\n",
       "      <td>X-RAY DIFFRACTION</td>\n",
       "      <td>PDB</td>\n",
       "      <td>19965478</td>\n",
       "      <td>X-RAY DIFFRACTION</td>\n",
       "      <td>NaN</td>\n",
       "      <td>1.000000**</td>\n",
       "    </tr>\n",
       "    <tr>\n",
       "      <th>1</th>\n",
       "      <td>574</td>\n",
       "      <td>3IVK</td>\n",
       "      <td>3IVK</td>\n",
       "      <td>no</td>\n",
       "      <td>Mus_musculus</td>\n",
       "      <td>UGGG</td>\n",
       "      <td>4</td>\n",
       "      <td>X-RAY DIFFRACTION</td>\n",
       "      <td>PDB</td>\n",
       "      <td>19965478</td>\n",
       "      <td>X-RAY DIFFRACTION</td>\n",
       "      <td>NaN</td>\n",
       "      <td>1.000000**</td>\n",
       "    </tr>\n",
       "    <tr>\n",
       "      <th>2</th>\n",
       "      <td>464</td>\n",
       "      <td>4KZD</td>\n",
       "      <td>4KZD</td>\n",
       "      <td>no</td>\n",
       "      <td>Mus_musculus</td>\n",
       "      <td>GAAAC</td>\n",
       "      <td>5</td>\n",
       "      <td>X-RAY DIFFRACTION</td>\n",
       "      <td>PDB</td>\n",
       "      <td>24952597</td>\n",
       "      <td>X-RAY DIFFRACTION</td>\n",
       "      <td>NaN</td>\n",
       "      <td>1.000000**</td>\n",
       "    </tr>\n",
       "    <tr>\n",
       "      <th>...</th>\n",
       "      <td>...</td>\n",
       "      <td>...</td>\n",
       "      <td>...</td>\n",
       "      <td>...</td>\n",
       "      <td>...</td>\n",
       "      <td>...</td>\n",
       "      <td>...</td>\n",
       "      <td>...</td>\n",
       "      <td>...</td>\n",
       "      <td>...</td>\n",
       "      <td>...</td>\n",
       "      <td>...</td>\n",
       "      <td>...</td>\n",
       "    </tr>\n",
       "    <tr>\n",
       "      <th>4879</th>\n",
       "      <td>1396</td>\n",
       "      <td>HNRNPAB</td>\n",
       "      <td>ENSG00000197451</td>\n",
       "      <td>no</td>\n",
       "      <td>Homo_sapiens</td>\n",
       "      <td>AUAGCA</td>\n",
       "      <td>6</td>\n",
       "      <td>In vitro splicing assays</td>\n",
       "      <td>AEDB</td>\n",
       "      <td>12426391</td>\n",
       "      <td>other</td>\n",
       "      <td>RRM</td>\n",
       "      <td>1.000000**</td>\n",
       "    </tr>\n",
       "    <tr>\n",
       "      <th>4880</th>\n",
       "      <td>1397</td>\n",
       "      <td>HNRNPA1</td>\n",
       "      <td>ENSG00000135486</td>\n",
       "      <td>no</td>\n",
       "      <td>Homo_sapiens</td>\n",
       "      <td>UAGG</td>\n",
       "      <td>4</td>\n",
       "      <td>Immunoprecipitation;U...</td>\n",
       "      <td>AEDB</td>\n",
       "      <td>15506926</td>\n",
       "      <td>UV cross-linking</td>\n",
       "      <td>RRM</td>\n",
       "      <td>1.000000**</td>\n",
       "    </tr>\n",
       "    <tr>\n",
       "      <th>4881</th>\n",
       "      <td>1398</td>\n",
       "      <td>PTBP1</td>\n",
       "      <td>ENSG00000011304</td>\n",
       "      <td>no</td>\n",
       "      <td>Homo_sapiens</td>\n",
       "      <td>UUCUUC</td>\n",
       "      <td>6</td>\n",
       "      <td>In vivo splicing assa...</td>\n",
       "      <td>AEDB</td>\n",
       "      <td>14966131</td>\n",
       "      <td>UV cross-linking</td>\n",
       "      <td>RRM</td>\n",
       "      <td>1.000000**</td>\n",
       "    </tr>\n",
       "  </tbody>\n",
       "</table>\n",
       "<p>4882 rows × 13 columns</p>\n",
       "</div>"
      ],
      "text/plain": [
       "     PWM_id Gene_name          Gene_id Mutated      Organism   Motif  Len  \\\n",
       "0       519      3IVK             3IVK      no  Mus_musculus  GAAACA    6   \n",
       "1       574      3IVK             3IVK      no  Mus_musculus    UGGG    4   \n",
       "2       464      4KZD             4KZD      no  Mus_musculus   GAAAC    5   \n",
       "...     ...       ...              ...     ...           ...     ...  ...   \n",
       "4879   1396   HNRNPAB  ENSG00000197451      no  Homo_sapiens  AUAGCA    6   \n",
       "4880   1397   HNRNPA1  ENSG00000135486      no  Homo_sapiens    UAGG    4   \n",
       "4881   1398     PTBP1  ENSG00000011304      no  Homo_sapiens  UUCUUC    6   \n",
       "\n",
       "        Experiment_description Database    Pubmed Experiment_description.1 Family       Score  \n",
       "0            X-RAY DIFFRACTION      PDB  19965478        X-RAY DIFFRACTION    NaN  1.000000**  \n",
       "1            X-RAY DIFFRACTION      PDB  19965478        X-RAY DIFFRACTION    NaN  1.000000**  \n",
       "2            X-RAY DIFFRACTION      PDB  24952597        X-RAY DIFFRACTION    NaN  1.000000**  \n",
       "...                        ...      ...       ...                      ...    ...         ...  \n",
       "4879  In vitro splicing assays     AEDB  12426391                    other    RRM  1.000000**  \n",
       "4880  Immunoprecipitation;U...     AEDB  15506926         UV cross-linking    RRM  1.000000**  \n",
       "4881  In vivo splicing assa...     AEDB  14966131         UV cross-linking    RRM  1.000000**  \n",
       "\n",
       "[4882 rows x 13 columns]"
      ]
     },
     "execution_count": 4,
     "metadata": {},
     "output_type": "execute_result"
    }
   ],
   "source": [
    "# RBP PWM's\n",
    "from concise.data import attract\n",
    "\n",
    "dfa = attract.get_metadata()\n",
    "dfa"
   ]
  },
  {
   "cell_type": "code",
   "execution_count": 5,
   "metadata": {
    "collapsed": false
   },
   "outputs": [
    {
     "data": {
      "text/html": [
       "<div>\n",
       "<style>\n",
       "    .dataframe thead tr:only-child th {\n",
       "        text-align: right;\n",
       "    }\n",
       "\n",
       "    .dataframe thead th {\n",
       "        text-align: left;\n",
       "    }\n",
       "\n",
       "    .dataframe tbody tr th {\n",
       "        vertical-align: top;\n",
       "    }\n",
       "</style>\n",
       "<table border=\"1\" class=\"dataframe\">\n",
       "  <thead>\n",
       "    <tr style=\"text-align: right;\">\n",
       "      <th></th>\n",
       "      <th>PWM_id</th>\n",
       "      <th>info1</th>\n",
       "      <th>info2</th>\n",
       "      <th>consensus</th>\n",
       "    </tr>\n",
       "  </thead>\n",
       "  <tbody>\n",
       "    <tr>\n",
       "      <th>0</th>\n",
       "      <td>AFP_1</td>\n",
       "      <td>AFP1_transfac_M00616</td>\n",
       "      <td>None</td>\n",
       "      <td>ATTAACTACAC</td>\n",
       "    </tr>\n",
       "    <tr>\n",
       "      <th>1</th>\n",
       "      <td>AHR::ARNT::HIF1A_1</td>\n",
       "      <td>AhR,-Arnt,-HIF-1_tran...</td>\n",
       "      <td>None</td>\n",
       "      <td>TGCGTGCGG</td>\n",
       "    </tr>\n",
       "    <tr>\n",
       "      <th>2</th>\n",
       "      <td>AHR::ARNT_1</td>\n",
       "      <td>AhR:Arnt_transfac_M00235</td>\n",
       "      <td>None</td>\n",
       "      <td>TAAGGGTTGCGTGCCC</td>\n",
       "    </tr>\n",
       "    <tr>\n",
       "      <th>...</th>\n",
       "      <td>...</td>\n",
       "      <td>...</td>\n",
       "      <td>...</td>\n",
       "      <td>...</td>\n",
       "    </tr>\n",
       "    <tr>\n",
       "      <th>2064</th>\n",
       "      <td>ZSCAN4_3</td>\n",
       "      <td>ZSCAN4_jolma_full_M54</td>\n",
       "      <td>None</td>\n",
       "      <td>TGCACACACTGAAAA</td>\n",
       "    </tr>\n",
       "    <tr>\n",
       "      <th>2065</th>\n",
       "      <td>fake_AACGSSAA</td>\n",
       "      <td>None</td>\n",
       "      <td>None</td>\n",
       "      <td>AACGCCAA</td>\n",
       "    </tr>\n",
       "    <tr>\n",
       "      <th>2066</th>\n",
       "      <td>fake_AAGCSSAA</td>\n",
       "      <td>None</td>\n",
       "      <td>None</td>\n",
       "      <td>AAGCCCAA</td>\n",
       "    </tr>\n",
       "  </tbody>\n",
       "</table>\n",
       "<p>2067 rows × 4 columns</p>\n",
       "</div>"
      ],
      "text/plain": [
       "                  PWM_id                     info1 info2         consensus\n",
       "0                  AFP_1      AFP1_transfac_M00616  None       ATTAACTACAC\n",
       "1     AHR::ARNT::HIF1A_1  AhR,-Arnt,-HIF-1_tran...  None         TGCGTGCGG\n",
       "2            AHR::ARNT_1  AhR:Arnt_transfac_M00235  None  TAAGGGTTGCGTGCCC\n",
       "...                  ...                       ...   ...               ...\n",
       "2064            ZSCAN4_3     ZSCAN4_jolma_full_M54  None   TGCACACACTGAAAA\n",
       "2065       fake_AACGSSAA                      None  None          AACGCCAA\n",
       "2066       fake_AAGCSSAA                      None  None          AAGCCCAA\n",
       "\n",
       "[2067 rows x 4 columns]"
      ]
     },
     "execution_count": 5,
     "metadata": {},
     "output_type": "execute_result"
    }
   ],
   "source": [
    "# TF PWM's\n",
    "from concise.data import encode\n",
    "\n",
    "dfe = encode.get_metadata()\n",
    "dfe"
   ]
  },
  {
   "cell_type": "code",
   "execution_count": 6,
   "metadata": {
    "collapsed": false
   },
   "outputs": [
    {
     "data": {
      "text/html": [
       "<div>\n",
       "<style>\n",
       "    .dataframe thead tr:only-child th {\n",
       "        text-align: right;\n",
       "    }\n",
       "\n",
       "    .dataframe thead th {\n",
       "        text-align: left;\n",
       "    }\n",
       "\n",
       "    .dataframe tbody tr th {\n",
       "        vertical-align: top;\n",
       "    }\n",
       "</style>\n",
       "<table border=\"1\" class=\"dataframe\">\n",
       "  <thead>\n",
       "    <tr style=\"text-align: right;\">\n",
       "      <th></th>\n",
       "      <th>PWM_id</th>\n",
       "      <th>TF</th>\n",
       "      <th>Organism</th>\n",
       "      <th>DB</th>\n",
       "      <th>info</th>\n",
       "      <th>consensus</th>\n",
       "    </tr>\n",
       "  </thead>\n",
       "  <tbody>\n",
       "    <tr>\n",
       "      <th>0</th>\n",
       "      <td>AHR_HUMAN.H10MO.B</td>\n",
       "      <td>AHR</td>\n",
       "      <td>HUMAN</td>\n",
       "      <td>H10MO</td>\n",
       "      <td>B</td>\n",
       "      <td>GTTGCGTGC</td>\n",
       "    </tr>\n",
       "    <tr>\n",
       "      <th>1</th>\n",
       "      <td>AIRE_HUMAN.H10MO.C</td>\n",
       "      <td>AIRE</td>\n",
       "      <td>HUMAN</td>\n",
       "      <td>H10MO</td>\n",
       "      <td>C</td>\n",
       "      <td>ATTGGTTATATTGGTTAA</td>\n",
       "    </tr>\n",
       "    <tr>\n",
       "      <th>2</th>\n",
       "      <td>ALX1_HUMAN.H10MO.B</td>\n",
       "      <td>ALX1</td>\n",
       "      <td>HUMAN</td>\n",
       "      <td>H10MO</td>\n",
       "      <td>B</td>\n",
       "      <td>ATAATTGAATTA</td>\n",
       "    </tr>\n",
       "    <tr>\n",
       "      <th>...</th>\n",
       "      <td>...</td>\n",
       "      <td>...</td>\n",
       "      <td>...</td>\n",
       "      <td>...</td>\n",
       "      <td>...</td>\n",
       "      <td>...</td>\n",
       "    </tr>\n",
       "    <tr>\n",
       "      <th>637</th>\n",
       "      <td>ZN784_HUMAN.H10MO.D</td>\n",
       "      <td>ZN784</td>\n",
       "      <td>HUMAN</td>\n",
       "      <td>H10MO</td>\n",
       "      <td>D</td>\n",
       "      <td>GAGGTAGGTAC</td>\n",
       "    </tr>\n",
       "    <tr>\n",
       "      <th>638</th>\n",
       "      <td>ZSC16_HUMAN.H10MO.D</td>\n",
       "      <td>ZSC16</td>\n",
       "      <td>HUMAN</td>\n",
       "      <td>H10MO</td>\n",
       "      <td>D</td>\n",
       "      <td>GAGGTGTTCTGTTAACACTA</td>\n",
       "    </tr>\n",
       "    <tr>\n",
       "      <th>639</th>\n",
       "      <td>ZSCA4_HUMAN.H10MO.D</td>\n",
       "      <td>ZSCA4</td>\n",
       "      <td>HUMAN</td>\n",
       "      <td>H10MO</td>\n",
       "      <td>D</td>\n",
       "      <td>AGTGTGTGCACT</td>\n",
       "    </tr>\n",
       "  </tbody>\n",
       "</table>\n",
       "<p>640 rows × 6 columns</p>\n",
       "</div>"
      ],
      "text/plain": [
       "                  PWM_id     TF Organism     DB info             consensus\n",
       "0      AHR_HUMAN.H10MO.B    AHR    HUMAN  H10MO    B             GTTGCGTGC\n",
       "1     AIRE_HUMAN.H10MO.C   AIRE    HUMAN  H10MO    C    ATTGGTTATATTGGTTAA\n",
       "2     ALX1_HUMAN.H10MO.B   ALX1    HUMAN  H10MO    B          ATAATTGAATTA\n",
       "..                   ...    ...      ...    ...  ...                   ...\n",
       "637  ZN784_HUMAN.H10MO.D  ZN784    HUMAN  H10MO    D           GAGGTAGGTAC\n",
       "638  ZSC16_HUMAN.H10MO.D  ZSC16    HUMAN  H10MO    D  GAGGTGTTCTGTTAACACTA\n",
       "639  ZSCA4_HUMAN.H10MO.D  ZSCA4    HUMAN  H10MO    D          AGTGTGTGCACT\n",
       "\n",
       "[640 rows x 6 columns]"
      ]
     },
     "execution_count": 6,
     "metadata": {},
     "output_type": "execute_result"
    }
   ],
   "source": [
    "# TF PWM's\n",
    "from concise.data import hocomoco\n",
    "\n",
    "dfh = hocomoco.get_metadata()\n",
    "dfh"
   ]
  },
  {
   "cell_type": "markdown",
   "metadata": {},
   "source": [
    "Let's choose PUM2 PWM (RBP in Human):"
   ]
  },
  {
   "cell_type": "code",
   "execution_count": 7,
   "metadata": {
    "collapsed": false
   },
   "outputs": [
    {
     "data": {
      "text/html": [
       "<div>\n",
       "<style>\n",
       "    .dataframe thead tr:only-child th {\n",
       "        text-align: right;\n",
       "    }\n",
       "\n",
       "    .dataframe thead th {\n",
       "        text-align: left;\n",
       "    }\n",
       "\n",
       "    .dataframe tbody tr th {\n",
       "        vertical-align: top;\n",
       "    }\n",
       "</style>\n",
       "<table border=\"1\" class=\"dataframe\">\n",
       "  <thead>\n",
       "    <tr style=\"text-align: right;\">\n",
       "      <th></th>\n",
       "      <th>PWM_id</th>\n",
       "      <th>Gene_name</th>\n",
       "      <th>Gene_id</th>\n",
       "      <th>Mutated</th>\n",
       "      <th>Organism</th>\n",
       "      <th>Motif</th>\n",
       "      <th>Len</th>\n",
       "      <th>Experiment_description</th>\n",
       "      <th>Database</th>\n",
       "      <th>Pubmed</th>\n",
       "      <th>Experiment_description.1</th>\n",
       "      <th>Family</th>\n",
       "      <th>Score</th>\n",
       "    </tr>\n",
       "  </thead>\n",
       "  <tbody>\n",
       "    <tr>\n",
       "      <th>2603</th>\n",
       "      <td>503</td>\n",
       "      <td>PUM2</td>\n",
       "      <td>ENSG00000055917</td>\n",
       "      <td>no</td>\n",
       "      <td>Homo_sapiens</td>\n",
       "      <td>UGUAAAUA</td>\n",
       "      <td>8</td>\n",
       "      <td>X-RAY DIFFRACTION</td>\n",
       "      <td>PDB</td>\n",
       "      <td>21397187</td>\n",
       "      <td>X-RAY DIFFRACTION</td>\n",
       "      <td>PUF</td>\n",
       "      <td>1.000000**</td>\n",
       "    </tr>\n",
       "    <tr>\n",
       "      <th>2604</th>\n",
       "      <td>361</td>\n",
       "      <td>PUM2</td>\n",
       "      <td>ENSG00000055917</td>\n",
       "      <td>no</td>\n",
       "      <td>Homo_sapiens</td>\n",
       "      <td>UGUACAUC</td>\n",
       "      <td>8</td>\n",
       "      <td>X-RAY DIFFRACTION</td>\n",
       "      <td>PDB</td>\n",
       "      <td>21397187</td>\n",
       "      <td>X-RAY DIFFRACTION</td>\n",
       "      <td>PUF</td>\n",
       "      <td>1.000000**</td>\n",
       "    </tr>\n",
       "    <tr>\n",
       "      <th>2605</th>\n",
       "      <td>514</td>\n",
       "      <td>PUM2</td>\n",
       "      <td>ENSG00000055917</td>\n",
       "      <td>no</td>\n",
       "      <td>Homo_sapiens</td>\n",
       "      <td>UGUAGAUA</td>\n",
       "      <td>8</td>\n",
       "      <td>X-RAY DIFFRACTION</td>\n",
       "      <td>PDB</td>\n",
       "      <td>21397187</td>\n",
       "      <td>X-RAY DIFFRACTION</td>\n",
       "      <td>PUF</td>\n",
       "      <td>1.000000**</td>\n",
       "    </tr>\n",
       "    <tr>\n",
       "      <th>...</th>\n",
       "      <td>...</td>\n",
       "      <td>...</td>\n",
       "      <td>...</td>\n",
       "      <td>...</td>\n",
       "      <td>...</td>\n",
       "      <td>...</td>\n",
       "      <td>...</td>\n",
       "      <td>...</td>\n",
       "      <td>...</td>\n",
       "      <td>...</td>\n",
       "      <td>...</td>\n",
       "      <td>...</td>\n",
       "      <td>...</td>\n",
       "    </tr>\n",
       "    <tr>\n",
       "      <th>2613</th>\n",
       "      <td>107</td>\n",
       "      <td>PUM2</td>\n",
       "      <td>ENSG00000055917</td>\n",
       "      <td>no</td>\n",
       "      <td>Homo_sapiens</td>\n",
       "      <td>UGUAUAUA</td>\n",
       "      <td>8</td>\n",
       "      <td>PAR-clip</td>\n",
       "      <td>C</td>\n",
       "      <td>20371350</td>\n",
       "      <td>genome-wide in vivo i...</td>\n",
       "      <td>PUF</td>\n",
       "      <td>0.250000**</td>\n",
       "    </tr>\n",
       "    <tr>\n",
       "      <th>2614</th>\n",
       "      <td>107</td>\n",
       "      <td>PUM2</td>\n",
       "      <td>ENSG00000055917</td>\n",
       "      <td>no</td>\n",
       "      <td>Homo_sapiens</td>\n",
       "      <td>UGUACAUA</td>\n",
       "      <td>8</td>\n",
       "      <td>PAR-clip</td>\n",
       "      <td>C</td>\n",
       "      <td>20371350</td>\n",
       "      <td>genome-wide in vivo i...</td>\n",
       "      <td>PUF</td>\n",
       "      <td>0.250000**</td>\n",
       "    </tr>\n",
       "    <tr>\n",
       "      <th>2615</th>\n",
       "      <td>107</td>\n",
       "      <td>PUM2</td>\n",
       "      <td>ENSG00000055917</td>\n",
       "      <td>no</td>\n",
       "      <td>Homo_sapiens</td>\n",
       "      <td>UGUAGAUA</td>\n",
       "      <td>8</td>\n",
       "      <td>PAR-clip</td>\n",
       "      <td>C</td>\n",
       "      <td>20371350</td>\n",
       "      <td>genome-wide in vivo i...</td>\n",
       "      <td>PUF</td>\n",
       "      <td>0.250000**</td>\n",
       "    </tr>\n",
       "  </tbody>\n",
       "</table>\n",
       "<p>13 rows × 13 columns</p>\n",
       "</div>"
      ],
      "text/plain": [
       "     PWM_id Gene_name          Gene_id Mutated      Organism     Motif  Len  \\\n",
       "2603    503      PUM2  ENSG00000055917      no  Homo_sapiens  UGUAAAUA    8   \n",
       "2604    361      PUM2  ENSG00000055917      no  Homo_sapiens  UGUACAUC    8   \n",
       "2605    514      PUM2  ENSG00000055917      no  Homo_sapiens  UGUAGAUA    8   \n",
       "...     ...       ...              ...     ...           ...       ...  ...   \n",
       "2613    107      PUM2  ENSG00000055917      no  Homo_sapiens  UGUAUAUA    8   \n",
       "2614    107      PUM2  ENSG00000055917      no  Homo_sapiens  UGUACAUA    8   \n",
       "2615    107      PUM2  ENSG00000055917      no  Homo_sapiens  UGUAGAUA    8   \n",
       "\n",
       "     Experiment_description Database    Pubmed  Experiment_description.1 Family       Score  \n",
       "2603      X-RAY DIFFRACTION      PDB  21397187         X-RAY DIFFRACTION    PUF  1.000000**  \n",
       "2604      X-RAY DIFFRACTION      PDB  21397187         X-RAY DIFFRACTION    PUF  1.000000**  \n",
       "2605      X-RAY DIFFRACTION      PDB  21397187         X-RAY DIFFRACTION    PUF  1.000000**  \n",
       "...                     ...      ...       ...                       ...    ...         ...  \n",
       "2613               PAR-clip        C  20371350  genome-wide in vivo i...    PUF  0.250000**  \n",
       "2614               PAR-clip        C  20371350  genome-wide in vivo i...    PUF  0.250000**  \n",
       "2615               PAR-clip        C  20371350  genome-wide in vivo i...    PUF  0.250000**  \n",
       "\n",
       "[13 rows x 13 columns]"
      ]
     },
     "execution_count": 7,
     "metadata": {},
     "output_type": "execute_result"
    }
   ],
   "source": [
    "dfa_pum2 = dfa[dfa.Gene_name.str.match(\"PUM2\") & \\\n",
    "               dfa.Organism.str.match(\"Homo_sapiens\")]\n",
    "dfa_pum2"
   ]
  },
  {
   "cell_type": "markdown",
   "metadata": {},
   "source": [
    "#### Visualization - PWM class"
   ]
  },
  {
   "cell_type": "markdown",
   "metadata": {},
   "source": [
    "The `PWM` class provides a method `plotPWM` to visualize the PWM."
   ]
  },
  {
   "cell_type": "code",
   "execution_count": 8,
   "metadata": {
    "collapsed": true
   },
   "outputs": [],
   "source": [
    "# Visualize the PUM2 Motifs from different experiments\n",
    "from concise.utils.pwm import PWM\n",
    "dfa_pum2_uniq = dfa_pum2[[\"Experiment_description\", \"PWM_id\"]].drop_duplicates()\n",
    "pwm_list = attract.get_pwm_list(dfa_pum2_uniq.PWM_id)"
   ]
  },
  {
   "cell_type": "code",
   "execution_count": 9,
   "metadata": {
    "collapsed": false
   },
   "outputs": [
    {
     "name": "stdout",
     "output_type": "stream",
     "text": [
      "PWM_id: 503 ; Experiment_description: X-RAY DIFFRACTION\n",
      "PWM_id: 361 ; Experiment_description: X-RAY DIFFRACTION\n",
      "PWM_id: 514 ; Experiment_description: X-RAY DIFFRACTION\n",
      "PWM_id: 116 ; Experiment_description: RIP-chip\n",
      "PWM_id: 129 ; Experiment_description: genome-wide in vivo immunoprecipitation\n",
      "PWM_id: 107 ; Experiment_description: PAR-clip\n"
     ]
    },
    {
     "data": {
      "image/png": "[encoded data removed]",
      "text/plain": [
       "<matplotlib.figure.Figure at 0x7f8fb62db8d0>"
      ]
     },
     "metadata": {},
     "output_type": "display_data"
    },
    {
     "data": {
      "image/png": "[encoded data removed]",
      "text/plain": [
       "<matplotlib.figure.Figure at 0x7f8f9b84b7f0>"
      ]
     },
     "metadata": {},
     "output_type": "display_data"
    },
    {
     "data": {
      "image/png": "[encoded data removed]",
      "text/plain": [
       "<matplotlib.figure.Figure at 0x7f8f9b70d400>"
      ]
     },
     "metadata": {},
     "output_type": "display_data"
    },
    {
     "data": {
      "image/png": "[encoded data removed]",
      "text/plain": [
       "<matplotlib.figure.Figure at 0x7f8f966006a0>"
      ]
     },
     "metadata": {},
     "output_type": "display_data"
    },
    {
     "data": {
      "image/png": "[encoded data removed]",
      "text/plain": [
       "<matplotlib.figure.Figure at 0x7f8f965377f0>"
      ]
     },
     "metadata": {},
     "output_type": "display_data"
    },
    {
     "data": {
      "image/png": "[encoded data removed]",
      "text/plain": [
       "<matplotlib.figure.Figure at 0x7f8f9646cc50>"
      ]
     },
     "metadata": {},
     "output_type": "display_data"
    }
   ],
   "source": [
    "for i, pwm in enumerate(pwm_list):\n",
    "    print(\"PWM_id:\", pwm.name, \"; Experiment_description:\", dfa_pum2_uniq.Experiment_description.iloc[i])\n",
    "    pwm.plotPWM(figsize=(3,1))"
   ]
  },
  {
   "cell_type": "markdown",
   "metadata": {},
   "source": [
    "We can select the PWM with id 129."
   ]
  },
  {
   "cell_type": "code",
   "execution_count": 10,
   "metadata": {
    "collapsed": true
   },
   "outputs": [],
   "source": [
    "pwm_list = [pwm for pwm in pwm_list if pwm.name == \"129\"]"
   ]
  },
  {
   "cell_type": "code",
   "execution_count": 11,
   "metadata": {
    "collapsed": false
   },
   "outputs": [
    {
     "data": {
      "text/plain": [
       "[PWM(name: 129, consensus: TGTAAATA)]"
      ]
     },
     "execution_count": 11,
     "metadata": {},
     "output_type": "execute_result"
    }
   ],
   "source": [
    "pwm_list"
   ]
  },
  {
   "cell_type": "markdown",
   "metadata": {},
   "source": [
    "### Initialize the conv filters with PWM values"
   ]
  },
  {
   "cell_type": "code",
   "execution_count": 12,
   "metadata": {
    "collapsed": true
   },
   "outputs": [],
   "source": [
    "import concise.layers as cl\n",
    "import keras.layers as kl\n",
    "import concise.initializers as ci\n",
    "import concise.regularizers as cr\n",
    "from keras.callbacks import EarlyStopping\n",
    "from concise.preprocessing import encodeDNA\n",
    "from keras.models import Model, load_model\n",
    "from keras.optimizers import Adam"
   ]
  },
  {
   "cell_type": "code",
   "execution_count": 13,
   "metadata": {
    "collapsed": false
   },
   "outputs": [],
   "source": [
    "# get the data\n",
    "def load(split=\"train\", st=None):\n",
    "    dt = pd.read_csv(\"../data/RBP/PUM2_{0}.csv\".format(split))\n",
    "    # DNA/RNA sequence\n",
    "    xseq = encodeDNA(dt.seq) # list of sequences -> np.ndarray\n",
    "    # response variable\n",
    "    y = dt.binding_site.as_matrix().reshape((-1, 1)).astype(\"float\")\n",
    "    return {\"seq\": xseq}, y\n",
    "\n",
    "train, valid, test = load(\"train\"), load(\"valid\"), load(\"test\")\n",
    "\n",
    "# deduce sequence length\n",
    "seq_length = train[0][\"seq\"].shape[1]"
   ]
  },
  {
   "cell_type": "code",
   "execution_count": 14,
   "metadata": {
    "collapsed": false
   },
   "outputs": [],
   "source": [
    "# define the model\n",
    "def model(train, filters=1, kernel_size=9, pwm_list=None, lr=0.001):\n",
    "    seq_length = train[0][\"seq\"].shape[1]\n",
    "    if pwm_list is None:\n",
    "        kinit = \"glorot_uniform\"\n",
    "        binit = \"zeros\"\n",
    "    else:\n",
    "        kinit = ci.PSSMKernelInitializer(pwm_list, add_noise_before_Pwm2Pssm=True)\n",
    "        binit = \"zeros\"\n",
    "        \n",
    "    # sequence\n",
    "    in_dna = cl.InputDNA(seq_length=seq_length, name=\"seq\")\n",
    "    x = cl.ConvDNA(filters=filters, \n",
    "                   kernel_size=kernel_size, \n",
    "                   activation=\"relu\",\n",
    "                   kernel_initializer=kinit,\n",
    "                   bias_initializer=binit,\n",
    "                   name=\"conv1\")(in_dna)\n",
    "    x = kl.AveragePooling1D(pool_size=4)(x)\n",
    "    x = kl.Flatten()(x)\n",
    "    \n",
    "    x = kl.Dense(units=1)(x)\n",
    "    m = Model(in_dna, x)\n",
    "    m.compile(Adam(lr=lr), loss=\"binary_crossentropy\", metrics=[\"acc\"])\n",
    "    return m"
   ]
  },
  {
   "cell_type": "markdown",
   "metadata": {},
   "source": [
    "`ci.PSSMKernelInitializer` will set the filters of the first convolutional layer to the values of the position-specific scoring matrix (PSSM):\n",
    "\n",
    "$$ pssm_{ij} = log \\frac{pwm_{ij}}{b_j} \\;,$$\n",
    "\n",
    "where $b_j$ is the background probability of observing base $j$.\n",
    "\n",
    "We add gaussian noise to each individual filter. Let's visualize the filters:"
   ]
  },
  {
   "cell_type": "code",
   "execution_count": 15,
   "metadata": {
    "collapsed": false
   },
   "outputs": [],
   "source": [
    "# create two models: with and without PWM initialization\n",
    "m_rand_init = model(train, filters=3, pwm_list=None) # random initialization\n",
    "m_pwm_init = model(train, filters=3, pwm_list=pwm_list) # motif initialization"
   ]
  },
  {
   "cell_type": "code",
   "execution_count": 17,
   "metadata": {
    "collapsed": false
   },
   "outputs": [
    {
     "name": "stdout",
     "output_type": "stream",
     "text": [
      "Random initialization:\n"
     ]
    },
    {
     "data": {
      "text/plain": [
       "<matplotlib.figure.Figure at 0x7f9003607208>"
      ]
     },
     "metadata": {},
     "output_type": "display_data"
    },
    {
     "data": {
      "image/png": "[encoded data removed]",
      "text/plain": [
       "<matplotlib.figure.Figure at 0x7f8f9bd96d30>"
      ]
     },
     "metadata": {},
     "output_type": "display_data"
    }
   ],
   "source": [
    "print(\"Random initialization:\")\n",
    "m_rand_init.get_layer(\"conv1\").plot_weights(figsize=(3, 5));"
   ]
  },
  {
   "cell_type": "code",
   "execution_count": 18,
   "metadata": {
    "collapsed": false
   },
   "outputs": [
    {
     "name": "stdout",
     "output_type": "stream",
     "text": [
      "Known PWM initialization:\n"
     ]
    },
    {
     "data": {
      "text/plain": [
       "<matplotlib.figure.Figure at 0x7f8f965565f8>"
      ]
     },
     "metadata": {},
     "output_type": "display_data"
    },
    {
     "data": {
      "image/png": "[encoded data removed]",
      "text/plain": [
       "<matplotlib.figure.Figure at 0x7f8f964c8518>"
      ]
     },
     "metadata": {},
     "output_type": "display_data"
    }
   ],
   "source": [
    "print(\"Known PWM initialization:\")\n",
    "m_pwm_init.get_layer(\"conv1\").plot_weights(figsize=(3, 5));"
   ]
  },
  {
   "cell_type": "code",
   "execution_count": 20,
   "metadata": {
    "collapsed": false,
    "scrolled": true
   },
   "outputs": [
    {
     "data": {
      "text/plain": [
       "<keras.callbacks.History at 0x7f8f9b78ce48>"
      ]
     },
     "execution_count": 20,
     "metadata": {},
     "output_type": "execute_result"
    }
   ],
   "source": [
    "# train the models\n",
    "m_rand_init.fit(train[0], train[1], epochs=50, validation_data=valid, \n",
    "                verbose=0,\n",
    "                callbacks=[EarlyStopping(patience=5)])"
   ]
  },
  {
   "cell_type": "code",
   "execution_count": 22,
   "metadata": {
    "collapsed": false,
    "scrolled": true
   },
   "outputs": [],
   "source": [
    "m_pwm_init.fit(train[0], train[1], epochs=50, validation_data=valid, \n",
    "                verbose=0,\n",
    "                callbacks=[EarlyStopping(patience=5)]);"
   ]
  },
  {
   "cell_type": "markdown",
   "metadata": {},
   "source": [
    "### Test-set performance"
   ]
  },
  {
   "cell_type": "code",
   "execution_count": 23,
   "metadata": {
    "collapsed": true
   },
   "outputs": [],
   "source": [
    "import concise.eval_metrics as cem"
   ]
  },
  {
   "cell_type": "code",
   "execution_count": 24,
   "metadata": {
    "collapsed": false
   },
   "outputs": [
    {
     "name": "stdout",
     "output_type": "stream",
     "text": [
      "Random intiailzation auPR: 0.580103849926\n",
      "Known PWM initialization auPR: 0.713372711603\n"
     ]
    }
   ],
   "source": [
    "# performance on the test-set\n",
    "# Random initialization\n",
    "print(\"Random intiailzation auPR:\", cem.auprc(test[1], m_rand_init.predict(test[0])))\n",
    "# PWM initialization\n",
    "print(\"Known PWM initialization auPR:\", cem.auprc(test[1], m_pwm_init.predict(test[0])))"
   ]
  },
  {
   "cell_type": "markdown",
   "metadata": {},
   "source": [
    "### Filter visualization"
   ]
  },
  {
   "cell_type": "code",
   "execution_count": 25,
   "metadata": {
    "collapsed": false
   },
   "outputs": [
    {
     "data": {
      "text/plain": [
       "<matplotlib.figure.Figure at 0x7f8f9b7d0fd0>"
      ]
     },
     "metadata": {},
     "output_type": "display_data"
    },
    {
     "data": {
      "image/png": "[encoded data removed]",
      "text/plain": [
       "<matplotlib.figure.Figure at 0x7f8f9b6f24e0>"
      ]
     },
     "metadata": {},
     "output_type": "display_data"
    }
   ],
   "source": [
    "m_rand_init.get_layer(\"conv1\").plot_weights(plot_type=\"motif_pwm_info\", figsize=(3, 5));"
   ]
  },
  {
   "cell_type": "code",
   "execution_count": 26,
   "metadata": {
    "collapsed": false
   },
   "outputs": [
    {
     "data": {
      "text/plain": [
       "<matplotlib.figure.Figure at 0x7f8f9b94c4e0>"
      ]
     },
     "metadata": {},
     "output_type": "display_data"
    },
    {
     "data": {
      "image/png": "[encoded data removed]",
      "text/plain": [
       "<matplotlib.figure.Figure at 0x7f8f956abb00>"
      ]
     },
     "metadata": {},
     "output_type": "display_data"
    }
   ],
   "source": [
    "m_pwm_init.get_layer(\"conv1\").plot_weights(plot_type=\"motif_pwm_info\", figsize=(3, 5));"
   ]
  },
  {
   "cell_type": "markdown",
   "metadata": {},
   "source": [
    "## Benefits of motif initialization\n",
    "\n",
    "- Interpretatbility\n",
    "  - we can use fewer filters and know that the major effect will be captured by the first filters\n",
    "    - handy when studying the model parameters\n",
    "- Better predictive performance\n",
    "- More stable training"
   ]
  }
 ],
 "metadata": {
  "anaconda-cloud": {},
  "kernelspec": {
   "display_name": "Python [default]",
   "language": "python",
   "name": "python3"
  },
  "language_info": {
   "codemirror_mode": {
    "name": "ipython",
    "version": 3
   },
   "file_extension": ".py",
   "mimetype": "text/x-python",
   "name": "python",
   "nbconvert_exporter": "python",
   "pygments_lexer": "ipython3",
   "version": "3.5.2"
  }
 },
 "nbformat": 4,
 "nbformat_minor": 2
}
