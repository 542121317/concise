{
 "cells": [
  {
   "cell_type": "markdown",
   "metadata": {},
   "source": [
    "## Hyper-parameter optimization in concise"
   ]
  },
  {
   "cell_type": "markdown",
   "metadata": {},
   "source": [
    "Hyper-parameter optimization comes quite handy in deep learning. There are different architectures to try out, different parameters, ... On the other hand, we only have a limited amount of time to inspect the results of each modeling choice and decide on the next set of hyper-parmaeters to try out.\n",
    "\n",
    "By hyper-parameters I refer to any parameter that are not optimized by the learning algorithm (i.e. gradient descent). Some examples are: learning rate of gradient descent, batch size, number of hidden layers, whether to use skip-connections, particular way of pre-processing the data (say data augmentation amount), etc etc.\n",
    "\n",
    "In genomics, being able to explore a vast amount of modeling choices automatically is important. Only a handful of papers (if any) have been written for your given task at hand, hence the space of different modeling choices has not been as extensively explored as for say image classification on [ImageNet](http://www.image-net.org/).\n",
    "\n",
    "I will guide you through the typical process of hyper-parameter optimization, using the example from [PWM_initialization.ipynb](PWM_initialization.ipynb)."
   ]
  },
  {
   "cell_type": "markdown",
   "metadata": {},
   "source": [
    "## Prerequisite\n",
    "\n",
    "- please go throught the hyperopt wiki: https://github.com/hyperopt/hyperopt/wiki"
   ]
  },
  {
   "cell_type": "markdown",
   "metadata": {},
   "source": [
    "## Steps in hyper-parameter optimization"
   ]
  },
  {
   "cell_type": "markdown",
   "metadata": {
    "collapsed": true
   },
   "source": [
    "1. Parametrize your preprocessing, model and training procedure\n",
    "2. Define a range of values (and their distribution) for all the parameters\n",
    "3. Run the optimization in a distributed fashion (on a cluster/multiple machines in parallel)\n",
    "4. Inspect the results\n",
    "  - Choose the best model\n",
    "  - inspect the hyper-parameter <-> evaluation loss relation"
   ]
  },
  {
   "cell_type": "markdown",
   "metadata": {},
   "source": [
    "## 1. Parametrize your preprocessing, model and training procedure"
   ]
  },
  {
   "cell_type": "markdown",
   "metadata": {},
   "source": [
    "Hyper-parameter optimization in CONCISE assumes you have defined two functions: `data(...)` and `model(...)`."
   ]
  },
  {
   "cell_type": "markdown",
   "metadata": {},
   "source": [
    "### data() function"
   ]
  },
  {
   "cell_type": "markdown",
   "metadata": {},
   "source": [
    "First, the define `data(...)`: a function returing the whole trainig, validation and test dataset.\n",
    "\n",
    "- data() - returns a tuple: (train, test) or (train, valid, test), where:\n",
    "  - train = (X_train, y_train, other1, other2, ...)\n",
    "  - valid = (X_valid, y_valid)\n",
    "  - test = (X_test, y_test)\n",
    "\n",
    "- `X_*` is a numpy array, list of numpy arrays or a dictionary of numpy array\n",
    "- `y_*` is the response variable\n",
    "\n",
    "`X_train` and `y_train` are directly feed to the .fit method of a Keras model: `model.fit(x=X_train, y = y_train, ...)`"
   ]
  },
  {
   "cell_type": "markdown",
   "metadata": {},
   "source": [
    "#### Example\n",
    "\n"
   ]
  },
  {
   "cell_type": "code",
   "execution_count": 1,
   "metadata": {
    "collapsed": false
   },
   "outputs": [
    {
     "name": "stderr",
     "output_type": "stream",
     "text": [
      "Using TensorFlow backend.\n"
     ]
    }
   ],
   "source": [
    "from concise.preprocessing import encodeDNA\n",
    "import pandas as pd\n",
    "import numpy as np"
   ]
  },
  {
   "cell_type": "code",
   "execution_count": 2,
   "metadata": {
    "collapsed": true
   },
   "outputs": [],
   "source": [
    "def data(seq_length=101):\n",
    "      \n",
    "    def load(split=\"train\"):\n",
    "        dt = pd.read_csv(\"../data/RBP/PUM2_{0}.csv\".format(split))\n",
    "        # DNA/RNA sequence\n",
    "        xseq = encodeDNA(dt.seq, maxlen=seq_length, seq_align='center')\n",
    "        # response variable\n",
    "        y = dt.binding_site.as_matrix().reshape((-1, 1)).astype(\"float\")\n",
    "        if split==\"train\":\n",
    "            from concise.data import attract\n",
    "            # add also the pwm_list\n",
    "            pwm_list = attract.get_pwm_list([\"129\"])\n",
    "            return {\"seq\": xseq}, y, pwm_list\n",
    "        else:\n",
    "            return {\"seq\": xseq}, y\n",
    "\n",
    "    return load(\"train\"), load(\"valid\"), load(\"test\")"
   ]
  },
  {
   "cell_type": "code",
   "execution_count": 3,
   "metadata": {
    "collapsed": false
   },
   "outputs": [],
   "source": [
    "train, valid, test = data()"
   ]
  },
  {
   "cell_type": "markdown",
   "metadata": {},
   "source": [
    "### model() function"
   ]
  },
  {
   "cell_type": "markdown",
   "metadata": {},
   "source": [
    "`model()` returns a compiled Keras model. The only restriction on the parameters is that the function needs a `train_data` parameter. This allows you to extract the shape of your dataset."
   ]
  },
  {
   "cell_type": "code",
   "execution_count": 101,
   "metadata": {
    "collapsed": false
   },
   "outputs": [],
   "source": [
    "import concise.layers as cl\n",
    "import keras.layers as kl\n",
    "import concise.initializers as ci\n",
    "import concise.regularizers as cr\n",
    "from keras.callbacks import EarlyStopping\n",
    "from keras.models import Model, load_model\n",
    "from keras.optimizers import Adam\n",
    "\n",
    "def model(train_data, filters=1, kernel_size=9, motif_init=None, lr=0.001):\n",
    "    seq_length = train_data[0][\"seq\"].shape[1]\n",
    "    pwm_list = train_data[2]\n",
    "    \n",
    "    if motif_init is not None:\n",
    "        # Motif init is a dictionary with fields: \"stddev\" \n",
    "        kinit = ci.PSSMKernelInitializer(pwm_list, \n",
    "                                         stddev=motif_init.get(\"stddev\", 0.05),  # if not specified, use 0.05\n",
    "                                         add_noise_before_Pwm2Pssm=True)\n",
    "        binit = \"zeros\"\n",
    "    else:\n",
    "        kinit = \"glorot_uniform\"\n",
    "        binit = \"zeros\"\n",
    "        \n",
    "        \n",
    "    # sequence\n",
    "    in_dna = cl.InputDNA(seq_length=seq_length, name=\"seq\")\n",
    "    x = cl.ConvDNA(filters=filters, \n",
    "                   kernel_size=kernel_size, \n",
    "                   activation=\"relu\",\n",
    "                   kernel_initializer=kinit,\n",
    "                   bias_initializer=binit,\n",
    "                   name=\"conv1\")(in_dna)\n",
    "    x = kl.AveragePooling1D(pool_size=4)(x)\n",
    "    x = kl.Flatten()(x)\n",
    "    \n",
    "    x = kl.Dense(units=1)(x)\n",
    "    m = Model(in_dna, x)\n",
    "    m.compile(Adam(lr=lr), loss=\"binary_crossentropy\", metrics=[\"acc\"])\n",
    "    return m"
   ]
  },
  {
   "cell_type": "markdown",
   "metadata": {},
   "source": [
    "## 2. Define a search space for each hyper-parameter"
   ]
  },
  {
   "cell_type": "markdown",
   "metadata": {},
   "source": [
    "Current hyper-parameters are the arguments of `data` and `model` functions:\n",
    "\n",
    "- data:\n",
    "  - seq_length\n",
    "- model:\n",
    "  - filters\n",
    "  - kernel_size\n",
    "  - motif_init (yes or no)\n",
    "    - if yes: stddev\n",
    "  - lr\n",
    "\n",
    "Let's use a hyperopt pyll graph to define the hyper-parameter search space:"
   ]
  },
  {
   "cell_type": "code",
   "execution_count": 18,
   "metadata": {
    "collapsed": false
   },
   "outputs": [],
   "source": [
    "from hyperopt import fmin, tpe, hp, STATUS_OK, Trials\n",
    "\n",
    "hyper_params = {\n",
    "    \"data\": {\n",
    "        \"seq_length\": hp.choice(\"d_seq_length\", (101, 51, 21))\n",
    "    },\n",
    "    \"model\": {\n",
    "        \"filters\": hp.choice(\"m_filters\", (1, 16)),\n",
    "        \"kernel_size\": 15,\n",
    "        \"motif_init\": hp.choice(\"m_motif_init\", (\n",
    "                None,\n",
    "                {\"stddev\": hp.uniform(\"m_stddev\", 0, 0.2)}\n",
    "            )),\n",
    "        \"lr\": hp.loguniform(\"m_lr\", np.log(1e-4), np.log(1e-2)) # 0.0001 - 0.01\n",
    "        },\n",
    "    \"fit\": {\n",
    "        \"epochs\": 1,\n",
    "        \"patience\": 5,\n",
    "        \"batch_size\": 128,\n",
    "    }\n",
    "}"
   ]
  },
  {
   "cell_type": "markdown",
   "metadata": {},
   "source": [
    "We are saying that\n",
    "- `seq_length` in the data function should be 21, 51 or 101\n",
    "- we should use 1 or 16 filter\n",
    "- the learning rate should be from the range `[1e-4, 1e-2]`, sampled on a log-scale\n",
    "- ...\n",
    "\n",
    "Hyperopt also allows parameter nesting. This is demonstrated with the `[\"model\"][\"motif_init\"]` parameter: we want to try a model with and without motif initialization...and if we decide on motif initialization, we want to explore different options for the \"sttdev\" parameter.\n",
    "\n",
    "Read the `hyperopt` documentation about [defining the search space](https://github.com/hyperopt/hyperopt/wiki/FMin#2-defining-a-search-space) for more information."
   ]
  },
  {
   "cell_type": "markdown",
   "metadata": {},
   "source": [
    "Note that in addition to the `data()` and `model()` function arguments, we can also specify the hyper-parameters related to the training procedure (say batch_size or early-stopping patience)."
   ]
  },
  {
   "cell_type": "markdown",
   "metadata": {},
   "source": [
    "## 3. Run the optimization"
   ]
  },
  {
   "cell_type": "code",
   "execution_count": 13,
   "metadata": {
    "collapsed": true
   },
   "outputs": [],
   "source": [
    "from concise.hyopt import CompileFN, CMongoTrials, test_fn"
   ]
  },
  {
   "cell_type": "markdown",
   "metadata": {},
   "source": [
    "To run hyperopt, you need to define an objective function to minimize and the space of parameters you want to explore. Here is an example from the hyperopt tutorial:"
   ]
  },
  {
   "cell_type": "code",
   "execution_count": 16,
   "metadata": {
    "collapsed": false
   },
   "outputs": [
    {
     "name": "stdout",
     "output_type": "stream",
     "text": [
      "{'x': -0.0037076787079246554}\n"
     ]
    }
   ],
   "source": [
    "import pickle\n",
    "import time\n",
    "from hyperopt import fmin, tpe, hp, STATUS_OK, Trials\n",
    "\n",
    "logger = logging.getLogger()\n",
    "logger.setLevel(logging.WARN)\n",
    "\n",
    "def objective(x):\n",
    "    return {'loss': x ** 2, 'status': STATUS_OK }\n",
    "\n",
    "import logging\n",
    "best = fmin(objective,\n",
    "        space=hp.uniform('x', -10, 10),\n",
    "        algo=tpe.suggest,\n",
    "        max_evals=100)\n",
    "\n",
    "print(best)"
   ]
  },
  {
   "cell_type": "markdown",
   "metadata": {},
   "source": [
    "For supervised learning, the objective function is the evaluation metric on the validation dataset. Concise provides a class to compile the objective function given the data() and the model() function:"
   ]
  },
  {
   "cell_type": "code",
   "execution_count": 32,
   "metadata": {
    "collapsed": false
   },
   "outputs": [],
   "source": [
    "import hyopt_example # module with data.py and model.py\n",
    "# We are using the data() and model() functions defined in a file\n",
    "# The reason is that the serialization doens't work with functions\n",
    "# defined in the notebook\n",
    "objective = CompileFN(db_name=\"mydb\", exp_name=\"motif_initialization\",  # experiment name\n",
    "                      data_fn=hyopt_example.data.data,\n",
    "                      model_fn=hyopt_example.model.model, \n",
    "                      add_eval_metrics=[\"auprc\", \"auc\"], # metrics from concise.eval_metrics, you can also use your own\n",
    "                      loss_metric=\"auprc\", # which metric to optimize for\n",
    "                      loss_metric_mode=\"max\", # maximum should be searched for\n",
    "                      valid_split=None, # use valid from the data function\n",
    "                      save_model='best', # checkpoint the best model\n",
    "                      save_results=True, # save the results as .json (in addition to mongoDB)\n",
    "                      save_dir=\"./saved_models/\")  # place to store the models"
   ]
  },
  {
   "cell_type": "markdown",
   "metadata": {},
   "source": [
    "Now, we can use hyper-opt do search the hyper-parameters:"
   ]
  },
  {
   "cell_type": "markdown",
   "metadata": {},
   "source": [
    "### Test if everything works"
   ]
  },
  {
   "cell_type": "markdown",
   "metadata": {},
   "source": [
    "Before starting many workers, its good to try running the objective function once. It's much easier to debug it that way."
   ]
  },
  {
   "cell_type": "code",
   "execution_count": 31,
   "metadata": {
    "collapsed": false
   },
   "outputs": [
    {
     "name": "stdout",
     "output_type": "stream",
     "text": [
      "['loss', 'acc']\n",
      "Train on 1000 samples, validate on 4881 samples\n",
      "Epoch 1/1\n",
      "0s - loss: 3.3390 - acc: 0.7110 - val_loss: 3.0101 - val_acc: 0.7630\n",
      "Returned value:\n",
      "{'eval': {'acc': 0.76295840740203857,\n",
      "          'auc': 0.52598029221882436,\n",
      "          'auprc': 0.26792649640861294,\n",
      "          'loss': 3.0101253986358643},\n",
      " 'history': {'loss': {'acc': [0.71100000238418581],\n",
      "                      'epoch': [0],\n",
      "                      'loss': [3.3390192050933836],\n",
      "                      'val_acc': [0.76295841021069832],\n",
      "                      'val_loss': [3.0101239079458013]},\n",
      "             'params': {'batch_size': 128,\n",
      "                        'do_validation': True,\n",
      "                        'epochs': 1,\n",
      "                        'metrics': ['loss', 'acc', 'val_loss', 'val_acc'],\n",
      "                        'samples': 1000,\n",
      "                        'verbose': 2}},\n",
      " 'loss': -0.26792649640861294,\n",
      " 'name': {'data': 'data',\n",
      "          'loss_metric': 'auprc',\n",
      "          'loss_metric_mode': 'auprc',\n",
      "          'model': 'model'},\n",
      " 'param': {'data': {'seq_length': 21},\n",
      "           'fit': {'batch_size': 128,\n",
      "                   'early_stop_monitor': 'val_loss',\n",
      "                   'epochs': 1,\n",
      "                   'patience': 5},\n",
      "           'model': {'filters': 1,\n",
      "                     'kernel_size': 15,\n",
      "                     'lr': 0.003247782705479872,\n",
      "                     'motif_init': {'stddev': 0.14415181695216578}}},\n",
      " 'path': {'model': '/tmp/concise_hyopt_test//mydb/motif_initialization//train_models/87d14216-6556-434b-8ccd-fe220468e28b.h5',\n",
      "          'results': '/tmp/concise_hyopt_test//mydb/motif_initialization//train_models/87d14216-6556-434b-8ccd-fe220468e28b.json'},\n",
      " 'status': 'ok',\n",
      " 'time': {'duration': {'dataload': 10.259849,\n",
      "                       'total': 11.342775,\n",
      "                       'training': 1.082926},\n",
      "          'end': '2017-08-16 15:00:05.971063',\n",
      "          'start': '2017-08-16 14:59:54.628288'}}\n"
     ]
    }
   ],
   "source": [
    "# Test if the objective function works on a subset of data for one random hyper-parameter set\n",
    "test_fn(objective, hyper_params)"
   ]
  },
  {
   "cell_type": "markdown",
   "metadata": {},
   "source": [
    "### Run locally and sequentially"
   ]
  },
  {
   "cell_type": "markdown",
   "metadata": {},
   "source": [
    "Trials() from hyperopt will run the jobs sequentially on a single machine"
   ]
  },
  {
   "cell_type": "code",
   "execution_count": null,
   "metadata": {
    "collapsed": true
   },
   "outputs": [],
   "source": [
    "cd hyopt_example"
   ]
  },
  {
   "cell_type": "code",
   "execution_count": 28,
   "metadata": {
    "collapsed": false
   },
   "outputs": [
    {
     "name": "stdout",
     "output_type": "stream",
     "text": [
      "['loss', 'acc']\n",
      "Train on 17713 samples, validate on 4881 samples\n",
      "Epoch 1/1\n",
      "0s - loss: 0.6748 - acc: 0.7959 - val_loss: 0.5141 - val_acc: 0.7990\n",
      "['loss', 'acc']\n",
      "Train on 17713 samples, validate on 4881 samples\n",
      "Epoch 1/1\n",
      "0s - loss: 0.5069 - acc: 0.7957 - val_loss: 0.4666 - val_acc: 0.8007\n",
      "['loss', 'acc']\n",
      "Train on 17713 samples, validate on 4881 samples\n",
      "Epoch 1/1\n",
      "1s - loss: 0.5480 - acc: 0.7957 - val_loss: 0.4886 - val_acc: 0.7990\n"
     ]
    }
   ],
   "source": [
    "trials = Trials(\"hyopt_example\")\n",
    "best = fmin(objective,\n",
    "            space=hyper_params,\n",
    "            algo=tpe.suggest,\n",
    "            trials=trials,\n",
    "            max_evals=3)"
   ]
  },
  {
   "cell_type": "markdown",
   "metadata": {},
   "source": [
    "### Running the optimization in parallel on multiple workers"
   ]
  },
  {
   "cell_type": "markdown",
   "metadata": {},
   "source": [
    "MongoTrials will defer the work to multiple workers running in parallel. All the results will get stored to the MongoDB database."
   ]
  },
  {
   "cell_type": "code",
   "execution_count": 30,
   "metadata": {
    "collapsed": false,
    "scrolled": true
   },
   "outputs": [
    {
     "name": "stderr",
     "output_type": "stream",
     "text": [
      "2017-08-16 14:59:26,520 [WARNING] over-writing old domain trials attachment\n"
     ]
    }
   ],
   "source": [
    "# just replaced Trials with CMongoTrials\n",
    "trials = CMongoTrials(db_name=\"hyopt_example\", exp_name=\"motif_initialization\")\n",
    "best = fmin(objective,\n",
    "            space=hyper_params,\n",
    "            algo=tpe.suggest,\n",
    "            trials=trials,\n",
    "            max_evals=300)"
   ]
  },
  {
   "cell_type": "markdown",
   "metadata": {},
   "source": [
    "This script waits for workers to complete the work. Start the workers by running the following bash script many times in parallel:"
   ]
  },
  {
   "cell_type": "markdown",
   "metadata": {},
   "source": [
    "```bash\n",
    "#!/bin/bash\n",
    "#\n",
    "# Slurm parameters\n",
    "#SBATCH --mem=16G\n",
    "#SBATCH -c 4\n",
    "# ------------------\n",
    "\n",
    "DB=hyopt_example\n",
    "# path to the repository containing the script\n",
    "export PYTHONPATH=\".\"\n",
    "\n",
    "hyperopt-mongo-worker \\\n",
    "    --mongo=ouga03:1234/$DB \\\n",
    "    --poll-interval=1 \\\n",
    "    --reserve-timeout=3600 \\\n",
    "    --workdir=\".\"\n",
    "```"
   ]
  },
  {
   "cell_type": "markdown",
   "metadata": {},
   "source": [
    "### Running the workers on SLURM"
   ]
  },
  {
   "cell_type": "markdown",
   "metadata": {},
   "source": [
    "Run: \n",
    "```bash\n",
    "$ for i in {1..20}; do sbatch start_worker.bash; done\n",
    "```"
   ]
  },
  {
   "cell_type": "markdown",
   "metadata": {},
   "source": [
    "## Sidenote: Code organization"
   ]
  },
  {
   "cell_type": "markdown",
   "metadata": {},
   "source": [
    "I typically organize the code in the following files:\n",
    "\n",
    "- data.py\n",
    "  - contains data() function\n",
    "- model.py\n",
    "  - contains model() function\n",
    "- train.py\n",
    "  - Defines the hyper_parameter ranges\n",
    "  - Runs hyperopt.fmin()  \n",
    "  \n",
    "See the `nbs/hyopt_example` folder."
   ]
  },
  {
   "cell_type": "markdown",
   "metadata": {},
   "source": [
    "## 4. Inspect the results"
   ]
  },
  {
   "cell_type": "markdown",
   "metadata": {},
   "source": [
    "Hyperopt keeps track of all the trials (parameters + resulting objective loss) in a Monogo database. The object `hyperopt.MongoTrials` provides a handle to the databse. Concise extends the class `hyperopt.MongoTrials` with some additional methods for easier hyper-parameter inspection.\n",
    "\n",
    "Since the results are stored in a database, you only need to know the database and the experiment name in order to access the database from any folder:"
   ]
  },
  {
   "cell_type": "code",
   "execution_count": 173,
   "metadata": {
    "collapsed": false
   },
   "outputs": [
    {
     "name": "stderr",
     "output_type": "stream",
     "text": [
      "2017-08-16 11:54:49,098 [INFO] PROTOCOL mongo\n",
      "2017-08-16 11:54:49,098 [INFO] USERNAME None\n",
      "2017-08-16 11:54:49,099 [INFO] HOSTNAME ouga03\n",
      "2017-08-16 11:54:49,100 [INFO] PORT 1234\n",
      "2017-08-16 11:54:49,101 [INFO] PATH /hyopt_example/jobs\n",
      "2017-08-16 11:54:49,101 [INFO] DB hyopt_example\n",
      "2017-08-16 11:54:49,102 [INFO] COLLECTION jobs\n",
      "2017-08-16 11:54:49,103 [INFO] PASS None\n"
     ]
    }
   ],
   "source": [
    "trials = CMongoTrials(db_name=\"hyopt_example\", exp_name=\"motif_initialization\", ip=\"ouga03\")"
   ]
  },
  {
   "cell_type": "code",
   "execution_count": 174,
   "metadata": {
    "collapsed": false
   },
   "outputs": [
    {
     "data": {
      "text/plain": [
       "300"
      ]
     },
     "execution_count": 174,
     "metadata": {},
     "output_type": "execute_result"
    }
   ],
   "source": [
    "# Number of completed trials\n",
    "len(trials)"
   ]
  },
  {
   "cell_type": "markdown",
   "metadata": {},
   "source": [
    "### Tidy table of hyperparameters"
   ]
  },
  {
   "cell_type": "code",
   "execution_count": 175,
   "metadata": {
    "collapsed": false
   },
   "outputs": [
    {
     "data": {
      "text/html": [
       "<div>\n",
       "<style>\n",
       "    .dataframe thead tr:only-child th {\n",
       "        text-align: right;\n",
       "    }\n",
       "\n",
       "    .dataframe thead th {\n",
       "        text-align: left;\n",
       "    }\n",
       "\n",
       "    .dataframe tbody tr th {\n",
       "        vertical-align: top;\n",
       "    }\n",
       "</style>\n",
       "<table border=\"1\" class=\"dataframe\">\n",
       "  <thead>\n",
       "    <tr style=\"text-align: right;\">\n",
       "      <th></th>\n",
       "      <th>tid</th>\n",
       "      <th>loss</th>\n",
       "      <th>status</th>\n",
       "      <th>eval.acc</th>\n",
       "      <th>eval.auc</th>\n",
       "      <th>eval.auprc</th>\n",
       "      <th>eval.loss</th>\n",
       "      <th>name.data</th>\n",
       "      <th>name.loss_metric</th>\n",
       "      <th>name.loss_metric_mode</th>\n",
       "      <th>name.model</th>\n",
       "      <th>param.data.seq_length</th>\n",
       "      <th>param.fit.batch_size</th>\n",
       "      <th>param.fit.early_stop_monitor</th>\n",
       "      <th>param.fit.epochs</th>\n",
       "      <th>param.fit.patience</th>\n",
       "      <th>param.model.filters</th>\n",
       "      <th>param.model.kernel_size</th>\n",
       "      <th>param.model.lr</th>\n",
       "      <th>param.model.motif_init</th>\n",
       "      <th>param.model.motif_init.stddev</th>\n",
       "      <th>path.model</th>\n",
       "      <th>path.results</th>\n",
       "      <th>time.duration.dataload</th>\n",
       "      <th>time.duration.total</th>\n",
       "      <th>time.duration.training</th>\n",
       "      <th>time.end</th>\n",
       "      <th>time.start</th>\n",
       "      <th>n_epoch</th>\n",
       "    </tr>\n",
       "  </thead>\n",
       "  <tbody>\n",
       "    <tr>\n",
       "      <th>257</th>\n",
       "      <td>277</td>\n",
       "      <td>-0.7221</td>\n",
       "      <td>ok</td>\n",
       "      <td>0.8701</td>\n",
       "      <td>0.8693</td>\n",
       "      <td>0.7221</td>\n",
       "      <td>0.3543</td>\n",
       "      <td>data</td>\n",
       "      <td>auprc</td>\n",
       "      <td>auprc</td>\n",
       "      <td>model</td>\n",
       "      <td>101</td>\n",
       "      <td>128</td>\n",
       "      <td>val_loss</td>\n",
       "      <td>50</td>\n",
       "      <td>5</td>\n",
       "      <td>16</td>\n",
       "      <td>15</td>\n",
       "      <td>0.0054</td>\n",
       "      <td>NaN</td>\n",
       "      <td>0.0252</td>\n",
       "      <td>./saved_models/hyopt_...</td>\n",
       "      <td>./saved_models/hyopt_...</td>\n",
       "      <td>23.1172</td>\n",
       "      <td>52.1519</td>\n",
       "      <td>29.0347</td>\n",
       "      <td>2017-08-16 11:52:06.8...</td>\n",
       "      <td>2017-08-16 11:51:14.6...</td>\n",
       "      <td>14</td>\n",
       "    </tr>\n",
       "    <tr>\n",
       "      <th>137</th>\n",
       "      <td>157</td>\n",
       "      <td>-0.7218</td>\n",
       "      <td>ok</td>\n",
       "      <td>0.8689</td>\n",
       "      <td>0.8725</td>\n",
       "      <td>0.7218</td>\n",
       "      <td>0.3417</td>\n",
       "      <td>data</td>\n",
       "      <td>auprc</td>\n",
       "      <td>auprc</td>\n",
       "      <td>model</td>\n",
       "      <td>101</td>\n",
       "      <td>128</td>\n",
       "      <td>val_loss</td>\n",
       "      <td>50</td>\n",
       "      <td>5</td>\n",
       "      <td>16</td>\n",
       "      <td>15</td>\n",
       "      <td>0.0050</td>\n",
       "      <td>NaN</td>\n",
       "      <td>0.0102</td>\n",
       "      <td>./saved_models/hyopt_...</td>\n",
       "      <td>./saved_models/hyopt_...</td>\n",
       "      <td>28.3887</td>\n",
       "      <td>93.0859</td>\n",
       "      <td>64.6972</td>\n",
       "      <td>2017-08-16 11:46:30.3...</td>\n",
       "      <td>2017-08-16 11:44:57.2...</td>\n",
       "      <td>34</td>\n",
       "    </tr>\n",
       "    <tr>\n",
       "      <th>275</th>\n",
       "      <td>295</td>\n",
       "      <td>-0.7191</td>\n",
       "      <td>ok</td>\n",
       "      <td>0.8697</td>\n",
       "      <td>0.8708</td>\n",
       "      <td>0.7191</td>\n",
       "      <td>0.3504</td>\n",
       "      <td>data</td>\n",
       "      <td>auprc</td>\n",
       "      <td>auprc</td>\n",
       "      <td>model</td>\n",
       "      <td>101</td>\n",
       "      <td>128</td>\n",
       "      <td>val_loss</td>\n",
       "      <td>50</td>\n",
       "      <td>5</td>\n",
       "      <td>16</td>\n",
       "      <td>15</td>\n",
       "      <td>0.0055</td>\n",
       "      <td>NaN</td>\n",
       "      <td>0.0253</td>\n",
       "      <td>./saved_models/hyopt_...</td>\n",
       "      <td>./saved_models/hyopt_...</td>\n",
       "      <td>28.5676</td>\n",
       "      <td>66.6112</td>\n",
       "      <td>38.0437</td>\n",
       "      <td>2017-08-16 11:53:20.5...</td>\n",
       "      <td>2017-08-16 11:52:13.9...</td>\n",
       "      <td>21</td>\n",
       "    </tr>\n",
       "    <tr>\n",
       "      <th>294</th>\n",
       "      <td>314</td>\n",
       "      <td>-0.7188</td>\n",
       "      <td>ok</td>\n",
       "      <td>0.8728</td>\n",
       "      <td>0.8660</td>\n",
       "      <td>0.7188</td>\n",
       "      <td>0.3597</td>\n",
       "      <td>data</td>\n",
       "      <td>auprc</td>\n",
       "      <td>auprc</td>\n",
       "      <td>model</td>\n",
       "      <td>101</td>\n",
       "      <td>128</td>\n",
       "      <td>val_loss</td>\n",
       "      <td>50</td>\n",
       "      <td>5</td>\n",
       "      <td>16</td>\n",
       "      <td>15</td>\n",
       "      <td>0.0090</td>\n",
       "      <td>NaN</td>\n",
       "      <td>0.0363</td>\n",
       "      <td>./saved_models/hyopt_...</td>\n",
       "      <td>./saved_models/hyopt_...</td>\n",
       "      <td>28.3512</td>\n",
       "      <td>50.3183</td>\n",
       "      <td>21.9670</td>\n",
       "      <td>2017-08-16 11:54:08.6...</td>\n",
       "      <td>2017-08-16 11:53:18.3...</td>\n",
       "      <td>10</td>\n",
       "    </tr>\n",
       "    <tr>\n",
       "      <th>270</th>\n",
       "      <td>290</td>\n",
       "      <td>-0.7148</td>\n",
       "      <td>ok</td>\n",
       "      <td>0.8687</td>\n",
       "      <td>0.8686</td>\n",
       "      <td>0.7148</td>\n",
       "      <td>0.3518</td>\n",
       "      <td>data</td>\n",
       "      <td>auprc</td>\n",
       "      <td>auprc</td>\n",
       "      <td>model</td>\n",
       "      <td>101</td>\n",
       "      <td>128</td>\n",
       "      <td>val_loss</td>\n",
       "      <td>50</td>\n",
       "      <td>5</td>\n",
       "      <td>16</td>\n",
       "      <td>15</td>\n",
       "      <td>0.0067</td>\n",
       "      <td>NaN</td>\n",
       "      <td>0.0463</td>\n",
       "      <td>./saved_models/hyopt_...</td>\n",
       "      <td>./saved_models/hyopt_...</td>\n",
       "      <td>23.6120</td>\n",
       "      <td>58.8660</td>\n",
       "      <td>35.2540</td>\n",
       "      <td>2017-08-16 11:53:04.3...</td>\n",
       "      <td>2017-08-16 11:52:05.4...</td>\n",
       "      <td>17</td>\n",
       "    </tr>\n",
       "  </tbody>\n",
       "</table>\n",
       "</div>"
      ],
      "text/plain": [
       "     tid    loss status  eval.acc  eval.auc  eval.auprc  eval.loss name.data name.loss_metric  \\\n",
       "257  277 -0.7221     ok    0.8701    0.8693      0.7221     0.3543      data            auprc   \n",
       "137  157 -0.7218     ok    0.8689    0.8725      0.7218     0.3417      data            auprc   \n",
       "275  295 -0.7191     ok    0.8697    0.8708      0.7191     0.3504      data            auprc   \n",
       "294  314 -0.7188     ok    0.8728    0.8660      0.7188     0.3597      data            auprc   \n",
       "270  290 -0.7148     ok    0.8687    0.8686      0.7148     0.3518      data            auprc   \n",
       "\n",
       "    name.loss_metric_mode name.model  param.data.seq_length  param.fit.batch_size  \\\n",
       "257                 auprc      model                    101                   128   \n",
       "137                 auprc      model                    101                   128   \n",
       "275                 auprc      model                    101                   128   \n",
       "294                 auprc      model                    101                   128   \n",
       "270                 auprc      model                    101                   128   \n",
       "\n",
       "    param.fit.early_stop_monitor  param.fit.epochs  param.fit.patience  param.model.filters  \\\n",
       "257                  val_loss                   50                   5                   16   \n",
       "137                  val_loss                   50                   5                   16   \n",
       "275                  val_loss                   50                   5                   16   \n",
       "294                  val_loss                   50                   5                   16   \n",
       "270                  val_loss                   50                   5                   16   \n",
       "\n",
       "     param.model.kernel_size  param.model.lr  param.model.motif_init  \\\n",
       "257                       15          0.0054                     NaN   \n",
       "137                       15          0.0050                     NaN   \n",
       "275                       15          0.0055                     NaN   \n",
       "294                       15          0.0090                     NaN   \n",
       "270                       15          0.0067                     NaN   \n",
       "\n",
       "     param.model.motif_init.stddev                path.model              path.results  \\\n",
       "257                    0.0252       ./saved_models/hyopt_...  ./saved_models/hyopt_...   \n",
       "137                    0.0102       ./saved_models/hyopt_...  ./saved_models/hyopt_...   \n",
       "275                    0.0253       ./saved_models/hyopt_...  ./saved_models/hyopt_...   \n",
       "294                    0.0363       ./saved_models/hyopt_...  ./saved_models/hyopt_...   \n",
       "270                    0.0463       ./saved_models/hyopt_...  ./saved_models/hyopt_...   \n",
       "\n",
       "     time.duration.dataload  time.duration.total  time.duration.training  \\\n",
       "257                 23.1172              52.1519                 29.0347   \n",
       "137                 28.3887              93.0859                 64.6972   \n",
       "275                 28.5676              66.6112                 38.0437   \n",
       "294                 28.3512              50.3183                 21.9670   \n",
       "270                 23.6120              58.8660                 35.2540   \n",
       "\n",
       "                     time.end                time.start  n_epoch  \n",
       "257  2017-08-16 11:52:06.8...  2017-08-16 11:51:14.6...       14  \n",
       "137  2017-08-16 11:46:30.3...  2017-08-16 11:44:57.2...       34  \n",
       "275  2017-08-16 11:53:20.5...  2017-08-16 11:52:13.9...       21  \n",
       "294  2017-08-16 11:54:08.6...  2017-08-16 11:53:18.3...       10  \n",
       "270  2017-08-16 11:53:04.3...  2017-08-16 11:52:05.4...       17  "
      ]
     },
     "execution_count": 175,
     "metadata": {},
     "output_type": "execute_result"
    }
   ],
   "source": [
    "df = trials.as_df().sort_values(\"eval.auprc\")\n",
    "df.sort_values(\"eval.auprc\", ascending=False).head()"
   ]
  },
  {
   "cell_type": "markdown",
   "metadata": {},
   "source": [
    "We can see that the best trial achieved auPRC=0.72 on the validation set."
   ]
  },
  {
   "cell_type": "markdown",
   "metadata": {},
   "source": [
    "### Was the number of evaulated trials enough?"
   ]
  },
  {
   "cell_type": "code",
   "execution_count": 176,
   "metadata": {
    "collapsed": false
   },
   "outputs": [],
   "source": [
    "best_loss = np.maximum.accumulate(df.sort_values(\"tid\")[\"eval.auprc\"])"
   ]
  },
  {
   "cell_type": "code",
   "execution_count": 178,
   "metadata": {
    "collapsed": false
   },
   "outputs": [
    {
     "data": {
      "image/png": "[encoded data removed]",
      "text/plain": [
       "<matplotlib.figure.Figure at 0x7ff245110a58>"
      ]
     },
     "metadata": {},
     "output_type": "display_data"
    }
   ],
   "source": [
    "fig, ax = plt.subplots(nrows=2, figsize=(7,7))\n",
    "fig.tight_layout()\n",
    "ax[0].plot(df.sort_values(\"tid\")[\"eval.auprc\"], linestyle=\"\", marker=\"o\")\n",
    "ax[0].set(ylabel=\"Validation auPRC\")\n",
    "ax[1].plot(best_loss)\n",
    "ax[1].set(xlabel=\"Iteration\",ylabel=\"Best validation auPRC\");"
   ]
  },
  {
   "cell_type": "markdown",
   "metadata": {},
   "source": [
    "We can see that through time, hyperopt finds more and more good hyper-parameter configurations."
   ]
  },
  {
   "cell_type": "markdown",
   "metadata": {},
   "source": [
    "### Load best model, evaluate it on the test set"
   ]
  },
  {
   "cell_type": "code",
   "execution_count": 181,
   "metadata": {
    "collapsed": false
   },
   "outputs": [
    {
     "name": "stdout",
     "output_type": "stream",
     "text": [
      "/data/nasif12/home_if12/avsec/projects-work/concise/nbs/hyopt_example\n"
     ]
    }
   ],
   "source": [
    "cd hyopt_example"
   ]
  },
  {
   "cell_type": "code",
   "execution_count": 186,
   "metadata": {
    "collapsed": false
   },
   "outputs": [],
   "source": [
    "best_tid = trials.best_trial_tid()\n",
    "params = trials.get_param(best_tid).to_dict()\n",
    "model = trials.load_model(best_tid)"
   ]
  },
  {
   "cell_type": "code",
   "execution_count": 188,
   "metadata": {
    "collapsed": false
   },
   "outputs": [
    {
     "data": {
      "text/plain": [
       "{'data': {'seq_length': 101},\n",
       " 'fit': {'batch_size': 128,\n",
       "  'early_stop_monitor': 'val_loss',\n",
       "  'epochs': 50,\n",
       "  'patience': 5},\n",
       " 'model': {'filters': 16,\n",
       "  'kernel_size': 15,\n",
       "  'lr': 0.005370016473899783,\n",
       "  'motif_init': {'stddev': 0.02517910263989817}}}"
      ]
     },
     "execution_count": 188,
     "metadata": {},
     "output_type": "execute_result"
    }
   ],
   "source": [
    "# Best hyper-parameters were:\n",
    "params"
   ]
  },
  {
   "cell_type": "code",
   "execution_count": 189,
   "metadata": {
    "collapsed": true
   },
   "outputs": [],
   "source": [
    "import data"
   ]
  },
  {
   "cell_type": "code",
   "execution_count": 191,
   "metadata": {
    "collapsed": false
   },
   "outputs": [],
   "source": [
    "# Load the train, valid, test\n",
    "train, valid, test = data.data(**params[\"data\"])"
   ]
  },
  {
   "cell_type": "code",
   "execution_count": 192,
   "metadata": {
    "collapsed": true
   },
   "outputs": [],
   "source": [
    "y_pred_test = model.predict(test[0])"
   ]
  },
  {
   "cell_type": "code",
   "execution_count": 193,
   "metadata": {
    "collapsed": true
   },
   "outputs": [],
   "source": [
    "import concise.eval_metrics as cem"
   ]
  },
  {
   "cell_type": "code",
   "execution_count": 200,
   "metadata": {
    "collapsed": false
   },
   "outputs": [
    {
     "data": {
      "text/plain": [
       "0.73280952522362308"
      ]
     },
     "execution_count": 200,
     "metadata": {},
     "output_type": "execute_result"
    }
   ],
   "source": [
    "# Performance on the test-set:\n",
    "cem.auprc(test[1], y_pred_test)"
   ]
  },
  {
   "cell_type": "markdown",
   "metadata": {},
   "source": [
    "### Training curve of the best model"
   ]
  },
  {
   "cell_type": "code",
   "execution_count": 250,
   "metadata": {
    "collapsed": true
   },
   "outputs": [],
   "source": [
    "train_hist = trials.train_history(best_tid)"
   ]
  },
  {
   "cell_type": "code",
   "execution_count": 251,
   "metadata": {
    "collapsed": false
   },
   "outputs": [
    {
     "data": {
      "text/html": [
       "<div>\n",
       "<style>\n",
       "    .dataframe thead tr:only-child th {\n",
       "        text-align: right;\n",
       "    }\n",
       "\n",
       "    .dataframe thead th {\n",
       "        text-align: left;\n",
       "    }\n",
       "\n",
       "    .dataframe tbody tr th {\n",
       "        vertical-align: top;\n",
       "    }\n",
       "</style>\n",
       "<table border=\"1\" class=\"dataframe\">\n",
       "  <thead>\n",
       "    <tr style=\"text-align: right;\">\n",
       "      <th></th>\n",
       "      <th>tid</th>\n",
       "      <th>epoch</th>\n",
       "      <th>acc</th>\n",
       "      <th>loss</th>\n",
       "      <th>val_acc</th>\n",
       "      <th>val_loss</th>\n",
       "    </tr>\n",
       "  </thead>\n",
       "  <tbody>\n",
       "    <tr>\n",
       "      <th>0</th>\n",
       "      <td>277</td>\n",
       "      <td>0</td>\n",
       "      <td>0.8209</td>\n",
       "      <td>0.4828</td>\n",
       "      <td>0.8408</td>\n",
       "      <td>0.3954</td>\n",
       "    </tr>\n",
       "    <tr>\n",
       "      <th>1</th>\n",
       "      <td>277</td>\n",
       "      <td>1</td>\n",
       "      <td>0.8466</td>\n",
       "      <td>0.4031</td>\n",
       "      <td>0.8506</td>\n",
       "      <td>0.3867</td>\n",
       "    </tr>\n",
       "    <tr>\n",
       "      <th>2</th>\n",
       "      <td>277</td>\n",
       "      <td>2</td>\n",
       "      <td>0.8574</td>\n",
       "      <td>0.3788</td>\n",
       "      <td>0.8556</td>\n",
       "      <td>0.3778</td>\n",
       "    </tr>\n",
       "    <tr>\n",
       "      <th>3</th>\n",
       "      <td>277</td>\n",
       "      <td>3</td>\n",
       "      <td>0.8647</td>\n",
       "      <td>0.3633</td>\n",
       "      <td>0.8621</td>\n",
       "      <td>0.3552</td>\n",
       "    </tr>\n",
       "    <tr>\n",
       "      <th>4</th>\n",
       "      <td>277</td>\n",
       "      <td>4</td>\n",
       "      <td>0.8682</td>\n",
       "      <td>0.3521</td>\n",
       "      <td>0.8664</td>\n",
       "      <td>0.3770</td>\n",
       "    </tr>\n",
       "  </tbody>\n",
       "</table>\n",
       "</div>"
      ],
      "text/plain": [
       "   tid  epoch     acc    loss  val_acc  val_loss\n",
       "0  277      0  0.8209  0.4828   0.8408    0.3954\n",
       "1  277      1  0.8466  0.4031   0.8506    0.3867\n",
       "2  277      2  0.8574  0.3788   0.8556    0.3778\n",
       "3  277      3  0.8647  0.3633   0.8621    0.3552\n",
       "4  277      4  0.8682  0.3521   0.8664    0.3770"
      ]
     },
     "execution_count": 251,
     "metadata": {},
     "output_type": "execute_result"
    }
   ],
   "source": [
    "train_hist.head()"
   ]
  },
  {
   "cell_type": "code",
   "execution_count": 261,
   "metadata": {
    "collapsed": false
   },
   "outputs": [
    {
     "data": {
      "image/png": "[encoded data removed]",
      "text/plain": [
       "<matplotlib.figure.Figure at 0x7ff23a76d908>"
      ]
     },
     "metadata": {},
     "output_type": "display_data"
    }
   ],
   "source": [
    "plt.plot(train_hist.epoch + 1, train_hist.loss, label=\"Training\")\n",
    "plt.plot(train_hist.epoch + 1, train_hist.val_loss, label=\"Validation\")\n",
    "plt.xlabel(\"Epoch\")\n",
    "plt.ylabel(\"Cross-entropy loss\")\n",
    "plt.legend();"
   ]
  },
  {
   "cell_type": "markdown",
   "metadata": {},
   "source": [
    "We can see that the optimal number of epochs is 10."
   ]
  },
  {
   "cell_type": "markdown",
   "metadata": {},
   "source": [
    "### Which hyper-parameters are better than others?"
   ]
  },
  {
   "cell_type": "markdown",
   "metadata": {},
   "source": [
    "To draw conclusions and guide future design, its useful to inspect which hyper-parameters lead to good results. Typically, this means to plot the loss function against the hyper-parameter we are interested in. Since we already have a tidy table with the hyper-parameter experiment results, this is pretty straighforward."
   ]
  },
  {
   "cell_type": "markdown",
   "metadata": {},
   "source": [
    "#### Learning rate"
   ]
  },
  {
   "cell_type": "code",
   "execution_count": 218,
   "metadata": {
    "collapsed": false
   },
   "outputs": [
    {
     "data": {
      "image/png": "[encoded data removed]",
      "text/plain": [
       "<matplotlib.figure.Figure at 0x7ff23f54af60>"
      ]
     },
     "metadata": {},
     "output_type": "display_data"
    }
   ],
   "source": [
    "plt.scatter(df[\"param.model.lr\"], df[\"eval.auprc\"])\n",
    "plt.xlim([1e-4, 1e-2])\n",
    "plt.xscale(\"log\")\n",
    "plt.xlabel(\"Learning rate\")\n",
    "plt.ylabel(\"Validation auPR\");"
   ]
  },
  {
   "cell_type": "markdown",
   "metadata": {},
   "source": [
    "#### Motif initialization"
   ]
  },
  {
   "cell_type": "code",
   "execution_count": 219,
   "metadata": {
    "collapsed": true
   },
   "outputs": [],
   "source": [
    "import seaborn as sns"
   ]
  },
  {
   "cell_type": "code",
   "execution_count": 267,
   "metadata": {
    "collapsed": false
   },
   "outputs": [
    {
     "data": {
      "image/png": "[encoded data removed]",
      "text/plain": [
       "<matplotlib.figure.Figure at 0x7ff237143080>"
      ]
     },
     "metadata": {},
     "output_type": "display_data"
    }
   ],
   "source": [
    "df[\"motif_init_used\"] = ~df[\"param.model.motif_init.stddev\"].isnull()\n",
    "sns.swarmplot(\"motif_init_used\", \"eval.auprc\", data=df)\n",
    "plt.ylabel(\"validation auPR\");"
   ]
  },
  {
   "cell_type": "markdown",
   "metadata": {},
   "source": [
    "Motif initialization helped to achieve better performance. We can also see that the hyper-parameter optimization algorithm has drawn more samples using it, since it figured out it yields better performance."
   ]
  },
  {
   "cell_type": "markdown",
   "metadata": {},
   "source": [
    "##### Additional variance on the motif initialization"
   ]
  },
  {
   "cell_type": "code",
   "execution_count": 245,
   "metadata": {
    "collapsed": false
   },
   "outputs": [
    {
     "data": {
      "image/png": "[encoded data removed]",
      "text/plain": [
       "<matplotlib.figure.Figure at 0x7ff23db530f0>"
      ]
     },
     "metadata": {},
     "output_type": "display_data"
    }
   ],
   "source": [
    "plt.scatter(df[\"param.model.motif_init.stddev\"], df[\"eval.auprc\"])\n",
    "plt.ylabel(\"validation auPR\");\n",
    "plt.xlabel(\"Added random noise to the motifs (stddev)\");"
   ]
  },
  {
   "cell_type": "markdown",
   "metadata": {},
   "source": [
    "#### Number of filters"
   ]
  },
  {
   "cell_type": "code",
   "execution_count": 247,
   "metadata": {
    "collapsed": false
   },
   "outputs": [
    {
     "data": {
      "image/png": "[encoded data removed]",
      "text/plain": [
       "<matplotlib.figure.Figure at 0x7ff23da21438>"
      ]
     },
     "metadata": {},
     "output_type": "display_data"
    }
   ],
   "source": [
    "sns.swarmplot(\"param.model.filters\", \"eval.auprc\", data=df)\n",
    "plt.ylabel(\"validation auPR\")\n",
    "plt.xlabel(\"Number of filters\");"
   ]
  },
  {
   "cell_type": "markdown",
   "metadata": {},
   "source": [
    "#### Sequence length"
   ]
  },
  {
   "cell_type": "code",
   "execution_count": 249,
   "metadata": {
    "collapsed": false
   },
   "outputs": [
    {
     "data": {
      "image/png": "[encoded data removed]",
      "text/plain": [
       "<matplotlib.figure.Figure at 0x7ff23a79d4a8>"
      ]
     },
     "metadata": {},
     "output_type": "display_data"
    }
   ],
   "source": [
    "sns.swarmplot(\"param.data.seq_length\", \"eval.auprc\", data=df)\n",
    "plt.ylabel(\"validation auPR\")\n",
    "plt.xlabel(\"Input sequence length\");"
   ]
  }
 ],
 "metadata": {
  "anaconda-cloud": {},
  "kernelspec": {
   "display_name": "Python [default]",
   "language": "python",
   "name": "python3"
  },
  "language_info": {
   "codemirror_mode": {
    "name": "ipython",
    "version": 3
   },
   "file_extension": ".py",
   "mimetype": "text/x-python",
   "name": "python",
   "nbconvert_exporter": "python",
   "pygments_lexer": "ipython3",
   "version": "3.5.2"
  }
 },
 "nbformat": 4,
 "nbformat_minor": 2
}
