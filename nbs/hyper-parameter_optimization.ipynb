{
 "cells": [
  {
   "cell_type": "markdown",
   "metadata": {},
   "source": [
    "## Hyper-parameter optimization in concise"
   ]
  },
  {
   "cell_type": "markdown",
   "metadata": {},
   "source": [
    "Hyper-parameter optimization comes quite handy in deep learning. There are different architectures to try out, different parameters, and we only have a limited amount of time to inspect the results of a particular modeling choice and decide on the next set of hyper-parmaeters to try out.\n",
    "\n",
    "By hyper-parameters I refer to any parameter that are not optimized with the learning algorithm (i.e. gradient descent). Some examples are: learning rate of gradient descent, batch size, number of hidden layers, whether to use skip-connections, particular way of pre-processing the data (say data augmentation amount), etc etc.\n",
    "\n",
    "In genomics, being able to explore a vast amount of modeling choices automatically is important. Only a handful of papers (if any) have been written for your given task at hand, hence the space of different modeling choices has not been extensively explored, as for say image classification on [ImageNet](http://www.image-net.org/)."
   ]
  },
  {
   "cell_type": "markdown",
   "metadata": {},
   "source": [
    "## Prerequisite\n",
    "\n",
    "- please go throught the hyperopt wiki: https://github.com/hyperopt/hyperopt/wiki"
   ]
  },
  {
   "cell_type": "markdown",
   "metadata": {},
   "source": [
    "## Note\n",
    "\n",
    "- hyperopt doesn't work nicely with ipython. Run the examples in normal python shell"
   ]
  },
  {
   "cell_type": "markdown",
   "metadata": {},
   "source": [
    "## Steps in hyper-parameter optimization"
   ]
  },
  {
   "cell_type": "markdown",
   "metadata": {
    "collapsed": true
   },
   "source": [
    "1. Parametrize your preprocessing, model and training procedure\n",
    "2. Define a range of values (and their distribution) for all the parameters\n",
    "3. Run the optimization in a distributed fashion (on a cluster/multiple machines in parallel)"
   ]
  },
  {
   "cell_type": "markdown",
   "metadata": {},
   "source": [
    "## 1. Parametrize your preprocessing, model and training procedure"
   ]
  },
  {
   "cell_type": "markdown",
   "metadata": {},
   "source": [
    "Hyper-parameter optimization in CONCISE assumes you have defined two functions: `data(...)` and `model(...)`."
   ]
  },
  {
   "cell_type": "markdown",
   "metadata": {},
   "source": [
    "### data() function"
   ]
  },
  {
   "cell_type": "markdown",
   "metadata": {},
   "source": [
    "First, the define `data(...)`: a function returing the whole trainig, validation and test dataset.\n",
    "\n",
    "- data() - returns a tuple: (train, test) or (train, valid, test), where:\n",
    "  - train = (X_train, y_train, other1, other2, ...)\n",
    "  - valid = (X_valid, y_valid)\n",
    "  - test = (X_test, y_test)\n",
    "\n",
    "- `X_*` is a numpy array, list of numpy arrays or a dictionary of numpy array\n",
    "- `y_*` is the response variable\n",
    "\n",
    "`X_train` and `y_train` are feeded to the model fitting method call: `model.fit(x=X_train, y = y_train, ...)`"
   ]
  },
  {
   "cell_type": "markdown",
   "metadata": {},
   "source": [
    "#### Example\n",
    "\n"
   ]
  },
  {
   "cell_type": "code",
   "execution_count": 96,
   "metadata": {
    "collapsed": false
   },
   "outputs": [],
   "source": [
    "from concise.preprocessing import encodeDNA\n",
    "import pandas as pd\n",
    "import numpy as np"
   ]
  },
  {
   "cell_type": "code",
   "execution_count": 98,
   "metadata": {
    "collapsed": true
   },
   "outputs": [],
   "source": [
    "from joblib import Memory\n",
    "mem = Memory(cachedir='/tmp/joblib')\n",
    "# TODO - make the memoization work"
   ]
  },
  {
   "cell_type": "code",
   "execution_count": 99,
   "metadata": {
    "collapsed": true
   },
   "outputs": [],
   "source": [
    "#@mem.cache\n",
    "def data(seq_length=101):\n",
    "      \n",
    "    def load(split=\"train\"):\n",
    "        dt = pd.read_csv(\"../data/RBP/PUM2_{0}.csv\".format(split))\n",
    "        # DNA/RNA sequence\n",
    "        xseq = encodeDNA(dt.seq, maxlen=seq_length, seq_align='center')\n",
    "        # response variable\n",
    "        y = dt.binding_site.as_matrix().reshape((-1, 1)).astype(\"float\")\n",
    "        if split==\"train\":\n",
    "            from concise.data import attract\n",
    "            # add also the pwm_list\n",
    "            pwm_list = attract.get_pwm_list([\"129\"])\n",
    "            return {\"seq\": xseq}, y, pwm_list\n",
    "        else:\n",
    "            return {\"seq\": xseq}, y\n",
    "\n",
    "    return load(\"train\"), load(\"valid\"), load(\"test\")"
   ]
  },
  {
   "cell_type": "code",
   "execution_count": 100,
   "metadata": {
    "collapsed": false
   },
   "outputs": [],
   "source": [
    "train, valid, test = data()"
   ]
  },
  {
   "cell_type": "markdown",
   "metadata": {},
   "source": [
    "### model() function"
   ]
  },
  {
   "cell_type": "markdown",
   "metadata": {},
   "source": [
    "`model()` returns a compiled Keras model. The only restriction on the parameters is that the function needs a `train_data` parameter. This allows you to extract the shape of your dataset."
   ]
  },
  {
   "cell_type": "code",
   "execution_count": 101,
   "metadata": {
    "collapsed": false
   },
   "outputs": [],
   "source": [
    "import concise.layers as cl\n",
    "import keras.layers as kl\n",
    "import concise.initializers as ci\n",
    "import concise.regularizers as cr\n",
    "from keras.callbacks import EarlyStopping\n",
    "from keras.models import Model, load_model\n",
    "from keras.optimizers import Adam\n",
    "\n",
    "def model(train_data, filters=1, kernel_size=9, motif_init=None, lr=0.001):\n",
    "    seq_length = train_data[0][\"seq\"].shape[1]\n",
    "    pwm_list = train_data[2]\n",
    "    \n",
    "    if motif_init is not None:\n",
    "        # Motif init is a dictionary with fields: \"stddev\" \n",
    "        kinit = ci.PSSMKernelInitializer(pwm_list, \n",
    "                                         stddev=motif_init.get(\"stddev\", 0.05),  # if not specified, use 0.05\n",
    "                                         add_noise_before_Pwm2Pssm=True)\n",
    "        binit = \"zeros\"\n",
    "    else:\n",
    "        kinit = \"glorot_uniform\"\n",
    "        binit = \"zeros\"\n",
    "        \n",
    "        \n",
    "    # sequence\n",
    "    in_dna = cl.InputDNA(seq_length=seq_length, name=\"seq\")\n",
    "    x = cl.ConvDNA(filters=filters, \n",
    "                   kernel_size=kernel_size, \n",
    "                   activation=\"relu\",\n",
    "                   kernel_initializer=kinit,\n",
    "                   bias_initializer=binit,\n",
    "                   name=\"conv1\")(in_dna)\n",
    "    x = kl.AveragePooling1D(pool_size=4)(x)\n",
    "    x = kl.Flatten()(x)\n",
    "    \n",
    "    x = kl.Dense(units=1)(x)\n",
    "    m = Model(in_dna, x)\n",
    "    m.compile(Adam(lr=lr), loss=\"binary_crossentropy\", metrics=[\"acc\"])\n",
    "    return m"
   ]
  },
  {
   "cell_type": "markdown",
   "metadata": {},
   "source": [
    "## 2. Define a range of values (and their distribution) for all the parameters"
   ]
  },
  {
   "cell_type": "markdown",
   "metadata": {},
   "source": [
    "Currently, our hyper-parameters are:\n",
    "- data:\n",
    "  - seq_length\n",
    "- model:\n",
    "  - filters\n",
    "  - kernel_size\n",
    "  - motif_init (yes or no)\n",
    "    - if yes: stddev\n",
    "  - lr\n",
    "\n",
    "Moreover, in the training procedure we could use different batch_sizes or different callback parameters.\n",
    "\n",
    "Let's define a hyper-opt pyll graph defining the ranges of parameters:"
   ]
  },
  {
   "cell_type": "code",
   "execution_count": 102,
   "metadata": {
    "collapsed": false
   },
   "outputs": [],
   "source": [
    "from hyperopt import fmin, tpe, hp, STATUS_OK, Trials\n",
    "\n",
    "hyper_params = {\n",
    "    \"data\": {\n",
    "        \"seq_length\": hp.choice(\"d_seq_length\", (101, 51, 21))\n",
    "    },\n",
    "    \"model\": {\n",
    "        \"filters\": hp.choice(\"m_filters\", (1, 16)),\n",
    "        \"kernel_size\": 15,\n",
    "        \"motif_init\": hp.choice(\"m_motif_init\", (\n",
    "                None,\n",
    "                {\"stddev\": hp.uniform(\"m_stddev\", 0, 0.2)}\n",
    "            )),\n",
    "        \"lr\": hp.loguniform(\"m_lr\", np.log(1e-4), np.log(1e-2)) # 0.0001 - 0.01\n",
    "        },\n",
    "    \"fit\": {\n",
    "        \"epochs\": 1,\n",
    "        \"patience\": 5,\n",
    "        \"batch_size\": 128,\n",
    "    }\n",
    "}"
   ]
  },
  {
   "cell_type": "markdown",
   "metadata": {},
   "source": [
    "This dictionary defines the parameter search space. Specifically, we are saying that\n",
    "- `seq_length` in the data function should be 21, 51 or 101\n",
    "- we should use 1 or 16 filter\n",
    "- the learning rate should be from the range `[1e-4, 1e-2]`, sampled on a log-scale\n",
    "- ...\n",
    "\n",
    "This allows us to also specify nested parameters, as shown for `[\"model\"][\"motif_init\"]`. We want to try both cases: with and without motif initialization and in the case of motif initialization, we want to explore different options for the \"sttdev\" parameter.\n",
    "\n",
    "Read the `hyperopt` documentation about [defining the search space](https://github.com/hyperopt/hyperopt/wiki/FMin#2-defining-a-search-space) for more information."
   ]
  },
  {
   "cell_type": "markdown",
   "metadata": {},
   "source": [
    "## 3. Run the optimization"
   ]
  },
  {
   "cell_type": "code",
   "execution_count": 103,
   "metadata": {
    "collapsed": true
   },
   "outputs": [],
   "source": [
    "from concise.hyopt import CompileFN, CMongoTrials, test_fn"
   ]
  },
  {
   "cell_type": "markdown",
   "metadata": {},
   "source": [
    "To run hyper-opt, you need to define the function to minimize and the parameters you want to explore. Example:"
   ]
  },
  {
   "cell_type": "code",
   "execution_count": 71,
   "metadata": {
    "collapsed": false
   },
   "outputs": [
    {
     "name": "stderr",
     "output_type": "stream",
     "text": [
      "2017-08-14 14:34:14,780 [INFO] tpe_transform took 0.000574 seconds\n",
      "2017-08-14 14:34:14,781 [INFO] TPE using 0 trials\n",
      "2017-08-14 14:34:14,783 [INFO] tpe_transform took 0.000595 seconds\n",
      "2017-08-14 14:34:14,784 [INFO] TPE using 1/1 trials with best loss 14.293453\n",
      "2017-08-14 14:34:14,785 [INFO] tpe_transform took 0.000556 seconds\n",
      "2017-08-14 14:34:14,786 [INFO] TPE using 2/2 trials with best loss 14.293453\n",
      "2017-08-14 14:34:14,788 [INFO] tpe_transform took 0.000517 seconds\n",
      "2017-08-14 14:34:14,789 [INFO] TPE using 3/3 trials with best loss 14.293453\n",
      "2017-08-14 14:34:14,791 [INFO] tpe_transform took 0.000526 seconds\n",
      "2017-08-14 14:34:14,793 [INFO] TPE using 4/4 trials with best loss 2.047095\n",
      "2017-08-14 14:34:14,796 [INFO] tpe_transform took 0.000939 seconds\n",
      "2017-08-14 14:34:14,798 [INFO] TPE using 5/5 trials with best loss 2.047095\n",
      "2017-08-14 14:34:14,801 [INFO] tpe_transform took 0.000642 seconds\n",
      "2017-08-14 14:34:14,802 [INFO] TPE using 6/6 trials with best loss 2.047095\n",
      "2017-08-14 14:34:14,806 [INFO] tpe_transform took 0.000937 seconds\n",
      "2017-08-14 14:34:14,807 [INFO] TPE using 7/7 trials with best loss 2.047095\n",
      "2017-08-14 14:34:14,810 [INFO] tpe_transform took 0.000952 seconds\n",
      "2017-08-14 14:34:14,811 [INFO] TPE using 8/8 trials with best loss 2.047095\n",
      "2017-08-14 14:34:14,814 [INFO] tpe_transform took 0.000908 seconds\n",
      "2017-08-14 14:34:14,815 [INFO] TPE using 9/9 trials with best loss 2.047095\n",
      "2017-08-14 14:34:14,818 [INFO] tpe_transform took 0.001258 seconds\n",
      "2017-08-14 14:34:14,820 [INFO] TPE using 10/10 trials with best loss 2.047095\n",
      "2017-08-14 14:34:14,822 [INFO] tpe_transform took 0.000624 seconds\n",
      "2017-08-14 14:34:14,824 [INFO] TPE using 11/11 trials with best loss 2.047095\n",
      "2017-08-14 14:34:14,826 [INFO] tpe_transform took 0.000927 seconds\n",
      "2017-08-14 14:34:14,827 [INFO] TPE using 12/12 trials with best loss 2.047095\n",
      "2017-08-14 14:34:14,830 [INFO] tpe_transform took 0.000888 seconds\n",
      "2017-08-14 14:34:14,831 [INFO] TPE using 13/13 trials with best loss 2.047095\n",
      "2017-08-14 14:34:14,833 [INFO] tpe_transform took 0.000506 seconds\n",
      "2017-08-14 14:34:14,834 [INFO] TPE using 14/14 trials with best loss 2.047095\n",
      "2017-08-14 14:34:14,835 [INFO] tpe_transform took 0.000555 seconds\n",
      "2017-08-14 14:34:14,836 [INFO] TPE using 15/15 trials with best loss 2.047095\n",
      "2017-08-14 14:34:14,838 [INFO] tpe_transform took 0.000481 seconds\n",
      "2017-08-14 14:34:14,839 [INFO] TPE using 16/16 trials with best loss 2.047095\n",
      "2017-08-14 14:34:14,840 [INFO] tpe_transform took 0.000478 seconds\n",
      "2017-08-14 14:34:14,841 [INFO] TPE using 17/17 trials with best loss 2.047095\n",
      "2017-08-14 14:34:14,843 [INFO] tpe_transform took 0.000519 seconds\n",
      "2017-08-14 14:34:14,844 [INFO] TPE using 18/18 trials with best loss 2.047095\n",
      "2017-08-14 14:34:14,846 [INFO] tpe_transform took 0.000513 seconds\n",
      "2017-08-14 14:34:14,847 [INFO] TPE using 19/19 trials with best loss 2.047095\n",
      "2017-08-14 14:34:14,849 [INFO] tpe_transform took 0.000510 seconds\n",
      "2017-08-14 14:34:14,850 [INFO] TPE using 20/20 trials with best loss 2.047095\n",
      "2017-08-14 14:34:14,853 [INFO] tpe_transform took 0.000483 seconds\n",
      "2017-08-14 14:34:14,854 [INFO] TPE using 21/21 trials with best loss 0.264490\n",
      "2017-08-14 14:34:14,857 [INFO] tpe_transform took 0.000489 seconds\n",
      "2017-08-14 14:34:14,858 [INFO] TPE using 22/22 trials with best loss 0.264490\n",
      "2017-08-14 14:34:14,861 [INFO] tpe_transform took 0.000489 seconds\n",
      "2017-08-14 14:34:14,862 [INFO] TPE using 23/23 trials with best loss 0.264490\n",
      "2017-08-14 14:34:14,865 [INFO] tpe_transform took 0.000474 seconds\n",
      "2017-08-14 14:34:14,866 [INFO] TPE using 24/24 trials with best loss 0.264490\n",
      "2017-08-14 14:34:14,869 [INFO] tpe_transform took 0.000502 seconds\n",
      "2017-08-14 14:34:14,870 [INFO] TPE using 25/25 trials with best loss 0.264490\n",
      "2017-08-14 14:34:14,873 [INFO] tpe_transform took 0.000446 seconds\n",
      "2017-08-14 14:34:14,874 [INFO] TPE using 26/26 trials with best loss 0.110428\n",
      "2017-08-14 14:34:14,877 [INFO] tpe_transform took 0.000448 seconds\n",
      "2017-08-14 14:34:14,878 [INFO] TPE using 27/27 trials with best loss 0.110428\n",
      "2017-08-14 14:34:14,880 [INFO] tpe_transform took 0.000445 seconds\n",
      "2017-08-14 14:34:14,881 [INFO] TPE using 28/28 trials with best loss 0.110428\n",
      "2017-08-14 14:34:14,884 [INFO] tpe_transform took 0.000548 seconds\n",
      "2017-08-14 14:34:14,885 [INFO] TPE using 29/29 trials with best loss 0.110428\n",
      "2017-08-14 14:34:14,888 [INFO] tpe_transform took 0.000423 seconds\n",
      "2017-08-14 14:34:14,888 [INFO] TPE using 30/30 trials with best loss 0.110428\n",
      "2017-08-14 14:34:14,891 [INFO] tpe_transform took 0.000381 seconds\n",
      "2017-08-14 14:34:14,892 [INFO] TPE using 31/31 trials with best loss 0.110428\n",
      "2017-08-14 14:34:14,895 [INFO] tpe_transform took 0.000397 seconds\n",
      "2017-08-14 14:34:14,895 [INFO] TPE using 32/32 trials with best loss 0.110428\n",
      "2017-08-14 14:34:14,898 [INFO] tpe_transform took 0.000392 seconds\n",
      "2017-08-14 14:34:14,899 [INFO] TPE using 33/33 trials with best loss 0.110428\n",
      "2017-08-14 14:34:14,901 [INFO] tpe_transform took 0.000386 seconds\n",
      "2017-08-14 14:34:14,902 [INFO] TPE using 34/34 trials with best loss 0.110428\n",
      "2017-08-14 14:34:14,905 [INFO] tpe_transform took 0.000387 seconds\n",
      "2017-08-14 14:34:14,905 [INFO] TPE using 35/35 trials with best loss 0.110428\n",
      "2017-08-14 14:34:14,908 [INFO] tpe_transform took 0.000377 seconds\n",
      "2017-08-14 14:34:14,908 [INFO] TPE using 36/36 trials with best loss 0.110428\n",
      "2017-08-14 14:34:14,911 [INFO] tpe_transform took 0.000381 seconds\n",
      "2017-08-14 14:34:14,912 [INFO] TPE using 37/37 trials with best loss 0.110428\n",
      "2017-08-14 14:34:14,914 [INFO] tpe_transform took 0.000387 seconds\n",
      "2017-08-14 14:34:14,915 [INFO] TPE using 38/38 trials with best loss 0.110428\n",
      "2017-08-14 14:34:14,918 [INFO] tpe_transform took 0.000388 seconds\n",
      "2017-08-14 14:34:14,918 [INFO] TPE using 39/39 trials with best loss 0.110428\n",
      "2017-08-14 14:34:14,921 [INFO] tpe_transform took 0.000384 seconds\n",
      "2017-08-14 14:34:14,922 [INFO] TPE using 40/40 trials with best loss 0.110428\n",
      "2017-08-14 14:34:14,924 [INFO] tpe_transform took 0.000381 seconds\n",
      "2017-08-14 14:34:14,925 [INFO] TPE using 41/41 trials with best loss 0.110428\n",
      "2017-08-14 14:34:14,927 [INFO] tpe_transform took 0.000382 seconds\n",
      "2017-08-14 14:34:14,928 [INFO] TPE using 42/42 trials with best loss 0.110428\n",
      "2017-08-14 14:34:14,930 [INFO] tpe_transform took 0.000384 seconds\n",
      "2017-08-14 14:34:14,931 [INFO] TPE using 43/43 trials with best loss 0.110428\n",
      "2017-08-14 14:34:14,933 [INFO] tpe_transform took 0.000380 seconds\n",
      "2017-08-14 14:34:14,934 [INFO] TPE using 44/44 trials with best loss 0.110428\n",
      "2017-08-14 14:34:14,936 [INFO] tpe_transform took 0.000387 seconds\n",
      "2017-08-14 14:34:14,937 [INFO] TPE using 45/45 trials with best loss 0.053144\n",
      "2017-08-14 14:34:14,940 [INFO] tpe_transform took 0.000393 seconds\n",
      "2017-08-14 14:34:14,940 [INFO] TPE using 46/46 trials with best loss 0.053144\n",
      "2017-08-14 14:34:14,943 [INFO] tpe_transform took 0.000382 seconds\n",
      "2017-08-14 14:34:14,944 [INFO] TPE using 47/47 trials with best loss 0.053144\n",
      "2017-08-14 14:34:14,946 [INFO] tpe_transform took 0.000381 seconds\n",
      "2017-08-14 14:34:14,947 [INFO] TPE using 48/48 trials with best loss 0.053144\n",
      "2017-08-14 14:34:14,950 [INFO] tpe_transform took 0.000511 seconds\n",
      "2017-08-14 14:34:14,951 [INFO] TPE using 49/49 trials with best loss 0.053144\n",
      "2017-08-14 14:34:14,953 [INFO] tpe_transform took 0.000448 seconds\n",
      "2017-08-14 14:34:14,954 [INFO] TPE using 50/50 trials with best loss 0.053144\n",
      "2017-08-14 14:34:14,957 [INFO] tpe_transform took 0.000383 seconds\n",
      "2017-08-14 14:34:14,957 [INFO] TPE using 51/51 trials with best loss 0.053144\n",
      "2017-08-14 14:34:14,960 [INFO] tpe_transform took 0.000380 seconds\n",
      "2017-08-14 14:34:14,961 [INFO] TPE using 52/52 trials with best loss 0.053144\n",
      "2017-08-14 14:34:14,963 [INFO] tpe_transform took 0.000379 seconds\n",
      "2017-08-14 14:34:14,964 [INFO] TPE using 53/53 trials with best loss 0.053144\n",
      "2017-08-14 14:34:14,966 [INFO] tpe_transform took 0.000378 seconds\n",
      "2017-08-14 14:34:14,967 [INFO] TPE using 54/54 trials with best loss 0.053144\n",
      "2017-08-14 14:34:14,970 [INFO] tpe_transform took 0.000385 seconds\n",
      "2017-08-14 14:34:14,970 [INFO] TPE using 55/55 trials with best loss 0.053144\n",
      "2017-08-14 14:34:14,973 [INFO] tpe_transform took 0.000382 seconds\n",
      "2017-08-14 14:34:14,973 [INFO] TPE using 56/56 trials with best loss 0.053144\n",
      "2017-08-14 14:34:14,976 [INFO] tpe_transform took 0.000392 seconds\n",
      "2017-08-14 14:34:14,976 [INFO] TPE using 57/57 trials with best loss 0.053144\n",
      "2017-08-14 14:34:14,979 [INFO] tpe_transform took 0.000384 seconds\n",
      "2017-08-14 14:34:14,980 [INFO] TPE using 58/58 trials with best loss 0.053144\n",
      "2017-08-14 14:34:14,983 [INFO] tpe_transform took 0.000390 seconds\n",
      "2017-08-14 14:34:14,983 [INFO] TPE using 59/59 trials with best loss 0.053144\n",
      "2017-08-14 14:34:14,986 [INFO] tpe_transform took 0.000381 seconds\n",
      "2017-08-14 14:34:14,987 [INFO] TPE using 60/60 trials with best loss 0.030511\n",
      "2017-08-14 14:34:14,989 [INFO] tpe_transform took 0.000375 seconds\n",
      "2017-08-14 14:34:14,990 [INFO] TPE using 61/61 trials with best loss 0.030511\n",
      "2017-08-14 14:34:14,993 [INFO] tpe_transform took 0.000391 seconds\n",
      "2017-08-14 14:34:14,993 [INFO] TPE using 62/62 trials with best loss 0.030511\n",
      "2017-08-14 14:34:14,997 [INFO] tpe_transform took 0.000454 seconds\n",
      "2017-08-14 14:34:14,998 [INFO] TPE using 63/63 trials with best loss 0.030511\n",
      "2017-08-14 14:34:15,002 [INFO] tpe_transform took 0.000395 seconds\n",
      "2017-08-14 14:34:15,003 [INFO] TPE using 64/64 trials with best loss 0.030511\n",
      "2017-08-14 14:34:15,006 [INFO] tpe_transform took 0.000382 seconds\n",
      "2017-08-14 14:34:15,008 [INFO] TPE using 65/65 trials with best loss 0.030511\n",
      "2017-08-14 14:34:15,010 [INFO] tpe_transform took 0.000384 seconds\n",
      "2017-08-14 14:34:15,011 [INFO] TPE using 66/66 trials with best loss 0.030511\n",
      "2017-08-14 14:34:15,014 [INFO] tpe_transform took 0.000400 seconds\n",
      "2017-08-14 14:34:15,014 [INFO] TPE using 67/67 trials with best loss 0.030511\n",
      "2017-08-14 14:34:15,017 [INFO] tpe_transform took 0.000381 seconds\n",
      "2017-08-14 14:34:15,018 [INFO] TPE using 68/68 trials with best loss 0.030511\n",
      "2017-08-14 14:34:15,020 [INFO] tpe_transform took 0.000379 seconds\n",
      "2017-08-14 14:34:15,021 [INFO] TPE using 69/69 trials with best loss 0.030511\n",
      "2017-08-14 14:34:15,024 [INFO] tpe_transform took 0.000383 seconds\n",
      "2017-08-14 14:34:15,025 [INFO] TPE using 70/70 trials with best loss 0.030511\n",
      "2017-08-14 14:34:15,027 [INFO] tpe_transform took 0.000386 seconds\n",
      "2017-08-14 14:34:15,028 [INFO] TPE using 71/71 trials with best loss 0.000013\n",
      "2017-08-14 14:34:15,031 [INFO] tpe_transform took 0.000386 seconds\n",
      "2017-08-14 14:34:15,032 [INFO] TPE using 72/72 trials with best loss 0.000013\n",
      "2017-08-14 14:34:15,035 [INFO] tpe_transform took 0.000425 seconds\n",
      "2017-08-14 14:34:15,036 [INFO] TPE using 73/73 trials with best loss 0.000013\n",
      "2017-08-14 14:34:15,039 [INFO] tpe_transform took 0.000403 seconds\n",
      "2017-08-14 14:34:15,039 [INFO] TPE using 74/74 trials with best loss 0.000013\n",
      "2017-08-14 14:34:15,043 [INFO] tpe_transform took 0.000567 seconds\n",
      "2017-08-14 14:34:15,044 [INFO] TPE using 75/75 trials with best loss 0.000013\n",
      "2017-08-14 14:34:15,048 [INFO] tpe_transform took 0.000436 seconds\n",
      "2017-08-14 14:34:15,049 [INFO] TPE using 76/76 trials with best loss 0.000013\n",
      "2017-08-14 14:34:15,052 [INFO] tpe_transform took 0.000419 seconds\n",
      "2017-08-14 14:34:15,053 [INFO] TPE using 77/77 trials with best loss 0.000013\n",
      "2017-08-14 14:34:15,056 [INFO] tpe_transform took 0.000423 seconds\n",
      "2017-08-14 14:34:15,057 [INFO] TPE using 78/78 trials with best loss 0.000013\n",
      "2017-08-14 14:34:15,060 [INFO] tpe_transform took 0.000441 seconds\n",
      "2017-08-14 14:34:15,061 [INFO] TPE using 79/79 trials with best loss 0.000013\n",
      "2017-08-14 14:34:15,065 [INFO] tpe_transform took 0.000424 seconds\n",
      "2017-08-14 14:34:15,067 [INFO] TPE using 80/80 trials with best loss 0.000013\n",
      "2017-08-14 14:34:15,070 [INFO] tpe_transform took 0.000437 seconds\n",
      "2017-08-14 14:34:15,070 [INFO] TPE using 81/81 trials with best loss 0.000013\n",
      "2017-08-14 14:34:15,073 [INFO] tpe_transform took 0.000400 seconds\n",
      "2017-08-14 14:34:15,074 [INFO] TPE using 82/82 trials with best loss 0.000013\n",
      "2017-08-14 14:34:15,077 [INFO] tpe_transform took 0.000387 seconds\n",
      "2017-08-14 14:34:15,078 [INFO] TPE using 83/83 trials with best loss 0.000013\n",
      "2017-08-14 14:34:15,081 [INFO] tpe_transform took 0.000384 seconds\n",
      "2017-08-14 14:34:15,082 [INFO] TPE using 84/84 trials with best loss 0.000013\n",
      "2017-08-14 14:34:15,086 [INFO] tpe_transform took 0.000394 seconds\n",
      "2017-08-14 14:34:15,087 [INFO] TPE using 85/85 trials with best loss 0.000013\n",
      "2017-08-14 14:34:15,090 [INFO] tpe_transform took 0.000377 seconds\n",
      "2017-08-14 14:34:15,092 [INFO] TPE using 86/86 trials with best loss 0.000013\n",
      "2017-08-14 14:34:15,095 [INFO] tpe_transform took 0.000391 seconds\n",
      "2017-08-14 14:34:15,096 [INFO] TPE using 87/87 trials with best loss 0.000013\n",
      "2017-08-14 14:34:15,099 [INFO] tpe_transform took 0.000389 seconds\n",
      "2017-08-14 14:34:15,099 [INFO] TPE using 88/88 trials with best loss 0.000013\n",
      "2017-08-14 14:34:15,103 [INFO] tpe_transform took 0.000383 seconds\n",
      "2017-08-14 14:34:15,104 [INFO] TPE using 89/89 trials with best loss 0.000013\n",
      "2017-08-14 14:34:15,107 [INFO] tpe_transform took 0.000385 seconds\n",
      "2017-08-14 14:34:15,109 [INFO] TPE using 90/90 trials with best loss 0.000013\n",
      "2017-08-14 14:34:15,111 [INFO] tpe_transform took 0.000384 seconds\n",
      "2017-08-14 14:34:15,113 [INFO] TPE using 91/91 trials with best loss 0.000013\n",
      "2017-08-14 14:34:15,117 [INFO] tpe_transform took 0.000394 seconds\n",
      "2017-08-14 14:34:15,119 [INFO] TPE using 92/92 trials with best loss 0.000013\n",
      "2017-08-14 14:34:15,123 [INFO] tpe_transform took 0.000390 seconds\n",
      "2017-08-14 14:34:15,125 [INFO] TPE using 93/93 trials with best loss 0.000013\n",
      "2017-08-14 14:34:15,128 [INFO] tpe_transform took 0.000389 seconds\n",
      "2017-08-14 14:34:15,129 [INFO] TPE using 94/94 trials with best loss 0.000013\n",
      "2017-08-14 14:34:15,132 [INFO] tpe_transform took 0.000380 seconds\n",
      "2017-08-14 14:34:15,133 [INFO] TPE using 95/95 trials with best loss 0.000013\n",
      "2017-08-14 14:34:15,136 [INFO] tpe_transform took 0.000381 seconds\n",
      "2017-08-14 14:34:15,137 [INFO] TPE using 96/96 trials with best loss 0.000013\n",
      "2017-08-14 14:34:15,140 [INFO] tpe_transform took 0.000382 seconds\n",
      "2017-08-14 14:34:15,141 [INFO] TPE using 97/97 trials with best loss 0.000013\n",
      "2017-08-14 14:34:15,145 [INFO] tpe_transform took 0.000382 seconds\n",
      "2017-08-14 14:34:15,146 [INFO] TPE using 98/98 trials with best loss 0.000013\n",
      "2017-08-14 14:34:15,149 [INFO] tpe_transform took 0.000384 seconds\n",
      "2017-08-14 14:34:15,149 [INFO] TPE using 99/99 trials with best loss 0.000013\n"
     ]
    },
    {
     "name": "stdout",
     "output_type": "stream",
     "text": [
      "{'x': 0.00361393118788067}\n"
     ]
    }
   ],
   "source": [
    "import pickle\n",
    "import time\n",
    "from hyperopt import fmin, tpe, hp, STATUS_OK\n",
    "\n",
    "def objective(x):\n",
    "    return {'loss': x ** 2, 'status': STATUS_OK }\n",
    "\n",
    "best = fmin(objective,\n",
    "    space=hp.uniform('x', -10, 10),\n",
    "    algo=tpe.suggest,\n",
    "    max_evals=100)\n",
    "\n",
    "print(best)"
   ]
  },
  {
   "cell_type": "markdown",
   "metadata": {},
   "source": [
    "For the case of supervised learning, our objective function is the evaluation error. Concise provides a class to compile the objective function given the data() and the model() function:"
   ]
  },
  {
   "cell_type": "code",
   "execution_count": 112,
   "metadata": {
    "collapsed": false
   },
   "outputs": [],
   "source": [
    "import hyopt_example\n",
    "objective = CompileFN(db_name=\"mydb\", exp_name=\"motif_initialization\",  # experiment name\n",
    "                      data_fn=hyopt_example.data,\n",
    "                      model_fn=hyopt_example.model, \n",
    "                      add_eval_metrics=[\"auprc\", \"auc\"], # metrics from concise.eval_metrics, you can also use your own\n",
    "                      loss_metric=\"auprc\", # which metric to optimize for\n",
    "                      loss_metric_mode=\"max\", # maximum should be searched for\n",
    "                      valid_split=None, # use valid from the data function\n",
    "                      save_model='best', # checkpoint the best model\n",
    "                      save_results=True, # save the results as .json (in addition to mongoDB)\n",
    "                      save_dir=\"./hyperopt/\")  # place to store the models"
   ]
  },
  {
   "cell_type": "markdown",
   "metadata": {},
   "source": [
    "Now, we can use hyper-opt do search the hyper-parameters:"
   ]
  },
  {
   "cell_type": "markdown",
   "metadata": {},
   "source": [
    "### Test if everything works"
   ]
  },
  {
   "cell_type": "markdown",
   "metadata": {},
   "source": [
    "Before starting many workers, its good to try running the objective function once. It's much easier to debug it that way."
   ]
  },
  {
   "cell_type": "code",
   "execution_count": 119,
   "metadata": {
    "collapsed": false
   },
   "outputs": [],
   "source": [
    "# Test if the objective function works on a subset of data for one random hyper-parameter set\n",
    "test_fn(objective, hyper_params)\n",
    "# Doesn't work in ipython notebook"
   ]
  },
  {
   "cell_type": "markdown",
   "metadata": {},
   "source": [
    "### Run locally and sequentially"
   ]
  },
  {
   "cell_type": "markdown",
   "metadata": {},
   "source": [
    "Trials() from hyperopt will run the jobs sequentially on a single machine"
   ]
  },
  {
   "cell_type": "code",
   "execution_count": 117,
   "metadata": {
    "collapsed": false
   },
   "outputs": [
    {
     "name": "stderr",
     "output_type": "stream",
     "text": [
      "2017-08-14 14:52:46,515 [INFO] tpe_transform took 0.002803 seconds\n",
      "2017-08-14 14:52:46,517 [INFO] TPE using 0 trials\n",
      "2017-08-14 14:52:46,520 [INFO] Load data...\n",
      "2017-08-14 14:52:56,455 [INFO] job exception: No module named 'winreg'\n"
     ]
    },
    {
     "name": "stdout",
     "output_type": "stream",
     "text": [
      "['loss', 'acc']\n"
     ]
    },
    {
     "ename": "ImportError",
     "evalue": "No module named 'winreg'",
     "output_type": "error",
     "traceback": [
      "\u001b[0;31m---------------------------------------------------------------------------\u001b[0m",
      "\u001b[0;31mImportError\u001b[0m                               Traceback (most recent call last)",
      "\u001b[0;32m<ipython-input-117-5217aa14d831>\u001b[0m in \u001b[0;36m<module>\u001b[0;34m()\u001b[0m\n\u001b[1;32m      4\u001b[0m             \u001b[0malgo\u001b[0m\u001b[0;34m=\u001b[0m\u001b[0mtpe\u001b[0m\u001b[0;34m.\u001b[0m\u001b[0msuggest\u001b[0m\u001b[0;34m,\u001b[0m\u001b[0;34m\u001b[0m\u001b[0m\n\u001b[1;32m      5\u001b[0m             \u001b[0mtrials\u001b[0m\u001b[0;34m=\u001b[0m\u001b[0mtrials\u001b[0m\u001b[0;34m,\u001b[0m\u001b[0;34m\u001b[0m\u001b[0m\n\u001b[0;32m----> 6\u001b[0;31m             max_evals=3)\n\u001b[0m",
      "\u001b[0;32m/opt/modules/i12g/anaconda/3-4.1.1/lib/python3.5/site-packages/hyperopt/fmin.py\u001b[0m in \u001b[0;36mfmin\u001b[0;34m(fn, space, algo, max_evals, trials, rstate, allow_trials_fmin, pass_expr_memo_ctrl, catch_eval_exceptions, verbose, return_argmin)\u001b[0m\n\u001b[1;32m    305\u001b[0m             \u001b[0mverbose\u001b[0m\u001b[0;34m=\u001b[0m\u001b[0mverbose\u001b[0m\u001b[0;34m,\u001b[0m\u001b[0;34m\u001b[0m\u001b[0m\n\u001b[1;32m    306\u001b[0m             \u001b[0mcatch_eval_exceptions\u001b[0m\u001b[0;34m=\u001b[0m\u001b[0mcatch_eval_exceptions\u001b[0m\u001b[0;34m,\u001b[0m\u001b[0;34m\u001b[0m\u001b[0m\n\u001b[0;32m--> 307\u001b[0;31m             \u001b[0mreturn_argmin\u001b[0m\u001b[0;34m=\u001b[0m\u001b[0mreturn_argmin\u001b[0m\u001b[0;34m,\u001b[0m\u001b[0;34m\u001b[0m\u001b[0m\n\u001b[0m\u001b[1;32m    308\u001b[0m         )\n\u001b[1;32m    309\u001b[0m \u001b[0;34m\u001b[0m\u001b[0m\n",
      "\u001b[0;32m/opt/modules/i12g/anaconda/3-4.1.1/lib/python3.5/site-packages/hyperopt/base.py\u001b[0m in \u001b[0;36mfmin\u001b[0;34m(self, fn, space, algo, max_evals, rstate, verbose, pass_expr_memo_ctrl, catch_eval_exceptions, return_argmin)\u001b[0m\n\u001b[1;32m    633\u001b[0m             \u001b[0mpass_expr_memo_ctrl\u001b[0m\u001b[0;34m=\u001b[0m\u001b[0mpass_expr_memo_ctrl\u001b[0m\u001b[0;34m,\u001b[0m\u001b[0;34m\u001b[0m\u001b[0m\n\u001b[1;32m    634\u001b[0m             \u001b[0mcatch_eval_exceptions\u001b[0m\u001b[0;34m=\u001b[0m\u001b[0mcatch_eval_exceptions\u001b[0m\u001b[0;34m,\u001b[0m\u001b[0;34m\u001b[0m\u001b[0m\n\u001b[0;32m--> 635\u001b[0;31m             return_argmin=return_argmin)\n\u001b[0m\u001b[1;32m    636\u001b[0m \u001b[0;34m\u001b[0m\u001b[0m\n\u001b[1;32m    637\u001b[0m \u001b[0;34m\u001b[0m\u001b[0m\n",
      "\u001b[0;32m/opt/modules/i12g/anaconda/3-4.1.1/lib/python3.5/site-packages/hyperopt/fmin.py\u001b[0m in \u001b[0;36mfmin\u001b[0;34m(fn, space, algo, max_evals, trials, rstate, allow_trials_fmin, pass_expr_memo_ctrl, catch_eval_exceptions, verbose, return_argmin)\u001b[0m\n\u001b[1;32m    318\u001b[0m                     verbose=verbose)\n\u001b[1;32m    319\u001b[0m     \u001b[0mrval\u001b[0m\u001b[0;34m.\u001b[0m\u001b[0mcatch_eval_exceptions\u001b[0m \u001b[0;34m=\u001b[0m \u001b[0mcatch_eval_exceptions\u001b[0m\u001b[0;34m\u001b[0m\u001b[0m\n\u001b[0;32m--> 320\u001b[0;31m     \u001b[0mrval\u001b[0m\u001b[0;34m.\u001b[0m\u001b[0mexhaust\u001b[0m\u001b[0;34m(\u001b[0m\u001b[0;34m)\u001b[0m\u001b[0;34m\u001b[0m\u001b[0m\n\u001b[0m\u001b[1;32m    321\u001b[0m     \u001b[0;32mif\u001b[0m \u001b[0mreturn_argmin\u001b[0m\u001b[0;34m:\u001b[0m\u001b[0;34m\u001b[0m\u001b[0m\n\u001b[1;32m    322\u001b[0m         \u001b[0;32mreturn\u001b[0m \u001b[0mtrials\u001b[0m\u001b[0;34m.\u001b[0m\u001b[0margmin\u001b[0m\u001b[0;34m\u001b[0m\u001b[0m\n",
      "\u001b[0;32m/opt/modules/i12g/anaconda/3-4.1.1/lib/python3.5/site-packages/hyperopt/fmin.py\u001b[0m in \u001b[0;36mexhaust\u001b[0;34m(self)\u001b[0m\n\u001b[1;32m    197\u001b[0m     \u001b[0;32mdef\u001b[0m \u001b[0mexhaust\u001b[0m\u001b[0;34m(\u001b[0m\u001b[0mself\u001b[0m\u001b[0;34m)\u001b[0m\u001b[0;34m:\u001b[0m\u001b[0;34m\u001b[0m\u001b[0m\n\u001b[1;32m    198\u001b[0m         \u001b[0mn_done\u001b[0m \u001b[0;34m=\u001b[0m \u001b[0mlen\u001b[0m\u001b[0;34m(\u001b[0m\u001b[0mself\u001b[0m\u001b[0;34m.\u001b[0m\u001b[0mtrials\u001b[0m\u001b[0;34m)\u001b[0m\u001b[0;34m\u001b[0m\u001b[0m\n\u001b[0;32m--> 199\u001b[0;31m         \u001b[0mself\u001b[0m\u001b[0;34m.\u001b[0m\u001b[0mrun\u001b[0m\u001b[0;34m(\u001b[0m\u001b[0mself\u001b[0m\u001b[0;34m.\u001b[0m\u001b[0mmax_evals\u001b[0m \u001b[0;34m-\u001b[0m \u001b[0mn_done\u001b[0m\u001b[0;34m,\u001b[0m \u001b[0mblock_until_done\u001b[0m\u001b[0;34m=\u001b[0m\u001b[0mself\u001b[0m\u001b[0;34m.\u001b[0m\u001b[0masync\u001b[0m\u001b[0;34m)\u001b[0m\u001b[0;34m\u001b[0m\u001b[0m\n\u001b[0m\u001b[1;32m    200\u001b[0m         \u001b[0mself\u001b[0m\u001b[0;34m.\u001b[0m\u001b[0mtrials\u001b[0m\u001b[0;34m.\u001b[0m\u001b[0mrefresh\u001b[0m\u001b[0;34m(\u001b[0m\u001b[0;34m)\u001b[0m\u001b[0;34m\u001b[0m\u001b[0m\n\u001b[1;32m    201\u001b[0m         \u001b[0;32mreturn\u001b[0m \u001b[0mself\u001b[0m\u001b[0;34m\u001b[0m\u001b[0m\n",
      "\u001b[0;32m/opt/modules/i12g/anaconda/3-4.1.1/lib/python3.5/site-packages/hyperopt/fmin.py\u001b[0m in \u001b[0;36mrun\u001b[0;34m(self, N, block_until_done)\u001b[0m\n\u001b[1;32m    171\u001b[0m             \u001b[0;32melse\u001b[0m\u001b[0;34m:\u001b[0m\u001b[0;34m\u001b[0m\u001b[0m\n\u001b[1;32m    172\u001b[0m                 \u001b[0;31m# -- loop over trials and do the jobs directly\u001b[0m\u001b[0;34m\u001b[0m\u001b[0;34m\u001b[0m\u001b[0m\n\u001b[0;32m--> 173\u001b[0;31m                 \u001b[0mself\u001b[0m\u001b[0;34m.\u001b[0m\u001b[0mserial_evaluate\u001b[0m\u001b[0;34m(\u001b[0m\u001b[0;34m)\u001b[0m\u001b[0;34m\u001b[0m\u001b[0m\n\u001b[0m\u001b[1;32m    174\u001b[0m \u001b[0;34m\u001b[0m\u001b[0m\n\u001b[1;32m    175\u001b[0m             \u001b[0;32mif\u001b[0m \u001b[0mstopped\u001b[0m\u001b[0;34m:\u001b[0m\u001b[0;34m\u001b[0m\u001b[0m\n",
      "\u001b[0;32m/opt/modules/i12g/anaconda/3-4.1.1/lib/python3.5/site-packages/hyperopt/fmin.py\u001b[0m in \u001b[0;36mserial_evaluate\u001b[0;34m(self, N)\u001b[0m\n\u001b[1;32m     90\u001b[0m                 \u001b[0mctrl\u001b[0m \u001b[0;34m=\u001b[0m \u001b[0mbase\u001b[0m\u001b[0;34m.\u001b[0m\u001b[0mCtrl\u001b[0m\u001b[0;34m(\u001b[0m\u001b[0mself\u001b[0m\u001b[0;34m.\u001b[0m\u001b[0mtrials\u001b[0m\u001b[0;34m,\u001b[0m \u001b[0mcurrent_trial\u001b[0m\u001b[0;34m=\u001b[0m\u001b[0mtrial\u001b[0m\u001b[0;34m)\u001b[0m\u001b[0;34m\u001b[0m\u001b[0m\n\u001b[1;32m     91\u001b[0m                 \u001b[0;32mtry\u001b[0m\u001b[0;34m:\u001b[0m\u001b[0;34m\u001b[0m\u001b[0m\n\u001b[0;32m---> 92\u001b[0;31m                     \u001b[0mresult\u001b[0m \u001b[0;34m=\u001b[0m \u001b[0mself\u001b[0m\u001b[0;34m.\u001b[0m\u001b[0mdomain\u001b[0m\u001b[0;34m.\u001b[0m\u001b[0mevaluate\u001b[0m\u001b[0;34m(\u001b[0m\u001b[0mspec\u001b[0m\u001b[0;34m,\u001b[0m \u001b[0mctrl\u001b[0m\u001b[0;34m)\u001b[0m\u001b[0;34m\u001b[0m\u001b[0m\n\u001b[0m\u001b[1;32m     93\u001b[0m                 \u001b[0;32mexcept\u001b[0m \u001b[0mException\u001b[0m \u001b[0;32mas\u001b[0m \u001b[0me\u001b[0m\u001b[0;34m:\u001b[0m\u001b[0;34m\u001b[0m\u001b[0m\n\u001b[1;32m     94\u001b[0m                     \u001b[0mlogger\u001b[0m\u001b[0;34m.\u001b[0m\u001b[0minfo\u001b[0m\u001b[0;34m(\u001b[0m\u001b[0;34m'job exception: %s'\u001b[0m \u001b[0;34m%\u001b[0m \u001b[0mstr\u001b[0m\u001b[0;34m(\u001b[0m\u001b[0me\u001b[0m\u001b[0;34m)\u001b[0m\u001b[0;34m)\u001b[0m\u001b[0;34m\u001b[0m\u001b[0m\n",
      "\u001b[0;32m/opt/modules/i12g/anaconda/3-4.1.1/lib/python3.5/site-packages/hyperopt/base.py\u001b[0m in \u001b[0;36mevaluate\u001b[0;34m(self, config, ctrl, attach_attachments)\u001b[0m\n\u001b[1;32m    838\u001b[0m                 \u001b[0mmemo\u001b[0m\u001b[0;34m=\u001b[0m\u001b[0mmemo\u001b[0m\u001b[0;34m,\u001b[0m\u001b[0;34m\u001b[0m\u001b[0m\n\u001b[1;32m    839\u001b[0m                 print_node_on_error=self.rec_eval_print_node_on_error)\n\u001b[0;32m--> 840\u001b[0;31m             \u001b[0mrval\u001b[0m \u001b[0;34m=\u001b[0m \u001b[0mself\u001b[0m\u001b[0;34m.\u001b[0m\u001b[0mfn\u001b[0m\u001b[0;34m(\u001b[0m\u001b[0mpyll_rval\u001b[0m\u001b[0;34m)\u001b[0m\u001b[0;34m\u001b[0m\u001b[0m\n\u001b[0m\u001b[1;32m    841\u001b[0m \u001b[0;34m\u001b[0m\u001b[0m\n\u001b[1;32m    842\u001b[0m         \u001b[0;32mif\u001b[0m \u001b[0misinstance\u001b[0m\u001b[0;34m(\u001b[0m\u001b[0mrval\u001b[0m\u001b[0;34m,\u001b[0m \u001b[0;34m(\u001b[0m\u001b[0mfloat\u001b[0m\u001b[0;34m,\u001b[0m \u001b[0mint\u001b[0m\u001b[0;34m,\u001b[0m \u001b[0mnp\u001b[0m\u001b[0;34m.\u001b[0m\u001b[0mnumber\u001b[0m\u001b[0;34m)\u001b[0m\u001b[0;34m)\u001b[0m\u001b[0;34m:\u001b[0m\u001b[0;34m\u001b[0m\u001b[0m\n",
      "\u001b[0;32m/opt/modules/i12g/anaconda/3-4.1.1/lib/python3.5/site-packages/concise/hyopt.py\u001b[0m in \u001b[0;36m__call__\u001b[0;34m(self, param)\u001b[0m\n\u001b[1;32m    546\u001b[0m                 \u001b[0mtrain_data\u001b[0m \u001b[0;34m=\u001b[0m \u001b[0mtrain\u001b[0m\u001b[0;34m\u001b[0m\u001b[0m\n\u001b[1;32m    547\u001b[0m \u001b[0;34m\u001b[0m\u001b[0m\n\u001b[0;32m--> 548\u001b[0;31m             \u001b[0mc_callbacks\u001b[0m \u001b[0;34m=\u001b[0m \u001b[0mdeepcopy\u001b[0m\u001b[0;34m(\u001b[0m\u001b[0mcallbacks\u001b[0m\u001b[0;34m)\u001b[0m\u001b[0;34m\u001b[0m\u001b[0m\n\u001b[0m\u001b[1;32m    549\u001b[0m             \u001b[0;32mif\u001b[0m \u001b[0mself\u001b[0m\u001b[0;34m.\u001b[0m\u001b[0msave_model\u001b[0m \u001b[0;34m==\u001b[0m \u001b[0;34m\"best\"\u001b[0m\u001b[0;34m:\u001b[0m\u001b[0;34m\u001b[0m\u001b[0m\n\u001b[1;32m    550\u001b[0m                 c_callbacks += [ModelCheckpoint(model_path,\n",
      "\u001b[0;32m/opt/modules/i12g/anaconda/3-4.1.1/lib/python3.5/copy.py\u001b[0m in \u001b[0;36mdeepcopy\u001b[0;34m(x, memo, _nil)\u001b[0m\n\u001b[1;32m    153\u001b[0m     \u001b[0mcopier\u001b[0m \u001b[0;34m=\u001b[0m \u001b[0m_deepcopy_dispatch\u001b[0m\u001b[0;34m.\u001b[0m\u001b[0mget\u001b[0m\u001b[0;34m(\u001b[0m\u001b[0mcls\u001b[0m\u001b[0;34m)\u001b[0m\u001b[0;34m\u001b[0m\u001b[0m\n\u001b[1;32m    154\u001b[0m     \u001b[0;32mif\u001b[0m \u001b[0mcopier\u001b[0m\u001b[0;34m:\u001b[0m\u001b[0;34m\u001b[0m\u001b[0m\n\u001b[0;32m--> 155\u001b[0;31m         \u001b[0my\u001b[0m \u001b[0;34m=\u001b[0m \u001b[0mcopier\u001b[0m\u001b[0;34m(\u001b[0m\u001b[0mx\u001b[0m\u001b[0;34m,\u001b[0m \u001b[0mmemo\u001b[0m\u001b[0;34m)\u001b[0m\u001b[0;34m\u001b[0m\u001b[0m\n\u001b[0m\u001b[1;32m    156\u001b[0m     \u001b[0;32melse\u001b[0m\u001b[0;34m:\u001b[0m\u001b[0;34m\u001b[0m\u001b[0m\n\u001b[1;32m    157\u001b[0m         \u001b[0;32mtry\u001b[0m\u001b[0;34m:\u001b[0m\u001b[0;34m\u001b[0m\u001b[0m\n",
      "\u001b[0;32m/opt/modules/i12g/anaconda/3-4.1.1/lib/python3.5/copy.py\u001b[0m in \u001b[0;36m_deepcopy_list\u001b[0;34m(x, memo)\u001b[0m\n\u001b[1;32m    216\u001b[0m     \u001b[0mmemo\u001b[0m\u001b[0;34m[\u001b[0m\u001b[0mid\u001b[0m\u001b[0;34m(\u001b[0m\u001b[0mx\u001b[0m\u001b[0;34m)\u001b[0m\u001b[0;34m]\u001b[0m \u001b[0;34m=\u001b[0m \u001b[0my\u001b[0m\u001b[0;34m\u001b[0m\u001b[0m\n\u001b[1;32m    217\u001b[0m     \u001b[0;32mfor\u001b[0m \u001b[0ma\u001b[0m \u001b[0;32min\u001b[0m \u001b[0mx\u001b[0m\u001b[0;34m:\u001b[0m\u001b[0;34m\u001b[0m\u001b[0m\n\u001b[0;32m--> 218\u001b[0;31m         \u001b[0my\u001b[0m\u001b[0;34m.\u001b[0m\u001b[0mappend\u001b[0m\u001b[0;34m(\u001b[0m\u001b[0mdeepcopy\u001b[0m\u001b[0;34m(\u001b[0m\u001b[0ma\u001b[0m\u001b[0;34m,\u001b[0m \u001b[0mmemo\u001b[0m\u001b[0;34m)\u001b[0m\u001b[0;34m)\u001b[0m\u001b[0;34m\u001b[0m\u001b[0m\n\u001b[0m\u001b[1;32m    219\u001b[0m     \u001b[0;32mreturn\u001b[0m \u001b[0my\u001b[0m\u001b[0;34m\u001b[0m\u001b[0m\n\u001b[1;32m    220\u001b[0m \u001b[0md\u001b[0m\u001b[0;34m[\u001b[0m\u001b[0mlist\u001b[0m\u001b[0;34m]\u001b[0m \u001b[0;34m=\u001b[0m \u001b[0m_deepcopy_list\u001b[0m\u001b[0;34m\u001b[0m\u001b[0m\n",
      "\u001b[0;32m/opt/modules/i12g/anaconda/3-4.1.1/lib/python3.5/copy.py\u001b[0m in \u001b[0;36mdeepcopy\u001b[0;34m(x, memo, _nil)\u001b[0m\n\u001b[1;32m    180\u001b[0m                             raise Error(\n\u001b[1;32m    181\u001b[0m                                 \"un(deep)copyable object of type %s\" % cls)\n\u001b[0;32m--> 182\u001b[0;31m                 \u001b[0my\u001b[0m \u001b[0;34m=\u001b[0m \u001b[0m_reconstruct\u001b[0m\u001b[0;34m(\u001b[0m\u001b[0mx\u001b[0m\u001b[0;34m,\u001b[0m \u001b[0mrv\u001b[0m\u001b[0;34m,\u001b[0m \u001b[0;36m1\u001b[0m\u001b[0;34m,\u001b[0m \u001b[0mmemo\u001b[0m\u001b[0;34m)\u001b[0m\u001b[0;34m\u001b[0m\u001b[0m\n\u001b[0m\u001b[1;32m    183\u001b[0m \u001b[0;34m\u001b[0m\u001b[0m\n\u001b[1;32m    184\u001b[0m     \u001b[0;31m# If is its own copy, don't memoize.\u001b[0m\u001b[0;34m\u001b[0m\u001b[0;34m\u001b[0m\u001b[0m\n",
      "\u001b[0;32m/opt/modules/i12g/anaconda/3-4.1.1/lib/python3.5/copy.py\u001b[0m in \u001b[0;36m_reconstruct\u001b[0;34m(x, info, deep, memo)\u001b[0m\n\u001b[1;32m    295\u001b[0m     \u001b[0;32mif\u001b[0m \u001b[0mstate\u001b[0m \u001b[0;32mis\u001b[0m \u001b[0;32mnot\u001b[0m \u001b[0;32mNone\u001b[0m\u001b[0;34m:\u001b[0m\u001b[0;34m\u001b[0m\u001b[0m\n\u001b[1;32m    296\u001b[0m         \u001b[0;32mif\u001b[0m \u001b[0mdeep\u001b[0m\u001b[0;34m:\u001b[0m\u001b[0;34m\u001b[0m\u001b[0m\n\u001b[0;32m--> 297\u001b[0;31m             \u001b[0mstate\u001b[0m \u001b[0;34m=\u001b[0m \u001b[0mdeepcopy\u001b[0m\u001b[0;34m(\u001b[0m\u001b[0mstate\u001b[0m\u001b[0;34m,\u001b[0m \u001b[0mmemo\u001b[0m\u001b[0;34m)\u001b[0m\u001b[0;34m\u001b[0m\u001b[0m\n\u001b[0m\u001b[1;32m    298\u001b[0m         \u001b[0;32mif\u001b[0m \u001b[0mhasattr\u001b[0m\u001b[0;34m(\u001b[0m\u001b[0my\u001b[0m\u001b[0;34m,\u001b[0m \u001b[0;34m'__setstate__'\u001b[0m\u001b[0;34m)\u001b[0m\u001b[0;34m:\u001b[0m\u001b[0;34m\u001b[0m\u001b[0m\n\u001b[1;32m    299\u001b[0m             \u001b[0my\u001b[0m\u001b[0;34m.\u001b[0m\u001b[0m__setstate__\u001b[0m\u001b[0;34m(\u001b[0m\u001b[0mstate\u001b[0m\u001b[0;34m)\u001b[0m\u001b[0;34m\u001b[0m\u001b[0m\n",
      "\u001b[0;32m/opt/modules/i12g/anaconda/3-4.1.1/lib/python3.5/copy.py\u001b[0m in \u001b[0;36mdeepcopy\u001b[0;34m(x, memo, _nil)\u001b[0m\n\u001b[1;32m    153\u001b[0m     \u001b[0mcopier\u001b[0m \u001b[0;34m=\u001b[0m \u001b[0m_deepcopy_dispatch\u001b[0m\u001b[0;34m.\u001b[0m\u001b[0mget\u001b[0m\u001b[0;34m(\u001b[0m\u001b[0mcls\u001b[0m\u001b[0;34m)\u001b[0m\u001b[0;34m\u001b[0m\u001b[0m\n\u001b[1;32m    154\u001b[0m     \u001b[0;32mif\u001b[0m \u001b[0mcopier\u001b[0m\u001b[0;34m:\u001b[0m\u001b[0;34m\u001b[0m\u001b[0m\n\u001b[0;32m--> 155\u001b[0;31m         \u001b[0my\u001b[0m \u001b[0;34m=\u001b[0m \u001b[0mcopier\u001b[0m\u001b[0;34m(\u001b[0m\u001b[0mx\u001b[0m\u001b[0;34m,\u001b[0m \u001b[0mmemo\u001b[0m\u001b[0;34m)\u001b[0m\u001b[0;34m\u001b[0m\u001b[0m\n\u001b[0m\u001b[1;32m    156\u001b[0m     \u001b[0;32melse\u001b[0m\u001b[0;34m:\u001b[0m\u001b[0;34m\u001b[0m\u001b[0m\n\u001b[1;32m    157\u001b[0m         \u001b[0;32mtry\u001b[0m\u001b[0;34m:\u001b[0m\u001b[0;34m\u001b[0m\u001b[0m\n",
      "\u001b[0;32m/opt/modules/i12g/anaconda/3-4.1.1/lib/python3.5/copy.py\u001b[0m in \u001b[0;36m_deepcopy_dict\u001b[0;34m(x, memo)\u001b[0m\n\u001b[1;32m    241\u001b[0m     \u001b[0mmemo\u001b[0m\u001b[0;34m[\u001b[0m\u001b[0mid\u001b[0m\u001b[0;34m(\u001b[0m\u001b[0mx\u001b[0m\u001b[0;34m)\u001b[0m\u001b[0;34m]\u001b[0m \u001b[0;34m=\u001b[0m \u001b[0my\u001b[0m\u001b[0;34m\u001b[0m\u001b[0m\n\u001b[1;32m    242\u001b[0m     \u001b[0;32mfor\u001b[0m \u001b[0mkey\u001b[0m\u001b[0;34m,\u001b[0m \u001b[0mvalue\u001b[0m \u001b[0;32min\u001b[0m \u001b[0mx\u001b[0m\u001b[0;34m.\u001b[0m\u001b[0mitems\u001b[0m\u001b[0;34m(\u001b[0m\u001b[0;34m)\u001b[0m\u001b[0;34m:\u001b[0m\u001b[0;34m\u001b[0m\u001b[0m\n\u001b[0;32m--> 243\u001b[0;31m         \u001b[0my\u001b[0m\u001b[0;34m[\u001b[0m\u001b[0mdeepcopy\u001b[0m\u001b[0;34m(\u001b[0m\u001b[0mkey\u001b[0m\u001b[0;34m,\u001b[0m \u001b[0mmemo\u001b[0m\u001b[0;34m)\u001b[0m\u001b[0;34m]\u001b[0m \u001b[0;34m=\u001b[0m \u001b[0mdeepcopy\u001b[0m\u001b[0;34m(\u001b[0m\u001b[0mvalue\u001b[0m\u001b[0;34m,\u001b[0m \u001b[0mmemo\u001b[0m\u001b[0;34m)\u001b[0m\u001b[0;34m\u001b[0m\u001b[0m\n\u001b[0m\u001b[1;32m    244\u001b[0m     \u001b[0;32mreturn\u001b[0m \u001b[0my\u001b[0m\u001b[0;34m\u001b[0m\u001b[0m\n\u001b[1;32m    245\u001b[0m \u001b[0md\u001b[0m\u001b[0;34m[\u001b[0m\u001b[0mdict\u001b[0m\u001b[0;34m]\u001b[0m \u001b[0;34m=\u001b[0m \u001b[0m_deepcopy_dict\u001b[0m\u001b[0;34m\u001b[0m\u001b[0m\n",
      "\u001b[0;32m/opt/modules/i12g/anaconda/3-4.1.1/lib/python3.5/copy.py\u001b[0m in \u001b[0;36mdeepcopy\u001b[0;34m(x, memo, _nil)\u001b[0m\n\u001b[1;32m    168\u001b[0m                 \u001b[0mreductor\u001b[0m \u001b[0;34m=\u001b[0m \u001b[0mdispatch_table\u001b[0m\u001b[0;34m.\u001b[0m\u001b[0mget\u001b[0m\u001b[0;34m(\u001b[0m\u001b[0mcls\u001b[0m\u001b[0;34m)\u001b[0m\u001b[0;34m\u001b[0m\u001b[0m\n\u001b[1;32m    169\u001b[0m                 \u001b[0;32mif\u001b[0m \u001b[0mreductor\u001b[0m\u001b[0;34m:\u001b[0m\u001b[0;34m\u001b[0m\u001b[0m\n\u001b[0;32m--> 170\u001b[0;31m                     \u001b[0mrv\u001b[0m \u001b[0;34m=\u001b[0m \u001b[0mreductor\u001b[0m\u001b[0;34m(\u001b[0m\u001b[0mx\u001b[0m\u001b[0;34m)\u001b[0m\u001b[0;34m\u001b[0m\u001b[0m\n\u001b[0m\u001b[1;32m    171\u001b[0m                 \u001b[0;32melse\u001b[0m\u001b[0;34m:\u001b[0m\u001b[0;34m\u001b[0m\u001b[0m\n\u001b[1;32m    172\u001b[0m                     \u001b[0mreductor\u001b[0m \u001b[0;34m=\u001b[0m \u001b[0mgetattr\u001b[0m\u001b[0;34m(\u001b[0m\u001b[0mx\u001b[0m\u001b[0;34m,\u001b[0m \u001b[0;34m\"__reduce_ex__\"\u001b[0m\u001b[0;34m,\u001b[0m \u001b[0;32mNone\u001b[0m\u001b[0;34m)\u001b[0m\u001b[0;34m\u001b[0m\u001b[0m\n",
      "\u001b[0;32m/opt/modules/i12g/anaconda/3-4.1.1/lib/python3.5/site-packages/numpy/core/__init__.py\u001b[0m in \u001b[0;36m_ufunc_reduce\u001b[0;34m(func)\u001b[0m\n\u001b[1;32m     91\u001b[0m     \u001b[0;32mfrom\u001b[0m \u001b[0mpickle\u001b[0m \u001b[0;32mimport\u001b[0m \u001b[0mwhichmodule\u001b[0m\u001b[0;34m\u001b[0m\u001b[0m\n\u001b[1;32m     92\u001b[0m     \u001b[0mname\u001b[0m \u001b[0;34m=\u001b[0m \u001b[0mfunc\u001b[0m\u001b[0;34m.\u001b[0m\u001b[0m__name__\u001b[0m\u001b[0;34m\u001b[0m\u001b[0m\n\u001b[0;32m---> 93\u001b[0;31m     \u001b[0;32mreturn\u001b[0m \u001b[0m_ufunc_reconstruct\u001b[0m\u001b[0;34m,\u001b[0m \u001b[0;34m(\u001b[0m\u001b[0mwhichmodule\u001b[0m\u001b[0;34m(\u001b[0m\u001b[0mfunc\u001b[0m\u001b[0;34m,\u001b[0m \u001b[0mname\u001b[0m\u001b[0;34m)\u001b[0m\u001b[0;34m,\u001b[0m \u001b[0mname\u001b[0m\u001b[0;34m)\u001b[0m\u001b[0;34m\u001b[0m\u001b[0m\n\u001b[0m\u001b[1;32m     94\u001b[0m \u001b[0;34m\u001b[0m\u001b[0m\n\u001b[1;32m     95\u001b[0m \u001b[0;34m\u001b[0m\u001b[0m\n",
      "\u001b[0;32m/opt/modules/i12g/anaconda/3-4.1.1/lib/python3.5/pickle.py\u001b[0m in \u001b[0;36mwhichmodule\u001b[0;34m(obj, name)\u001b[0m\n\u001b[1;32m    283\u001b[0m             \u001b[0;32mcontinue\u001b[0m\u001b[0;34m\u001b[0m\u001b[0m\n\u001b[1;32m    284\u001b[0m         \u001b[0;32mtry\u001b[0m\u001b[0;34m:\u001b[0m\u001b[0;34m\u001b[0m\u001b[0m\n\u001b[0;32m--> 285\u001b[0;31m             \u001b[0;32mif\u001b[0m \u001b[0m_getattribute\u001b[0m\u001b[0;34m(\u001b[0m\u001b[0mmodule\u001b[0m\u001b[0;34m,\u001b[0m \u001b[0mname\u001b[0m\u001b[0;34m)\u001b[0m\u001b[0;34m[\u001b[0m\u001b[0;36m0\u001b[0m\u001b[0;34m]\u001b[0m \u001b[0;32mis\u001b[0m \u001b[0mobj\u001b[0m\u001b[0;34m:\u001b[0m\u001b[0;34m\u001b[0m\u001b[0m\n\u001b[0m\u001b[1;32m    286\u001b[0m                 \u001b[0;32mreturn\u001b[0m \u001b[0mmodule_name\u001b[0m\u001b[0;34m\u001b[0m\u001b[0m\n\u001b[1;32m    287\u001b[0m         \u001b[0;32mexcept\u001b[0m \u001b[0mAttributeError\u001b[0m\u001b[0;34m:\u001b[0m\u001b[0;34m\u001b[0m\u001b[0m\n",
      "\u001b[0;32m/opt/modules/i12g/anaconda/3-4.1.1/lib/python3.5/pickle.py\u001b[0m in \u001b[0;36m_getattribute\u001b[0;34m(obj, name)\u001b[0m\n\u001b[1;32m    266\u001b[0m         \u001b[0;32mtry\u001b[0m\u001b[0;34m:\u001b[0m\u001b[0;34m\u001b[0m\u001b[0m\n\u001b[1;32m    267\u001b[0m             \u001b[0mparent\u001b[0m \u001b[0;34m=\u001b[0m \u001b[0mobj\u001b[0m\u001b[0;34m\u001b[0m\u001b[0m\n\u001b[0;32m--> 268\u001b[0;31m             \u001b[0mobj\u001b[0m \u001b[0;34m=\u001b[0m \u001b[0mgetattr\u001b[0m\u001b[0;34m(\u001b[0m\u001b[0mobj\u001b[0m\u001b[0;34m,\u001b[0m \u001b[0msubpath\u001b[0m\u001b[0;34m)\u001b[0m\u001b[0;34m\u001b[0m\u001b[0m\n\u001b[0m\u001b[1;32m    269\u001b[0m         \u001b[0;32mexcept\u001b[0m \u001b[0mAttributeError\u001b[0m\u001b[0;34m:\u001b[0m\u001b[0;34m\u001b[0m\u001b[0m\n\u001b[1;32m    270\u001b[0m             raise AttributeError(\"Can't get attribute {!r} on {!r}\"\n",
      "\u001b[0;32m/opt/modules/i12g/anaconda/3-4.1.1/lib/python3.5/site-packages/seaborn/external/six.py\u001b[0m in \u001b[0;36m__getattr__\u001b[0;34m(self, attr)\u001b[0m\n\u001b[1;32m    114\u001b[0m         \u001b[0;32mif\u001b[0m \u001b[0mattr\u001b[0m \u001b[0;32min\u001b[0m \u001b[0;34m(\u001b[0m\u001b[0;34m\"__file__\"\u001b[0m\u001b[0;34m,\u001b[0m \u001b[0;34m\"__name__\"\u001b[0m\u001b[0;34m)\u001b[0m \u001b[0;32mand\u001b[0m \u001b[0mself\u001b[0m\u001b[0;34m.\u001b[0m\u001b[0mmod\u001b[0m \u001b[0;32mnot\u001b[0m \u001b[0;32min\u001b[0m \u001b[0msys\u001b[0m\u001b[0;34m.\u001b[0m\u001b[0mmodules\u001b[0m\u001b[0;34m:\u001b[0m\u001b[0;34m\u001b[0m\u001b[0m\n\u001b[1;32m    115\u001b[0m             \u001b[0;32mraise\u001b[0m \u001b[0mAttributeError\u001b[0m\u001b[0;34m\u001b[0m\u001b[0m\n\u001b[0;32m--> 116\u001b[0;31m         \u001b[0m_module\u001b[0m \u001b[0;34m=\u001b[0m \u001b[0mself\u001b[0m\u001b[0;34m.\u001b[0m\u001b[0m_resolve\u001b[0m\u001b[0;34m(\u001b[0m\u001b[0;34m)\u001b[0m\u001b[0;34m\u001b[0m\u001b[0m\n\u001b[0m\u001b[1;32m    117\u001b[0m         \u001b[0mvalue\u001b[0m \u001b[0;34m=\u001b[0m \u001b[0mgetattr\u001b[0m\u001b[0;34m(\u001b[0m\u001b[0m_module\u001b[0m\u001b[0;34m,\u001b[0m \u001b[0mattr\u001b[0m\u001b[0;34m)\u001b[0m\u001b[0;34m\u001b[0m\u001b[0m\n\u001b[1;32m    118\u001b[0m         \u001b[0msetattr\u001b[0m\u001b[0;34m(\u001b[0m\u001b[0mself\u001b[0m\u001b[0;34m,\u001b[0m \u001b[0mattr\u001b[0m\u001b[0;34m,\u001b[0m \u001b[0mvalue\u001b[0m\u001b[0;34m)\u001b[0m\u001b[0;34m\u001b[0m\u001b[0m\n",
      "\u001b[0;32m/opt/modules/i12g/anaconda/3-4.1.1/lib/python3.5/site-packages/seaborn/external/six.py\u001b[0m in \u001b[0;36m_resolve\u001b[0;34m(self)\u001b[0m\n\u001b[1;32m    103\u001b[0m \u001b[0;34m\u001b[0m\u001b[0m\n\u001b[1;32m    104\u001b[0m     \u001b[0;32mdef\u001b[0m \u001b[0m_resolve\u001b[0m\u001b[0;34m(\u001b[0m\u001b[0mself\u001b[0m\u001b[0;34m)\u001b[0m\u001b[0;34m:\u001b[0m\u001b[0;34m\u001b[0m\u001b[0m\n\u001b[0;32m--> 105\u001b[0;31m         \u001b[0;32mreturn\u001b[0m \u001b[0m_import_module\u001b[0m\u001b[0;34m(\u001b[0m\u001b[0mself\u001b[0m\u001b[0;34m.\u001b[0m\u001b[0mmod\u001b[0m\u001b[0;34m)\u001b[0m\u001b[0;34m\u001b[0m\u001b[0m\n\u001b[0m\u001b[1;32m    106\u001b[0m \u001b[0;34m\u001b[0m\u001b[0m\n\u001b[1;32m    107\u001b[0m     \u001b[0;32mdef\u001b[0m \u001b[0m__getattr__\u001b[0m\u001b[0;34m(\u001b[0m\u001b[0mself\u001b[0m\u001b[0;34m,\u001b[0m \u001b[0mattr\u001b[0m\u001b[0;34m)\u001b[0m\u001b[0;34m:\u001b[0m\u001b[0;34m\u001b[0m\u001b[0m\n",
      "\u001b[0;32m/opt/modules/i12g/anaconda/3-4.1.1/lib/python3.5/site-packages/seaborn/external/six.py\u001b[0m in \u001b[0;36m_import_module\u001b[0;34m(name)\u001b[0m\n\u001b[1;32m     74\u001b[0m \u001b[0;32mdef\u001b[0m \u001b[0m_import_module\u001b[0m\u001b[0;34m(\u001b[0m\u001b[0mname\u001b[0m\u001b[0;34m)\u001b[0m\u001b[0;34m:\u001b[0m\u001b[0;34m\u001b[0m\u001b[0m\n\u001b[1;32m     75\u001b[0m     \u001b[0;34m\"\"\"Import module, returning the module after the last dot.\"\"\"\u001b[0m\u001b[0;34m\u001b[0m\u001b[0m\n\u001b[0;32m---> 76\u001b[0;31m     \u001b[0m__import__\u001b[0m\u001b[0;34m(\u001b[0m\u001b[0mname\u001b[0m\u001b[0;34m)\u001b[0m\u001b[0;34m\u001b[0m\u001b[0m\n\u001b[0m\u001b[1;32m     77\u001b[0m     \u001b[0;32mreturn\u001b[0m \u001b[0msys\u001b[0m\u001b[0;34m.\u001b[0m\u001b[0mmodules\u001b[0m\u001b[0;34m[\u001b[0m\u001b[0mname\u001b[0m\u001b[0;34m]\u001b[0m\u001b[0;34m\u001b[0m\u001b[0m\n\u001b[1;32m     78\u001b[0m \u001b[0;34m\u001b[0m\u001b[0m\n",
      "\u001b[0;31mImportError\u001b[0m: No module named 'winreg'"
     ]
    }
   ],
   "source": [
    "trials = Trials(\"motif_initialization\")\n",
    "best = fmin(objective,\n",
    "            space=hyper_params,\n",
    "            algo=tpe.suggest,\n",
    "            trials=trials,\n",
    "            max_evals=3)"
   ]
  },
  {
   "cell_type": "markdown",
   "metadata": {},
   "source": [
    "### Running the optimization in parallel on multiple workers"
   ]
  },
  {
   "cell_type": "markdown",
   "metadata": {},
   "source": [
    "MongoTrials will defer the work to multiple workers running in parallel. All the results will get stored to the MongoDB database."
   ]
  },
  {
   "cell_type": "code",
   "execution_count": 120,
   "metadata": {
    "collapsed": false,
    "scrolled": true
   },
   "outputs": [
    {
     "name": "stderr",
     "output_type": "stream",
     "text": [
      "2017-08-14 14:55:37,909 [INFO] PROTOCOL mongo\n",
      "2017-08-14 14:55:37,910 [INFO] USERNAME None\n",
      "2017-08-14 14:55:37,911 [INFO] HOSTNAME ouga03\n",
      "2017-08-14 14:55:37,911 [INFO] PORT 1234\n",
      "2017-08-14 14:55:37,912 [INFO] PATH /mydb/jobs\n",
      "2017-08-14 14:55:37,913 [INFO] DB mydb\n",
      "2017-08-14 14:55:37,914 [INFO] COLLECTION jobs\n",
      "2017-08-14 14:55:37,915 [INFO] PASS None\n"
     ]
    },
    {
     "ename": "ServerSelectionTimeoutError",
     "evalue": "ouga03:1234: [Errno 111] Connection refused",
     "output_type": "error",
     "traceback": [
      "\u001b[0;31m---------------------------------------------------------------------------\u001b[0m",
      "\u001b[0;31mServerSelectionTimeoutError\u001b[0m               Traceback (most recent call last)",
      "\u001b[0;32m<ipython-input-120-cdc22a42ff87>\u001b[0m in \u001b[0;36m<module>\u001b[0;34m()\u001b[0m\n\u001b[1;32m      1\u001b[0m \u001b[0;31m# just replace Trials with CMongoTrials\u001b[0m\u001b[0;34m\u001b[0m\u001b[0;34m\u001b[0m\u001b[0m\n\u001b[0;32m----> 2\u001b[0;31m \u001b[0mtrials\u001b[0m \u001b[0;34m=\u001b[0m \u001b[0mCMongoTrials\u001b[0m\u001b[0;34m(\u001b[0m\u001b[0mdb_name\u001b[0m\u001b[0;34m=\u001b[0m\u001b[0;34m\"mydb\"\u001b[0m\u001b[0;34m,\u001b[0m \u001b[0mexp_name\u001b[0m\u001b[0;34m=\u001b[0m\u001b[0;34m\"motif_initialization\"\u001b[0m\u001b[0;34m)\u001b[0m\u001b[0;34m\u001b[0m\u001b[0m\n\u001b[0m\u001b[1;32m      3\u001b[0m best = fmin(objective,\n\u001b[1;32m      4\u001b[0m             \u001b[0mspace\u001b[0m\u001b[0;34m=\u001b[0m\u001b[0mhyper_params\u001b[0m\u001b[0;34m,\u001b[0m\u001b[0;34m\u001b[0m\u001b[0m\n\u001b[1;32m      5\u001b[0m             \u001b[0malgo\u001b[0m\u001b[0;34m=\u001b[0m\u001b[0mtpe\u001b[0m\u001b[0;34m.\u001b[0m\u001b[0msuggest\u001b[0m\u001b[0;34m,\u001b[0m\u001b[0;34m\u001b[0m\u001b[0m\n",
      "\u001b[0;32m/opt/modules/i12g/anaconda/3-4.1.1/lib/python3.5/site-packages/concise/hyopt.py\u001b[0m in \u001b[0;36m__init__\u001b[0;34m(self, db_name, exp_name, ip, port, kill_timeout, **kwargs)\u001b[0m\n\u001b[1;32m    101\u001b[0m \u001b[0;34m\u001b[0m\u001b[0m\n\u001b[1;32m    102\u001b[0m         super(CMongoTrials, self).__init__(\n\u001b[0;32m--> 103\u001b[0;31m             'mongo://{ip}:{p}/{n}/jobs'.format(ip=ip, p=port, n=db_name), exp_key=exp_name, **kwargs)\n\u001b[0m\u001b[1;32m    104\u001b[0m \u001b[0;34m\u001b[0m\u001b[0m\n\u001b[1;32m    105\u001b[0m     \u001b[0;32mdef\u001b[0m \u001b[0mget_trial\u001b[0m\u001b[0;34m(\u001b[0m\u001b[0mself\u001b[0m\u001b[0;34m,\u001b[0m \u001b[0mtid\u001b[0m\u001b[0;34m)\u001b[0m\u001b[0;34m:\u001b[0m\u001b[0;34m\u001b[0m\u001b[0m\n",
      "\u001b[0;32m/opt/modules/i12g/anaconda/3-4.1.1/lib/python3.5/site-packages/hyperopt/mongoexp.py\u001b[0m in \u001b[0;36m__init__\u001b[0;34m(self, arg, exp_key, cmd, workdir, refresh)\u001b[0m\n\u001b[1;32m    658\u001b[0m             \u001b[0mconnection_string\u001b[0m \u001b[0;34m=\u001b[0m \u001b[0marg\u001b[0m\u001b[0;34m\u001b[0m\u001b[0m\n\u001b[1;32m    659\u001b[0m             \u001b[0mself\u001b[0m\u001b[0;34m.\u001b[0m\u001b[0mhandle\u001b[0m \u001b[0;34m=\u001b[0m \u001b[0mMongoJobs\u001b[0m\u001b[0;34m.\u001b[0m\u001b[0mnew_from_connection_str\u001b[0m\u001b[0;34m(\u001b[0m\u001b[0mconnection_string\u001b[0m\u001b[0;34m)\u001b[0m\u001b[0;34m\u001b[0m\u001b[0m\n\u001b[0;32m--> 660\u001b[0;31m         \u001b[0mself\u001b[0m\u001b[0;34m.\u001b[0m\u001b[0mhandle\u001b[0m\u001b[0;34m.\u001b[0m\u001b[0mcreate_indexes\u001b[0m\u001b[0;34m(\u001b[0m\u001b[0;34m)\u001b[0m\u001b[0;34m\u001b[0m\u001b[0m\n\u001b[0m\u001b[1;32m    661\u001b[0m         \u001b[0mself\u001b[0m\u001b[0;34m.\u001b[0m\u001b[0m_exp_key\u001b[0m \u001b[0;34m=\u001b[0m \u001b[0mexp_key\u001b[0m\u001b[0;34m\u001b[0m\u001b[0m\n\u001b[1;32m    662\u001b[0m         \u001b[0mself\u001b[0m\u001b[0;34m.\u001b[0m\u001b[0mcmd\u001b[0m \u001b[0;34m=\u001b[0m \u001b[0mcmd\u001b[0m\u001b[0;34m\u001b[0m\u001b[0m\n",
      "\u001b[0;32m/opt/modules/i12g/anaconda/3-4.1.1/lib/python3.5/site-packages/hyperopt/mongoexp.py\u001b[0m in \u001b[0;36mcreate_indexes\u001b[0;34m(self)\u001b[0m\n\u001b[1;32m    365\u001b[0m \u001b[0;34m\u001b[0m\u001b[0m\n\u001b[1;32m    366\u001b[0m     \u001b[0;32mdef\u001b[0m \u001b[0mcreate_indexes\u001b[0m\u001b[0;34m(\u001b[0m\u001b[0mself\u001b[0m\u001b[0;34m)\u001b[0m\u001b[0;34m:\u001b[0m\u001b[0;34m\u001b[0m\u001b[0m\n\u001b[0;32m--> 367\u001b[0;31m         \u001b[0mself\u001b[0m\u001b[0;34m.\u001b[0m\u001b[0mcreate_jobs_indexes\u001b[0m\u001b[0;34m(\u001b[0m\u001b[0;34m)\u001b[0m\u001b[0;34m\u001b[0m\u001b[0m\n\u001b[0m\u001b[1;32m    368\u001b[0m         \u001b[0mself\u001b[0m\u001b[0;34m.\u001b[0m\u001b[0mcreate_drivers_indexes\u001b[0m\u001b[0;34m(\u001b[0m\u001b[0;34m)\u001b[0m\u001b[0;34m\u001b[0m\u001b[0m\n\u001b[1;32m    369\u001b[0m \u001b[0;34m\u001b[0m\u001b[0m\n",
      "\u001b[0;32m/opt/modules/i12g/anaconda/3-4.1.1/lib/python3.5/site-packages/hyperopt/mongoexp.py\u001b[0m in \u001b[0;36mcreate_jobs_indexes\u001b[0;34m(self)\u001b[0m\n\u001b[1;32m    358\u001b[0m         \u001b[0mjobs\u001b[0m \u001b[0;34m=\u001b[0m \u001b[0mself\u001b[0m\u001b[0;34m.\u001b[0m\u001b[0mdb\u001b[0m\u001b[0;34m.\u001b[0m\u001b[0mjobs\u001b[0m\u001b[0;34m\u001b[0m\u001b[0m\n\u001b[1;32m    359\u001b[0m         \u001b[0;32mfor\u001b[0m \u001b[0mk\u001b[0m \u001b[0;32min\u001b[0m \u001b[0;34m[\u001b[0m\u001b[0;34m'exp_key'\u001b[0m\u001b[0;34m,\u001b[0m \u001b[0;34m'result.loss'\u001b[0m\u001b[0;34m,\u001b[0m \u001b[0;34m'book_time'\u001b[0m\u001b[0;34m]\u001b[0m\u001b[0;34m:\u001b[0m\u001b[0;34m\u001b[0m\u001b[0m\n\u001b[0;32m--> 360\u001b[0;31m             \u001b[0mjobs\u001b[0m\u001b[0;34m.\u001b[0m\u001b[0mcreate_index\u001b[0m\u001b[0;34m(\u001b[0m\u001b[0mk\u001b[0m\u001b[0;34m)\u001b[0m\u001b[0;34m\u001b[0m\u001b[0m\n\u001b[0m\u001b[1;32m    361\u001b[0m \u001b[0;34m\u001b[0m\u001b[0m\n\u001b[1;32m    362\u001b[0m     \u001b[0;32mdef\u001b[0m \u001b[0mcreate_drivers_indexes\u001b[0m\u001b[0;34m(\u001b[0m\u001b[0mself\u001b[0m\u001b[0;34m)\u001b[0m\u001b[0;34m:\u001b[0m\u001b[0;34m\u001b[0m\u001b[0m\n",
      "\u001b[0;32m/opt/modules/i12g/anaconda/3-4.1.1/lib/python3.5/site-packages/pymongo/collection.py\u001b[0m in \u001b[0;36mcreate_index\u001b[0;34m(self, keys, **kwargs)\u001b[0m\n\u001b[1;32m   1527\u001b[0m         \u001b[0mkeys\u001b[0m \u001b[0;34m=\u001b[0m \u001b[0mhelpers\u001b[0m\u001b[0;34m.\u001b[0m\u001b[0m_index_list\u001b[0m\u001b[0;34m(\u001b[0m\u001b[0mkeys\u001b[0m\u001b[0;34m)\u001b[0m\u001b[0;34m\u001b[0m\u001b[0m\n\u001b[1;32m   1528\u001b[0m         \u001b[0mname\u001b[0m \u001b[0;34m=\u001b[0m \u001b[0mkwargs\u001b[0m\u001b[0;34m.\u001b[0m\u001b[0msetdefault\u001b[0m\u001b[0;34m(\u001b[0m\u001b[0;34m\"name\"\u001b[0m\u001b[0;34m,\u001b[0m \u001b[0mhelpers\u001b[0m\u001b[0;34m.\u001b[0m\u001b[0m_gen_index_name\u001b[0m\u001b[0;34m(\u001b[0m\u001b[0mkeys\u001b[0m\u001b[0;34m)\u001b[0m\u001b[0;34m)\u001b[0m\u001b[0;34m\u001b[0m\u001b[0m\n\u001b[0;32m-> 1529\u001b[0;31m         \u001b[0mself\u001b[0m\u001b[0;34m.\u001b[0m\u001b[0m__create_index\u001b[0m\u001b[0;34m(\u001b[0m\u001b[0mkeys\u001b[0m\u001b[0;34m,\u001b[0m \u001b[0mkwargs\u001b[0m\u001b[0;34m)\u001b[0m\u001b[0;34m\u001b[0m\u001b[0m\n\u001b[0m\u001b[1;32m   1530\u001b[0m         \u001b[0;32mreturn\u001b[0m \u001b[0mname\u001b[0m\u001b[0;34m\u001b[0m\u001b[0m\n\u001b[1;32m   1531\u001b[0m \u001b[0;34m\u001b[0m\u001b[0m\n",
      "\u001b[0;32m/opt/modules/i12g/anaconda/3-4.1.1/lib/python3.5/site-packages/pymongo/collection.py\u001b[0m in \u001b[0;36m__create_index\u001b[0;34m(self, keys, index_options)\u001b[0m\n\u001b[1;32m   1415\u001b[0m         \u001b[0mindex\u001b[0m\u001b[0;34m.\u001b[0m\u001b[0mupdate\u001b[0m\u001b[0;34m(\u001b[0m\u001b[0mindex_options\u001b[0m\u001b[0;34m)\u001b[0m\u001b[0;34m\u001b[0m\u001b[0m\n\u001b[1;32m   1416\u001b[0m \u001b[0;34m\u001b[0m\u001b[0m\n\u001b[0;32m-> 1417\u001b[0;31m         \u001b[0;32mwith\u001b[0m \u001b[0mself\u001b[0m\u001b[0;34m.\u001b[0m\u001b[0m_socket_for_writes\u001b[0m\u001b[0;34m(\u001b[0m\u001b[0;34m)\u001b[0m \u001b[0;32mas\u001b[0m \u001b[0msock_info\u001b[0m\u001b[0;34m:\u001b[0m\u001b[0;34m\u001b[0m\u001b[0m\n\u001b[0m\u001b[1;32m   1418\u001b[0m             \u001b[0;32mif\u001b[0m \u001b[0mcollation\u001b[0m \u001b[0;32mis\u001b[0m \u001b[0;32mnot\u001b[0m \u001b[0;32mNone\u001b[0m\u001b[0;34m:\u001b[0m\u001b[0;34m\u001b[0m\u001b[0m\n\u001b[1;32m   1419\u001b[0m                 \u001b[0;32mif\u001b[0m \u001b[0msock_info\u001b[0m\u001b[0;34m.\u001b[0m\u001b[0mmax_wire_version\u001b[0m \u001b[0;34m<\u001b[0m \u001b[0;36m5\u001b[0m\u001b[0;34m:\u001b[0m\u001b[0;34m\u001b[0m\u001b[0m\n",
      "\u001b[0;32m/opt/modules/i12g/anaconda/3-4.1.1/lib/python3.5/contextlib.py\u001b[0m in \u001b[0;36m__enter__\u001b[0;34m(self)\u001b[0m\n\u001b[1;32m     57\u001b[0m     \u001b[0;32mdef\u001b[0m \u001b[0m__enter__\u001b[0m\u001b[0;34m(\u001b[0m\u001b[0mself\u001b[0m\u001b[0;34m)\u001b[0m\u001b[0;34m:\u001b[0m\u001b[0;34m\u001b[0m\u001b[0m\n\u001b[1;32m     58\u001b[0m         \u001b[0;32mtry\u001b[0m\u001b[0;34m:\u001b[0m\u001b[0;34m\u001b[0m\u001b[0m\n\u001b[0;32m---> 59\u001b[0;31m             \u001b[0;32mreturn\u001b[0m \u001b[0mnext\u001b[0m\u001b[0;34m(\u001b[0m\u001b[0mself\u001b[0m\u001b[0;34m.\u001b[0m\u001b[0mgen\u001b[0m\u001b[0;34m)\u001b[0m\u001b[0;34m\u001b[0m\u001b[0m\n\u001b[0m\u001b[1;32m     60\u001b[0m         \u001b[0;32mexcept\u001b[0m \u001b[0mStopIteration\u001b[0m\u001b[0;34m:\u001b[0m\u001b[0;34m\u001b[0m\u001b[0m\n\u001b[1;32m     61\u001b[0m             \u001b[0;32mraise\u001b[0m \u001b[0mRuntimeError\u001b[0m\u001b[0;34m(\u001b[0m\u001b[0;34m\"generator didn't yield\"\u001b[0m\u001b[0;34m)\u001b[0m \u001b[0;32mfrom\u001b[0m \u001b[0;32mNone\u001b[0m\u001b[0;34m\u001b[0m\u001b[0m\n",
      "\u001b[0;32m/opt/modules/i12g/anaconda/3-4.1.1/lib/python3.5/site-packages/pymongo/mongo_client.py\u001b[0m in \u001b[0;36m_get_socket\u001b[0;34m(self, selector)\u001b[0m\n\u001b[1;32m    821\u001b[0m     \u001b[0;34m@\u001b[0m\u001b[0mcontextlib\u001b[0m\u001b[0;34m.\u001b[0m\u001b[0mcontextmanager\u001b[0m\u001b[0;34m\u001b[0m\u001b[0m\n\u001b[1;32m    822\u001b[0m     \u001b[0;32mdef\u001b[0m \u001b[0m_get_socket\u001b[0m\u001b[0;34m(\u001b[0m\u001b[0mself\u001b[0m\u001b[0;34m,\u001b[0m \u001b[0mselector\u001b[0m\u001b[0;34m)\u001b[0m\u001b[0;34m:\u001b[0m\u001b[0;34m\u001b[0m\u001b[0m\n\u001b[0;32m--> 823\u001b[0;31m         \u001b[0mserver\u001b[0m \u001b[0;34m=\u001b[0m \u001b[0mself\u001b[0m\u001b[0;34m.\u001b[0m\u001b[0m_get_topology\u001b[0m\u001b[0;34m(\u001b[0m\u001b[0;34m)\u001b[0m\u001b[0;34m.\u001b[0m\u001b[0mselect_server\u001b[0m\u001b[0;34m(\u001b[0m\u001b[0mselector\u001b[0m\u001b[0;34m)\u001b[0m\u001b[0;34m\u001b[0m\u001b[0m\n\u001b[0m\u001b[1;32m    824\u001b[0m         \u001b[0;32mtry\u001b[0m\u001b[0;34m:\u001b[0m\u001b[0;34m\u001b[0m\u001b[0m\n\u001b[1;32m    825\u001b[0m             \u001b[0;32mwith\u001b[0m \u001b[0mserver\u001b[0m\u001b[0;34m.\u001b[0m\u001b[0mget_socket\u001b[0m\u001b[0;34m(\u001b[0m\u001b[0mself\u001b[0m\u001b[0;34m.\u001b[0m\u001b[0m__all_credentials\u001b[0m\u001b[0;34m)\u001b[0m \u001b[0;32mas\u001b[0m \u001b[0msock_info\u001b[0m\u001b[0;34m:\u001b[0m\u001b[0;34m\u001b[0m\u001b[0m\n",
      "\u001b[0;32m/opt/modules/i12g/anaconda/3-4.1.1/lib/python3.5/site-packages/pymongo/topology.py\u001b[0m in \u001b[0;36mselect_server\u001b[0;34m(self, selector, server_selection_timeout, address)\u001b[0m\n\u001b[1;32m    212\u001b[0m         return random.choice(self.select_servers(selector,\n\u001b[1;32m    213\u001b[0m                                                  \u001b[0mserver_selection_timeout\u001b[0m\u001b[0;34m,\u001b[0m\u001b[0;34m\u001b[0m\u001b[0m\n\u001b[0;32m--> 214\u001b[0;31m                                                  address))\n\u001b[0m\u001b[1;32m    215\u001b[0m \u001b[0;34m\u001b[0m\u001b[0m\n\u001b[1;32m    216\u001b[0m     def select_server_by_address(self, address,\n",
      "\u001b[0;32m/opt/modules/i12g/anaconda/3-4.1.1/lib/python3.5/site-packages/pymongo/topology.py\u001b[0m in \u001b[0;36mselect_servers\u001b[0;34m(self, selector, server_selection_timeout, address)\u001b[0m\n\u001b[1;32m    187\u001b[0m                 \u001b[0;32mif\u001b[0m \u001b[0mserver_timeout\u001b[0m \u001b[0;34m==\u001b[0m \u001b[0;36m0\u001b[0m \u001b[0;32mor\u001b[0m \u001b[0mnow\u001b[0m \u001b[0;34m>\u001b[0m \u001b[0mend_time\u001b[0m\u001b[0;34m:\u001b[0m\u001b[0;34m\u001b[0m\u001b[0m\n\u001b[1;32m    188\u001b[0m                     raise ServerSelectionTimeoutError(\n\u001b[0;32m--> 189\u001b[0;31m                         self._error_message(selector))\n\u001b[0m\u001b[1;32m    190\u001b[0m \u001b[0;34m\u001b[0m\u001b[0m\n\u001b[1;32m    191\u001b[0m                 \u001b[0mself\u001b[0m\u001b[0;34m.\u001b[0m\u001b[0m_ensure_opened\u001b[0m\u001b[0;34m(\u001b[0m\u001b[0;34m)\u001b[0m\u001b[0;34m\u001b[0m\u001b[0m\n",
      "\u001b[0;31mServerSelectionTimeoutError\u001b[0m: ouga03:1234: [Errno 111] Connection refused"
     ]
    }
   ],
   "source": [
    "# just replace Trials with CMongoTrials\n",
    "trials = CMongoTrials(db_name=\"mydb\", exp_name=\"motif_initialization\")\n",
    "best = fmin(objective,\n",
    "            space=hyper_params,\n",
    "            algo=tpe.suggest,\n",
    "            trials=trials,\n",
    "            max_evals=3)"
   ]
  },
  {
   "cell_type": "markdown",
   "metadata": {},
   "source": [
    "This script waits for workers to complete the work. Start the workers by running the following bash script many times in parallel:"
   ]
  },
  {
   "cell_type": "markdown",
   "metadata": {},
   "source": [
    "```bash\n",
    "#!/bin/bash\n",
    "#\n",
    "# Slurm parameters\n",
    "#SBATCH --mem=16G\n",
    "#SBATCH -c 4\n",
    "# ------------------\n",
    "\n",
    "DB=Concise__Splice_branchpoints\n",
    "# path to the repository containing the script\n",
    "export PYTHONPATH=~/projects-work/deepcis/Scripts/Concise/Splice_branchpoints\n",
    "\n",
    "hyperopt-mongo-worker \\\n",
    "    --mongo=ouga03:1234/$DB \\\n",
    "    --poll-interval=1 \\\n",
    "    --reserve-timeout=3600\n",
    "```"
   ]
  },
  {
   "cell_type": "markdown",
   "metadata": {},
   "source": [
    "## Code organization"
   ]
  },
  {
   "cell_type": "markdown",
   "metadata": {},
   "source": [
    "- data.py\n",
    "  - contains data() function\n",
    "- model.py\n",
    "  - contains model() function\n",
    "- train.py\n",
    "  - Defines the hyper_parameter ranges\n",
    "  - Runs hyperopt.fmin()  "
   ]
  },
  {
   "cell_type": "markdown",
   "metadata": {},
   "source": [
    "#### Examples\n",
    "See data.py, model.py and train.py in: \n",
    "- https://i12g-gagneurweb.informatik.tu-muenchen.de/gitlab/avsec/deepcis/tree/master/Scripts/RBP/Eclip/predictive_models\n",
    "- https://i12g-gagneurweb.informatik.tu-muenchen.de/gitlab/avsec/deepcis/blob/master/Scripts/Concise/Splice_branchpoints/"
   ]
  }
 ],
 "metadata": {
  "anaconda-cloud": {},
  "kernelspec": {
   "display_name": "Python [default]",
   "language": "python",
   "name": "python3"
  },
  "language_info": {
   "codemirror_mode": {
    "name": "ipython",
    "version": 3
   },
   "file_extension": ".py",
   "mimetype": "text/x-python",
   "name": "python",
   "nbconvert_exporter": "python",
   "pygments_lexer": "ipython3",
   "version": "3.5.2"
  }
 },
 "nbformat": 4,
 "nbformat_minor": 2
}
