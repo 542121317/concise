{
 "cells": [
  {
   "cell_type": "markdown",
   "metadata": {},
   "source": [
    "# Getting started with concise"
   ]
  },
  {
   "cell_type": "markdown",
   "metadata": {},
   "source": [
    "## Become familiar with Keras\n",
    "\n",
    "In order to successfully use Concise, please make sure you are familiar with Keras. I strongly advise everyone to read the excellent [Keras documentation](http://keras.io) first. As a Keras extension, Concise closely follows the Keras API."
   ]
  },
  {
   "cell_type": "markdown",
   "metadata": {},
   "source": [
    "## Modules overview"
   ]
  },
  {
   "cell_type": "markdown",
   "metadata": {},
   "source": [
    "### Pre-processing functions \n",
    "\n",
    "Encoding different objects into modeling-ready numpy arrays\n",
    "\n",
    "- `concise.preprocessing`\n",
    "\n",
    "### Custom Keras components\n",
    "\n",
    "- `concise.layers`\n",
    "- `concise.initializers`\n",
    "- `concise.regularizers`\n",
    "- `concise.losses`\n",
    "- `concise.metrics`\n",
    "\n",
    "### Hyper-parameter tuning\n",
    "\n",
    "- `concise.hyopt`\n",
    "- `concise.eval_metrics`\n",
    "\n",
    "### SNP-effect prediction\n",
    "\n",
    "- `concise.effects`\n",
    "\n",
    "### Other utilities\n",
    "\n",
    "- `concise.utils`"
   ]
  },
  {
   "cell_type": "markdown",
   "metadata": {},
   "source": [
    "## Example: RBP binding model in concise\n",
    "\n",
    "Here we will show a simple use-case with Concise. We will predict the eCLIP binding peaks of the RNA-binding protein (RBP) PUM2.\n",
    "\n",
    "- eCLIP raw data [ENCODE](https://www.encodeproject.org/search/?type=Experiment&assay_slims=RNA+binding&assay_title=eCLIP)\n",
    "- eCLIP paper [Van Nostrand *et al*, Nature Meth. 2016](http://www.nature.com/nmeth/journal/v13/n6/full/nmeth.3810.html)\n",
    "- paper also using this data: [Avsec *et al*, Bioarxiv 2017](http://www.biorxiv.org/content/early/2017/07/18/165183)\n"
   ]
  },
  {
   "cell_type": "code",
   "execution_count": 2,
   "metadata": {
    "collapsed": false
   },
   "outputs": [],
   "source": [
    "%matplotlib inline\n",
    "import matplotlib.pyplot as plt\n",
    "\n",
    "import concise.layers as cl\n",
    "import keras.layers as kl\n",
    "import concise.initializers as ci\n",
    "import concise.regularizers as cr\n",
    "from keras.callbacks import EarlyStopping\n",
    "from concise.preprocessing import encodeDNA\n",
    "from keras.models import Model, load_model"
   ]
  },
  {
   "cell_type": "code",
   "execution_count": 3,
   "metadata": {
    "collapsed": false
   },
   "outputs": [],
   "source": [
    "# get the data\n",
    "def load(split=\"train\", st=None):\n",
    "    dt = pd.read_csv(\"../data/RBP/PUM2_{0}.csv\".format(split))\n",
    "    # DNA/RNA sequence\n",
    "    xseq = encodeDNA(dt.seq) # list of sequences -> np.ndarray\n",
    "    # response variable\n",
    "    y = dt.binding_site.as_matrix().reshape((-1, 1)).astype(\"float\")\n",
    "    return {\"seq\": xseq}, y\n",
    "\n",
    "train, valid, test = load(\"train\"), load(\"valid\"), load(\"test\")\n",
    "\n",
    "# extract sequence length\n",
    "seq_length = train[0][\"seq\"].shape[1]\n",
    "\n",
    "# get the PWM list for initialization\n",
    "from concise.data import attract\n",
    "dfa = attract.get_metadata() # table with PWM meta-info\n",
    "dfa_pum2 = dfa[dfa.Gene_name.str.match(\"PUM2\") & \\\n",
    "               dfa.Organism.str.match(\"Homo_sapiens\") & \\\n",
    "               (dfa.Experiment_description == \"genome-wide in vivo immunoprecipitation\")]\n",
    "pwm_list = attract.get_pwm_list(dfa_pum2.PWM_id.unique()) # retrieve the PWM by id"
   ]
  },
  {
   "cell_type": "code",
   "execution_count": 4,
   "metadata": {
    "collapsed": false
   },
   "outputs": [
    {
     "name": "stdout",
     "output_type": "stream",
     "text": [
      "[PWM(name: 129, consensus: TGTAAATA)]\n"
     ]
    }
   ],
   "source": [
    "print(pwm_list)"
   ]
  },
  {
   "cell_type": "code",
   "execution_count": 5,
   "metadata": {
    "collapsed": false
   },
   "outputs": [
    {
     "name": "stdout",
     "output_type": "stream",
     "text": [
      "Epoch 1/5\n",
      "17713/17713 [==============================] - 1s - loss: 0.6779 - acc: 0.8112     \n",
      "Epoch 2/5\n",
      "17713/17713 [==============================] - 1s - loss: 0.5294 - acc: 0.8260     \n",
      "Epoch 3/5\n",
      "17713/17713 [==============================] - 1s - loss: 0.4722 - acc: 0.8309     \n",
      "Epoch 4/5\n",
      "17713/17713 [==============================] - 1s - loss: 0.4353 - acc: 0.8358     \n",
      "Epoch 5/5\n",
      "17713/17713 [==============================] - 1s - loss: 0.4274 - acc: 0.8374     \n"
     ]
    }
   ],
   "source": [
    "# specify the model\n",
    "in_dna = cl.InputDNA(seq_length=seq_length, name=\"seq\") # Convenience wrapper around keras.layers.Input()\n",
    "x = cl.ConvDNA(filters=4, # Convenience wrapper around keras.layers.Conv1D()\n",
    "               kernel_size=8, \n",
    "               kernel_initializer=ci.PSSMKernelInitializer(pwm_list), # intialize the filters on the PWM values\n",
    "               activation=\"relu\",\n",
    "               name=\"conv1\")(in_dna)\n",
    "\n",
    "x = kl.AveragePooling1D(pool_size=4)(x)\n",
    "x = kl.Flatten()(x)\n",
    "\n",
    "x = kl.Dense(units=1)(x)\n",
    "m = Model(in_dna, x)\n",
    "m.compile(\"adam\", loss=\"binary_crossentropy\", metrics=[\"acc\"])\n",
    "\n",
    "# train the model\n",
    "m.fit(train[0], train[1], epochs=5);"
   ]
  },
  {
   "cell_type": "markdown",
   "metadata": {},
   "source": [
    "Concise is fully compatible with Keras; we can save and load the Keras models (note: `concise` package needs to be imported before loading: `import concise...`)."
   ]
  },
  {
   "cell_type": "code",
   "execution_count": 6,
   "metadata": {
    "collapsed": false
   },
   "outputs": [],
   "source": [
    "# save the model\n",
    "m.save(\"/tmp/model.h5\")\n",
    "\n",
    "# load the model\n",
    "m2 = load_model(\"/tmp/model.h5\")"
   ]
  },
  {
   "cell_type": "code",
   "execution_count": 7,
   "metadata": {
    "collapsed": false
   },
   "outputs": [
    {
     "data": {
      "text/plain": [
       "<matplotlib.figure.Figure at 0x7f701cfaf710>"
      ]
     },
     "metadata": {},
     "output_type": "display_data"
    },
    {
     "data": {
      "image/png": "[encoded data removed]",
      "text/plain": [
       "<matplotlib.figure.Figure at 0x7f703382dcf8>"
      ]
     },
     "metadata": {},
     "output_type": "display_data"
    }
   ],
   "source": [
    "# Convenience layers extend the base class (here keras.layers.Conv1D) with .plot_weights for filter visualization\n",
    "m.get_layer(\"conv1\").plot_weights(plot_type=\"motif_pwm_info\", figsize=(4, 6));"
   ]
  },
  {
   "cell_type": "markdown",
   "metadata": {},
   "source": [
    "## Used features"
   ]
  },
  {
   "cell_type": "markdown",
   "metadata": {},
   "source": [
    "### Pre-processing and convenience wrappers"
   ]
  },
  {
   "cell_type": "markdown",
   "metadata": {},
   "source": [
    "We used `concise.preprocessing.encodeDNA` to convert a list of sequences into a one-hot-encoded array. For each pre-processing function, Concise provides a corresponding Input and Conv1D convenience wrappers. We used the following two in our code:\n",
    "\n",
    "- `InputDNA` wraps concise.layers.Input and sets the number of channels to 4. \n",
    "- `ConvDNA` is a convenience wrapper around Conv1D with the following two modifications:\n",
    "  - `ConvDNA` checks that the number of input chanels is 4\n",
    "  - `ConvDNA` has a method for plotting weights: `plot_weights`\n",
    "\n",
    "Here is a complete list of pre-processors and convenience layers:\n",
    "\n",
    "|preprocessing| preprocessing type |input layer | convolutional layer| Vocabulary |\n",
    "|--------------|-------------|-------------|--------------------|------------|\n",
    "| `encodeDNA` | one-hot| `InputDNA` | `ConvDNA` | `[\"A\", \"C\", \"G\", \"T\"]` |\n",
    "| `encodeRNA` | one-hot | `InputRNA` | `ConvRNA` | `[\"A\", \"C\", \"G\", \"U\"]` | \n",
    "| `encodeCodon` | one-hot, token | `InputCodon` | `ConvCodon` | `[\"AAA\", \"AAC\", ...]` | \n",
    "| `encodeAA`  | one-hot, token| `InputAA` | `ConvAA` | `[\"A\", \"R\", \"N\", ...]` |\n",
    "| `encodeRNAStructure` | probabilities | `InputRNAStructure` | `ConvRNAStructure` | /|\n",
    "| `encodeSplines` | B-spline basis functions | `InputSplines` | `ConvSplines` | Numerical values|"
   ]
  },
  {
   "cell_type": "markdown",
   "metadata": {},
   "source": [
    "### PWM initialization"
   ]
  },
  {
   "cell_type": "markdown",
   "metadata": {},
   "source": [
    "See the PWM initialization notebook in getting-started section of the [concise documentation](https://i12g-gagneurweb.in.tum.de/public/docs/concise/)"
   ]
  },
  {
   "cell_type": "markdown",
   "metadata": {},
   "source": [
    "### Other features"
   ]
  },
  {
   "cell_type": "markdown",
   "metadata": {},
   "source": [
    "Check out other notebooks in getting-started section of the [concise documentation](https://i12g-gagneurweb.in.tum.de/public/docs/concise/)"
   ]
  }
 ],
 "metadata": {
  "anaconda-cloud": {},
  "kernelspec": {
   "display_name": "Python [default]",
   "language": "python",
   "name": "python3"
  },
  "language_info": {
   "codemirror_mode": {
    "name": "ipython",
    "version": 3
   },
   "file_extension": ".py",
   "mimetype": "text/x-python",
   "name": "python",
   "nbconvert_exporter": "python",
   "pygments_lexer": "ipython3",
   "version": "3.5.2"
  }
 },
 "nbformat": 4,
 "nbformat_minor": 0
}
