{
 "cells": [
  {
   "cell_type": "markdown",
   "metadata": {},
   "source": [
    "## Simulated data"
   ]
  },
  {
   "cell_type": "markdown",
   "metadata": {},
   "source": [
    "In this notebook, we will replicate the results from [Plositional_effect/Simulation/01_fixed_seq_len.html](https://i12g-gagneurweb.in.tum.de/project/deepcis/#Scripts_Positional_effect_Simulation_01_fixed_seq_len.html) using concise models. Please have a look at that notebook first."
   ]
  },
  {
   "cell_type": "code",
   "execution_count": 21,
   "metadata": {
    "collapsed": false
   },
   "outputs": [
    {
     "name": "stdout",
     "output_type": "stream",
     "text": [
      "/data/nasif12/home_if12/avsec/projects-work\n"
     ]
    }
   ],
   "source": [
    "# Go to the root of concise repo\n",
    "%cd ../"
   ]
  },
  {
   "cell_type": "code",
   "execution_count": 22,
   "metadata": {
    "collapsed": false
   },
   "outputs": [],
   "source": [
    "## See dataset: \n",
    "#%matplotlib notebook\n",
    "%matplotlib inline\n",
    "\n",
    "import matplotlib.pyplot as plt\n",
    "\n",
    "import pandas as pd\n",
    "import numpy as np\n",
    "import concise\n",
    "from concise.preprocessing import encodeDNA, encodeSplines\n",
    "import concise.layers as cl\n",
    "import concise.initializers as ci\n",
    "import concise.regularizers as cr\n",
    "import concise.metrics as cm\n",
    "from concise.utils import PWM\n",
    "from keras.models import Model, load_model\n",
    "import keras.layers as kl\n",
    "import keras.optimizers as ko"
   ]
  },
  {
   "cell_type": "markdown",
   "metadata": {},
   "source": [
    "## Single motif case\n",
    "\n",
    "### Prepare the data"
   ]
  },
  {
   "cell_type": "code",
   "execution_count": 23,
   "metadata": {
    "collapsed": false
   },
   "outputs": [],
   "source": [
    "# Load the data\n",
    "data_dir = \"~/projects-work/deepcis/data/Positional_effect/Simulation/\"\n",
    "dt = pd.read_csv(data_dir + \"/01-fixed_seq_len-1.csv\")\n",
    "motifs = [\"TTAATGA\"]"
   ]
  },
  {
   "cell_type": "code",
   "execution_count": 24,
   "metadata": {
    "collapsed": false
   },
   "outputs": [
    {
     "data": {
      "text/plain": [
       "<bound method NDFrame.head of             y                       seq\n",
       "0      5.4763  TTCTGGGAGGCGTCCTTACGT...\n",
       "1      0.2309  AAGTATGATCATACGCACCGT...\n",
       "2      6.0881  TATGCAGGATCGAAATACTCT...\n",
       "...       ...                       ...\n",
       "2997   0.2773  GAGGGGTCAGCATGCGTATGA...\n",
       "2998  15.6793  CTACCAAATCCAAACTTCAGC...\n",
       "2999  13.0256  CTGACCATACGTTTCACACCG...\n",
       "\n",
       "[3000 rows x 2 columns]>"
      ]
     },
     "execution_count": 24,
     "metadata": {},
     "output_type": "execute_result"
    }
   ],
   "source": [
    "dt.head"
   ]
  },
  {
   "cell_type": "code",
   "execution_count": 25,
   "metadata": {
    "collapsed": false
   },
   "outputs": [],
   "source": [
    "seq_tensor = encodeDNA(dt[\"seq\"])\n",
    "y = dt.y.as_matrix()\n",
    "## TODO - update back\n",
    "seq_tensor = np.squeeze(seq_tensor, 1)"
   ]
  },
  {
   "cell_type": "code",
   "execution_count": 26,
   "metadata": {
    "collapsed": false
   },
   "outputs": [
    {
     "data": {
      "text/plain": [
       "(3000, 500, 4)"
      ]
     },
     "execution_count": 26,
     "metadata": {},
     "output_type": "execute_result"
    }
   ],
   "source": [
    "seq_tensor.shape # (n_samples, seq_length, n_bases)"
   ]
  },
  {
   "cell_type": "markdown",
   "metadata": {},
   "source": [
    "### Build the model\n",
    "\n",
    "Concise is a thin wrapper around keras. To know more about keras, read the documentation: https://keras.io/.\n",
    "\n",
    "In this tutorial, I'll be using the functional API of keras: https://keras.io/getting-started/functional-api-guide/. Feel free to use Concise with the sequential models."
   ]
  },
  {
   "cell_type": "code",
   "execution_count": 27,
   "metadata": {
    "collapsed": false
   },
   "outputs": [
    {
     "data": {
      "text/plain": [
       "[PWM(name: None, consensus: TTAATGA)]"
      ]
     },
     "execution_count": 27,
     "metadata": {},
     "output_type": "execute_result"
    }
   ],
   "source": [
    "## Parameters\n",
    "seq_length = seq_tensor.shape[1]\n",
    "## Motifs used to initialize the model\n",
    "pwm_list = [PWM.from_consensus(motif) for motif in motifs]\n",
    "motif_width = 7\n",
    "pwm_list"
   ]
  },
  {
   "cell_type": "code",
   "execution_count": 28,
   "metadata": {
    "collapsed": false
   },
   "outputs": [],
   "source": [
    "np.random.seed(42)\n",
    "\n",
    "# specify the input shape\n",
    "input_dna = cl.InputDNA(seq_length)\n",
    "\n",
    "# convolutional layer with filters initialized on a PWM\n",
    "x = cl.ConvDNA(filters=1, \n",
    "               kernel_size=motif_width, ## motif width\n",
    "               activation=\"relu\", \n",
    "               kernel_initializer=ci.PWMKernelInitializer(pwm_list),\n",
    "               bias_initializer=ci.PWMBiasInitializer(pwm_list,kernel_size=motif_width, mean_max_scale=1)\n",
    "               ## mean_max_scale of 1 means that only consensus sequence gets score larger than 0\n",
    "              )(input_dna)\n",
    "\n",
    "## Smoothing layer - positional-dependent effect\n",
    "x = cl.GAMSmooth(n_bases=10, l2_smooth=1e-3, l2=0)(x)\n",
    "x = cl.GlobalSumPooling1D()(x)\n",
    "x = kl.Dense(units=1,activation=\"linear\")(x)\n",
    "model = Model(inputs=input_dna, outputs=x)\n",
    "\n",
    "# compile the model\n",
    "model.compile(optimizer=\"adam\", loss=\"mse\", metrics=[cm.var_explained])"
   ]
  },
  {
   "cell_type": "markdown",
   "metadata": {},
   "source": [
    "### Train the model"
   ]
  },
  {
   "cell_type": "code",
   "execution_count": 29,
   "metadata": {
    "collapsed": false
   },
   "outputs": [
    {
     "name": "stdout",
     "output_type": "stream",
     "text": [
      "Train on 2400 samples, validate on 600 samples\n",
      "Epoch 1/30\n",
      "0s - loss: 13.4442 - var_explained: 0.0804 - val_loss: 12.7497 - val_var_explained: 0.1767\n",
      "Epoch 2/30\n",
      "0s - loss: 9.4068 - var_explained: 0.3196 - val_loss: 7.6454 - val_var_explained: 0.4544\n",
      "Epoch 3/30\n",
      "0s - loss: 4.9536 - var_explained: 0.5727 - val_loss: 4.4104 - val_var_explained: 0.6345\n",
      "Epoch 4/30\n",
      "0s - loss: 3.6088 - var_explained: 0.6629 - val_loss: 3.8599 - val_var_explained: 0.6777\n",
      "Epoch 5/30\n",
      "0s - loss: 3.3776 - var_explained: 0.6767 - val_loss: 3.6595 - val_var_explained: 0.6946\n",
      "Epoch 6/30\n",
      "0s - loss: 3.1961 - var_explained: 0.6993 - val_loss: 3.4795 - val_var_explained: 0.7093\n",
      "Epoch 7/30\n",
      "0s - loss: 3.0268 - var_explained: 0.7141 - val_loss: 3.2969 - val_var_explained: 0.7245\n",
      "Epoch 8/30\n",
      "0s - loss: 2.8599 - var_explained: 0.7351 - val_loss: 3.1175 - val_var_explained: 0.7395\n",
      "Epoch 9/30\n",
      "0s - loss: 2.7055 - var_explained: 0.7471 - val_loss: 2.9428 - val_var_explained: 0.7540\n",
      "Epoch 10/30\n",
      "0s - loss: 2.5612 - var_explained: 0.7625 - val_loss: 2.8026 - val_var_explained: 0.7654\n",
      "Epoch 11/30\n",
      "0s - loss: 2.4324 - var_explained: 0.7719 - val_loss: 2.6585 - val_var_explained: 0.7773\n",
      "Epoch 12/30\n",
      "0s - loss: 2.3115 - var_explained: 0.7779 - val_loss: 2.5281 - val_var_explained: 0.7880\n",
      "Epoch 13/30\n",
      "0s - loss: 2.2066 - var_explained: 0.7882 - val_loss: 2.4252 - val_var_explained: 0.7965\n",
      "Epoch 14/30\n",
      "0s - loss: 2.1175 - var_explained: 0.7975 - val_loss: 2.3546 - val_var_explained: 0.8028\n",
      "Epoch 15/30\n",
      "0s - loss: 2.0428 - var_explained: 0.8015 - val_loss: 2.2679 - val_var_explained: 0.8098\n",
      "Epoch 16/30\n",
      "0s - loss: 1.9795 - var_explained: 0.8115 - val_loss: 2.1859 - val_var_explained: 0.8163\n",
      "Epoch 17/30\n",
      "0s - loss: 1.9227 - var_explained: 0.8148 - val_loss: 2.1001 - val_var_explained: 0.8226\n",
      "Epoch 18/30\n",
      "0s - loss: 1.8824 - var_explained: 0.8170 - val_loss: 2.0583 - val_var_explained: 0.8261\n",
      "Epoch 19/30\n",
      "0s - loss: 1.8456 - var_explained: 0.8181 - val_loss: 1.9885 - val_var_explained: 0.8312\n",
      "Epoch 20/30\n",
      "0s - loss: 1.8128 - var_explained: 0.8230 - val_loss: 1.9632 - val_var_explained: 0.8333\n",
      "Epoch 21/30\n",
      "0s - loss: 1.7884 - var_explained: 0.8181 - val_loss: 1.9247 - val_var_explained: 0.8361\n",
      "Epoch 22/30\n",
      "0s - loss: 1.7668 - var_explained: 0.8309 - val_loss: 1.9041 - val_var_explained: 0.8379\n",
      "Epoch 23/30\n",
      "0s - loss: 1.7503 - var_explained: 0.8291 - val_loss: 1.8837 - val_var_explained: 0.8395\n",
      "Epoch 24/30\n",
      "0s - loss: 1.7288 - var_explained: 0.8313 - val_loss: 1.8424 - val_var_explained: 0.8423\n",
      "Epoch 25/30\n",
      "0s - loss: 1.7137 - var_explained: 0.8316 - val_loss: 1.8137 - val_var_explained: 0.8443\n",
      "Epoch 26/30\n",
      "0s - loss: 1.6995 - var_explained: 0.8309 - val_loss: 1.7960 - val_var_explained: 0.8456\n",
      "Epoch 27/30\n",
      "0s - loss: 1.6907 - var_explained: 0.8356 - val_loss: 1.7836 - val_var_explained: 0.8466\n",
      "Epoch 28/30\n",
      "0s - loss: 1.6789 - var_explained: 0.8330 - val_loss: 1.7741 - val_var_explained: 0.8473\n",
      "Epoch 29/30\n",
      "0s - loss: 1.6652 - var_explained: 0.8345 - val_loss: 1.7484 - val_var_explained: 0.8490\n",
      "Epoch 30/30\n",
      "0s - loss: 1.6610 - var_explained: 0.8278 - val_loss: 1.7575 - val_var_explained: 0.8488\n"
     ]
    },
    {
     "data": {
      "text/plain": [
       "<keras.callbacks.History at 0x7f8564664f98>"
      ]
     },
     "execution_count": 29,
     "metadata": {},
     "output_type": "execute_result"
    }
   ],
   "source": [
    "## TODO - create a callback\n",
    "from keras.callbacks import EarlyStopping\n",
    "\n",
    "model.fit(x=seq_tensor, y=y, epochs=30, verbose=2,\n",
    "          callbacks=[EarlyStopping(patience=5)],\n",
    "          validation_split=.2\n",
    "         )"
   ]
  },
  {
   "cell_type": "markdown",
   "metadata": {},
   "source": [
    "### Save and load the model\n",
    "\n",
    "With keras, we can save and load the entire model to the hdf5 file."
   ]
  },
  {
   "cell_type": "code",
   "execution_count": 30,
   "metadata": {
    "collapsed": false
   },
   "outputs": [],
   "source": [
    "model.save(\"/tmp/model.h5\") ## requires h5py pacakge, pip install h5py"
   ]
  },
  {
   "cell_type": "code",
   "execution_count": 31,
   "metadata": {
    "collapsed": false
   },
   "outputs": [
    {
     "name": "stdout",
     "output_type": "stream",
     "text": [
      "-rw-rw-r--. 1 avsec ag_gagneur 23992 Mar 24 14:11 /tmp/model.h5\r\n"
     ]
    }
   ],
   "source": [
    "%ls -la  /tmp/model*"
   ]
  },
  {
   "cell_type": "code",
   "execution_count": 32,
   "metadata": {
    "collapsed": false
   },
   "outputs": [
    {
     "data": {
      "text/plain": [
       "<keras.engine.training.Model at 0x7f8534676a58>"
      ]
     },
     "execution_count": 32,
     "metadata": {},
     "output_type": "execute_result"
    }
   ],
   "source": [
    "model2 = load_model(\"/tmp/model.h5\")\n",
    "model2"
   ]
  },
  {
   "cell_type": "markdown",
   "metadata": {},
   "source": [
    "### Interpret the model\n",
    "\n",
    "#### Predictions"
   ]
  },
  {
   "cell_type": "code",
   "execution_count": 33,
   "metadata": {
    "collapsed": false
   },
   "outputs": [
    {
     "data": {
      "text/plain": [
       "<matplotlib.text.Text at 0x7f84fcbae278>"
      ]
     },
     "execution_count": 33,
     "metadata": {},
     "output_type": "execute_result"
    },
    {
     "data": {
      "image/png": "[encoded data removed]",
      "text/plain": [
       "<matplotlib.figure.Figure at 0x7f853463b160>"
      ]
     },
     "metadata": {},
     "output_type": "display_data"
    }
   ],
   "source": [
    "var_expl_history = model.history.history['val_var_explained']\n",
    "plt.plot(var_expl_history)\n",
    "plt.ylabel('Variance explained')\n",
    "plt.xlabel('Epoch')\n",
    "plt.title(\"Loss history\")"
   ]
  },
  {
   "cell_type": "code",
   "execution_count": 34,
   "metadata": {
    "collapsed": false
   },
   "outputs": [
    {
     "data": {
      "text/plain": [
       "<matplotlib.text.Text at 0x7f84fcbe3e10>"
      ]
     },
     "execution_count": 34,
     "metadata": {},
     "output_type": "execute_result"
    },
    {
     "data": {
      "image/png": "[encoded data removed]",
      "text/plain": [
       "<matplotlib.figure.Figure at 0x7f84fcbae518>"
      ]
     },
     "metadata": {},
     "output_type": "display_data"
    }
   ],
   "source": [
    "y_pred = model.predict(seq_tensor)\n",
    "plt.scatter(y_pred, y)\n",
    "plt.xlabel(\"Predicted\")\n",
    "plt.ylabel(\"True\")\n",
    "plt.title(\"True vs predicted\")"
   ]
  },
  {
   "cell_type": "markdown",
   "metadata": {},
   "source": [
    "Plot is the same as in the [original motifp report](https://i12g-gagneurweb.in.tum.de/project/deepcis/#Scripts_Positional_effect_Simulation_01_fixed_seq_len.html)."
   ]
  },
  {
   "cell_type": "markdown",
   "metadata": {},
   "source": [
    "#### Weights"
   ]
  },
  {
   "cell_type": "code",
   "execution_count": 13,
   "metadata": {
    "collapsed": false
   },
   "outputs": [
    {
     "data": {
      "text/plain": [
       "[<keras.engine.topology.InputLayer at 0x7fd2adc6f4e0>,\n",
       " <concise.layers.ConvDNA at 0x7fd2adcb0da0>,\n",
       " <concise.layers.GAMSmooth at 0x7fd352808208>,\n",
       " <concise.layers.GlobalSumPooling1D at 0x7fd2adcb0278>,\n",
       " <keras.layers.core.Dense at 0x7fd2adbfff28>]"
      ]
     },
     "execution_count": 13,
     "metadata": {},
     "output_type": "execute_result"
    }
   ],
   "source": [
    "# layers in the model\n",
    "model.layers"
   ]
  },
  {
   "cell_type": "code",
   "execution_count": 22,
   "metadata": {
    "collapsed": false
   },
   "outputs": [
    {
     "data": {
      "text/plain": [
       "<matplotlib.text.Text at 0x7fd26c7adf98>"
      ]
     },
     "execution_count": 22,
     "metadata": {},
     "output_type": "execute_result"
    },
    {
     "data": {
      "image/png": "[encoded data removed]",
      "text/plain": [
       "<matplotlib.figure.Figure at 0x7fd2947747f0>"
      ]
     },
     "metadata": {},
     "output_type": "display_data"
    }
   ],
   "source": [
    "## Convenience functions in layers\n",
    "gam_layer = model.layers[2]\n",
    "gam_layer.plot()\n",
    "plt.title(\"Positional effect\")"
   ]
  },
  {
   "cell_type": "code",
   "execution_count": 26,
   "metadata": {
    "collapsed": false
   },
   "outputs": [
    {
     "data": {
      "text/plain": [
       "<matplotlib.legend.Legend at 0x7fd23bf6a7f0>"
      ]
     },
     "execution_count": 26,
     "metadata": {},
     "output_type": "execute_result"
    },
    {
     "data": {
      "image/png": "[encoded data removed]",
      "text/plain": [
       "<matplotlib.figure.Figure at 0x7fd23bf8c128>"
      ]
     },
     "metadata": {},
     "output_type": "display_data"
    }
   ],
   "source": [
    "# Compare the curve to the theoretical\n",
    "positions = gam_layer.positional_effect()[\"positions\"]\n",
    "pos_effect = gam_layer.positional_effect()[\"positional_effect\"]\n",
    "\n",
    "from scipy.stats import norm\n",
    "pef = lambda x: 0.3*norm.pdf(x, 0.2, 0.1) + 0.05*np.sin(15*x) + 0.8\n",
    "pos_effect_theoretical = pef(positions / positions.max())\n",
    "\n",
    "# plot\n",
    "plt.plot(positions, pos_effect, label=\"infered\")\n",
    "plt.plot(positions, pos_effect_theoretical, label=\"theoretical\")\n",
    "plt.ylabel('Positional effect')\n",
    "plt.xlabel('Position')\n",
    "plt.title(\"Positional effect\")\n",
    "plt.legend()"
   ]
  },
  {
   "cell_type": "markdown",
   "metadata": {},
   "source": [
    "Qualitatively, the curves are the same, quantitatively, they differ as the scale is modulated by other parameters in the model. Plot is similar to the [original motifp report](https://i12g-gagneurweb.in.tum.de/project/deepcis/#Scripts_Positional_effect_Simulation_01_fixed_seq_len.html)."
   ]
  },
  {
   "cell_type": "markdown",
   "metadata": {},
   "source": [
    "## Model with two motifs"
   ]
  },
  {
   "cell_type": "code",
   "execution_count": 27,
   "metadata": {
    "collapsed": false
   },
   "outputs": [],
   "source": [
    "dt = pd.read_csv(data_dir + \"/01-fixed_seq_len-2.csv\")\n",
    "motifs = [\"TTAATGA\", \"TATTTAT\"]"
   ]
  },
  {
   "cell_type": "code",
   "execution_count": 28,
   "metadata": {
    "collapsed": false
   },
   "outputs": [
    {
     "data": {
      "text/plain": [
       "[PWM(name: None, consensus: TTAATGA), PWM(name: None, consensus: TATTTAT)]"
      ]
     },
     "execution_count": 28,
     "metadata": {},
     "output_type": "execute_result"
    }
   ],
   "source": [
    "## Parameters\n",
    "seq_length = seq_tensor.shape[1]\n",
    "## Motifs used to initialize the model\n",
    "pwm_list = [PWM.from_consensus(motif) for motif in motifs]\n",
    "motif_width = 7\n",
    "pwm_list"
   ]
  },
  {
   "cell_type": "code",
   "execution_count": 29,
   "metadata": {
    "collapsed": false
   },
   "outputs": [],
   "source": [
    "np.random.seed(1)\n",
    "input_dna = cl.InputDNA(seq_length)\n",
    "# convolutional layer with filters initialized on a PWM\n",
    "x = cl.ConvDNA(filters=2, \n",
    "               kernel_size=motif_width, ## motif width\n",
    "               activation=\"relu\", \n",
    "               kernel_initializer=ci.PWMKernelInitializer(pwm_list, stddev=0.0),\n",
    "               bias_initializer=ci.PWMBiasInitializer(pwm_list,kernel_size=motif_width, mean_max_scale=0.999),\n",
    "               ## mean_max_scale of 1 means that only consensus sequence gets score larger than 0\n",
    "               trainable=False,\n",
    "              )(input_dna)\n",
    "## Smoothing layer - positional-dependent effect\n",
    "x = cl.GAMSmooth(n_bases=10, l2_smooth=1e-6, l2=0)(x)\n",
    "x = cl.GlobalSumPooling1D()(x)\n",
    "x = kl.Dense(units=1,activation=\"linear\")(x)\n",
    "model = Model(inputs=input_dna, outputs=x)\n",
    "\n",
    "# compile the model\n",
    "model.compile(optimizer=ko.Adam(lr=0.01), loss=\"mse\", metrics=[cm.var_explained])"
   ]
  },
  {
   "cell_type": "code",
   "execution_count": 30,
   "metadata": {
    "collapsed": true
   },
   "outputs": [],
   "source": [
    "seq_tensor = encodeDNA(dt[\"seq\"])\n",
    "y = dt.y.as_matrix()\n",
    "## TODO - update back\n",
    "seq_tensor = np.squeeze(seq_tensor, 1)"
   ]
  },
  {
   "cell_type": "code",
   "execution_count": 31,
   "metadata": {
    "collapsed": false
   },
   "outputs": [
    {
     "name": "stdout",
     "output_type": "stream",
     "text": [
      "Train on 2400 samples, validate on 600 samples\n",
      "Epoch 1/100\n",
      "0s - loss: 10.5349 - var_explained: 0.0046 - val_loss: 8.8884 - val_var_explained: 0.0083\n",
      "Epoch 2/100\n",
      "0s - loss: 8.7349 - var_explained: 0.0136 - val_loss: 7.6752 - val_var_explained: 0.0197\n",
      "Epoch 3/100\n",
      "0s - loss: 7.8701 - var_explained: 0.0272 - val_loss: 7.1224 - val_var_explained: 0.0359\n",
      "Epoch 4/100\n",
      "0s - loss: 7.4628 - var_explained: 0.0455 - val_loss: 6.8606 - val_var_explained: 0.0559\n",
      "Epoch 5/100\n",
      "0s - loss: 7.2215 - var_explained: 0.0670 - val_loss: 6.6623 - val_var_explained: 0.0797\n",
      "Epoch 6/100\n",
      "0s - loss: 7.0117 - var_explained: 0.0928 - val_loss: 6.4561 - val_var_explained: 0.1076\n",
      "Epoch 7/100\n",
      "0s - loss: 6.7872 - var_explained: 0.1209 - val_loss: 6.2344 - val_var_explained: 0.1379\n",
      "Epoch 8/100\n",
      "0s - loss: 6.5434 - var_explained: 0.1552 - val_loss: 5.9874 - val_var_explained: 0.1709\n",
      "Epoch 9/100\n",
      "0s - loss: 6.2773 - var_explained: 0.1876 - val_loss: 5.7221 - val_var_explained: 0.2063\n",
      "Epoch 10/100\n",
      "0s - loss: 5.9928 - var_explained: 0.2255 - val_loss: 5.4434 - val_var_explained: 0.2438\n",
      "Epoch 11/100\n",
      "0s - loss: 5.6968 - var_explained: 0.2638 - val_loss: 5.1654 - val_var_explained: 0.2807\n",
      "Epoch 12/100\n",
      "0s - loss: 5.3994 - var_explained: 0.3002 - val_loss: 4.8764 - val_var_explained: 0.3188\n",
      "Epoch 13/100\n",
      "0s - loss: 5.1025 - var_explained: 0.3381 - val_loss: 4.6051 - val_var_explained: 0.3542\n",
      "Epoch 14/100\n",
      "0s - loss: 4.8136 - var_explained: 0.3756 - val_loss: 4.3435 - val_var_explained: 0.3894\n",
      "Epoch 15/100\n",
      "0s - loss: 4.5384 - var_explained: 0.4137 - val_loss: 4.0881 - val_var_explained: 0.4222\n",
      "Epoch 16/100\n",
      "0s - loss: 4.2754 - var_explained: 0.4431 - val_loss: 3.8578 - val_var_explained: 0.4526\n",
      "Epoch 17/100\n",
      "0s - loss: 4.0315 - var_explained: 0.4740 - val_loss: 3.6440 - val_var_explained: 0.4800\n",
      "Epoch 18/100\n",
      "0s - loss: 3.8073 - var_explained: 0.5028 - val_loss: 3.4537 - val_var_explained: 0.5041\n",
      "Epoch 19/100\n",
      "0s - loss: 3.6047 - var_explained: 0.5301 - val_loss: 3.2827 - val_var_explained: 0.5259\n",
      "Epoch 20/100\n",
      "0s - loss: 3.4214 - var_explained: 0.5459 - val_loss: 3.1357 - val_var_explained: 0.5445\n",
      "Epoch 21/100\n",
      "0s - loss: 3.2604 - var_explained: 0.5693 - val_loss: 3.0090 - val_var_explained: 0.5611\n",
      "Epoch 22/100\n",
      "0s - loss: 3.1189 - var_explained: 0.5958 - val_loss: 2.9018 - val_var_explained: 0.5738\n",
      "Epoch 23/100\n",
      "0s - loss: 2.9990 - var_explained: 0.6033 - val_loss: 2.8103 - val_var_explained: 0.5849\n",
      "Epoch 24/100\n",
      "0s - loss: 2.8955 - var_explained: 0.6190 - val_loss: 2.7346 - val_var_explained: 0.5931\n",
      "Epoch 25/100\n",
      "0s - loss: 2.8099 - var_explained: 0.6243 - val_loss: 2.6776 - val_var_explained: 0.6003\n",
      "Epoch 26/100\n",
      "0s - loss: 2.7365 - var_explained: 0.6247 - val_loss: 2.6303 - val_var_explained: 0.6059\n",
      "Epoch 27/100\n",
      "0s - loss: 2.6762 - var_explained: 0.6365 - val_loss: 2.5917 - val_var_explained: 0.6099\n",
      "Epoch 28/100\n",
      "0s - loss: 2.6248 - var_explained: 0.6508 - val_loss: 2.5633 - val_var_explained: 0.6131\n",
      "Epoch 29/100\n",
      "0s - loss: 2.5815 - var_explained: 0.6517 - val_loss: 2.5367 - val_var_explained: 0.6156\n",
      "Epoch 30/100\n",
      "0s - loss: 2.5485 - var_explained: 0.6593 - val_loss: 2.5198 - val_var_explained: 0.6174\n",
      "Epoch 31/100\n",
      "0s - loss: 2.5176 - var_explained: 0.6588 - val_loss: 2.5041 - val_var_explained: 0.6189\n",
      "Epoch 32/100\n",
      "0s - loss: 2.4932 - var_explained: 0.6656 - val_loss: 2.4890 - val_var_explained: 0.6202\n",
      "Epoch 33/100\n",
      "0s - loss: 2.4722 - var_explained: 0.6624 - val_loss: 2.4849 - val_var_explained: 0.6211\n",
      "Epoch 34/100\n",
      "0s - loss: 2.4538 - var_explained: 0.6659 - val_loss: 2.4726 - val_var_explained: 0.6221\n",
      "Epoch 35/100\n",
      "0s - loss: 2.4377 - var_explained: 0.6706 - val_loss: 2.4644 - val_var_explained: 0.6227\n",
      "Epoch 36/100\n",
      "0s - loss: 2.4242 - var_explained: 0.6679 - val_loss: 2.4535 - val_var_explained: 0.6236\n",
      "Epoch 37/100\n",
      "0s - loss: 2.4117 - var_explained: 0.6770 - val_loss: 2.4534 - val_var_explained: 0.6241\n",
      "Epoch 38/100\n",
      "0s - loss: 2.4005 - var_explained: 0.6700 - val_loss: 2.4434 - val_var_explained: 0.6248\n",
      "Epoch 39/100\n",
      "0s - loss: 2.3917 - var_explained: 0.6745 - val_loss: 2.4350 - val_var_explained: 0.6255\n",
      "Epoch 40/100\n",
      "0s - loss: 2.3822 - var_explained: 0.6750 - val_loss: 2.4296 - val_var_explained: 0.6261\n",
      "Epoch 41/100\n",
      "0s - loss: 2.3727 - var_explained: 0.6729 - val_loss: 2.4329 - val_var_explained: 0.6266\n",
      "Epoch 42/100\n",
      "0s - loss: 2.3664 - var_explained: 0.6672 - val_loss: 2.4242 - val_var_explained: 0.6271\n",
      "Epoch 43/100\n",
      "0s - loss: 2.3593 - var_explained: 0.6771 - val_loss: 2.4176 - val_var_explained: 0.6277\n",
      "Epoch 44/100\n",
      "0s - loss: 2.3538 - var_explained: 0.6735 - val_loss: 2.4104 - val_var_explained: 0.6282\n",
      "Epoch 45/100\n",
      "0s - loss: 2.3466 - var_explained: 0.6759 - val_loss: 2.4114 - val_var_explained: 0.6285\n",
      "Epoch 46/100\n",
      "0s - loss: 2.3413 - var_explained: 0.6841 - val_loss: 2.4052 - val_var_explained: 0.6289\n",
      "Epoch 47/100\n",
      "0s - loss: 2.3369 - var_explained: 0.6898 - val_loss: 2.4090 - val_var_explained: 0.6292\n",
      "Epoch 48/100\n",
      "0s - loss: 2.3331 - var_explained: 0.6821 - val_loss: 2.3999 - val_var_explained: 0.6297\n",
      "Epoch 49/100\n",
      "0s - loss: 2.3292 - var_explained: 0.6783 - val_loss: 2.4007 - val_var_explained: 0.6297\n",
      "Epoch 50/100\n",
      "0s - loss: 2.3248 - var_explained: 0.6730 - val_loss: 2.3953 - val_var_explained: 0.6306\n",
      "Epoch 51/100\n",
      "0s - loss: 2.3217 - var_explained: 0.6856 - val_loss: 2.3882 - val_var_explained: 0.6309\n",
      "Epoch 52/100\n",
      "0s - loss: 2.3192 - var_explained: 0.6821 - val_loss: 2.3883 - val_var_explained: 0.6308\n",
      "Epoch 53/100\n",
      "0s - loss: 2.3149 - var_explained: 0.6800 - val_loss: 2.3904 - val_var_explained: 0.6313\n",
      "Epoch 54/100\n",
      "0s - loss: 2.3128 - var_explained: 0.6853 - val_loss: 2.3836 - val_var_explained: 0.6315\n",
      "Epoch 55/100\n",
      "0s - loss: 2.3095 - var_explained: 0.6813 - val_loss: 2.3861 - val_var_explained: 0.6318\n",
      "Epoch 56/100\n",
      "0s - loss: 2.3089 - var_explained: 0.6841 - val_loss: 2.3808 - val_var_explained: 0.6319\n",
      "Epoch 57/100\n",
      "0s - loss: 2.3070 - var_explained: 0.6792 - val_loss: 2.3779 - val_var_explained: 0.6323\n",
      "Epoch 58/100\n",
      "0s - loss: 2.3041 - var_explained: 0.6852 - val_loss: 2.3785 - val_var_explained: 0.6325\n",
      "Epoch 59/100\n",
      "0s - loss: 2.3023 - var_explained: 0.6899 - val_loss: 2.3807 - val_var_explained: 0.6327\n",
      "Epoch 60/100\n",
      "0s - loss: 2.3014 - var_explained: 0.6756 - val_loss: 2.3818 - val_var_explained: 0.6326\n",
      "Epoch 61/100\n",
      "0s - loss: 2.2995 - var_explained: 0.6897 - val_loss: 2.3745 - val_var_explained: 0.6329\n",
      "Epoch 62/100\n",
      "0s - loss: 2.2973 - var_explained: 0.6888 - val_loss: 2.3740 - val_var_explained: 0.6330\n",
      "Epoch 63/100\n",
      "0s - loss: 2.2969 - var_explained: 0.6791 - val_loss: 2.3723 - val_var_explained: 0.6331\n",
      "Epoch 64/100\n",
      "0s - loss: 2.2969 - var_explained: 0.6893 - val_loss: 2.3809 - val_var_explained: 0.6331\n",
      "Epoch 65/100\n",
      "0s - loss: 2.2952 - var_explained: 0.6856 - val_loss: 2.3734 - val_var_explained: 0.6333\n",
      "Epoch 66/100\n",
      "0s - loss: 2.2933 - var_explained: 0.6864 - val_loss: 2.3760 - val_var_explained: 0.6334\n",
      "Epoch 67/100\n",
      "0s - loss: 2.2932 - var_explained: 0.6862 - val_loss: 2.3745 - val_var_explained: 0.6334\n",
      "Epoch 68/100\n",
      "0s - loss: 2.2920 - var_explained: 0.6777 - val_loss: 2.3689 - val_var_explained: 0.6337\n",
      "Epoch 69/100\n",
      "0s - loss: 2.2918 - var_explained: 0.6925 - val_loss: 2.3754 - val_var_explained: 0.6338\n",
      "Epoch 70/100\n",
      "0s - loss: 2.2930 - var_explained: 0.6914 - val_loss: 2.3659 - val_var_explained: 0.6338\n",
      "Epoch 71/100\n",
      "0s - loss: 2.2899 - var_explained: 0.6922 - val_loss: 2.3678 - val_var_explained: 0.6338\n",
      "Epoch 72/100\n",
      "0s - loss: 2.2885 - var_explained: 0.6878 - val_loss: 2.3662 - val_var_explained: 0.6340\n",
      "Epoch 73/100\n",
      "0s - loss: 2.2881 - var_explained: 0.6834 - val_loss: 2.3619 - val_var_explained: 0.6342\n",
      "Epoch 74/100\n",
      "0s - loss: 2.2899 - var_explained: 0.6850 - val_loss: 2.3633 - val_var_explained: 0.6340\n",
      "Epoch 75/100\n",
      "0s - loss: 2.2872 - var_explained: 0.6915 - val_loss: 2.3707 - val_var_explained: 0.6342\n",
      "Epoch 76/100\n",
      "0s - loss: 2.2878 - var_explained: 0.6873 - val_loss: 2.3646 - val_var_explained: 0.6341\n",
      "Epoch 77/100\n",
      "0s - loss: 2.2867 - var_explained: 0.6899 - val_loss: 2.3630 - val_var_explained: 0.6342\n",
      "Epoch 78/100\n",
      "0s - loss: 2.2860 - var_explained: 0.6832 - val_loss: 2.3650 - val_var_explained: 0.6339\n",
      "Epoch 79/100\n",
      "0s - loss: 2.2853 - var_explained: 0.6812 - val_loss: 2.3669 - val_var_explained: 0.6340\n"
     ]
    },
    {
     "data": {
      "text/plain": [
       "<keras.callbacks.History at 0x7fd23b88ec18>"
      ]
     },
     "execution_count": 31,
     "metadata": {},
     "output_type": "execute_result"
    }
   ],
   "source": [
    "model.fit(x=seq_tensor, y=y, epochs=100, verbose = 2,\n",
    "          callbacks=[EarlyStopping(patience=5)],\n",
    "          validation_split=.2\n",
    "         )"
   ]
  },
  {
   "cell_type": "code",
   "execution_count": 32,
   "metadata": {
    "collapsed": false
   },
   "outputs": [
    {
     "data": {
      "text/plain": [
       "<matplotlib.text.Text at 0x7fd23b864c88>"
      ]
     },
     "execution_count": 32,
     "metadata": {},
     "output_type": "execute_result"
    },
    {
     "data": {
      "image/png": "[encoded data removed]",
      "text/plain": [
       "<matplotlib.figure.Figure at 0x7fd26c7a6c50>"
      ]
     },
     "metadata": {},
     "output_type": "display_data"
    }
   ],
   "source": [
    "y_pred = model.predict(seq_tensor)\n",
    "plt.scatter(y_pred, y)\n",
    "plt.xlabel(\"Predicted\")\n",
    "plt.ylabel(\"True\")\n",
    "plt.title(\"True vs predicted\")"
   ]
  },
  {
   "cell_type": "code",
   "execution_count": 33,
   "metadata": {
    "collapsed": false
   },
   "outputs": [
    {
     "data": {
      "text/plain": [
       "<matplotlib.legend.Legend at 0x7fd23b8258d0>"
      ]
     },
     "execution_count": 33,
     "metadata": {},
     "output_type": "execute_result"
    },
    {
     "data": {
      "image/png": "[encoded data removed]",
      "text/plain": [
       "<matplotlib.figure.Figure at 0x7fd23bff1cf8>"
      ]
     },
     "metadata": {},
     "output_type": "display_data"
    }
   ],
   "source": [
    "## TODO - update to the new synthax\n",
    "gam_layer = model.layers[2]\n",
    "\n",
    "positions = gam_layer.positional_effect()[\"positions\"]\n",
    "pos_effect = gam_layer.positional_effect()[\"positional_effect\"]\n",
    "\n",
    "## Theoretical plot - from the original simulation data\n",
    "from scipy.stats import norm\n",
    "# https://docs.scipy.org/doc/scipy-0.16.1/reference/generated/scipy.stats.norm.html#scipy.stats.norm\n",
    "pef1 = lambda x: 0.3*norm.pdf(x, 0.2, 0.1) + 0.05*np.sin(15*x) + 0.8\n",
    "pos_effect_theoretical1 = pef1(positions / positions.max())\n",
    "pef2 = lambda x: 0.3*norm.pdf(x, 0.35, 0.1) + 0.05*np.sin(15*x) + 0.8\n",
    "pos_effect_theoretical2 = pef2(positions / positions.max())\n",
    "\n",
    "\n",
    "w_motifs = model.get_weights()[-2]\n",
    "b = model.get_weights()[-1]\n",
    "\n",
    "## Create a new plot\n",
    "pos_effect_calibrated = (pos_effect / np.transpose(w_motifs))/ 0.8\n",
    "plt.plot(positions, pos_effect_calibrated[:,0], label=\"infered \" + motifs[0])\n",
    "plt.plot(positions, pos_effect_calibrated[:,1], label=\"infered \" + motifs[1])\n",
    "plt.plot(positions, pos_effect_theoretical1, label=\"theoretical \" + motifs[0])\n",
    "plt.plot(positions, pos_effect_theoretical2, label=\"theoretical \" + motifs[1])\n",
    "plt.ylabel('Positional effect')\n",
    "plt.xlabel('Position')\n",
    "plt.title(\"Positional effect\")\n",
    "plt.legend()"
   ]
  }
 ],
 "metadata": {
  "anaconda-cloud": {},
  "kernelspec": {
   "display_name": "Environment (conda_gpu-tensorflow)",
   "language": "python",
   "name": "conda_gpu-tensorflow"
  },
  "language_info": {
   "codemirror_mode": {
    "name": "ipython",
    "version": 3
   },
   "file_extension": ".py",
   "mimetype": "text/x-python",
   "name": "python",
   "nbconvert_exporter": "python",
   "pygments_lexer": "ipython3",
   "version": "3.5.2"
  }
 },
 "nbformat": 4,
 "nbformat_minor": 0
}
