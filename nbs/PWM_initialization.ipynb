{
 "cells": [
  {
   "cell_type": "markdown",
   "metadata": {},
   "source": [
    "## Initializing filters on known motifs\n",
    "\n",
    "In the scenario where data is scarse, it is often useful to initialize the filters of the first convolutional layer to some known position weights matrices (PWM's). That way, the model already starts with a parameter configuration much closer to the 'right' one.\n",
    "\n",
    "Concise provides access to 2 PWM databases:\n",
    "\n",
    "- transcription factors from ENCODE (2067 PWMs)\n",
    "- rna-binding proteins from ATtrACT (1583 PWMs).\n",
    "\n",
    "### Find the motif of interest"
   ]
  },
  {
   "cell_type": "markdown",
   "metadata": {},
   "source": [
    "Each PWM database is provided as a module under `concise.data`. It provides two functions:\n",
    "\n",
    "- `concise.data.<db>.get_metadata()` - returns a pandas.DataFrame with metadata information about each PWM \n",
    "- `concise.data.<db>.get_pwm_list()` - given a list of PWM ids, return a list with `concise.utils.pwm.PWM` instances"
   ]
  },
  {
   "cell_type": "markdown",
   "metadata": {},
   "source": [
    "#### Metadata tables"
   ]
  },
  {
   "cell_type": "code",
   "execution_count": 1,
   "metadata": {
    "collapsed": true
   },
   "outputs": [],
   "source": [
    "%matplotlib inline\n",
    "import matplotlib.pyplot as plt"
   ]
  },
  {
   "cell_type": "code",
   "execution_count": 3,
   "metadata": {
    "collapsed": false
   },
   "outputs": [
    {
     "data": {
      "text/html": [
       "<div>\n",
       "<style>\n",
       "    .dataframe thead tr:only-child th {\n",
       "        text-align: right;\n",
       "    }\n",
       "\n",
       "    .dataframe thead th {\n",
       "        text-align: left;\n",
       "    }\n",
       "\n",
       "    .dataframe tbody tr th {\n",
       "        vertical-align: top;\n",
       "    }\n",
       "</style>\n",
       "<table border=\"1\" class=\"dataframe\">\n",
       "  <thead>\n",
       "    <tr style=\"text-align: right;\">\n",
       "      <th></th>\n",
       "      <th>PWM_id</th>\n",
       "      <th>Gene_name</th>\n",
       "      <th>Gene_id</th>\n",
       "      <th>Mutated</th>\n",
       "      <th>Organism</th>\n",
       "      <th>Motif</th>\n",
       "      <th>Len</th>\n",
       "      <th>Experiment_description</th>\n",
       "      <th>Database</th>\n",
       "      <th>Pubmed</th>\n",
       "      <th>Experiment_description.1</th>\n",
       "      <th>Family</th>\n",
       "      <th>Score</th>\n",
       "    </tr>\n",
       "  </thead>\n",
       "  <tbody>\n",
       "    <tr>\n",
       "      <th>0</th>\n",
       "      <td>519</td>\n",
       "      <td>3IVK</td>\n",
       "      <td>3IVK</td>\n",
       "      <td>no</td>\n",
       "      <td>Mus_musculus</td>\n",
       "      <td>GAAACA</td>\n",
       "      <td>6</td>\n",
       "      <td>X-RAY DIFFRACTION</td>\n",
       "      <td>PDB</td>\n",
       "      <td>19965478</td>\n",
       "      <td>X-RAY DIFFRACTION</td>\n",
       "      <td>NaN</td>\n",
       "      <td>1.000000**</td>\n",
       "    </tr>\n",
       "    <tr>\n",
       "      <th>1</th>\n",
       "      <td>574</td>\n",
       "      <td>3IVK</td>\n",
       "      <td>3IVK</td>\n",
       "      <td>no</td>\n",
       "      <td>Mus_musculus</td>\n",
       "      <td>UGGG</td>\n",
       "      <td>4</td>\n",
       "      <td>X-RAY DIFFRACTION</td>\n",
       "      <td>PDB</td>\n",
       "      <td>19965478</td>\n",
       "      <td>X-RAY DIFFRACTION</td>\n",
       "      <td>NaN</td>\n",
       "      <td>1.000000**</td>\n",
       "    </tr>\n",
       "    <tr>\n",
       "      <th>2</th>\n",
       "      <td>464</td>\n",
       "      <td>4KZD</td>\n",
       "      <td>4KZD</td>\n",
       "      <td>no</td>\n",
       "      <td>Mus_musculus</td>\n",
       "      <td>GAAAC</td>\n",
       "      <td>5</td>\n",
       "      <td>X-RAY DIFFRACTION</td>\n",
       "      <td>PDB</td>\n",
       "      <td>24952597</td>\n",
       "      <td>X-RAY DIFFRACTION</td>\n",
       "      <td>NaN</td>\n",
       "      <td>1.000000**</td>\n",
       "    </tr>\n",
       "    <tr>\n",
       "      <th>...</th>\n",
       "      <td>...</td>\n",
       "      <td>...</td>\n",
       "      <td>...</td>\n",
       "      <td>...</td>\n",
       "      <td>...</td>\n",
       "      <td>...</td>\n",
       "      <td>...</td>\n",
       "      <td>...</td>\n",
       "      <td>...</td>\n",
       "      <td>...</td>\n",
       "      <td>...</td>\n",
       "      <td>...</td>\n",
       "      <td>...</td>\n",
       "    </tr>\n",
       "    <tr>\n",
       "      <th>4879</th>\n",
       "      <td>1396</td>\n",
       "      <td>HNRNPAB</td>\n",
       "      <td>ENSG00000197451</td>\n",
       "      <td>no</td>\n",
       "      <td>Homo_sapiens</td>\n",
       "      <td>AUAGCA</td>\n",
       "      <td>6</td>\n",
       "      <td>In vitro splicing assays</td>\n",
       "      <td>AEDB</td>\n",
       "      <td>12426391</td>\n",
       "      <td>other</td>\n",
       "      <td>RRM</td>\n",
       "      <td>1.000000**</td>\n",
       "    </tr>\n",
       "    <tr>\n",
       "      <th>4880</th>\n",
       "      <td>1397</td>\n",
       "      <td>HNRNPA1</td>\n",
       "      <td>ENSG00000135486</td>\n",
       "      <td>no</td>\n",
       "      <td>Homo_sapiens</td>\n",
       "      <td>UAGG</td>\n",
       "      <td>4</td>\n",
       "      <td>Immunoprecipitation;U...</td>\n",
       "      <td>AEDB</td>\n",
       "      <td>15506926</td>\n",
       "      <td>UV cross-linking</td>\n",
       "      <td>RRM</td>\n",
       "      <td>1.000000**</td>\n",
       "    </tr>\n",
       "    <tr>\n",
       "      <th>4881</th>\n",
       "      <td>1398</td>\n",
       "      <td>PTBP1</td>\n",
       "      <td>ENSG00000011304</td>\n",
       "      <td>no</td>\n",
       "      <td>Homo_sapiens</td>\n",
       "      <td>UUCUUC</td>\n",
       "      <td>6</td>\n",
       "      <td>In vivo splicing assa...</td>\n",
       "      <td>AEDB</td>\n",
       "      <td>14966131</td>\n",
       "      <td>UV cross-linking</td>\n",
       "      <td>RRM</td>\n",
       "      <td>1.000000**</td>\n",
       "    </tr>\n",
       "  </tbody>\n",
       "</table>\n",
       "<p>4882 rows × 13 columns</p>\n",
       "</div>"
      ],
      "text/plain": [
       "     PWM_id Gene_name          Gene_id Mutated      Organism   Motif  Len  \\\n",
       "0       519      3IVK             3IVK      no  Mus_musculus  GAAACA    6   \n",
       "1       574      3IVK             3IVK      no  Mus_musculus    UGGG    4   \n",
       "2       464      4KZD             4KZD      no  Mus_musculus   GAAAC    5   \n",
       "...     ...       ...              ...     ...           ...     ...  ...   \n",
       "4879   1396   HNRNPAB  ENSG00000197451      no  Homo_sapiens  AUAGCA    6   \n",
       "4880   1397   HNRNPA1  ENSG00000135486      no  Homo_sapiens    UAGG    4   \n",
       "4881   1398     PTBP1  ENSG00000011304      no  Homo_sapiens  UUCUUC    6   \n",
       "\n",
       "        Experiment_description Database    Pubmed Experiment_description.1 Family       Score  \n",
       "0            X-RAY DIFFRACTION      PDB  19965478        X-RAY DIFFRACTION    NaN  1.000000**  \n",
       "1            X-RAY DIFFRACTION      PDB  19965478        X-RAY DIFFRACTION    NaN  1.000000**  \n",
       "2            X-RAY DIFFRACTION      PDB  24952597        X-RAY DIFFRACTION    NaN  1.000000**  \n",
       "...                        ...      ...       ...                      ...    ...         ...  \n",
       "4879  In vitro splicing assays     AEDB  12426391                    other    RRM  1.000000**  \n",
       "4880  Immunoprecipitation;U...     AEDB  15506926         UV cross-linking    RRM  1.000000**  \n",
       "4881  In vivo splicing assa...     AEDB  14966131         UV cross-linking    RRM  1.000000**  \n",
       "\n",
       "[4882 rows x 13 columns]"
      ]
     },
     "execution_count": 3,
     "metadata": {},
     "output_type": "execute_result"
    }
   ],
   "source": [
    "# RBP PWM's\n",
    "from concise.data import attract\n",
    "\n",
    "dfa = attract.get_metadata()\n",
    "dfa"
   ]
  },
  {
   "cell_type": "code",
   "execution_count": 4,
   "metadata": {
    "collapsed": false
   },
   "outputs": [
    {
     "data": {
      "text/html": [
       "<div>\n",
       "<style>\n",
       "    .dataframe thead tr:only-child th {\n",
       "        text-align: right;\n",
       "    }\n",
       "\n",
       "    .dataframe thead th {\n",
       "        text-align: left;\n",
       "    }\n",
       "\n",
       "    .dataframe tbody tr th {\n",
       "        vertical-align: top;\n",
       "    }\n",
       "</style>\n",
       "<table border=\"1\" class=\"dataframe\">\n",
       "  <thead>\n",
       "    <tr style=\"text-align: right;\">\n",
       "      <th></th>\n",
       "      <th>motif_name</th>\n",
       "      <th>consensus</th>\n",
       "    </tr>\n",
       "  </thead>\n",
       "  <tbody>\n",
       "    <tr>\n",
       "      <th>0</th>\n",
       "      <td>AFP_1</td>\n",
       "      <td>ATTAACTACAC</td>\n",
       "    </tr>\n",
       "    <tr>\n",
       "      <th>1</th>\n",
       "      <td>AHR::ARNT::HIF1A_1</td>\n",
       "      <td>TGCGTGCGG</td>\n",
       "    </tr>\n",
       "    <tr>\n",
       "      <th>2</th>\n",
       "      <td>AHR::ARNT_1</td>\n",
       "      <td>TAAGGGTTGCGTGCCC</td>\n",
       "    </tr>\n",
       "    <tr>\n",
       "      <th>...</th>\n",
       "      <td>...</td>\n",
       "      <td>...</td>\n",
       "    </tr>\n",
       "    <tr>\n",
       "      <th>2064</th>\n",
       "      <td>ZSCAN4_3</td>\n",
       "      <td>TGCACACACTGAAAA</td>\n",
       "    </tr>\n",
       "    <tr>\n",
       "      <th>2065</th>\n",
       "      <td>fake_AACGSSAA</td>\n",
       "      <td>AACGCCAA</td>\n",
       "    </tr>\n",
       "    <tr>\n",
       "      <th>2066</th>\n",
       "      <td>fake_AAGCSSAA</td>\n",
       "      <td>AAGCCCAA</td>\n",
       "    </tr>\n",
       "  </tbody>\n",
       "</table>\n",
       "<p>2067 rows × 2 columns</p>\n",
       "</div>"
      ],
      "text/plain": [
       "              motif_name         consensus\n",
       "0                  AFP_1       ATTAACTACAC\n",
       "1     AHR::ARNT::HIF1A_1         TGCGTGCGG\n",
       "2            AHR::ARNT_1  TAAGGGTTGCGTGCCC\n",
       "...                  ...               ...\n",
       "2064            ZSCAN4_3   TGCACACACTGAAAA\n",
       "2065       fake_AACGSSAA          AACGCCAA\n",
       "2066       fake_AAGCSSAA          AAGCCCAA\n",
       "\n",
       "[2067 rows x 2 columns]"
      ]
     },
     "execution_count": 4,
     "metadata": {},
     "output_type": "execute_result"
    }
   ],
   "source": [
    "# TF PWM's\n",
    "from concise.data import encode\n",
    "\n",
    "dfe = encode.get_metadata()\n",
    "dfe"
   ]
  },
  {
   "cell_type": "markdown",
   "metadata": {},
   "source": [
    "Let's choose PUM2 PWM (RBP in Human):"
   ]
  },
  {
   "cell_type": "code",
   "execution_count": 5,
   "metadata": {
    "collapsed": false
   },
   "outputs": [
    {
     "data": {
      "text/html": [
       "<div>\n",
       "<style>\n",
       "    .dataframe thead tr:only-child th {\n",
       "        text-align: right;\n",
       "    }\n",
       "\n",
       "    .dataframe thead th {\n",
       "        text-align: left;\n",
       "    }\n",
       "\n",
       "    .dataframe tbody tr th {\n",
       "        vertical-align: top;\n",
       "    }\n",
       "</style>\n",
       "<table border=\"1\" class=\"dataframe\">\n",
       "  <thead>\n",
       "    <tr style=\"text-align: right;\">\n",
       "      <th></th>\n",
       "      <th>PWM_id</th>\n",
       "      <th>Gene_name</th>\n",
       "      <th>Gene_id</th>\n",
       "      <th>Mutated</th>\n",
       "      <th>Organism</th>\n",
       "      <th>Motif</th>\n",
       "      <th>Len</th>\n",
       "      <th>Experiment_description</th>\n",
       "      <th>Database</th>\n",
       "      <th>Pubmed</th>\n",
       "      <th>Experiment_description.1</th>\n",
       "      <th>Family</th>\n",
       "      <th>Score</th>\n",
       "    </tr>\n",
       "  </thead>\n",
       "  <tbody>\n",
       "    <tr>\n",
       "      <th>2603</th>\n",
       "      <td>503</td>\n",
       "      <td>PUM2</td>\n",
       "      <td>ENSG00000055917</td>\n",
       "      <td>no</td>\n",
       "      <td>Homo_sapiens</td>\n",
       "      <td>UGUAAAUA</td>\n",
       "      <td>8</td>\n",
       "      <td>X-RAY DIFFRACTION</td>\n",
       "      <td>PDB</td>\n",
       "      <td>21397187</td>\n",
       "      <td>X-RAY DIFFRACTION</td>\n",
       "      <td>PUF</td>\n",
       "      <td>1.000000**</td>\n",
       "    </tr>\n",
       "    <tr>\n",
       "      <th>2604</th>\n",
       "      <td>361</td>\n",
       "      <td>PUM2</td>\n",
       "      <td>ENSG00000055917</td>\n",
       "      <td>no</td>\n",
       "      <td>Homo_sapiens</td>\n",
       "      <td>UGUACAUC</td>\n",
       "      <td>8</td>\n",
       "      <td>X-RAY DIFFRACTION</td>\n",
       "      <td>PDB</td>\n",
       "      <td>21397187</td>\n",
       "      <td>X-RAY DIFFRACTION</td>\n",
       "      <td>PUF</td>\n",
       "      <td>1.000000**</td>\n",
       "    </tr>\n",
       "    <tr>\n",
       "      <th>2605</th>\n",
       "      <td>514</td>\n",
       "      <td>PUM2</td>\n",
       "      <td>ENSG00000055917</td>\n",
       "      <td>no</td>\n",
       "      <td>Homo_sapiens</td>\n",
       "      <td>UGUAGAUA</td>\n",
       "      <td>8</td>\n",
       "      <td>X-RAY DIFFRACTION</td>\n",
       "      <td>PDB</td>\n",
       "      <td>21397187</td>\n",
       "      <td>X-RAY DIFFRACTION</td>\n",
       "      <td>PUF</td>\n",
       "      <td>1.000000**</td>\n",
       "    </tr>\n",
       "    <tr>\n",
       "      <th>...</th>\n",
       "      <td>...</td>\n",
       "      <td>...</td>\n",
       "      <td>...</td>\n",
       "      <td>...</td>\n",
       "      <td>...</td>\n",
       "      <td>...</td>\n",
       "      <td>...</td>\n",
       "      <td>...</td>\n",
       "      <td>...</td>\n",
       "      <td>...</td>\n",
       "      <td>...</td>\n",
       "      <td>...</td>\n",
       "      <td>...</td>\n",
       "    </tr>\n",
       "    <tr>\n",
       "      <th>2613</th>\n",
       "      <td>107</td>\n",
       "      <td>PUM2</td>\n",
       "      <td>ENSG00000055917</td>\n",
       "      <td>no</td>\n",
       "      <td>Homo_sapiens</td>\n",
       "      <td>UGUAUAUA</td>\n",
       "      <td>8</td>\n",
       "      <td>PAR-clip</td>\n",
       "      <td>C</td>\n",
       "      <td>20371350</td>\n",
       "      <td>genome-wide in vivo i...</td>\n",
       "      <td>PUF</td>\n",
       "      <td>0.250000**</td>\n",
       "    </tr>\n",
       "    <tr>\n",
       "      <th>2614</th>\n",
       "      <td>107</td>\n",
       "      <td>PUM2</td>\n",
       "      <td>ENSG00000055917</td>\n",
       "      <td>no</td>\n",
       "      <td>Homo_sapiens</td>\n",
       "      <td>UGUACAUA</td>\n",
       "      <td>8</td>\n",
       "      <td>PAR-clip</td>\n",
       "      <td>C</td>\n",
       "      <td>20371350</td>\n",
       "      <td>genome-wide in vivo i...</td>\n",
       "      <td>PUF</td>\n",
       "      <td>0.250000**</td>\n",
       "    </tr>\n",
       "    <tr>\n",
       "      <th>2615</th>\n",
       "      <td>107</td>\n",
       "      <td>PUM2</td>\n",
       "      <td>ENSG00000055917</td>\n",
       "      <td>no</td>\n",
       "      <td>Homo_sapiens</td>\n",
       "      <td>UGUAGAUA</td>\n",
       "      <td>8</td>\n",
       "      <td>PAR-clip</td>\n",
       "      <td>C</td>\n",
       "      <td>20371350</td>\n",
       "      <td>genome-wide in vivo i...</td>\n",
       "      <td>PUF</td>\n",
       "      <td>0.250000**</td>\n",
       "    </tr>\n",
       "  </tbody>\n",
       "</table>\n",
       "<p>13 rows × 13 columns</p>\n",
       "</div>"
      ],
      "text/plain": [
       "     PWM_id Gene_name          Gene_id Mutated      Organism     Motif  Len  \\\n",
       "2603    503      PUM2  ENSG00000055917      no  Homo_sapiens  UGUAAAUA    8   \n",
       "2604    361      PUM2  ENSG00000055917      no  Homo_sapiens  UGUACAUC    8   \n",
       "2605    514      PUM2  ENSG00000055917      no  Homo_sapiens  UGUAGAUA    8   \n",
       "...     ...       ...              ...     ...           ...       ...  ...   \n",
       "2613    107      PUM2  ENSG00000055917      no  Homo_sapiens  UGUAUAUA    8   \n",
       "2614    107      PUM2  ENSG00000055917      no  Homo_sapiens  UGUACAUA    8   \n",
       "2615    107      PUM2  ENSG00000055917      no  Homo_sapiens  UGUAGAUA    8   \n",
       "\n",
       "     Experiment_description Database    Pubmed  Experiment_description.1 Family       Score  \n",
       "2603      X-RAY DIFFRACTION      PDB  21397187         X-RAY DIFFRACTION    PUF  1.000000**  \n",
       "2604      X-RAY DIFFRACTION      PDB  21397187         X-RAY DIFFRACTION    PUF  1.000000**  \n",
       "2605      X-RAY DIFFRACTION      PDB  21397187         X-RAY DIFFRACTION    PUF  1.000000**  \n",
       "...                     ...      ...       ...                       ...    ...         ...  \n",
       "2613               PAR-clip        C  20371350  genome-wide in vivo i...    PUF  0.250000**  \n",
       "2614               PAR-clip        C  20371350  genome-wide in vivo i...    PUF  0.250000**  \n",
       "2615               PAR-clip        C  20371350  genome-wide in vivo i...    PUF  0.250000**  \n",
       "\n",
       "[13 rows x 13 columns]"
      ]
     },
     "execution_count": 5,
     "metadata": {},
     "output_type": "execute_result"
    }
   ],
   "source": [
    "dfa_pum2 = dfa[dfa.Gene_name.str.match(\"PUM2\") & \\\n",
    "               dfa.Organism.str.match(\"Homo_sapiens\")]\n",
    "dfa_pum2"
   ]
  },
  {
   "cell_type": "markdown",
   "metadata": {},
   "source": [
    "#### Visualization - PWM class"
   ]
  },
  {
   "cell_type": "markdown",
   "metadata": {},
   "source": [
    "The `PWM` class provides a method `plotPWM` to visualize the PWM."
   ]
  },
  {
   "cell_type": "code",
   "execution_count": 6,
   "metadata": {
    "collapsed": true
   },
   "outputs": [],
   "source": [
    "# Visualize the PUM2 Motifs from different experiments\n",
    "from concise.utils.pwm import PWM\n",
    "dfa_pum2_uniq = dfa_pum2[[\"Experiment_description\", \"PWM_id\"]].drop_duplicates()\n",
    "pwm_list = attract.get_pwm_list(dfa_pum2_uniq.PWM_id)"
   ]
  },
  {
   "cell_type": "code",
   "execution_count": 7,
   "metadata": {
    "collapsed": false
   },
   "outputs": [
    {
     "name": "stdout",
     "output_type": "stream",
     "text": [
      "PWM_id: 503 ; Experiment_description: X-RAY DIFFRACTION\n"
     ]
    },
    {
     "data": {
      "image/png": "[encoded data removed]",
      "text/plain": [
       "<matplotlib.figure.Figure at 0x7f931a454208>"
      ]
     },
     "metadata": {},
     "output_type": "display_data"
    },
    {
     "name": "stdout",
     "output_type": "stream",
     "text": [
      "PWM_id: 361 ; Experiment_description: X-RAY DIFFRACTION\n"
     ]
    },
    {
     "data": {
      "image/png": "[encoded data removed]",
      "text/plain": [
       "<matplotlib.figure.Figure at 0x7f9318f60dd8>"
      ]
     },
     "metadata": {},
     "output_type": "display_data"
    },
    {
     "name": "stdout",
     "output_type": "stream",
     "text": [
      "PWM_id: 514 ; Experiment_description: X-RAY DIFFRACTION\n"
     ]
    },
    {
     "data": {
      "image/png": "[encoded data removed]",
      "text/plain": [
       "<matplotlib.figure.Figure at 0x7f9318f867f0>"
      ]
     },
     "metadata": {},
     "output_type": "display_data"
    },
    {
     "name": "stdout",
     "output_type": "stream",
     "text": [
      "PWM_id: 116 ; Experiment_description: RIP-chip\n"
     ]
    },
    {
     "data": {
      "image/png": "[encoded data removed]",
      "text/plain": [
       "<matplotlib.figure.Figure at 0x7f9318eda2b0>"
      ]
     },
     "metadata": {},
     "output_type": "display_data"
    },
    {
     "name": "stdout",
     "output_type": "stream",
     "text": [
      "PWM_id: 129 ; Experiment_description: genome-wide in vivo immunoprecipitation\n"
     ]
    },
    {
     "data": {
      "image/png": "[encoded data removed]",
      "text/plain": [
       "<matplotlib.figure.Figure at 0x7f9318da61d0>"
      ]
     },
     "metadata": {},
     "output_type": "display_data"
    },
    {
     "name": "stdout",
     "output_type": "stream",
     "text": [
      "PWM_id: 107 ; Experiment_description: PAR-clip\n"
     ]
    },
    {
     "data": {
      "image/png": "[encoded data removed]",
      "text/plain": [
       "<matplotlib.figure.Figure at 0x7f9319078208>"
      ]
     },
     "metadata": {},
     "output_type": "display_data"
    }
   ],
   "source": [
    "for i, pwm in enumerate(pwm_list):\n",
    "    print(\"PWM_id:\", pwm.name, \"; Experiment_description:\", dfa_pum2_uniq.Experiment_description.iloc[i])\n",
    "    pwm.plotPWM(figsize=(3,1))"
   ]
  },
  {
   "cell_type": "markdown",
   "metadata": {},
   "source": [
    "We can select the PWM with id 129."
   ]
  },
  {
   "cell_type": "code",
   "execution_count": 8,
   "metadata": {
    "collapsed": true
   },
   "outputs": [],
   "source": [
    "pwm_list = [pwm for pwm in pwm_list if pwm.name == \"129\"]"
   ]
  },
  {
   "cell_type": "code",
   "execution_count": 9,
   "metadata": {
    "collapsed": false
   },
   "outputs": [
    {
     "data": {
      "text/plain": [
       "[PWM(name: 129, consensus: TGTAAATA)]"
      ]
     },
     "execution_count": 9,
     "metadata": {},
     "output_type": "execute_result"
    }
   ],
   "source": [
    "pwm_list"
   ]
  },
  {
   "cell_type": "markdown",
   "metadata": {},
   "source": [
    "### Initialize the conv filters with PWM values"
   ]
  },
  {
   "cell_type": "code",
   "execution_count": 10,
   "metadata": {
    "collapsed": true
   },
   "outputs": [],
   "source": [
    "import concise.layers as cl\n",
    "import keras.layers as kl\n",
    "import concise.initializers as ci\n",
    "import concise.regularizers as cr\n",
    "from keras.callbacks import EarlyStopping\n",
    "from concise.preprocessing import encodeDNA\n",
    "from keras.models import Model, load_model\n",
    "from keras.optimizers import Adam"
   ]
  },
  {
   "cell_type": "code",
   "execution_count": 12,
   "metadata": {
    "collapsed": false
   },
   "outputs": [],
   "source": [
    "# get the data\n",
    "def load(split=\"train\", st=None):\n",
    "    dt = pd.read_csv(\"../data/RBP/PUM2_{0}.csv\".format(split))\n",
    "    # DNA/RNA sequence\n",
    "    xseq = encodeDNA(dt.seq) # list of sequences -> np.ndarray\n",
    "    # response variable\n",
    "    y = dt.binding_site.as_matrix().reshape((-1, 1)).astype(\"float\")\n",
    "    return {\"seq\": xseq}, y\n",
    "\n",
    "train, valid, test = load(\"train\"), load(\"valid\"), load(\"test\")\n",
    "\n",
    "# deduce sequence length\n",
    "seq_length = train[0][\"seq\"].shape[1]"
   ]
  },
  {
   "cell_type": "code",
   "execution_count": 14,
   "metadata": {
    "collapsed": false
   },
   "outputs": [],
   "source": [
    "# define the model\n",
    "def model(train, filters=1, kernel_size=9, pwm_list=None, lr=0.001):\n",
    "    seq_length = train[0][\"seq\"].shape[1]\n",
    "    if pwm_list is None:\n",
    "        kinit = \"glorot_uniform\"\n",
    "        binit = \"zeros\"\n",
    "    else:\n",
    "        kinit = ci.PSSMKernelInitializer(pwm_list, add_noise_before_Pwm2Pssm=True)\n",
    "        binit = \"zeros\"\n",
    "        \n",
    "    # sequence\n",
    "    in_dna = cl.InputDNA(seq_length=seq_length, name=\"seq\")\n",
    "    x = cl.ConvDNA(filters=filters, \n",
    "                   kernel_size=kernel_size, \n",
    "                   activation=\"relu\",\n",
    "                   kernel_initializer=kinit,\n",
    "                   bias_initializer=binit,\n",
    "                   name=\"conv1\")(in_dna)\n",
    "    x = kl.AveragePooling1D(pool_size=4)(x)\n",
    "    x = kl.Flatten()(x)\n",
    "    \n",
    "    x = kl.Dense(units=1)(x)\n",
    "    m = Model(in_dna, x)\n",
    "    m.compile(Adam(lr=lr), loss=\"binary_crossentropy\", metrics=[\"acc\"])\n",
    "    return m"
   ]
  },
  {
   "cell_type": "markdown",
   "metadata": {},
   "source": [
    "**TODO** - check if this is true"
   ]
  },
  {
   "cell_type": "markdown",
   "metadata": {},
   "source": [
    "`ci.PSSMKernelInitializer` will set the filters of the first convolutional layer to the values of the position-specific scoring matrix (PSSM):\n",
    "\n",
    "$$ pssm_{ij} = log \\frac{pwm_{ij}}{b_j} \\;,$$\n",
    "\n",
    "where $b_j$ is the background probability of observing base $j$.\n",
    "\n",
    "We add gaussian noise to each individual filter. Let's visualize the filters:"
   ]
  },
  {
   "cell_type": "code",
   "execution_count": 15,
   "metadata": {
    "collapsed": false
   },
   "outputs": [],
   "source": [
    "# create two models: with and without PWM initialization\n",
    "m_rand_init = model(train, filters=3, pwm_list=None) # random initialization\n",
    "m_pwm_init = model(train, filters=3, pwm_list=pwm_list) # motif initialization"
   ]
  },
  {
   "cell_type": "code",
   "execution_count": 16,
   "metadata": {
    "collapsed": false
   },
   "outputs": [
    {
     "name": "stdout",
     "output_type": "stream",
     "text": [
      "Random initialization:\n",
      "filter index: 0\n"
     ]
    },
    {
     "data": {
      "image/png": "[encoded data removed]",
      "text/plain": [
       "<matplotlib.figure.Figure at 0x7f931335ae80>"
      ]
     },
     "metadata": {},
     "output_type": "display_data"
    },
    {
     "name": "stdout",
     "output_type": "stream",
     "text": [
      "filter index: 1\n"
     ]
    },
    {
     "data": {
      "image/png": "[encoded data removed]",
      "text/plain": [
       "<matplotlib.figure.Figure at 0x7f93190c9c18>"
      ]
     },
     "metadata": {},
     "output_type": "display_data"
    },
    {
     "name": "stdout",
     "output_type": "stream",
     "text": [
      "filter index: 2\n"
     ]
    },
    {
     "data": {
      "image/png": "[encoded data removed]",
      "text/plain": [
       "<matplotlib.figure.Figure at 0x7f931906ef28>"
      ]
     },
     "metadata": {},
     "output_type": "display_data"
    }
   ],
   "source": [
    "print(\"Random initialization:\")\n",
    "m_rand_init.get_layer(\"conv1\").plot_weights(figsize=(3, 1.2))"
   ]
  },
  {
   "cell_type": "code",
   "execution_count": 17,
   "metadata": {
    "collapsed": false
   },
   "outputs": [
    {
     "name": "stdout",
     "output_type": "stream",
     "text": [
      "Known PWM initialization:\n",
      "filter index: 0\n"
     ]
    },
    {
     "data": {
      "image/png": "[encoded data removed]",
      "text/plain": [
       "<matplotlib.figure.Figure at 0x7f9313494438>"
      ]
     },
     "metadata": {},
     "output_type": "display_data"
    },
    {
     "name": "stdout",
     "output_type": "stream",
     "text": [
      "filter index: 1\n"
     ]
    },
    {
     "data": {
      "image/png": "[encoded data removed]",
      "text/plain": [
       "<matplotlib.figure.Figure at 0x7f9312897cf8>"
      ]
     },
     "metadata": {},
     "output_type": "display_data"
    },
    {
     "name": "stdout",
     "output_type": "stream",
     "text": [
      "filter index: 2\n"
     ]
    },
    {
     "data": {
      "image/png": "[encoded data removed]",
      "text/plain": [
       "<matplotlib.figure.Figure at 0x7f9313555b00>"
      ]
     },
     "metadata": {},
     "output_type": "display_data"
    }
   ],
   "source": [
    "print(\"Known PWM initialization:\")\n",
    "m_pwm_init.get_layer(\"conv1\").plot_weights(figsize=(3, 1.2))"
   ]
  },
  {
   "cell_type": "code",
   "execution_count": 18,
   "metadata": {
    "collapsed": false,
    "scrolled": true
   },
   "outputs": [
    {
     "name": "stdout",
     "output_type": "stream",
     "text": [
      "Train on 17713 samples, validate on 4881 samples\n",
      "Epoch 1/50\n",
      "1s - loss: 0.5931 - acc: 0.7957 - val_loss: 0.5082 - val_acc: 0.7992\n",
      "Epoch 2/50\n",
      "0s - loss: 0.5023 - acc: 0.7958 - val_loss: 0.4885 - val_acc: 0.7990\n",
      "Epoch 3/50\n",
      "0s - loss: 0.4868 - acc: 0.7957 - val_loss: 0.4794 - val_acc: 0.7996\n",
      "Epoch 4/50\n",
      "0s - loss: 0.4795 - acc: 0.7960 - val_loss: 0.4728 - val_acc: 0.8009\n",
      "Epoch 5/50\n",
      "0s - loss: 0.4770 - acc: 0.7962 - val_loss: 0.4739 - val_acc: 0.8009\n",
      "Epoch 6/50\n",
      "0s - loss: 0.4712 - acc: 0.7969 - val_loss: 0.4646 - val_acc: 0.8027\n",
      "Epoch 7/50\n",
      "0s - loss: 0.4633 - acc: 0.7976 - val_loss: 0.4533 - val_acc: 0.8023\n",
      "Epoch 8/50\n",
      "0s - loss: 0.4495 - acc: 0.8011 - val_loss: 0.4353 - val_acc: 0.8062\n",
      "Epoch 9/50\n",
      "0s - loss: 0.4372 - acc: 0.8051 - val_loss: 0.4322 - val_acc: 0.8031\n",
      "Epoch 10/50\n",
      "0s - loss: 0.4335 - acc: 0.8090 - val_loss: 0.4270 - val_acc: 0.8033\n",
      "Epoch 11/50\n",
      "0s - loss: 0.4313 - acc: 0.8107 - val_loss: 0.4381 - val_acc: 0.8144\n",
      "Epoch 12/50\n",
      "0s - loss: 0.4245 - acc: 0.8113 - val_loss: 0.4390 - val_acc: 0.8193\n",
      "Epoch 13/50\n",
      "0s - loss: 0.4229 - acc: 0.8142 - val_loss: 0.4412 - val_acc: 0.8211\n",
      "Epoch 14/50\n",
      "0s - loss: 0.4212 - acc: 0.8197 - val_loss: 0.4392 - val_acc: 0.8170\n",
      "Epoch 15/50\n",
      "1s - loss: 0.4213 - acc: 0.8186 - val_loss: 0.4231 - val_acc: 0.8136\n",
      "Epoch 16/50\n",
      "0s - loss: 0.4143 - acc: 0.8128 - val_loss: 0.4152 - val_acc: 0.8144\n",
      "Epoch 17/50\n",
      "0s - loss: 0.4042 - acc: 0.8187 - val_loss: 0.4173 - val_acc: 0.8230\n",
      "Epoch 18/50\n",
      "0s - loss: 0.4012 - acc: 0.8206 - val_loss: 0.4192 - val_acc: 0.8267\n",
      "Epoch 19/50\n",
      "0s - loss: 0.3969 - acc: 0.8253 - val_loss: 0.4221 - val_acc: 0.8265\n",
      "Epoch 20/50\n",
      "0s - loss: 0.3967 - acc: 0.8252 - val_loss: 0.4586 - val_acc: 0.8099\n",
      "Epoch 21/50\n",
      "0s - loss: 0.3958 - acc: 0.8270 - val_loss: 0.4133 - val_acc: 0.8279\n",
      "Epoch 22/50\n",
      "1s - loss: 0.3943 - acc: 0.8297 - val_loss: 0.4174 - val_acc: 0.8343\n",
      "Epoch 23/50\n",
      "0s - loss: 0.3929 - acc: 0.8332 - val_loss: 0.4083 - val_acc: 0.8345\n",
      "Epoch 24/50\n",
      "1s - loss: 0.3922 - acc: 0.8362 - val_loss: 0.4548 - val_acc: 0.8332\n",
      "Epoch 25/50\n",
      "1s - loss: 0.4078 - acc: 0.8284 - val_loss: 0.3994 - val_acc: 0.8351\n",
      "Epoch 26/50\n",
      "1s - loss: 0.3853 - acc: 0.8356 - val_loss: 0.4018 - val_acc: 0.8345\n",
      "Epoch 27/50\n",
      "1s - loss: 0.3874 - acc: 0.8376 - val_loss: 0.3942 - val_acc: 0.8273\n",
      "Epoch 28/50\n",
      "1s - loss: 0.3897 - acc: 0.8374 - val_loss: 0.3974 - val_acc: 0.8381\n",
      "Epoch 29/50\n",
      "0s - loss: 0.3908 - acc: 0.8398 - val_loss: 0.4013 - val_acc: 0.8414\n",
      "Epoch 30/50\n",
      "0s - loss: 0.3853 - acc: 0.8425 - val_loss: 0.3985 - val_acc: 0.8365\n",
      "Epoch 31/50\n",
      "0s - loss: 0.3830 - acc: 0.8431 - val_loss: 0.4076 - val_acc: 0.8451\n",
      "Epoch 32/50\n",
      "0s - loss: 0.3821 - acc: 0.8464 - val_loss: 0.4185 - val_acc: 0.8427\n",
      "Epoch 33/50\n",
      "0s - loss: 0.3815 - acc: 0.8468 - val_loss: 0.4057 - val_acc: 0.8441\n"
     ]
    },
    {
     "data": {
      "text/plain": [
       "<keras.callbacks.History at 0x7f931353ca90>"
      ]
     },
     "execution_count": 18,
     "metadata": {},
     "output_type": "execute_result"
    }
   ],
   "source": [
    "# train the models\n",
    "m_rand_init.fit(train[0], train[1], epochs=50, validation_data=valid, \n",
    "                verbose=2,\n",
    "                callbacks=[EarlyStopping(patience=5)])"
   ]
  },
  {
   "cell_type": "code",
   "execution_count": 19,
   "metadata": {
    "collapsed": false,
    "scrolled": true
   },
   "outputs": [
    {
     "name": "stdout",
     "output_type": "stream",
     "text": [
      "Train on 17713 samples, validate on 4881 samples\n",
      "Epoch 1/50\n",
      "1s - loss: 0.7954 - acc: 0.7628 - val_loss: 0.6350 - val_acc: 0.8007\n",
      "Epoch 2/50\n",
      "1s - loss: 0.5508 - acc: 0.8014 - val_loss: 0.5144 - val_acc: 0.8052\n",
      "Epoch 3/50\n",
      "1s - loss: 0.4755 - acc: 0.8117 - val_loss: 0.4871 - val_acc: 0.8070\n",
      "Epoch 4/50\n",
      "1s - loss: 0.4426 - acc: 0.8165 - val_loss: 0.4316 - val_acc: 0.8181\n",
      "Epoch 5/50\n",
      "0s - loss: 0.4269 - acc: 0.8230 - val_loss: 0.4251 - val_acc: 0.8242\n",
      "Epoch 6/50\n",
      "0s - loss: 0.4154 - acc: 0.8299 - val_loss: 0.4145 - val_acc: 0.8269\n",
      "Epoch 7/50\n",
      "1s - loss: 0.4081 - acc: 0.8354 - val_loss: 0.4077 - val_acc: 0.8312\n",
      "Epoch 8/50\n",
      "1s - loss: 0.4012 - acc: 0.8396 - val_loss: 0.4032 - val_acc: 0.8361\n",
      "Epoch 9/50\n",
      "1s - loss: 0.3920 - acc: 0.8436 - val_loss: 0.3972 - val_acc: 0.8379\n",
      "Epoch 10/50\n",
      "0s - loss: 0.3872 - acc: 0.8465 - val_loss: 0.4085 - val_acc: 0.8408\n",
      "Epoch 11/50\n",
      "1s - loss: 0.3837 - acc: 0.8480 - val_loss: 0.4049 - val_acc: 0.8406\n",
      "Epoch 12/50\n",
      "1s - loss: 0.3769 - acc: 0.8508 - val_loss: 0.3960 - val_acc: 0.8478\n",
      "Epoch 13/50\n",
      "1s - loss: 0.3782 - acc: 0.8534 - val_loss: 0.3968 - val_acc: 0.8496\n",
      "Epoch 14/50\n",
      "1s - loss: 0.3726 - acc: 0.8567 - val_loss: 0.3929 - val_acc: 0.8531\n",
      "Epoch 15/50\n",
      "0s - loss: 0.3694 - acc: 0.8573 - val_loss: 0.3876 - val_acc: 0.8521\n",
      "Epoch 16/50\n",
      "1s - loss: 0.3655 - acc: 0.8575 - val_loss: 0.3900 - val_acc: 0.8543\n",
      "Epoch 17/50\n",
      "1s - loss: 0.3616 - acc: 0.8585 - val_loss: 0.3946 - val_acc: 0.8552\n",
      "Epoch 18/50\n",
      "1s - loss: 0.3602 - acc: 0.8602 - val_loss: 0.3943 - val_acc: 0.8578\n",
      "Epoch 19/50\n",
      "1s - loss: 0.3573 - acc: 0.8617 - val_loss: 0.3855 - val_acc: 0.8640\n",
      "Epoch 20/50\n",
      "1s - loss: 0.3582 - acc: 0.8626 - val_loss: 0.3925 - val_acc: 0.8595\n",
      "Epoch 21/50\n",
      "1s - loss: 0.3556 - acc: 0.8653 - val_loss: 0.3857 - val_acc: 0.8627\n",
      "Epoch 22/50\n",
      "0s - loss: 0.3515 - acc: 0.8669 - val_loss: 0.3849 - val_acc: 0.8631\n",
      "Epoch 23/50\n",
      "0s - loss: 0.3611 - acc: 0.8667 - val_loss: 0.3852 - val_acc: 0.8638\n",
      "Epoch 24/50\n",
      "0s - loss: 0.3541 - acc: 0.8663 - val_loss: 0.3822 - val_acc: 0.8636\n",
      "Epoch 25/50\n",
      "0s - loss: 0.3500 - acc: 0.8678 - val_loss: 0.3952 - val_acc: 0.8640\n",
      "Epoch 26/50\n",
      "0s - loss: 0.3442 - acc: 0.8690 - val_loss: 0.3917 - val_acc: 0.8644\n",
      "Epoch 27/50\n",
      "1s - loss: 0.3409 - acc: 0.8703 - val_loss: 0.3974 - val_acc: 0.8654\n",
      "Epoch 28/50\n",
      "0s - loss: 0.3397 - acc: 0.8704 - val_loss: 0.3954 - val_acc: 0.8652\n",
      "Epoch 29/50\n",
      "0s - loss: 0.3382 - acc: 0.8718 - val_loss: 0.3983 - val_acc: 0.8646\n",
      "Epoch 30/50\n",
      "0s - loss: 0.3376 - acc: 0.8711 - val_loss: 0.3884 - val_acc: 0.8650\n"
     ]
    },
    {
     "data": {
      "text/plain": [
       "<keras.callbacks.History at 0x7f93132961d0>"
      ]
     },
     "execution_count": 19,
     "metadata": {},
     "output_type": "execute_result"
    }
   ],
   "source": [
    "m_pwm_init.fit(train[0], train[1], epochs=50, validation_data=valid, \n",
    "                verbose=2,\n",
    "                callbacks=[EarlyStopping(patience=5)])"
   ]
  },
  {
   "cell_type": "markdown",
   "metadata": {},
   "source": [
    "### Test-set performance"
   ]
  },
  {
   "cell_type": "code",
   "execution_count": 20,
   "metadata": {
    "collapsed": true
   },
   "outputs": [],
   "source": [
    "import concise.eval_metrics as cem"
   ]
  },
  {
   "cell_type": "code",
   "execution_count": 21,
   "metadata": {
    "collapsed": false
   },
   "outputs": [
    {
     "name": "stdout",
     "output_type": "stream",
     "text": [
      "Random intiailzation auPR: 0.635598660178\n",
      "Known PWM initialization auPR: 0.724295058122\n"
     ]
    }
   ],
   "source": [
    "# performance on the test-set\n",
    "# Random initialization\n",
    "print(\"Random intiailzation auPR:\", cem.auprc(test[1], m_rand_init.predict(test[0])))\n",
    "# PWM initialization\n",
    "print(\"Known PWM initialization auPR:\", cem.auprc(test[1], m_pwm_init.predict(test[0])))"
   ]
  },
  {
   "cell_type": "markdown",
   "metadata": {},
   "source": [
    "### Filter visualization"
   ]
  },
  {
   "cell_type": "code",
   "execution_count": 22,
   "metadata": {
    "collapsed": false
   },
   "outputs": [
    {
     "name": "stdout",
     "output_type": "stream",
     "text": [
      "filter index: 0\n"
     ]
    },
    {
     "data": {
      "image/png": "[encoded data removed]",
      "text/plain": [
       "<matplotlib.figure.Figure at 0x7f9313231438>"
      ]
     },
     "metadata": {},
     "output_type": "display_data"
    },
    {
     "name": "stdout",
     "output_type": "stream",
     "text": [
      "filter index: 1\n"
     ]
    },
    {
     "data": {
      "image/png": "[encoded data removed]",
      "text/plain": [
       "<matplotlib.figure.Figure at 0x7f931323e9e8>"
      ]
     },
     "metadata": {},
     "output_type": "display_data"
    },
    {
     "name": "stdout",
     "output_type": "stream",
     "text": [
      "filter index: 2\n"
     ]
    },
    {
     "data": {
      "image/png": "[encoded data removed]",
      "text/plain": [
       "<matplotlib.figure.Figure at 0x7f93131d8630>"
      ]
     },
     "metadata": {},
     "output_type": "display_data"
    }
   ],
   "source": [
    "m_rand_init.get_layer(\"conv1\").plot_weights(plot_type=\"motif_pwm_info\", figsize=(3, 1.2))"
   ]
  },
  {
   "cell_type": "code",
   "execution_count": 23,
   "metadata": {
    "collapsed": false
   },
   "outputs": [
    {
     "name": "stdout",
     "output_type": "stream",
     "text": [
      "filter index: 0\n"
     ]
    },
    {
     "data": {
      "image/png": "[encoded data removed]",
      "text/plain": [
       "<matplotlib.figure.Figure at 0x7f930c112cc0>"
      ]
     },
     "metadata": {},
     "output_type": "display_data"
    },
    {
     "name": "stdout",
     "output_type": "stream",
     "text": [
      "filter index: 1\n"
     ]
    },
    {
     "data": {
      "image/png": "[encoded data removed]",
      "text/plain": [
       "<matplotlib.figure.Figure at 0x7f93127d9080>"
      ]
     },
     "metadata": {},
     "output_type": "display_data"
    },
    {
     "name": "stdout",
     "output_type": "stream",
     "text": [
      "filter index: 2\n"
     ]
    },
    {
     "data": {
      "image/png": "[encoded data removed]",
      "text/plain": [
       "<matplotlib.figure.Figure at 0x7f93131ed588>"
      ]
     },
     "metadata": {},
     "output_type": "display_data"
    }
   ],
   "source": [
    "m_pwm_init.get_layer(\"conv1\").plot_weights(plot_type=\"motif_pwm_info\", figsize=(3, 1.2))"
   ]
  },
  {
   "cell_type": "markdown",
   "metadata": {},
   "source": [
    "## Benefits of motif initialization\n",
    "\n",
    "- Interpretatbility\n",
    "  - we can use fewer filters and know that the major effect will be captured by the first filters\n",
    "    - handy when studying the model parameters\n",
    "- Better predictive performance\n",
    "- More stable training"
   ]
  }
 ],
 "metadata": {
  "anaconda-cloud": {},
  "kernelspec": {
   "display_name": "Python [default]",
   "language": "python",
   "name": "python3"
  },
  "language_info": {
   "codemirror_mode": {
    "name": "ipython",
    "version": 3
   },
   "file_extension": ".py",
   "mimetype": "text/x-python",
   "name": "python",
   "nbconvert_exporter": "python",
   "pygments_lexer": "ipython3",
   "version": "3.5.2"
  }
 },
 "nbformat": 4,
 "nbformat_minor": 2
}
